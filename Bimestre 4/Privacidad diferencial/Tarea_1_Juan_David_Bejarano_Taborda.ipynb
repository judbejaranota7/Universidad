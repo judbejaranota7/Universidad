{
  "nbformat": 4,
  "nbformat_minor": 0,
  "metadata": {
    "colab": {
      "provenance": []
    },
    "kernelspec": {
      "name": "python3",
      "display_name": "Python 3"
    },
    "language_info": {
      "name": "python"
    }
  },
  "cells": [
    {
      "cell_type": "markdown",
      "source": [
        "# Tarea 1"
      ],
      "metadata": {
        "id": "9BrJnibP2XIX"
      }
    },
    {
      "cell_type": "markdown",
      "source": [
        "En esta tarea deberá implementar una generalización del mecanismo de Respuesta Aleatorizada."
      ],
      "metadata": {
        "id": "j9o_43t42ZBm"
      }
    },
    {
      "cell_type": "markdown",
      "source": [
        "Para generalizar el mecanismo de Respuesta Aleatorizada cambiaremos levemente la probabilidad con la que salen las caras y los sellos: La primera moneda que lancemos no será 'justa', sino que arrojará cara con probabilidad $p$ (y sello con probabilidad $1-p$). La segunda moneda sigue siendo justa (o sea, sale cara con probabilidad $1/2$ y sello con probabilidad $1/2$).\n",
        "\n",
        "El mecanismo de Respuesta Aleatorizada Generalizado estará definido usando estas dos monedas:\n",
        "1.   Si la primera moneda sale cara, responda la verdad.\n",
        "2.   Si la primera moneda sale sello, lance una segunda moneda.\n",
        "\n",
        "  1. Si la segunda moneda sale cara, responda **SÍ**.\n",
        "  2. Si la segunda moneda sale sello, responda **NO**.\n",
        "\n",
        "Sea $A$ la respuesta *real* de una determinada persona y sea $X$ la versión aleatorizada de esta respuesta creada por el mecanismo de Respuesta Aleatorizada Generalizada.\n",
        "\n",
        "Luego\n",
        "$$X=\\begin{cases}\n",
        "A \\text{ con probabilidad }p\\\\\n",
        "1 \\text{ con probabilidad }\\frac{1}{2}-\\frac{p}{2}\\\\\n",
        "0 \\text{ con probabilidad }\\frac{1}{2}-\\frac{p}{2}\n",
        "\\end{cases}$$\n",
        "\n",
        "Este mecanismo es $\\ln\\left(\\frac{1+p}{1-p}\\right)$-DP.\n",
        "\n",
        "Como puede ver en el siguiente gráfico, a menor $p$, menor el parámetro de privacidad (lo que lo hace más privado) y a mayor $p$, mayor el parámetro de privacidad (lo que lo hace menos privado).\n"
      ],
      "metadata": {
        "id": "BQZDyBYl2yzX"
      }
    },
    {
      "cell_type": "code",
      "source": [
        "import numpy as np\n",
        "import matplotlib.pyplot as plt\n",
        "x = np.linspace(0, 0.99, 100)\n",
        "y = np.log((1+x)/(1-x))\n",
        "plt.plot(x,y)\n",
        "plt.xlabel('p')\n",
        "plt.ylabel('Privacy parameter (epsilon)')\n",
        "plt.axis([0,1,0,5])\n",
        "plt.show()"
      ],
      "metadata": {
        "colab": {
          "base_uri": "https://localhost:8080/",
          "height": 455
        },
        "id": "T_rBXaGwkTqb",
        "outputId": "1cdfc3e6-3e17-4fc9-abd8-3278c86f17ac"
      },
      "execution_count": 1,
      "outputs": [
        {
          "output_type": "display_data",
          "data": {
            "text/plain": [
              "<Figure size 640x480 with 1 Axes>"
            ],
            "image/png": "[encoded data removed]"
          },
          "metadata": {}
        }
      ]
    },
    {
      "cell_type": "markdown",
      "source": [
        "Y, de hecho, cuando $p$ se acerca a $1$, epsilon crece hasta el infinito."
      ],
      "metadata": {
        "id": "Si-z-CaFmsuu"
      }
    },
    {
      "cell_type": "markdown",
      "source": [
        "# Primera parte"
      ],
      "metadata": {
        "id": "pZeWJTS1-bLZ"
      }
    },
    {
      "cell_type": "code",
      "source": [
        "import pandas as pd\n",
        "import numpy as np\n",
        "import matplotlib.pyplot as plt"
      ],
      "metadata": {
        "id": "Z3MdxbXeG-Oo"
      },
      "execution_count": 2,
      "outputs": []
    },
    {
      "cell_type": "code",
      "source": [
        "#importar base de datos entregada\n",
        "from google.colab import drive\n",
        "drive.mount('/content/drive')"
      ],
      "metadata": {
        "id": "PBNRz81YHGi8",
        "colab": {
          "base_uri": "https://localhost:8080/"
        },
        "outputId": "0013d67c-abb6-455c-af74-874ef12fc061"
      },
      "execution_count": 3,
      "outputs": [
        {
          "output_type": "stream",
          "name": "stdout",
          "text": [
            "Drive already mounted at /content/drive; to attempt to forcibly remount, call drive.mount(\"/content/drive\", force_remount=True).\n"
          ]
        }
      ]
    },
    {
      "cell_type": "code",
      "source": [
        "df = pd.read_csv('/content/drive/MyDrive/Colab_Notebooks/4.a Analisis Diferencial/adult_with_pii.txt', sep=',')\n",
        "\n",
        "df"
      ],
      "metadata": {
        "colab": {
          "base_uri": "https://localhost:8080/",
          "height": 869
        },
        "id": "LwC9rsn6Z-2w",
        "outputId": "242a1918-56c9-40a3-e80c-ce4ae3bbf4a8"
      },
      "execution_count": 4,
      "outputs": [
        {
          "output_type": "execute_result",
          "data": {
            "text/plain": [
              "                    Name         DOB          SSN    Zip  Age  \\\n",
              "0       Karrie Trusslove    9/7/1967  732-14-6110  64152   39   \n",
              "1       Brandise Tripony    6/7/1988  150-19-2766  61523   50   \n",
              "2          Brenn McNeely    8/6/1991  725-59-9860  95668   38   \n",
              "3            Dorry Poter    4/6/2009  659-57-4974  25503   53   \n",
              "4            Dick Honnan   9/16/1951  220-93-3811  75387   28   \n",
              "...                  ...         ...          ...    ...  ...   \n",
              "32556       Ardyce Golby  10/29/1961  212-61-8338  41328   27   \n",
              "32557      Jean O'Connor   6/28/1952  737-32-2919  94735   40   \n",
              "32558   Reuben Skrzynski    8/9/1966  314-48-0219  49628   58   \n",
              "32559        Caye Biddle   5/19/1978  647-75-3550   8213   22   \n",
              "32560  Hortense Hardesty   5/11/2012  690-42-5638  86153   52   \n",
              "\n",
              "              Workclass  fnlwgt   Education  Education-Num  \\\n",
              "0             State-gov   77516   Bachelors             13   \n",
              "1      Self-emp-not-inc   83311   Bachelors             13   \n",
              "2               Private  215646     HS-grad              9   \n",
              "3               Private  234721        11th              7   \n",
              "4               Private  338409   Bachelors             13   \n",
              "...                 ...     ...         ...            ...   \n",
              "32556           Private  257302  Assoc-acdm             12   \n",
              "32557           Private  154374     HS-grad              9   \n",
              "32558           Private  151910     HS-grad              9   \n",
              "32559           Private  201490     HS-grad              9   \n",
              "32560      Self-emp-inc  287927     HS-grad              9   \n",
              "\n",
              "           Marital Status         Occupation   Relationship   Race     Sex  \\\n",
              "0           Never-married       Adm-clerical  Not-in-family  White    Male   \n",
              "1      Married-civ-spouse    Exec-managerial        Husband  White    Male   \n",
              "2                Divorced  Handlers-cleaners  Not-in-family  White    Male   \n",
              "3      Married-civ-spouse  Handlers-cleaners        Husband  Black    Male   \n",
              "4      Married-civ-spouse     Prof-specialty           Wife  Black  Female   \n",
              "...                   ...                ...            ...    ...     ...   \n",
              "32556  Married-civ-spouse       Tech-support           Wife  White  Female   \n",
              "32557  Married-civ-spouse  Machine-op-inspct        Husband  White    Male   \n",
              "32558             Widowed       Adm-clerical      Unmarried  White  Female   \n",
              "32559       Never-married       Adm-clerical      Own-child  White    Male   \n",
              "32560  Married-civ-spouse    Exec-managerial           Wife  White  Female   \n",
              "\n",
              "       Capital Gain  Capital Loss  Hours per week        Country Target  \n",
              "0              2174             0              40  United-States  <=50K  \n",
              "1                 0             0              13  United-States  <=50K  \n",
              "2                 0             0              40  United-States  <=50K  \n",
              "3                 0             0              40  United-States  <=50K  \n",
              "4                 0             0              40           Cuba  <=50K  \n",
              "...             ...           ...             ...            ...    ...  \n",
              "32556             0             0              38  United-States  <=50K  \n",
              "32557             0             0              40  United-States   >50K  \n",
              "32558             0             0              40  United-States  <=50K  \n",
              "32559             0             0              20  United-States  <=50K  \n",
              "32560         15024             0              40  United-States   >50K  \n",
              "\n",
              "[32561 rows x 19 columns]"
            ],
            "text/html": [
              "\n",
              "  <div id=\"df-cfedbee6-8df4-4409-ad17-b83a87ffbe2a\">\n",
              "    <div class=\"colab-df-container\">\n",
              "      <div>\n",
              "<style scoped>\n",
              "    .dataframe tbody tr th:only-of-type {\n",
              "        vertical-align: middle;\n",
              "    }\n",
              "\n",
              "    .dataframe tbody tr th {\n",
              "        vertical-align: top;\n",
              "    }\n",
              "\n",
              "    .dataframe thead th {\n",
              "        text-align: right;\n",
              "    }\n",
              "</style>\n",
              "<table border=\"1\" class=\"dataframe\">\n",
              "  <thead>\n",
              "    <tr style=\"text-align: right;\">\n",
              "      <th></th>\n",
              "      <th>Name</th>\n",
              "      <th>DOB</th>\n",
              "      <th>SSN</th>\n",
              "      <th>Zip</th>\n",
              "      <th>Age</th>\n",
              "      <th>Workclass</th>\n",
              "      <th>fnlwgt</th>\n",
              "      <th>Education</th>\n",
              "      <th>Education-Num</th>\n",
              "      <th>Marital Status</th>\n",
              "      <th>Occupation</th>\n",
              "      <th>Relationship</th>\n",
              "      <th>Race</th>\n",
              "      <th>Sex</th>\n",
              "      <th>Capital Gain</th>\n",
              "      <th>Capital Loss</th>\n",
              "      <th>Hours per week</th>\n",
              "      <th>Country</th>\n",
              "      <th>Target</th>\n",
              "    </tr>\n",
              "  </thead>\n",
              "  <tbody>\n",
              "    <tr>\n",
              "      <th>0</th>\n",
              "      <td>Karrie Trusslove</td>\n",
              "      <td>9/7/1967</td>\n",
              "      <td>732-14-6110</td>\n",
              "      <td>64152</td>\n",
              "      <td>39</td>\n",
              "      <td>State-gov</td>\n",
              "      <td>77516</td>\n",
              "      <td>Bachelors</td>\n",
              "      <td>13</td>\n",
              "      <td>Never-married</td>\n",
              "      <td>Adm-clerical</td>\n",
              "      <td>Not-in-family</td>\n",
              "      <td>White</td>\n",
              "      <td>Male</td>\n",
              "      <td>2174</td>\n",
              "      <td>0</td>\n",
              "      <td>40</td>\n",
              "      <td>United-States</td>\n",
              "      <td>&lt;=50K</td>\n",
              "    </tr>\n",
              "    <tr>\n",
              "      <th>1</th>\n",
              "      <td>Brandise Tripony</td>\n",
              "      <td>6/7/1988</td>\n",
              "      <td>150-19-2766</td>\n",
              "      <td>61523</td>\n",
              "      <td>50</td>\n",
              "      <td>Self-emp-not-inc</td>\n",
              "      <td>83311</td>\n",
              "      <td>Bachelors</td>\n",
              "      <td>13</td>\n",
              "      <td>Married-civ-spouse</td>\n",
              "      <td>Exec-managerial</td>\n",
              "      <td>Husband</td>\n",
              "      <td>White</td>\n",
              "      <td>Male</td>\n",
              "      <td>0</td>\n",
              "      <td>0</td>\n",
              "      <td>13</td>\n",
              "      <td>United-States</td>\n",
              "      <td>&lt;=50K</td>\n",
              "    </tr>\n",
              "    <tr>\n",
              "      <th>2</th>\n",
              "      <td>Brenn McNeely</td>\n",
              "      <td>8/6/1991</td>\n",
              "      <td>725-59-9860</td>\n",
              "      <td>95668</td>\n",
              "      <td>38</td>\n",
              "      <td>Private</td>\n",
              "      <td>215646</td>\n",
              "      <td>HS-grad</td>\n",
              "      <td>9</td>\n",
              "      <td>Divorced</td>\n",
              "      <td>Handlers-cleaners</td>\n",
              "      <td>Not-in-family</td>\n",
              "      <td>White</td>\n",
              "      <td>Male</td>\n",
              "      <td>0</td>\n",
              "      <td>0</td>\n",
              "      <td>40</td>\n",
              "      <td>United-States</td>\n",
              "      <td>&lt;=50K</td>\n",
              "    </tr>\n",
              "    <tr>\n",
              "      <th>3</th>\n",
              "      <td>Dorry Poter</td>\n",
              "      <td>4/6/2009</td>\n",
              "      <td>659-57-4974</td>\n",
              "      <td>25503</td>\n",
              "      <td>53</td>\n",
              "      <td>Private</td>\n",
              "      <td>234721</td>\n",
              "      <td>11th</td>\n",
              "      <td>7</td>\n",
              "      <td>Married-civ-spouse</td>\n",
              "      <td>Handlers-cleaners</td>\n",
              "      <td>Husband</td>\n",
              "      <td>Black</td>\n",
              "      <td>Male</td>\n",
              "      <td>0</td>\n",
              "      <td>0</td>\n",
              "      <td>40</td>\n",
              "      <td>United-States</td>\n",
              "      <td>&lt;=50K</td>\n",
              "    </tr>\n",
              "    <tr>\n",
              "      <th>4</th>\n",
              "      <td>Dick Honnan</td>\n",
              "      <td>9/16/1951</td>\n",
              "      <td>220-93-3811</td>\n",
              "      <td>75387</td>\n",
              "      <td>28</td>\n",
              "      <td>Private</td>\n",
              "      <td>338409</td>\n",
              "      <td>Bachelors</td>\n",
              "      <td>13</td>\n",
              "      <td>Married-civ-spouse</td>\n",
              "      <td>Prof-specialty</td>\n",
              "      <td>Wife</td>\n",
              "      <td>Black</td>\n",
              "      <td>Female</td>\n",
              "      <td>0</td>\n",
              "      <td>0</td>\n",
              "      <td>40</td>\n",
              "      <td>Cuba</td>\n",
              "      <td>&lt;=50K</td>\n",
              "    </tr>\n",
              "    <tr>\n",
              "      <th>...</th>\n",
              "      <td>...</td>\n",
              "      <td>...</td>\n",
              "      <td>...</td>\n",
              "      <td>...</td>\n",
              "      <td>...</td>\n",
              "      <td>...</td>\n",
              "      <td>...</td>\n",
              "      <td>...</td>\n",
              "      <td>...</td>\n",
              "      <td>...</td>\n",
              "      <td>...</td>\n",
              "      <td>...</td>\n",
              "      <td>...</td>\n",
              "      <td>...</td>\n",
              "      <td>...</td>\n",
              "      <td>...</td>\n",
              "      <td>...</td>\n",
              "      <td>...</td>\n",
              "      <td>...</td>\n",
              "    </tr>\n",
              "    <tr>\n",
              "      <th>32556</th>\n",
              "      <td>Ardyce Golby</td>\n",
              "      <td>10/29/1961</td>\n",
              "      <td>212-61-8338</td>\n",
              "      <td>41328</td>\n",
              "      <td>27</td>\n",
              "      <td>Private</td>\n",
              "      <td>257302</td>\n",
              "      <td>Assoc-acdm</td>\n",
              "      <td>12</td>\n",
              "      <td>Married-civ-spouse</td>\n",
              "      <td>Tech-support</td>\n",
              "      <td>Wife</td>\n",
              "      <td>White</td>\n",
              "      <td>Female</td>\n",
              "      <td>0</td>\n",
              "      <td>0</td>\n",
              "      <td>38</td>\n",
              "      <td>United-States</td>\n",
              "      <td>&lt;=50K</td>\n",
              "    </tr>\n",
              "    <tr>\n",
              "      <th>32557</th>\n",
              "      <td>Jean O'Connor</td>\n",
              "      <td>6/28/1952</td>\n",
              "      <td>737-32-2919</td>\n",
              "      <td>94735</td>\n",
              "      <td>40</td>\n",
              "      <td>Private</td>\n",
              "      <td>154374</td>\n",
              "      <td>HS-grad</td>\n",
              "      <td>9</td>\n",
              "      <td>Married-civ-spouse</td>\n",
              "      <td>Machine-op-inspct</td>\n",
              "      <td>Husband</td>\n",
              "      <td>White</td>\n",
              "      <td>Male</td>\n",
              "      <td>0</td>\n",
              "      <td>0</td>\n",
              "      <td>40</td>\n",
              "      <td>United-States</td>\n",
              "      <td>&gt;50K</td>\n",
              "    </tr>\n",
              "    <tr>\n",
              "      <th>32558</th>\n",
              "      <td>Reuben Skrzynski</td>\n",
              "      <td>8/9/1966</td>\n",
              "      <td>314-48-0219</td>\n",
              "      <td>49628</td>\n",
              "      <td>58</td>\n",
              "      <td>Private</td>\n",
              "      <td>151910</td>\n",
              "      <td>HS-grad</td>\n",
              "      <td>9</td>\n",
              "      <td>Widowed</td>\n",
              "      <td>Adm-clerical</td>\n",
              "      <td>Unmarried</td>\n",
              "      <td>White</td>\n",
              "      <td>Female</td>\n",
              "      <td>0</td>\n",
              "      <td>0</td>\n",
              "      <td>40</td>\n",
              "      <td>United-States</td>\n",
              "      <td>&lt;=50K</td>\n",
              "    </tr>\n",
              "    <tr>\n",
              "      <th>32559</th>\n",
              "      <td>Caye Biddle</td>\n",
              "      <td>5/19/1978</td>\n",
              "      <td>647-75-3550</td>\n",
              "      <td>8213</td>\n",
              "      <td>22</td>\n",
              "      <td>Private</td>\n",
              "      <td>201490</td>\n",
              "      <td>HS-grad</td>\n",
              "      <td>9</td>\n",
              "      <td>Never-married</td>\n",
              "      <td>Adm-clerical</td>\n",
              "      <td>Own-child</td>\n",
              "      <td>White</td>\n",
              "      <td>Male</td>\n",
              "      <td>0</td>\n",
              "      <td>0</td>\n",
              "      <td>20</td>\n",
              "      <td>United-States</td>\n",
              "      <td>&lt;=50K</td>\n",
              "    </tr>\n",
              "    <tr>\n",
              "      <th>32560</th>\n",
              "      <td>Hortense Hardesty</td>\n",
              "      <td>5/11/2012</td>\n",
              "      <td>690-42-5638</td>\n",
              "      <td>86153</td>\n",
              "      <td>52</td>\n",
              "      <td>Self-emp-inc</td>\n",
              "      <td>287927</td>\n",
              "      <td>HS-grad</td>\n",
              "      <td>9</td>\n",
              "      <td>Married-civ-spouse</td>\n",
              "      <td>Exec-managerial</td>\n",
              "      <td>Wife</td>\n",
              "      <td>White</td>\n",
              "      <td>Female</td>\n",
              "      <td>15024</td>\n",
              "      <td>0</td>\n",
              "      <td>40</td>\n",
              "      <td>United-States</td>\n",
              "      <td>&gt;50K</td>\n",
              "    </tr>\n",
              "  </tbody>\n",
              "</table>\n",
              "<p>32561 rows × 19 columns</p>\n",
              "</div>\n",
              "      <button class=\"colab-df-convert\" onclick=\"convertToInteractive('df-cfedbee6-8df4-4409-ad17-b83a87ffbe2a')\"\n",
              "              title=\"Convert this dataframe to an interactive table.\"\n",
              "              style=\"display:none;\">\n",
              "        \n",
              "  <svg xmlns=\"http://www.w3.org/2000/svg\" height=\"24px\"viewBox=\"0 0 24 24\"\n",
              "       width=\"24px\">\n",
              "    <path d=\"M0 0h24v24H0V0z\" fill=\"none\"/>\n",
              "    <path d=\"M18.56 5.44l.94 2.06.94-2.06 2.06-.94-2.06-.94-.94-2.06-.94 2.06-2.06.94zm-11 1L8.5 8.5l.94-2.06 2.06-.94-2.06-.94L8.5 2.5l-.94 2.06-2.06.94zm10 10l.94 2.06.94-2.06 2.06-.94-2.06-.94-.94-2.06-.94 2.06-2.06.94z\"/><path d=\"M17.41 7.96l-1.37-1.37c-.4-.4-.92-.59-1.43-.59-.52 0-1.04.2-1.43.59L10.3 9.45l-7.72 7.72c-.78.78-.78 2.05 0 2.83L4 21.41c.39.39.9.59 1.41.59.51 0 1.02-.2 1.41-.59l7.78-7.78 2.81-2.81c.8-.78.8-2.07 0-2.86zM5.41 20L4 18.59l7.72-7.72 1.47 1.35L5.41 20z\"/>\n",
              "  </svg>\n",
              "      </button>\n",
              "      \n",
              "  <style>\n",
              "    .colab-df-container {\n",
              "      display:flex;\n",
              "      flex-wrap:wrap;\n",
              "      gap: 12px;\n",
              "    }\n",
              "\n",
              "    .colab-df-convert {\n",
              "      background-color: #E8F0FE;\n",
              "      border: none;\n",
              "      border-radius: 50%;\n",
              "      cursor: pointer;\n",
              "      display: none;\n",
              "      fill: #1967D2;\n",
              "      height: 32px;\n",
              "      padding: 0 0 0 0;\n",
              "      width: 32px;\n",
              "    }\n",
              "\n",
              "    .colab-df-convert:hover {\n",
              "      background-color: #E2EBFA;\n",
              "      box-shadow: 0px 1px 2px rgba(60, 64, 67, 0.3), 0px 1px 3px 1px rgba(60, 64, 67, 0.15);\n",
              "      fill: #174EA6;\n",
              "    }\n",
              "\n",
              "    [theme=dark] .colab-df-convert {\n",
              "      background-color: #3B4455;\n",
              "      fill: #D2E3FC;\n",
              "    }\n",
              "\n",
              "    [theme=dark] .colab-df-convert:hover {\n",
              "      background-color: #434B5C;\n",
              "      box-shadow: 0px 1px 3px 1px rgba(0, 0, 0, 0.15);\n",
              "      filter: drop-shadow(0px 1px 2px rgba(0, 0, 0, 0.3));\n",
              "      fill: #FFFFFF;\n",
              "    }\n",
              "  </style>\n",
              "\n",
              "      <script>\n",
              "        const buttonEl =\n",
              "          document.querySelector('#df-cfedbee6-8df4-4409-ad17-b83a87ffbe2a button.colab-df-convert');\n",
              "        buttonEl.style.display =\n",
              "          google.colab.kernel.accessAllowed ? 'block' : 'none';\n",
              "\n",
              "        async function convertToInteractive(key) {\n",
              "          const element = document.querySelector('#df-cfedbee6-8df4-4409-ad17-b83a87ffbe2a');\n",
              "          const dataTable =\n",
              "            await google.colab.kernel.invokeFunction('convertToInteractive',\n",
              "                                                     [key], {});\n",
              "          if (!dataTable) return;\n",
              "\n",
              "          const docLinkHtml = 'Like what you see? Visit the ' +\n",
              "            '<a target=\"_blank\" href=https://colab.research.google.com/notebooks/data_table.ipynb>data table notebook</a>'\n",
              "            + ' to learn more about interactive tables.';\n",
              "          element.innerHTML = '';\n",
              "          dataTable['output_type'] = 'display_data';\n",
              "          await google.colab.output.renderOutput(dataTable, element);\n",
              "          const docLink = document.createElement('div');\n",
              "          docLink.innerHTML = docLinkHtml;\n",
              "          element.appendChild(docLink);\n",
              "        }\n",
              "      </script>\n",
              "    </div>\n",
              "  </div>\n",
              "  "
            ]
          },
          "metadata": {},
          "execution_count": 4
        }
      ]
    },
    {
      "cell_type": "markdown",
      "source": [
        "Implemente el mecanismo de Respuesta Aleatorizada Generalizado. Para esto defina la función gen_randomized_response que recibe como parámetros una respuesta verdadera (ans) y una probabilidad (p).\n",
        "\n",
        "**Nota**: Para simular el lanzamiento de una moneda cargada (que sale cara con probabilidad $p$), pueden (una vez instanciado el generador) ocupar rng.binomial(1, p)\n",
        "\n",
        "Para más información sobre el método binomial, pueden leer la documentación de numpy: https://numpy.org/doc/stable/reference/random/generated/numpy.random.Generator.binomial.html#numpy.random.Generator.binomial"
      ],
      "metadata": {
        "id": "WC_mjNPj-do4"
      }
    },
    {
      "cell_type": "markdown",
      "source": [
        "**Respuesta:**"
      ],
      "metadata": {
        "id": "ZnQeI3R5vmQh"
      }
    },
    {
      "cell_type": "code",
      "source": [
        "rng = np.random.default_rng()"
      ],
      "metadata": {
        "id": "rkSgVmOyiwSd"
      },
      "execution_count": 5,
      "outputs": []
    },
    {
      "cell_type": "code",
      "source": [
        "def gen_randomized_response_1(ans, p):\n",
        "  #ans denota la respuesta real del encuestado: ans = 1 significa SÍ y ans = 0 significa NO\n",
        "\n",
        "  if rng.binomial(1, p) == 1:\n",
        "      return ans\n",
        "  else:\n",
        "      if rng.binomial(1, 0.5) == 1:\n",
        "          return 1\n",
        "      else:\n",
        "          return 0"
      ],
      "metadata": {
        "id": "Fy3cEJ56_ANw"
      },
      "execution_count": 6,
      "outputs": []
    },
    {
      "cell_type": "markdown",
      "source": [
        "# Segunda parte"
      ],
      "metadata": {
        "id": "_DJnhUbANKes"
      }
    },
    {
      "cell_type": "markdown",
      "source": [
        "Use pandas para leer la base de datos (csv) entregada y cuente cuántas personas (del total de datos) tiene un Masters.\n",
        "\n",
        "**Nota**: 'Masters' es una de las posibles respuestas del atributo 'Education'."
      ],
      "metadata": {
        "id": "zGm073AlNMOj"
      }
    },
    {
      "cell_type": "code",
      "source": [
        "(df['Education']=='Masters').sum()"
      ],
      "metadata": {
        "colab": {
          "base_uri": "https://localhost:8080/"
        },
        "id": "6QQuBNMQmPvV",
        "outputId": "3b63b5f3-0b50-45e1-bd93-59fa950a0418"
      },
      "execution_count": 7,
      "outputs": [
        {
          "output_type": "execute_result",
          "data": {
            "text/plain": [
              "1723"
            ]
          },
          "metadata": {},
          "execution_count": 7
        }
      ]
    },
    {
      "cell_type": "markdown",
      "source": [
        "# Tercera parte"
      ],
      "metadata": {
        "id": "I0or7uvnO0l6"
      }
    },
    {
      "cell_type": "markdown",
      "source": [
        "Cree una lista con las respuestas (obtenidas de la base de datos) a la pregunta '¿Posee usted un Masters?'. Esta lista estará compuesta de 0 y 1.\n",
        "\n",
        "Cuente cuántas respuestas 0 y 1 obtiene. Verifique que la cantidad de 1 coinciden con la cantidad de personas con Masters en la segunda parte.\n",
        "\n",
        "Aplique Respuesta Aleatorizada Generalizada con $p=1/2$ a esa lista. Para esto defina una nueva función de Respuesta Aleatorizada Generalizada, pero que esta vez, en lugar de recibir una sola respuesta, recibe una lista/array de respuestas.\n",
        "\n"
      ],
      "metadata": {
        "id": "a6WA-nEBO4-I"
      }
    },
    {
      "cell_type": "code",
      "source": [
        "#Primero, creamos la lista \"array_resp\" donde tenemos 1 si la respuesta a si tiene un master es si, y cero en caso contrario\n",
        "array_resp = df['Education'].apply(lambda x: 1 if 'Masters' in x else 0).tolist()\n"
      ],
      "metadata": {
        "id": "Yy7CfY8Un8e2"
      },
      "execution_count": 8,
      "outputs": []
    },
    {
      "cell_type": "markdown",
      "source": [
        "Ahora, contemos cuantas respuestas 0 y 1 obtenemos:"
      ],
      "metadata": {
        "id": "M_2ncb9HwUAn"
      }
    },
    {
      "cell_type": "code",
      "source": [
        "count_dict = {}\n",
        "\n",
        "for name in array_resp:\n",
        "    count_dict[name] = array_resp.count(name)\n",
        "\n",
        "print(count_dict)"
      ],
      "metadata": {
        "colab": {
          "base_uri": "https://localhost:8080/"
        },
        "id": "Zez8S5UKwau3",
        "outputId": "8ad07de4-5523-4537-88b3-d84ad6cd0e61"
      },
      "execution_count": 9,
      "outputs": [
        {
          "output_type": "stream",
          "name": "stdout",
          "text": [
            "{0: 30838, 1: 1723}\n"
          ]
        }
      ]
    },
    {
      "cell_type": "markdown",
      "source": [
        "Aqui podemos validar que las personas con el master son 1.723, las mismas que habiamos obtenido en el punto 2."
      ],
      "metadata": {
        "id": "LuDW8lhJoPKo"
      }
    },
    {
      "cell_type": "code",
      "source": [
        "#Ahora creamos la función Respuesta Aleatorizada Generalizada, pero que esta vez, en lugar de recibir una sola respuesta, recibe una lista/array de respuestas.\n",
        "\n",
        "def gen_randomized_response(array, p):\n",
        "  yes_answers = 0\n",
        "  for ans in array:\n",
        "    yes_answers += gen_randomized_response_1(ans, p)\n",
        "  return yes_answers\n",
        "\n"
      ],
      "metadata": {
        "id": "33PyY5wjQeZB"
      },
      "execution_count": 10,
      "outputs": []
    },
    {
      "cell_type": "markdown",
      "source": [
        "# Cuarta parte"
      ],
      "metadata": {
        "id": "GJ8gnuC9QilI"
      }
    },
    {
      "cell_type": "markdown",
      "source": [
        "Corra $100$ experimentos de Respuesta Aleatorizada Generalizada con $p=1/2$ y grafíquelos (puede guiarse por el tutorial 6)."
      ],
      "metadata": {
        "id": "qDzHlHt5Qulo"
      }
    },
    {
      "cell_type": "code",
      "source": [
        "#Corramos 100 experimentos\n",
        "x = np.linspace(0,20,100)\n",
        "y = 1723+x-x\n",
        "z = np.array([gen_randomized_response(array_resp, 0.5) for i in range(100)])\n",
        "plt.plot(x,y,x,z,'ro')\n",
        "plt.axis([0,20,0,15000])\n",
        "plt.show()"
      ],
      "metadata": {
        "id": "PAtonKYrRr5K",
        "colab": {
          "base_uri": "https://localhost:8080/",
          "height": 430
        },
        "outputId": "cc37cb88-c869-4d22-b36f-4d5125983397"
      },
      "execution_count": 12,
      "outputs": [
        {
          "output_type": "display_data",
          "data": {
            "text/plain": [
              "<Figure size 640x480 with 1 Axes>"
            ],
            "image/png": "[encoded data removed]"
          },
          "metadata": {}
        }
      ]
    },
    {
      "cell_type": "markdown",
      "source": [
        "Es posible evidenciar que el estimador $\\tilde{Y}$ tiene un **sesgo**. Esto quiere decir que\n",
        "$$\\mathbb{E}[\\tilde{Y}]\\neq Y$$ "
      ],
      "metadata": {
        "id": "KhTtxMlpnrKR"
      }
    },
    {
      "cell_type": "markdown",
      "source": [
        "# Quinta parte (opcional)"
      ],
      "metadata": {
        "id": "BqsbN0YhR048"
      }
    },
    {
      "cell_type": "markdown",
      "source": [
        "Dé una justificación de por qué\n",
        "$$\\mathbb{E}[\\tilde{Y}]=Y\\cdot p+\\frac{n(1-p)}{2},$$\n",
        "donde $Y$ es la cantidad de respuestas 'SÍ' de una pregunta hecha a $n$ personas, e $\\tilde{Y}$ es la cantidad de respuestas 'SÍ' obtenidas por el mecanismo de Respuesta Aleatorizada Generalizado (con parámetro $p$)."
      ],
      "metadata": {
        "id": "CzICdxQ-R4M7"
      }
    },
    {
      "cell_type": "markdown",
      "source": [
        "**RESPUESTA:**"
      ],
      "metadata": {
        "id": "ci2sDtMCUUoq"
      }
    },
    {
      "cell_type": "markdown",
      "source": [
        "Supongamos que tenemos $n$ respuestas (en el ejemplo, $n=100$). Llamaremos $A_i$ a la **VERDADERA** respuesta del individuo $i$. Este $A_i$ puede ser $0$ o $1$.\n",
        "\n",
        "Luego $$Y=\\sum_{i=1}^{n}A_i,$$\n",
        "pues cada sumando será o un $0$ o un $1$, y solo los $1$ (o sea, los SÍ) contribuyen a la suma.\n",
        "\n",
        "\n",
        "\n",
        "$X_i$ es la respuesta del individuo $i$, la cual está aleatorizada por el mecanismo de Respuesta Aleatorizada (valga la redundancia).\n",
        "\n",
        "Sea $A$ la respuesta *real* de una determinada persona y sea $X$ la versión aleatorizada de esta respuesta creada por el mecanismo de Respuesta Aleatorizada Generalizada.\n",
        "\n",
        "Luego\n",
        "$$X=\\begin{cases}\n",
        "A \\text{ con probabilidad }p\\\\\n",
        "1 \\text{ con probabilidad }\\frac{1}{2}-\\frac{p}{2}\\\\\n",
        "0 \\text{ con probabilidad }\\frac{1}{2}-\\frac{p}{2}\n",
        "\\end{cases}$$\n",
        "\n",
        "Luego, la esperanza de $X_i$ es:\n",
        "\n",
        "$$\\mathbb{E}[X_i] = {A_i}{p}+1(\\frac{1}{2}-\\frac{p}{2}) + 0(\\frac{1}{2}-\\frac{p}{2})$$\n",
        "\n",
        "$$\\mathbb{E}[X_i] = {A_i}{p} + \\frac{1}{2}-\\frac{p}{2}$$\n",
        "\n",
        "$$\\mathbb{E}[X_i] = {A_i}{p} + \\frac{1}{2}(1-p)$$\n",
        "\n",
        "Análogo a $Y$, que es la suma de los $A_i$, $\\tilde{Y}$ es la suma de los $X_i$; esto es:\n",
        "$$\\tilde{Y}=\\sum_{i=1}^{n}X_i$$\n",
        "\n",
        "\n",
        "Por ende,\n",
        "\\begin{align*}\n",
        "\\mathbb{E}[\\tilde{Y}]&=\\mathbb{E}\\left[\\sum_{i=1}^{n} X_i\\right]\\\\\n",
        "&=\\sum_{i=1}^{n}\\mathbb{E}[X_i]\\\\\n",
        "&=\\sum_{i=1}^{n}\\left({A_i}{p}+\\frac{1}{2}(1-p)\\right)\\\\\n",
        "&={p}\\sum_{i=1}^{n}A_i +\\frac{1}{2}\\sum_{i=1}^{n}(1-p)\\\\\n",
        "&=Y\\cdot p+\\frac{n(1-p)}{2}\n",
        "\\end{align*}\n",
        "\n",
        "\n"
      ],
      "metadata": {
        "id": "9OUsTk--7Y1p"
      }
    },
    {
      "cell_type": "markdown",
      "source": [
        "# Sexta parte"
      ],
      "metadata": {
        "id": "1TKAQo9YSHdh"
      }
    },
    {
      "cell_type": "markdown",
      "source": [
        "Corrija el sesgo de la función definida en la tercera parte."
      ],
      "metadata": {
        "id": "2s3Qwd81SJKg"
      }
    },
    {
      "cell_type": "markdown",
      "source": [
        "**Respuesta:**"
      ],
      "metadata": {
        "id": "cfXO4UoOpXKx"
      }
    },
    {
      "cell_type": "markdown",
      "source": [
        "Calcularemos $\\mathbb{E}[\\tilde{Y}]$ y usaremos este valor para transformar $\\tilde{Y}$ en una variable aleatoria $Z$ que estimará a $Y$ y que será insesgado (o sea, $\\mathbb{E}[Z]=Y$)."
      ],
      "metadata": {
        "id": "FYdoMFFPpZeJ"
      }
    },
    {
      "cell_type": "markdown",
      "source": [
        "Si despejamos para $Y$ de la fórmula de la quinta parte, obtenemos que:\n",
        "$$Y=\\frac{1}{p}\\mathbb{E}[\\tilde{Y}]-\\frac{n(1-p)}{2p}=\\mathbb{E}\\left[\\frac{1}{p}\\tilde{Y}-\\frac{n(1-p)}{2p}\\right]$$\n",
        "\n",
        "Definiendo $Z=\\frac{1}{p}\\tilde{Y}-\\frac{n(1-p)}{2p}$ obtenemos que $Z$ es un estimador insesgado de $Y$.\n",
        "\n",
        "Así que en vez de usar $\\tilde{Y}$ para estimar a $Y$, usaremos $Z$ para estimar a $Y$. Por lo tanto, la función corregida se ve asi:"
      ],
      "metadata": {
        "id": "xUjL-4V4p940"
      }
    },
    {
      "cell_type": "code",
      "source": [
        "def corrected_gen_rr(array, p):\n",
        " return ((1/p) *gen_randomized_response(array, p))- ((len(array)*(1-p))/(2*p))"
      ],
      "metadata": {
        "id": "1vhqUjM8So3E"
      },
      "execution_count": 25,
      "outputs": []
    },
    {
      "cell_type": "code",
      "source": [
        "#Corramos 100 experimentos con el sesgo corregido\n",
        "x = np.linspace(0,20,100)\n",
        "y = 1723+x-x\n",
        "z = np.array([corrected_gen_rr(array_resp, 0.5) for i in range(100)])\n",
        "plt.plot(x,y,x,z,'ro')\n",
        "plt.axis([0,20,0,3000])\n",
        "plt.show()"
      ],
      "metadata": {
        "colab": {
          "base_uri": "https://localhost:8080/",
          "height": 435
        },
        "id": "yqIoOyN6NFOd",
        "outputId": "18133860-2dd2-47d9-bf80-55ad7276355d"
      },
      "execution_count": 27,
      "outputs": [
        {
          "output_type": "display_data",
          "data": {
            "text/plain": [
              "<Figure size 640x480 with 1 Axes>"
            ],
            "image/png": "[encoded data removed]"
          },
          "metadata": {}
        }
      ]
    },
    {
      "cell_type": "markdown",
      "source": [
        "Ahora, ya tenemos un estimador insesgado de $Y$."
      ],
      "metadata": {
        "id": "TFvi5zRZqZ5O"
      }
    },
    {
      "cell_type": "markdown",
      "source": [
        "# Séptima parte"
      ],
      "metadata": {
        "id": "babM9t2OTKqI"
      }
    },
    {
      "cell_type": "markdown",
      "source": [
        "Corra $100$ experimentos de Respuesta Aleatorizada con el sesgo corregido para:\n",
        "\n",
        "\n",
        "1.   $p=0.1$\n",
        "2.   $p=1/2$\n",
        "3.   $p=3/4$\n",
        "4.   $p=0.99$\n",
        "\n",
        "y grafíquelos.\n"
      ],
      "metadata": {
        "id": "35ofbDlaTNql"
      }
    },
    {
      "cell_type": "markdown",
      "source": [
        "**RESPUESTA:**"
      ],
      "metadata": {
        "id": "IvYdDnEfUoO6"
      }
    },
    {
      "cell_type": "markdown",
      "source": [
        "Para p=0.1"
      ],
      "metadata": {
        "id": "HNcXI0DMUrnq"
      }
    },
    {
      "cell_type": "code",
      "source": [
        "#Corramos 100 experimentos con el sesgo corregido\n",
        "x1 = np.linspace(0,20,100)\n",
        "y1 = 1723+x1-x1\n",
        "z1 = np.array([corrected_gen_rr(array_resp, 0.1) for i in range(100)])\n",
        "plt.plot(x1,y1,x1,z1,'ro')\n",
        "plt.axis([0,20,0,3000])\n",
        "plt.show()"
      ],
      "metadata": {
        "id": "Xni7h6hxU1mg",
        "colab": {
          "base_uri": "https://localhost:8080/",
          "height": 435
        },
        "outputId": "105d13f9-6bc8-45f0-aebf-e03af2136c02"
      },
      "execution_count": 32,
      "outputs": [
        {
          "output_type": "display_data",
          "data": {
            "text/plain": [
              "<Figure size 640x480 with 1 Axes>"
            ],
            "image/png": "[encoded data removed]"
          },
          "metadata": {}
        }
      ]
    },
    {
      "cell_type": "markdown",
      "source": [
        "Para p = 1/2"
      ],
      "metadata": {
        "id": "yRWxquWoVNkG"
      }
    },
    {
      "cell_type": "code",
      "source": [
        "#Corramos 100 experimentos con el sesgo corregido\n",
        "x2 = np.linspace(0,20,100)\n",
        "y2 = 1723+x2-x2\n",
        "z2 = np.array([corrected_gen_rr(array_resp, 0.5) for i in range(100)])\n",
        "plt.plot(x2,y2,x2,z2,'ro')\n",
        "plt.axis([0,20,0,3000])\n",
        "plt.show()"
      ],
      "metadata": {
        "colab": {
          "base_uri": "https://localhost:8080/",
          "height": 435
        },
        "id": "0I6259S4VRE2",
        "outputId": "7b44bd7d-2c69-45d4-82d8-b2a39f7a75b7"
      },
      "execution_count": 33,
      "outputs": [
        {
          "output_type": "display_data",
          "data": {
            "text/plain": [
              "<Figure size 640x480 with 1 Axes>"
            ],
            "image/png": "[encoded data removed]"
          },
          "metadata": {}
        }
      ]
    },
    {
      "cell_type": "markdown",
      "source": [
        "Para p = 3/4"
      ],
      "metadata": {
        "id": "FKfssp9LVUvO"
      }
    },
    {
      "cell_type": "code",
      "source": [
        "#Corramos 100 experimentos con el sesgo corregido\n",
        "x3 = np.linspace(0,20,100)\n",
        "y3 = 1723+x3-x3\n",
        "z3 = np.array([corrected_gen_rr(array_resp, 0.75) for i in range(100)])\n",
        "plt.plot(x3,y3,x3,z3,'ro')\n",
        "plt.axis([0,20,0,3000])\n",
        "plt.show()"
      ],
      "metadata": {
        "colab": {
          "base_uri": "https://localhost:8080/",
          "height": 435
        },
        "id": "7czv03eFVWjt",
        "outputId": "6abf4dac-b2cf-4366-fecc-50672952f10b"
      },
      "execution_count": 34,
      "outputs": [
        {
          "output_type": "display_data",
          "data": {
            "text/plain": [
              "<Figure size 640x480 with 1 Axes>"
            ],
            "image/png": "[encoded data removed]"
          },
          "metadata": {}
        }
      ]
    },
    {
      "cell_type": "markdown",
      "source": [
        "Para p= 0.99"
      ],
      "metadata": {
        "id": "-IsYK77FVadt"
      }
    },
    {
      "cell_type": "code",
      "source": [
        "#Corramos 100 experimentos con el sesgo corregido\n",
        "x4 = np.linspace(0,20,100)\n",
        "y4 = 1723+x4-x4\n",
        "z4 = np.array([corrected_gen_rr(array_resp, 0.99) for i in range(100)])\n",
        "plt.plot(x4,y4,x4,z4,'ro')\n",
        "plt.axis([0,20,0,3000])\n",
        "plt.show()"
      ],
      "metadata": {
        "colab": {
          "base_uri": "https://localhost:8080/",
          "height": 435
        },
        "id": "t25ftnvUVcdV",
        "outputId": "d7b0c4ad-f54a-4012-8b26-721f305a17e5"
      },
      "execution_count": 35,
      "outputs": [
        {
          "output_type": "display_data",
          "data": {
            "text/plain": [
              "<Figure size 640x480 with 1 Axes>"
            ],
            "image/png": "[encoded data removed]"
          },
          "metadata": {}
        }
      ]
    },
    {
      "cell_type": "markdown",
      "source": [
        "# Octava parte"
      ],
      "metadata": {
        "id": "K46mrasOUKPm"
      }
    },
    {
      "cell_type": "markdown",
      "source": [
        "Calcule el error cuadrático medio (para cada $p$) de los experimentos corridos en la séptima parte.\n",
        "\n",
        "El error cuadrático medio se calcula como:\n",
        "$$\\frac{1}{T}\\sum_{i=1}^{T}(Y-\\tilde{Y}_i)^2$$\n",
        "donde $Y$ es el valor real de personas con un Masters (obtenido en la segunda parte) e $\\tilde{Y}_i$ es el resultado del $i$-ésimo experimento. Como en la séptima parte hacemos $100$ experimentos (para cada $p$), entonces $T=100$.\n",
        "\n",
        "\n",
        "**Nota**: Debe calcular el error cuadrático medio para $p=0.1$, $p=1/2$, $p=3/4$ y $p=0.99$."
      ],
      "metadata": {
        "id": "HuBcnQ-iUXBh"
      }
    },
    {
      "cell_type": "markdown",
      "source": [
        "Para $p=0.1$:"
      ],
      "metadata": {
        "id": "m3CM-7UM1qFW"
      }
    },
    {
      "cell_type": "code",
      "source": [
        "RSE_1 = (1/100)*np.sum(np.square(y1-z1))\n",
        "RSE_1"
      ],
      "metadata": {
        "id": "KyvHlGdnU0tP",
        "colab": {
          "base_uri": "https://localhost:8080/"
        },
        "outputId": "025e778d-1db5-4d6f-f675-f50a24308719"
      },
      "execution_count": 37,
      "outputs": [
        {
          "output_type": "execute_result",
          "data": {
            "text/plain": [
              "858363.25"
            ]
          },
          "metadata": {},
          "execution_count": 37
        }
      ]
    },
    {
      "cell_type": "markdown",
      "source": [
        "Para $p=1/2$:"
      ],
      "metadata": {
        "id": "VEssO7Ik3Ddn"
      }
    },
    {
      "cell_type": "code",
      "source": [
        "RSE_2 = (1/100)*np.sum(np.square(y2-z2))\n",
        "RSE_2"
      ],
      "metadata": {
        "colab": {
          "base_uri": "https://localhost:8080/"
        },
        "id": "7y-LJzXw3Gh2",
        "outputId": "fab65ed2-49f8-4866-aca7-262d8826b5fb"
      },
      "execution_count": 38,
      "outputs": [
        {
          "output_type": "execute_result",
          "data": {
            "text/plain": [
              "23757.77"
            ]
          },
          "metadata": {},
          "execution_count": 38
        }
      ]
    },
    {
      "cell_type": "markdown",
      "source": [
        "Para $p=3/4$: :"
      ],
      "metadata": {
        "id": "xJwBvzYV3Me9"
      }
    },
    {
      "cell_type": "code",
      "source": [
        "RSE_3 = (1/100)*np.sum(np.square(y3-z3))\n",
        "RSE_3"
      ],
      "metadata": {
        "colab": {
          "base_uri": "https://localhost:8080/"
        },
        "id": "NEHfsyOa3Pat",
        "outputId": "0aa26918-12b3-427f-fce1-3a36aa4cbb1c"
      },
      "execution_count": 39,
      "outputs": [
        {
          "output_type": "execute_result",
          "data": {
            "text/plain": [
              "5454.289999999998"
            ]
          },
          "metadata": {},
          "execution_count": 39
        }
      ]
    },
    {
      "cell_type": "markdown",
      "source": [
        "Para $p=0.99$:"
      ],
      "metadata": {
        "id": "W3rxNpZ33WOt"
      }
    },
    {
      "cell_type": "code",
      "source": [
        "RSE_4 = (1/100)*np.sum(np.square(y4-z4))\n",
        "RSE_4"
      ],
      "metadata": {
        "colab": {
          "base_uri": "https://localhost:8080/"
        },
        "id": "OV9egE4l3USl",
        "outputId": "3c095f2c-57e1-44e4-9a13-783d7927cec2"
      },
      "execution_count": 40,
      "outputs": [
        {
          "output_type": "execute_result",
          "data": {
            "text/plain": [
              "190.16898785838222"
            ]
          },
          "metadata": {},
          "execution_count": 40
        }
      ]
    },
    {
      "cell_type": "markdown",
      "source": [
        "# Novena parte"
      ],
      "metadata": {
        "id": "dz_4OTgTUvkU"
      }
    },
    {
      "cell_type": "markdown",
      "source": [
        "Grafique el logaritmo del error cuadrático medio vs el parámetro de privacidad (recuerde que el parámetro de privacidad del mecanismo depende de $p$ y su fórmula es $\\varepsilon=\\ln\\left(\\frac{1+p}{1-p}\\right)$), para los distintos $p$ pedidos en la séptima parte."
      ],
      "metadata": {
        "id": "KiudIGqvU0Tl"
      }
    },
    {
      "cell_type": "markdown",
      "source": [
        "**RESPUESTA:**"
      ],
      "metadata": {
        "id": "dFRtNuqS_IEm"
      }
    },
    {
      "cell_type": "markdown",
      "source": [
        "Creamos primero una funcion que reciba los valores de $p$ y que nos devuelva el $\\varepsilon$"
      ],
      "metadata": {
        "id": "QY2MG5KS_KHP"
      }
    },
    {
      "cell_type": "code",
      "source": [
        "import math\n",
        "\n",
        "def calcular_e(p):\n",
        "    resultado = math.log((1 + p) / (1 - p))\n",
        "    return resultado\n"
      ],
      "metadata": {
        "id": "9VhRYderVlx9"
      },
      "execution_count": 41,
      "outputs": []
    },
    {
      "cell_type": "markdown",
      "source": [
        "Calculemos $\\varepsilon$ para cada uno de los $p$."
      ],
      "metadata": {
        "id": "ZNPwHKak-egx"
      }
    },
    {
      "cell_type": "code",
      "source": [
        "p_valores = [0.1, 0.5, 0.75, 0.99]\n",
        "\n",
        "for p in p_valores:\n",
        "    resultado = calcular_e(p)\n",
        "    print(f\"ln((1+{p})/(1-{p})) = {resultado}\")"
      ],
      "metadata": {
        "colab": {
          "base_uri": "https://localhost:8080/"
        },
        "id": "lZP1lFV5_d5e",
        "outputId": "60b9be8e-e63d-4925-b2d2-6c48ce8ae8f2"
      },
      "execution_count": 43,
      "outputs": [
        {
          "output_type": "stream",
          "name": "stdout",
          "text": [
            "ln((1+0.1)/(1-0.1)) = 0.20067069546215124\n",
            "ln((1+0.5)/(1-0.5)) = 1.0986122886681098\n",
            "ln((1+0.75)/(1-0.75)) = 1.9459101490553132\n",
            "ln((1+0.99)/(1-0.99)) = 5.293304824724491\n"
          ]
        }
      ]
    },
    {
      "cell_type": "markdown",
      "source": [
        "Ahora grafiquemos:"
      ],
      "metadata": {
        "id": "riWpFH5QwUUN"
      }
    },
    {
      "cell_type": "code",
      "source": [
        "import math\n",
        "import matplotlib.pyplot as plt\n",
        "\n",
        "def calcular_ln(p):\n",
        "    resultado = math.log((1 + p) / (1 - p))\n",
        "    return resultado\n",
        "\n",
        "p_valores = [0.1, 0.5, 0.75, 0.99]\n",
        "\n",
        "#Calculemos el logaritmo natural de cada uno de los errores cuadráticos medios obtenidos\n",
        "rse_valores = [RSE_1, RSE_2, RSE_3, RSE_4]\n",
        "log_rse = []\n",
        "\n",
        "for rse in rse_valores:\n",
        "    log = math.log(rse)\n",
        "    log_rse.append(log)\n",
        "\n",
        "e = []\n",
        "for p in p_valores:\n",
        "    resultado = calcular_ln(p)\n",
        "    e.append(resultado)\n",
        "\n",
        "plt.plot(e, log_rse)\n",
        "plt.xlabel(\"Parámetro Privacidad (e)\")\n",
        "plt.ylabel(\"Logaritmo del Error cuadrático medio (ln(RSE))\")\n",
        "plt.title(\"Logartimo del error cuadrático medio vs parámetro privacidad (e)\")\n",
        "plt.show()\n"
      ],
      "metadata": {
        "colab": {
          "base_uri": "https://localhost:8080/",
          "height": 472
        },
        "id": "4GSD9qZoATKn",
        "outputId": "ed9b4ac6-f2f6-44dd-dd20-a95876263afd"
      },
      "execution_count": 45,
      "outputs": [
        {
          "output_type": "display_data",
          "data": {
            "text/plain": [
              "<Figure size 640x480 with 1 Axes>"
            ],
            "image/png": "[encoded data removed]"
          },
          "metadata": {}
        }
      ]
    },
    {
      "cell_type": "markdown",
      "source": [
        "Es posible concluir que, a medida que $\\varepsilon$ se hace más grande, la privacidad es menor, la precisión es mejor. Y de manera inversa, entre más pequeño se hace $\\varepsilon$, hay mayor privacidad y la precisión es menor."
      ],
      "metadata": {
        "id": "oXEx8RnIq_CD"
      }
    }
  ]
}