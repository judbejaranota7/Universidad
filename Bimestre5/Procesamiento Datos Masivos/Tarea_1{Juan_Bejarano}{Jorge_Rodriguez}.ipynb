{
  "nbformat": 4,
  "nbformat_minor": 0,
  "metadata": {
    "colab": {
      "provenance": []
    },
    "kernelspec": {
      "name": "python3",
      "display_name": "Python 3"
    },
    "language_info": {
      "name": "python"
    }
  },
  "cells": [
    {
      "cell_type": "markdown",
      "source": [
        "# <img style=\"float: left; padding: 0px 10px 0px 0px;\" src=\"https://upload.wikimedia.org/wikipedia/commons/thumb/8/84/Escudo_de_la_Pontificia_Universidad_Cat%C3%B3lica_de_Chile.svg/1920px-Escudo_de_la_Pontificia_Universidad_Cat%C3%B3lica_de_Chile.svg.png\"  width=\"80\" /> Procesamiento de Datos - Tarea 1\n",
        "**Pontificia Universidad Católica de Chile**<br>\n",
        "**Semestre 2023-1**<br>\n",
        "**Profesor:** Juan Reutter. <br>\n",
        "**Estudiantes:** Juan Bejarano T. y Jorge Rodriguez D.\n",
        "\n",
        "---"
      ],
      "metadata": {
        "id": "-nx0SK03RhRO"
      }
    },
    {
      "cell_type": "code",
      "source": [
        "!pip install pyspark"
      ],
      "metadata": {
        "colab": {
          "base_uri": "https://localhost:8080/"
        },
        "id": "n_AFiaBRKEKk",
        "outputId": "f571471e-ab7d-4a8f-991d-b43a96cf477c"
      },
      "execution_count": 1,
      "outputs": [
        {
          "output_type": "stream",
          "name": "stdout",
          "text": [
            "Looking in indexes: https://pypi.org/simple, https://us-python.pkg.dev/colab-wheels/public/simple/\n",
            "Requirement already satisfied: pyspark in /usr/local/lib/python3.10/dist-packages (3.4.0)\n",
            "Requirement already satisfied: py4j==0.10.9.7 in /usr/local/lib/python3.10/dist-packages (from pyspark) (0.10.9.7)\n"
          ]
        }
      ]
    },
    {
      "cell_type": "code",
      "source": [
        "from pyspark.sql import SparkSession\n",
        "\n",
        "spark = SparkSession.builder.getOrCreate()\n",
        "    \n",
        "sc = spark.sparkContext\n",
        "sc"
      ],
      "metadata": {
        "colab": {
          "base_uri": "https://localhost:8080/",
          "height": 196
        },
        "id": "rCMATdJtBc6j",
        "outputId": "e2d145fb-bd25-4aef-8ba3-9dd2ec635423"
      },
      "execution_count": 2,
      "outputs": [
        {
          "output_type": "execute_result",
          "data": {
            "text/plain": [
              "<SparkContext master=local[*] appName=pyspark-shell>"
            ],
            "text/html": [
              "\n",
              "        <div>\n",
              "            <p><b>SparkContext</b></p>\n",
              "\n",
              "            <p><a href=\"http://db991806fa4f:4040\">Spark UI</a></p>\n",
              "\n",
              "            <dl>\n",
              "              <dt>Version</dt>\n",
              "                <dd><code>v3.4.0</code></dd>\n",
              "              <dt>Master</dt>\n",
              "                <dd><code>local[*]</code></dd>\n",
              "              <dt>AppName</dt>\n",
              "                <dd><code>pyspark-shell</code></dd>\n",
              "            </dl>\n",
              "        </div>\n",
              "        "
            ]
          },
          "metadata": {},
          "execution_count": 2
        }
      ]
    },
    {
      "cell_type": "markdown",
      "source": [
        "### 1. Utiliza pyspark para cargar cada archivo como una \"tabla\", tal como lo hicimos en el tutorial. Recuerda que los archivos están disponibles en las instrucciones."
      ],
      "metadata": {
        "id": "r-wNQt1uQf-V"
      }
    },
    {
      "cell_type": "code",
      "source": [
        "mascotas=sc.textFile(\"/content/mascotas-1-.csv\")\n",
        "personas=sc.textFile(\"/content/personas-1-.csv\")"
      ],
      "metadata": {
        "id": "gZ2KMiSwQuQ9"
      },
      "execution_count": 3,
      "outputs": []
    },
    {
      "cell_type": "markdown",
      "source": [
        "### 2. A partir de ahí, debes realizar las siguientes tareas:"
      ],
      "metadata": {
        "id": "6Gtpohi5RAQn"
      }
    },
    {
      "cell_type": "markdown",
      "source": [
        "#### Parte 1\n",
        "\n",
        "Crea un programa que devuelve cada nombre de mascota y su tipo, junto con el\n",
        "nombre de su dueño. Es decir, tu programa debe entregar, para cada mascota en tus datos, el nombre de la mascota, el tipo de mascota (por ejemplo, perro, gato, etc.) y el nombre del dueño de la mascota."
      ],
      "metadata": {
        "id": "Usup3iaACKGz"
      }
    },
    {
      "cell_type": "code",
      "source": [
        "#Creamos una función para tomar los elementos necesarios de mascotas, teniendo como primer elemento el id del dueño y \n",
        "# como segundo elemento una tupla con el nombre y tipo de mascota\n",
        "def fun1(line):\n",
        "    row=line.split(\";\")\n",
        "    return (int(row[3]),(row[1],row[2]))\n",
        "\n",
        "#Creamos una función para tomar los elementos necesarios de personas, teniendo como primer elemento del id de persona y segundo elemento el nombre de la persona\n",
        "def fun2(line):\n",
        "    row=line.split(\";\")\n",
        "    return (int(row[0]),row[1])\n",
        "\n",
        "#Hacemos el join de las dos tablas después de operar las funciones anteriores \n",
        "final=mascotas.map(fun1).join(personas.map(fun2)).values().map(lambda data: (*data[0],data[1]))\n",
        "final.take(7)"
      ],
      "metadata": {
        "colab": {
          "base_uri": "https://localhost:8080/"
        },
        "id": "8SDD9iYDBkDK",
        "outputId": "93b79a56-bc64-46ec-ae89-11dd7de08258"
      },
      "execution_count": 4,
      "outputs": [
        {
          "output_type": "execute_result",
          "data": {
            "text/plain": [
              "[('Debra', 'Conejo', 'Shane Arroyo'),\n",
              " ('Melvin', 'Tortuga', 'Shane Arroyo'),\n",
              " ('Michael', 'Pez', 'Shane Arroyo'),\n",
              " ('Jennifer', 'Pájaro', 'Shane Arroyo'),\n",
              " ('Christopher', 'Hámster', 'Shane Arroyo'),\n",
              " ('Cassandra', 'Tortuga', 'Shane Arroyo'),\n",
              " ('Elizabeth', 'Pez', 'Daniel Hardin')]"
            ]
          },
          "metadata": {},
          "execution_count": 4
        }
      ]
    },
    {
      "cell_type": "markdown",
      "source": [
        "#### Parte 2\n",
        "Crea un programa que devuelve, para cada número identificador y nombre de\n",
        "persona, el número de mascotas que posee. En otras palabras, para cada persona en tus datos, tu programa debería mostrar el ID de la persona, su nombre, y el número total de mascotas que esa persona tiene."
      ],
      "metadata": {
        "id": "TgAw6oIPCMwK"
      }
    },
    {
      "cell_type": "code",
      "source": [
        "#Usamos nuevamente fun2 para tomar los elementos necesarios de personas, teniendo como primer elemento del id de persona y segundo elemento el nombre de la persona\n",
        "id_nombre=personas.map(fun2)\n",
        "\n",
        "#Creamos una nueva tabla que contendrá cuantas veces aparece el id de cada dueño en mascotas\n",
        "id_persona=mascotas.map(lambda line: line.split(\";\")[3]).map(lambda id: (int(id), 1)).reduceByKey(lambda a, b: a + b)\n",
        "\n",
        "#Hacemos el join de las dos tablas\n",
        "final2=id_nombre.join(id_persona).map(lambda data: (data[0],*data[1]))\n",
        "final2.take(5)"
      ],
      "metadata": {
        "colab": {
          "base_uri": "https://localhost:8080/"
        },
        "id": "jCI33qySOTPL",
        "outputId": "37fcb8cb-6afd-4b5c-a8b6-ceefe3d86d5f"
      },
      "execution_count": 5,
      "outputs": [
        {
          "output_type": "execute_result",
          "data": {
            "text/plain": [
              "[(4, 'Renee Scott MD', 7),\n",
              " (8, 'Evelyn Fitzgerald', 4),\n",
              " (12, 'Christopher Stewart', 2),\n",
              " (16, 'Pamela Christensen', 4),\n",
              " (20, 'Jeffrey Welch', 4)]"
            ]
          },
          "metadata": {},
          "execution_count": 5
        }
      ]
    }
  ]
}