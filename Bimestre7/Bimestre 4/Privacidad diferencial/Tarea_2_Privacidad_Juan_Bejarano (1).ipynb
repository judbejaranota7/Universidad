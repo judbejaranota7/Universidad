{
  "nbformat": 4,
  "nbformat_minor": 0,
  "metadata": {
    "colab": {
      "provenance": []
    },
    "kernelspec": {
      "name": "python3",
      "display_name": "Python 3"
    },
    "language_info": {
      "name": "python"
    }
  },
  "cells": [
    {
      "cell_type": "markdown",
      "source": [
        "# Tarea 2"
      ],
      "metadata": {
        "id": "_B2SZMfkuyXC"
      }
    },
    {
      "cell_type": "markdown",
      "source": [
        "**IMPORTANTE: En esta tarea debe usar las bases de datos 'movies' y 'ratings' que se encuentran en la carpeta adjunta. En esta carpeta también encontrará otras bases de datos (que no son necesarias para la tarea) y el README. El README describe cómo están organizadas las bases de datos, qué información tienen, cuántas filas tienen, cómo se relacionan las unas con las otras, etc. Se recomienda encarecidamente leerlo.**\n",
        "\n",
        "---"
      ],
      "metadata": {
        "id": "N1Ds_z38uglE"
      }
    },
    {
      "cell_type": "markdown",
      "source": [
        "Un productor de cine está interesado en producir una película. Como quiere obtener ganancias de esta producción, recurre a usted para que le asesore en la elección de temática de la película.\n",
        "\n",
        "Usted dispone de una base de datos creada a partir de la información de $610$ usuarios. Cada uno de ellos dio su opinión (de 0.5 a 5 estrellas) de por lo menos $20$ de un total de $9742$ películas.\n",
        "\n",
        "Como no desea que su asesoría dañe a la privacidad de sus usuarios, responderá cada una de las preguntas del productor de manera diferencialmente-privada."
      ],
      "metadata": {
        "id": "tp24Ix8Ogk6q"
      }
    },
    {
      "cell_type": "code",
      "execution_count": 34,
      "metadata": {
        "id": "6Y-DtP2u5mVn"
      },
      "outputs": [],
      "source": [
        "import pandas as pd\n",
        "import numpy as np\n",
        "import matplotlib.pyplot as plt"
      ]
    },
    {
      "cell_type": "code",
      "source": [
        "#importar base de datos entregada\n",
        "from google.colab import drive\n",
        "drive.mount('/content/drive')\n",
        "\n",
        "movies = pd.read_csv('/content/drive/MyDrive/Colab_Notebooks/4.a Analisis Diferencial/ml-latest-small/movies.csv')\n",
        "movies.head()"
      ],
      "metadata": {
        "colab": {
          "base_uri": "https://localhost:8080/",
          "height": 224
        },
        "id": "pUJa62PVrD-T",
        "outputId": "18642e6f-c0c1-4496-ec49-ac605f53c62d"
      },
      "execution_count": 35,
      "outputs": [
        {
          "output_type": "stream",
          "name": "stdout",
          "text": [
            "Drive already mounted at /content/drive; to attempt to forcibly remount, call drive.mount(\"/content/drive\", force_remount=True).\n"
          ]
        },
        {
          "output_type": "execute_result",
          "data": {
            "text/plain": [
              "   movieId                               title  \\\n",
              "0        1                    Toy Story (1995)   \n",
              "1        2                      Jumanji (1995)   \n",
              "2        3             Grumpier Old Men (1995)   \n",
              "3        4            Waiting to Exhale (1995)   \n",
              "4        5  Father of the Bride Part II (1995)   \n",
              "\n",
              "                                        genres  \n",
              "0  Adventure|Animation|Children|Comedy|Fantasy  \n",
              "1                   Adventure|Children|Fantasy  \n",
              "2                               Comedy|Romance  \n",
              "3                         Comedy|Drama|Romance  \n",
              "4                                       Comedy  "
            ],
            "text/html": [
              "\n",
              "  <div id=\"df-f2abb5ad-72ed-4674-953d-34983f10fd56\">\n",
              "    <div class=\"colab-df-container\">\n",
              "      <div>\n",
              "<style scoped>\n",
              "    .dataframe tbody tr th:only-of-type {\n",
              "        vertical-align: middle;\n",
              "    }\n",
              "\n",
              "    .dataframe tbody tr th {\n",
              "        vertical-align: top;\n",
              "    }\n",
              "\n",
              "    .dataframe thead th {\n",
              "        text-align: right;\n",
              "    }\n",
              "</style>\n",
              "<table border=\"1\" class=\"dataframe\">\n",
              "  <thead>\n",
              "    <tr style=\"text-align: right;\">\n",
              "      <th></th>\n",
              "      <th>movieId</th>\n",
              "      <th>title</th>\n",
              "      <th>genres</th>\n",
              "    </tr>\n",
              "  </thead>\n",
              "  <tbody>\n",
              "    <tr>\n",
              "      <th>0</th>\n",
              "      <td>1</td>\n",
              "      <td>Toy Story (1995)</td>\n",
              "      <td>Adventure|Animation|Children|Comedy|Fantasy</td>\n",
              "    </tr>\n",
              "    <tr>\n",
              "      <th>1</th>\n",
              "      <td>2</td>\n",
              "      <td>Jumanji (1995)</td>\n",
              "      <td>Adventure|Children|Fantasy</td>\n",
              "    </tr>\n",
              "    <tr>\n",
              "      <th>2</th>\n",
              "      <td>3</td>\n",
              "      <td>Grumpier Old Men (1995)</td>\n",
              "      <td>Comedy|Romance</td>\n",
              "    </tr>\n",
              "    <tr>\n",
              "      <th>3</th>\n",
              "      <td>4</td>\n",
              "      <td>Waiting to Exhale (1995)</td>\n",
              "      <td>Comedy|Drama|Romance</td>\n",
              "    </tr>\n",
              "    <tr>\n",
              "      <th>4</th>\n",
              "      <td>5</td>\n",
              "      <td>Father of the Bride Part II (1995)</td>\n",
              "      <td>Comedy</td>\n",
              "    </tr>\n",
              "  </tbody>\n",
              "</table>\n",
              "</div>\n",
              "      <button class=\"colab-df-convert\" onclick=\"convertToInteractive('df-f2abb5ad-72ed-4674-953d-34983f10fd56')\"\n",
              "              title=\"Convert this dataframe to an interactive table.\"\n",
              "              style=\"display:none;\">\n",
              "        \n",
              "  <svg xmlns=\"http://www.w3.org/2000/svg\" height=\"24px\"viewBox=\"0 0 24 24\"\n",
              "       width=\"24px\">\n",
              "    <path d=\"M0 0h24v24H0V0z\" fill=\"none\"/>\n",
              "    <path d=\"M18.56 5.44l.94 2.06.94-2.06 2.06-.94-2.06-.94-.94-2.06-.94 2.06-2.06.94zm-11 1L8.5 8.5l.94-2.06 2.06-.94-2.06-.94L8.5 2.5l-.94 2.06-2.06.94zm10 10l.94 2.06.94-2.06 2.06-.94-2.06-.94-.94-2.06-.94 2.06-2.06.94z\"/><path d=\"M17.41 7.96l-1.37-1.37c-.4-.4-.92-.59-1.43-.59-.52 0-1.04.2-1.43.59L10.3 9.45l-7.72 7.72c-.78.78-.78 2.05 0 2.83L4 21.41c.39.39.9.59 1.41.59.51 0 1.02-.2 1.41-.59l7.78-7.78 2.81-2.81c.8-.78.8-2.07 0-2.86zM5.41 20L4 18.59l7.72-7.72 1.47 1.35L5.41 20z\"/>\n",
              "  </svg>\n",
              "      </button>\n",
              "      \n",
              "  <style>\n",
              "    .colab-df-container {\n",
              "      display:flex;\n",
              "      flex-wrap:wrap;\n",
              "      gap: 12px;\n",
              "    }\n",
              "\n",
              "    .colab-df-convert {\n",
              "      background-color: #E8F0FE;\n",
              "      border: none;\n",
              "      border-radius: 50%;\n",
              "      cursor: pointer;\n",
              "      display: none;\n",
              "      fill: #1967D2;\n",
              "      height: 32px;\n",
              "      padding: 0 0 0 0;\n",
              "      width: 32px;\n",
              "    }\n",
              "\n",
              "    .colab-df-convert:hover {\n",
              "      background-color: #E2EBFA;\n",
              "      box-shadow: 0px 1px 2px rgba(60, 64, 67, 0.3), 0px 1px 3px 1px rgba(60, 64, 67, 0.15);\n",
              "      fill: #174EA6;\n",
              "    }\n",
              "\n",
              "    [theme=dark] .colab-df-convert {\n",
              "      background-color: #3B4455;\n",
              "      fill: #D2E3FC;\n",
              "    }\n",
              "\n",
              "    [theme=dark] .colab-df-convert:hover {\n",
              "      background-color: #434B5C;\n",
              "      box-shadow: 0px 1px 3px 1px rgba(0, 0, 0, 0.15);\n",
              "      filter: drop-shadow(0px 1px 2px rgba(0, 0, 0, 0.3));\n",
              "      fill: #FFFFFF;\n",
              "    }\n",
              "  </style>\n",
              "\n",
              "      <script>\n",
              "        const buttonEl =\n",
              "          document.querySelector('#df-f2abb5ad-72ed-4674-953d-34983f10fd56 button.colab-df-convert');\n",
              "        buttonEl.style.display =\n",
              "          google.colab.kernel.accessAllowed ? 'block' : 'none';\n",
              "\n",
              "        async function convertToInteractive(key) {\n",
              "          const element = document.querySelector('#df-f2abb5ad-72ed-4674-953d-34983f10fd56');\n",
              "          const dataTable =\n",
              "            await google.colab.kernel.invokeFunction('convertToInteractive',\n",
              "                                                     [key], {});\n",
              "          if (!dataTable) return;\n",
              "\n",
              "          const docLinkHtml = 'Like what you see? Visit the ' +\n",
              "            '<a target=\"_blank\" href=https://colab.research.google.com/notebooks/data_table.ipynb>data table notebook</a>'\n",
              "            + ' to learn more about interactive tables.';\n",
              "          element.innerHTML = '';\n",
              "          dataTable['output_type'] = 'display_data';\n",
              "          await google.colab.output.renderOutput(dataTable, element);\n",
              "          const docLink = document.createElement('div');\n",
              "          docLink.innerHTML = docLinkHtml;\n",
              "          element.appendChild(docLink);\n",
              "        }\n",
              "      </script>\n",
              "    </div>\n",
              "  </div>\n",
              "  "
            ]
          },
          "metadata": {},
          "execution_count": 35
        }
      ]
    },
    {
      "cell_type": "code",
      "source": [
        "ratings = pd.read_csv('/content/drive/MyDrive/Colab_Notebooks/4.a Analisis Diferencial/ml-latest-small/ratings.csv')\n",
        "ratings.head()"
      ],
      "metadata": {
        "colab": {
          "base_uri": "https://localhost:8080/",
          "height": 206
        },
        "id": "odMcvY5or2Jm",
        "outputId": "5c3fc979-e871-4a79-9a9a-d0197d137838"
      },
      "execution_count": 36,
      "outputs": [
        {
          "output_type": "execute_result",
          "data": {
            "text/plain": [
              "   userId  movieId  rating  timestamp\n",
              "0       1        1     4.0  964982703\n",
              "1       1        3     4.0  964981247\n",
              "2       1        6     4.0  964982224\n",
              "3       1       47     5.0  964983815\n",
              "4       1       50     5.0  964982931"
            ],
            "text/html": [
              "\n",
              "  <div id=\"df-b5d1e904-e7de-4ba0-9063-a8a78faf9440\">\n",
              "    <div class=\"colab-df-container\">\n",
              "      <div>\n",
              "<style scoped>\n",
              "    .dataframe tbody tr th:only-of-type {\n",
              "        vertical-align: middle;\n",
              "    }\n",
              "\n",
              "    .dataframe tbody tr th {\n",
              "        vertical-align: top;\n",
              "    }\n",
              "\n",
              "    .dataframe thead th {\n",
              "        text-align: right;\n",
              "    }\n",
              "</style>\n",
              "<table border=\"1\" class=\"dataframe\">\n",
              "  <thead>\n",
              "    <tr style=\"text-align: right;\">\n",
              "      <th></th>\n",
              "      <th>userId</th>\n",
              "      <th>movieId</th>\n",
              "      <th>rating</th>\n",
              "      <th>timestamp</th>\n",
              "    </tr>\n",
              "  </thead>\n",
              "  <tbody>\n",
              "    <tr>\n",
              "      <th>0</th>\n",
              "      <td>1</td>\n",
              "      <td>1</td>\n",
              "      <td>4.0</td>\n",
              "      <td>964982703</td>\n",
              "    </tr>\n",
              "    <tr>\n",
              "      <th>1</th>\n",
              "      <td>1</td>\n",
              "      <td>3</td>\n",
              "      <td>4.0</td>\n",
              "      <td>964981247</td>\n",
              "    </tr>\n",
              "    <tr>\n",
              "      <th>2</th>\n",
              "      <td>1</td>\n",
              "      <td>6</td>\n",
              "      <td>4.0</td>\n",
              "      <td>964982224</td>\n",
              "    </tr>\n",
              "    <tr>\n",
              "      <th>3</th>\n",
              "      <td>1</td>\n",
              "      <td>47</td>\n",
              "      <td>5.0</td>\n",
              "      <td>964983815</td>\n",
              "    </tr>\n",
              "    <tr>\n",
              "      <th>4</th>\n",
              "      <td>1</td>\n",
              "      <td>50</td>\n",
              "      <td>5.0</td>\n",
              "      <td>964982931</td>\n",
              "    </tr>\n",
              "  </tbody>\n",
              "</table>\n",
              "</div>\n",
              "      <button class=\"colab-df-convert\" onclick=\"convertToInteractive('df-b5d1e904-e7de-4ba0-9063-a8a78faf9440')\"\n",
              "              title=\"Convert this dataframe to an interactive table.\"\n",
              "              style=\"display:none;\">\n",
              "        \n",
              "  <svg xmlns=\"http://www.w3.org/2000/svg\" height=\"24px\"viewBox=\"0 0 24 24\"\n",
              "       width=\"24px\">\n",
              "    <path d=\"M0 0h24v24H0V0z\" fill=\"none\"/>\n",
              "    <path d=\"M18.56 5.44l.94 2.06.94-2.06 2.06-.94-2.06-.94-.94-2.06-.94 2.06-2.06.94zm-11 1L8.5 8.5l.94-2.06 2.06-.94-2.06-.94L8.5 2.5l-.94 2.06-2.06.94zm10 10l.94 2.06.94-2.06 2.06-.94-2.06-.94-.94-2.06-.94 2.06-2.06.94z\"/><path d=\"M17.41 7.96l-1.37-1.37c-.4-.4-.92-.59-1.43-.59-.52 0-1.04.2-1.43.59L10.3 9.45l-7.72 7.72c-.78.78-.78 2.05 0 2.83L4 21.41c.39.39.9.59 1.41.59.51 0 1.02-.2 1.41-.59l7.78-7.78 2.81-2.81c.8-.78.8-2.07 0-2.86zM5.41 20L4 18.59l7.72-7.72 1.47 1.35L5.41 20z\"/>\n",
              "  </svg>\n",
              "      </button>\n",
              "      \n",
              "  <style>\n",
              "    .colab-df-container {\n",
              "      display:flex;\n",
              "      flex-wrap:wrap;\n",
              "      gap: 12px;\n",
              "    }\n",
              "\n",
              "    .colab-df-convert {\n",
              "      background-color: #E8F0FE;\n",
              "      border: none;\n",
              "      border-radius: 50%;\n",
              "      cursor: pointer;\n",
              "      display: none;\n",
              "      fill: #1967D2;\n",
              "      height: 32px;\n",
              "      padding: 0 0 0 0;\n",
              "      width: 32px;\n",
              "    }\n",
              "\n",
              "    .colab-df-convert:hover {\n",
              "      background-color: #E2EBFA;\n",
              "      box-shadow: 0px 1px 2px rgba(60, 64, 67, 0.3), 0px 1px 3px 1px rgba(60, 64, 67, 0.15);\n",
              "      fill: #174EA6;\n",
              "    }\n",
              "\n",
              "    [theme=dark] .colab-df-convert {\n",
              "      background-color: #3B4455;\n",
              "      fill: #D2E3FC;\n",
              "    }\n",
              "\n",
              "    [theme=dark] .colab-df-convert:hover {\n",
              "      background-color: #434B5C;\n",
              "      box-shadow: 0px 1px 3px 1px rgba(0, 0, 0, 0.15);\n",
              "      filter: drop-shadow(0px 1px 2px rgba(0, 0, 0, 0.3));\n",
              "      fill: #FFFFFF;\n",
              "    }\n",
              "  </style>\n",
              "\n",
              "      <script>\n",
              "        const buttonEl =\n",
              "          document.querySelector('#df-b5d1e904-e7de-4ba0-9063-a8a78faf9440 button.colab-df-convert');\n",
              "        buttonEl.style.display =\n",
              "          google.colab.kernel.accessAllowed ? 'block' : 'none';\n",
              "\n",
              "        async function convertToInteractive(key) {\n",
              "          const element = document.querySelector('#df-b5d1e904-e7de-4ba0-9063-a8a78faf9440');\n",
              "          const dataTable =\n",
              "            await google.colab.kernel.invokeFunction('convertToInteractive',\n",
              "                                                     [key], {});\n",
              "          if (!dataTable) return;\n",
              "\n",
              "          const docLinkHtml = 'Like what you see? Visit the ' +\n",
              "            '<a target=\"_blank\" href=https://colab.research.google.com/notebooks/data_table.ipynb>data table notebook</a>'\n",
              "            + ' to learn more about interactive tables.';\n",
              "          element.innerHTML = '';\n",
              "          dataTable['output_type'] = 'display_data';\n",
              "          await google.colab.output.renderOutput(dataTable, element);\n",
              "          const docLink = document.createElement('div');\n",
              "          docLink.innerHTML = docLinkHtml;\n",
              "          element.appendChild(docLink);\n",
              "        }\n",
              "      </script>\n",
              "    </div>\n",
              "  </div>\n",
              "  "
            ]
          },
          "metadata": {},
          "execution_count": 36
        }
      ]
    },
    {
      "cell_type": "code",
      "source": [
        "rng = np.random.default_rng()"
      ],
      "metadata": {
        "id": "pM7iGGWauQOa"
      },
      "execution_count": 37,
      "outputs": []
    },
    {
      "cell_type": "markdown",
      "source": [
        "# Primera parte (45%)"
      ],
      "metadata": {
        "id": "WNagyLNKz43j"
      }
    },
    {
      "cell_type": "markdown",
      "source": [
        "El productor piensa que la forma más probable de obtener ganancias de la película es que esta pertenezca al género mejor evaluado por los usuarios."
      ],
      "metadata": {
        "id": "bQftdHsLkEI4"
      }
    },
    {
      "cell_type": "markdown",
      "source": [
        "**Problema 1: Determine, usando Report Noisy Max con 0.5-DP, cuál de todos los géneros es el mejor evaluado y cuál es su puntaje.**\n",
        "\n",
        "**Nota: Recuerde que para poder implementar Report Noisy Max debe hallar una cota para la sensibilidad de las consultas de las que quiere extraer el máximo.**\n",
        "\n",
        "**Es importante notar que a cada usuario le corresponden varias filas de la base de datos 'ratings'.**\n",
        "\n",
        "\n",
        "---\n",
        "\n"
      ],
      "metadata": {
        "id": "U-wBDuGfkyZk"
      }
    },
    {
      "cell_type": "markdown",
      "source": [
        "Entenderemos el puntaje dado por una persona $i$ a un género como el promedio de los puntajes de las películas que valoró la persona $i$ que pertenecen al género.\n",
        "\n",
        "Por ejemplo, si las únicas películas que la persona $i$ vio del género 'Aventura' son: 'Toy Story', 'Tarzán' y 'El Rey León', entonces:\n",
        "\n",
        "$$\\text{Puntaje}_i \\text{ Aventura}= \\frac{\\text{Puntaje}_i \\text{ Toy Story}+\\text{Puntaje}_i \\text{ Tarzán}+\\text{Puntaje}_i \\text{ El Rey León}}{3}$$\n",
        "\n",
        "Note que una persona puede dar puntaje $0$ a un género (por ejemplo, si no ha visto ninguna película perteneciente a ese género).\n",
        "\n",
        "---"
      ],
      "metadata": {
        "id": "stmolhkJz-xv"
      }
    },
    {
      "cell_type": "markdown",
      "source": [
        "Entenderemos el puntaje de un determinado género como el promedio de los puntajes de ese género de todos los usuarios de la base de datos 'ratings' (son 610 usuarios en total).\n",
        "\n",
        "Por ejemplo, el puntaje del género 'Aventura' será:\n",
        "\n",
        "$$\\text{Puntaje Aventura} = \\frac{\\text{Puntaje}_1 \\text{ Aventura}+\\text{Puntaje}_2 \\text{ Aventura}+\\ldots+\\text{Puntaje}_{610} \\text{ Aventura}}{610},$$\n",
        "donde $\\text{Puntaje}_i \\text{ Aventura}$ es el puntaje que le dio la persona $i$ al género aventura."
      ],
      "metadata": {
        "id": "0yrZ6K_G1abT"
      }
    },
    {
      "cell_type": "code",
      "source": [
        "genres = ['Action', 'Adventure', 'Animation', 'Children', 'Comedy', 'Crime', 'Documentary', 'Drama', 'Fantasy',\n",
        "          'Film-Noir', 'Horror', 'Musical', 'Mystery', 'Romance', 'Sci-Fi', 'Thriller', 'War', 'Western']"
      ],
      "metadata": {
        "id": "q_hTZagmz4RU"
      },
      "execution_count": 38,
      "outputs": []
    },
    {
      "cell_type": "markdown",
      "source": [
        "### Respuesta"
      ],
      "metadata": {
        "id": "ippD_zalfB8v"
      }
    },
    {
      "cell_type": "code",
      "source": [
        "#Cruzamos la base de datos de ratings con la de movies para traernos el género \n",
        "\n",
        "movies_genres = ratings.merge(movies[['movieId', 'genres', 'title']], on='movieId', how='left')\n",
        "movies_genres"
      ],
      "metadata": {
        "colab": {
          "base_uri": "https://localhost:8080/",
          "height": 423
        },
        "id": "jMlfD2Rsv5Mm",
        "outputId": "abf1ddad-3e70-4a24-e17e-5a63e9f55748"
      },
      "execution_count": 39,
      "outputs": [
        {
          "output_type": "execute_result",
          "data": {
            "text/plain": [
              "        userId  movieId  rating   timestamp  \\\n",
              "0            1        1     4.0   964982703   \n",
              "1            1        3     4.0   964981247   \n",
              "2            1        6     4.0   964982224   \n",
              "3            1       47     5.0   964983815   \n",
              "4            1       50     5.0   964982931   \n",
              "...        ...      ...     ...         ...   \n",
              "100831     610   166534     4.0  1493848402   \n",
              "100832     610   168248     5.0  1493850091   \n",
              "100833     610   168250     5.0  1494273047   \n",
              "100834     610   168252     5.0  1493846352   \n",
              "100835     610   170875     3.0  1493846415   \n",
              "\n",
              "                                             genres  \\\n",
              "0       Adventure|Animation|Children|Comedy|Fantasy   \n",
              "1                                    Comedy|Romance   \n",
              "2                             Action|Crime|Thriller   \n",
              "3                                  Mystery|Thriller   \n",
              "4                            Crime|Mystery|Thriller   \n",
              "...                                             ...   \n",
              "100831                        Drama|Horror|Thriller   \n",
              "100832                        Action|Crime|Thriller   \n",
              "100833                                       Horror   \n",
              "100834                                Action|Sci-Fi   \n",
              "100835                  Action|Crime|Drama|Thriller   \n",
              "\n",
              "                                 title  \n",
              "0                     Toy Story (1995)  \n",
              "1              Grumpier Old Men (1995)  \n",
              "2                          Heat (1995)  \n",
              "3          Seven (a.k.a. Se7en) (1995)  \n",
              "4           Usual Suspects, The (1995)  \n",
              "...                                ...  \n",
              "100831                    Split (2017)  \n",
              "100832   John Wick: Chapter Two (2017)  \n",
              "100833                  Get Out (2017)  \n",
              "100834                    Logan (2017)  \n",
              "100835  The Fate of the Furious (2017)  \n",
              "\n",
              "[100836 rows x 6 columns]"
            ],
            "text/html": [
              "\n",
              "  <div id=\"df-ac1bb57d-5e0f-4f83-9fc6-c1b6b31f26bc\">\n",
              "    <div class=\"colab-df-container\">\n",
              "      <div>\n",
              "<style scoped>\n",
              "    .dataframe tbody tr th:only-of-type {\n",
              "        vertical-align: middle;\n",
              "    }\n",
              "\n",
              "    .dataframe tbody tr th {\n",
              "        vertical-align: top;\n",
              "    }\n",
              "\n",
              "    .dataframe thead th {\n",
              "        text-align: right;\n",
              "    }\n",
              "</style>\n",
              "<table border=\"1\" class=\"dataframe\">\n",
              "  <thead>\n",
              "    <tr style=\"text-align: right;\">\n",
              "      <th></th>\n",
              "      <th>userId</th>\n",
              "      <th>movieId</th>\n",
              "      <th>rating</th>\n",
              "      <th>timestamp</th>\n",
              "      <th>genres</th>\n",
              "      <th>title</th>\n",
              "    </tr>\n",
              "  </thead>\n",
              "  <tbody>\n",
              "    <tr>\n",
              "      <th>0</th>\n",
              "      <td>1</td>\n",
              "      <td>1</td>\n",
              "      <td>4.0</td>\n",
              "      <td>964982703</td>\n",
              "      <td>Adventure|Animation|Children|Comedy|Fantasy</td>\n",
              "      <td>Toy Story (1995)</td>\n",
              "    </tr>\n",
              "    <tr>\n",
              "      <th>1</th>\n",
              "      <td>1</td>\n",
              "      <td>3</td>\n",
              "      <td>4.0</td>\n",
              "      <td>964981247</td>\n",
              "      <td>Comedy|Romance</td>\n",
              "      <td>Grumpier Old Men (1995)</td>\n",
              "    </tr>\n",
              "    <tr>\n",
              "      <th>2</th>\n",
              "      <td>1</td>\n",
              "      <td>6</td>\n",
              "      <td>4.0</td>\n",
              "      <td>964982224</td>\n",
              "      <td>Action|Crime|Thriller</td>\n",
              "      <td>Heat (1995)</td>\n",
              "    </tr>\n",
              "    <tr>\n",
              "      <th>3</th>\n",
              "      <td>1</td>\n",
              "      <td>47</td>\n",
              "      <td>5.0</td>\n",
              "      <td>964983815</td>\n",
              "      <td>Mystery|Thriller</td>\n",
              "      <td>Seven (a.k.a. Se7en) (1995)</td>\n",
              "    </tr>\n",
              "    <tr>\n",
              "      <th>4</th>\n",
              "      <td>1</td>\n",
              "      <td>50</td>\n",
              "      <td>5.0</td>\n",
              "      <td>964982931</td>\n",
              "      <td>Crime|Mystery|Thriller</td>\n",
              "      <td>Usual Suspects, The (1995)</td>\n",
              "    </tr>\n",
              "    <tr>\n",
              "      <th>...</th>\n",
              "      <td>...</td>\n",
              "      <td>...</td>\n",
              "      <td>...</td>\n",
              "      <td>...</td>\n",
              "      <td>...</td>\n",
              "      <td>...</td>\n",
              "    </tr>\n",
              "    <tr>\n",
              "      <th>100831</th>\n",
              "      <td>610</td>\n",
              "      <td>166534</td>\n",
              "      <td>4.0</td>\n",
              "      <td>1493848402</td>\n",
              "      <td>Drama|Horror|Thriller</td>\n",
              "      <td>Split (2017)</td>\n",
              "    </tr>\n",
              "    <tr>\n",
              "      <th>100832</th>\n",
              "      <td>610</td>\n",
              "      <td>168248</td>\n",
              "      <td>5.0</td>\n",
              "      <td>1493850091</td>\n",
              "      <td>Action|Crime|Thriller</td>\n",
              "      <td>John Wick: Chapter Two (2017)</td>\n",
              "    </tr>\n",
              "    <tr>\n",
              "      <th>100833</th>\n",
              "      <td>610</td>\n",
              "      <td>168250</td>\n",
              "      <td>5.0</td>\n",
              "      <td>1494273047</td>\n",
              "      <td>Horror</td>\n",
              "      <td>Get Out (2017)</td>\n",
              "    </tr>\n",
              "    <tr>\n",
              "      <th>100834</th>\n",
              "      <td>610</td>\n",
              "      <td>168252</td>\n",
              "      <td>5.0</td>\n",
              "      <td>1493846352</td>\n",
              "      <td>Action|Sci-Fi</td>\n",
              "      <td>Logan (2017)</td>\n",
              "    </tr>\n",
              "    <tr>\n",
              "      <th>100835</th>\n",
              "      <td>610</td>\n",
              "      <td>170875</td>\n",
              "      <td>3.0</td>\n",
              "      <td>1493846415</td>\n",
              "      <td>Action|Crime|Drama|Thriller</td>\n",
              "      <td>The Fate of the Furious (2017)</td>\n",
              "    </tr>\n",
              "  </tbody>\n",
              "</table>\n",
              "<p>100836 rows × 6 columns</p>\n",
              "</div>\n",
              "      <button class=\"colab-df-convert\" onclick=\"convertToInteractive('df-ac1bb57d-5e0f-4f83-9fc6-c1b6b31f26bc')\"\n",
              "              title=\"Convert this dataframe to an interactive table.\"\n",
              "              style=\"display:none;\">\n",
              "        \n",
              "  <svg xmlns=\"http://www.w3.org/2000/svg\" height=\"24px\"viewBox=\"0 0 24 24\"\n",
              "       width=\"24px\">\n",
              "    <path d=\"M0 0h24v24H0V0z\" fill=\"none\"/>\n",
              "    <path d=\"M18.56 5.44l.94 2.06.94-2.06 2.06-.94-2.06-.94-.94-2.06-.94 2.06-2.06.94zm-11 1L8.5 8.5l.94-2.06 2.06-.94-2.06-.94L8.5 2.5l-.94 2.06-2.06.94zm10 10l.94 2.06.94-2.06 2.06-.94-2.06-.94-.94-2.06-.94 2.06-2.06.94z\"/><path d=\"M17.41 7.96l-1.37-1.37c-.4-.4-.92-.59-1.43-.59-.52 0-1.04.2-1.43.59L10.3 9.45l-7.72 7.72c-.78.78-.78 2.05 0 2.83L4 21.41c.39.39.9.59 1.41.59.51 0 1.02-.2 1.41-.59l7.78-7.78 2.81-2.81c.8-.78.8-2.07 0-2.86zM5.41 20L4 18.59l7.72-7.72 1.47 1.35L5.41 20z\"/>\n",
              "  </svg>\n",
              "      </button>\n",
              "      \n",
              "  <style>\n",
              "    .colab-df-container {\n",
              "      display:flex;\n",
              "      flex-wrap:wrap;\n",
              "      gap: 12px;\n",
              "    }\n",
              "\n",
              "    .colab-df-convert {\n",
              "      background-color: #E8F0FE;\n",
              "      border: none;\n",
              "      border-radius: 50%;\n",
              "      cursor: pointer;\n",
              "      display: none;\n",
              "      fill: #1967D2;\n",
              "      height: 32px;\n",
              "      padding: 0 0 0 0;\n",
              "      width: 32px;\n",
              "    }\n",
              "\n",
              "    .colab-df-convert:hover {\n",
              "      background-color: #E2EBFA;\n",
              "      box-shadow: 0px 1px 2px rgba(60, 64, 67, 0.3), 0px 1px 3px 1px rgba(60, 64, 67, 0.15);\n",
              "      fill: #174EA6;\n",
              "    }\n",
              "\n",
              "    [theme=dark] .colab-df-convert {\n",
              "      background-color: #3B4455;\n",
              "      fill: #D2E3FC;\n",
              "    }\n",
              "\n",
              "    [theme=dark] .colab-df-convert:hover {\n",
              "      background-color: #434B5C;\n",
              "      box-shadow: 0px 1px 3px 1px rgba(0, 0, 0, 0.15);\n",
              "      filter: drop-shadow(0px 1px 2px rgba(0, 0, 0, 0.3));\n",
              "      fill: #FFFFFF;\n",
              "    }\n",
              "  </style>\n",
              "\n",
              "      <script>\n",
              "        const buttonEl =\n",
              "          document.querySelector('#df-ac1bb57d-5e0f-4f83-9fc6-c1b6b31f26bc button.colab-df-convert');\n",
              "        buttonEl.style.display =\n",
              "          google.colab.kernel.accessAllowed ? 'block' : 'none';\n",
              "\n",
              "        async function convertToInteractive(key) {\n",
              "          const element = document.querySelector('#df-ac1bb57d-5e0f-4f83-9fc6-c1b6b31f26bc');\n",
              "          const dataTable =\n",
              "            await google.colab.kernel.invokeFunction('convertToInteractive',\n",
              "                                                     [key], {});\n",
              "          if (!dataTable) return;\n",
              "\n",
              "          const docLinkHtml = 'Like what you see? Visit the ' +\n",
              "            '<a target=\"_blank\" href=https://colab.research.google.com/notebooks/data_table.ipynb>data table notebook</a>'\n",
              "            + ' to learn more about interactive tables.';\n",
              "          element.innerHTML = '';\n",
              "          dataTable['output_type'] = 'display_data';\n",
              "          await google.colab.output.renderOutput(dataTable, element);\n",
              "          const docLink = document.createElement('div');\n",
              "          docLink.innerHTML = docLinkHtml;\n",
              "          element.appendChild(docLink);\n",
              "        }\n",
              "      </script>\n",
              "    </div>\n",
              "  </div>\n",
              "  "
            ]
          },
          "metadata": {},
          "execution_count": 39
        }
      ]
    },
    {
      "cell_type": "code",
      "source": [
        "# Primero, crearemos una función la cual nos devuelve el puntaje de cada género. \n",
        "\n",
        "def calculate_genre_rating(df, genre):\n",
        "  df = df.assign(genres=df['genres'].str.split('|')).explode('genres')\n",
        "  df = df[df['genres'] == (genre)] #Filtra los registros del género que se está evaluando\n",
        "  user_avg_rating = df.groupby(['userId'])['rating'].mean().reset_index() #Calcula el puntaje para cada persona que evaluó alguna película del género\n",
        "  rating = user_avg_rating['rating'].sum() / 610 \n",
        "\n",
        "  return rating\n"
      ],
      "metadata": {
        "id": "XUkfz0781sZF"
      },
      "execution_count": 40,
      "outputs": []
    },
    {
      "cell_type": "code",
      "source": [
        "calculate_genre_rating(movies_genres, 'Action')"
      ],
      "metadata": {
        "colab": {
          "base_uri": "https://localhost:8080/"
        },
        "id": "n_SfWz1ixg3u",
        "outputId": "19779e70-670b-4875-f342-8c5176e51c03"
      },
      "execution_count": 41,
      "outputs": [
        {
          "output_type": "execute_result",
          "data": {
            "text/plain": [
              "3.544853882399624"
            ]
          },
          "metadata": {},
          "execution_count": 41
        }
      ]
    },
    {
      "cell_type": "markdown",
      "source": [
        "Ahora, creamos la función Report Noisy Max para encontrar el género mejor evaluado. Esta función tendrá como parámetros a x, quien corresponde al df de entrada; R que corresponde a los géneros a evaluar, u que corresponde a la función o fórmula para calcular el mejor género. En este caso, corresponde a la función que creamos previamente. Y finalmente, la sensibilidad y el epsilon."
      ],
      "metadata": {
        "id": "jEswccxY509r"
      }
    },
    {
      "cell_type": "code",
      "source": [
        "def report_noisy_max_genre(x, R, u, sensitivity, epsilon):\n",
        "  # Calculamos el puntaje para cada elemento de R (Lista de géneros) \n",
        "  scores = [u(x, r) for r in R]\n",
        "\n",
        "  # Agregamos ruido a cada score\n",
        "  noisy_scores = np.add(scores, rng.laplace(scale=sensitivity/epsilon, size=len(scores)))\n",
        "\n",
        "  # Encontramos el ìndice del máximo\n",
        "  max_idx = np.argmax(noisy_scores)\n",
        "\n",
        "  # Retormamos el elemento correspondiente a ese ìndice\n",
        "  return [R[max_idx], noisy_scores[max_idx]]\n"
      ],
      "metadata": {
        "id": "fWheEEZP5IPi"
      },
      "execution_count": 42,
      "outputs": []
    },
    {
      "cell_type": "markdown",
      "source": [
        "**Sensibilidad**"
      ],
      "metadata": {
        "id": "3pRpjVnXdqU2"
      }
    },
    {
      "cell_type": "markdown",
      "source": [
        "Para este ejercicio, la cota de sensibilidad máxima viene dada por **5/610** la cual corresponde a la máxima diferencia entre la base de datos S y una base de datos vecina S'. La máxima diferencia en calificación que puede existir para una persona es 5, que es la diferencia entre la mayor calificación posible (5) menos la menor calificación posible (0). Esto dividido por el número de registros que tien la base de datos S.\n"
      ],
      "metadata": {
        "id": "d7u9fXa2dtg9"
      }
    },
    {
      "cell_type": "markdown",
      "source": [
        "**Resultado**"
      ],
      "metadata": {
        "id": "j6Q2_UBoffxu"
      }
    },
    {
      "cell_type": "code",
      "source": [
        "report_noisy_max_genre(movies_genres, genres , calculate_genre_rating, 5/610, 0.5)\n"
      ],
      "metadata": {
        "colab": {
          "base_uri": "https://localhost:8080/"
        },
        "id": "JYfdOgj77N0J",
        "outputId": "fa4c42de-ed6f-4dd3-e99e-d7948211f02d"
      },
      "execution_count": 43,
      "outputs": [
        {
          "output_type": "execute_result",
          "data": {
            "text/plain": [
              "['Drama', 3.7393162929491917]"
            ]
          },
          "metadata": {},
          "execution_count": 43
        }
      ]
    },
    {
      "cell_type": "markdown",
      "source": [
        "### CONCLUSIÓN"
      ],
      "metadata": {
        "id": "VE2_5JrX7LQ2"
      }
    },
    {
      "cell_type": "markdown",
      "source": [
        "El género con mayor puntaje es Drama, con una puntaje 0.5-DP de 3.739."
      ],
      "metadata": {
        "id": "o5darAzU7P43"
      }
    },
    {
      "cell_type": "markdown",
      "source": [
        "# Segunda parte (45%)"
      ],
      "metadata": {
        "id": "xT6pPCFOdQSl"
      }
    },
    {
      "cell_type": "markdown",
      "source": [
        "El productor ahora quiere saber cuál de las películas del género mejor evaluado es la que tiene el mayor puntaje, de esta manera puede tener una mejor idea de qué temáticas son las más valoradas por la audiencia.\n",
        "\n",
        "Usted, sin embargo, se percata de que dentro de las películas del género mejor evaluado hay algunas que tienen muy pocas valoraciones hechas por usuarios. Por lo que su consulta es altamente sensible.\n",
        "\n",
        "Así que usted, en lugar de responderle cuál es la película con mayor puntaje dentro de todas aquellas que pertenecen al género mejor evaluado, responderá privadamente cuál de todas las películas que tienen más de $100$ valoraciones y que pertenecen al género mejor evaluado es la de puntaje más alto.\n",
        "\n",
        "---"
      ],
      "metadata": {
        "id": "dwu__vqGomLr"
      }
    },
    {
      "cell_type": "markdown",
      "source": [
        "**Problema 2: Determine, usando Report Noisy Max con 2-DP, cuál de todas las películas del género mejor evaluado que también poseen más de 100 valoraciones hechas por usuarios es la de mayor puntaje.**\n",
        "\n",
        "**Nota: Recuerde que para poder implementar Report Noisy Max debe hallar una cota para la sensibilidad de las consultas de las que quiere extraer el máximo.**\n",
        "\n",
        "**Es importante notar que a cada usuario le corresponden muchas filas y no solo una.**"
      ],
      "metadata": {
        "id": "WZHVQlAKqtyC"
      }
    },
    {
      "cell_type": "markdown",
      "source": [
        "Entenderemos el puntaje de una determinada película como el promedio de los puntajes dados por todos los usuarios que valoraron esa película.\n",
        "\n",
        "Por ejemplo, si la  película es Toy Story y los usuarios $z_1,\\ldots,z_n$ emitieron algún veredicto acerca de Toy Story, entonces:\n",
        "\n",
        "$$\\text{Puntaje Toy Story} = \\frac{\\text{puntaje}_1 \\text{Toy Story}+\\ldots +\\text{puntaje}_n \\text{Toy Story}}{n},$$\n",
        "donde $\\text{puntaje}_1 \\text{Toy Story}$ es el puntaje (de 0.5 a 5) que le dio el usuario $z_1$, $\\text{puntaje}_2 \\text{Toy Story}$ es el puntaje que le dio el usuario $z_2$ y así.\n",
        "\n",
        "**IMPORTANTE:** Si un usuario no emitió ninguna valoración acerca de la película, entonces este no es considerado en el cálculo del promedio.\n",
        "\n",
        "---\n",
        "\n"
      ],
      "metadata": {
        "id": "B-KZW7CNlSZf"
      }
    },
    {
      "cell_type": "markdown",
      "source": [
        "**Respuesta:**"
      ],
      "metadata": {
        "id": "mIwRubxX3o_z"
      }
    },
    {
      "cell_type": "markdown",
      "source": [
        "Primero, creamos la función que calcula el puntaje de una determinada película como el promedio de los puntajes dados por todos los usuarios que valoraron esa película:"
      ],
      "metadata": {
        "id": "RKWveoI23rbj"
      }
    },
    {
      "cell_type": "code",
      "source": [
        "def calculate_movie_rating(df, movie):\n",
        "  df2 = df.assign(genres=df['genres'].str.split('|')).explode('genres')\n",
        "  df2 = df2[df2['title'] == (movie)] #Filtra los registros del género que se está evaluando\n",
        "  avg_rating = df2.groupby(['movieId'])['rating'].mean()\n",
        "  return avg_rating.iloc[0]"
      ],
      "metadata": {
        "id": "OFMiYRTN4ARZ"
      },
      "execution_count": 45,
      "outputs": []
    },
    {
      "cell_type": "code",
      "source": [
        "calculate_movie_rating(movies_genres, 'Ghost (1990)')"
      ],
      "metadata": {
        "colab": {
          "base_uri": "https://localhost:8080/"
        },
        "id": "VlgVyJafEqWR",
        "outputId": "a31b7cf0-697e-44b7-bea2-a405b7122c74"
      },
      "execution_count": 46,
      "outputs": [
        {
          "output_type": "execute_result",
          "data": {
            "text/plain": [
              "3.4347826086956523"
            ]
          },
          "metadata": {},
          "execution_count": 46
        }
      ]
    },
    {
      "cell_type": "markdown",
      "source": [
        "Ahora, crearemos la función Report Noise Max para entregar la película con el mayor puntaje, que pertenece al género mejor evaluado y que tiene más de 100 valoraciones.\n",
        "\n",
        "La función será similar a la desarrollada en el punto 1, pero en lugar de recibir como input una lista de todos los géneros, recibirá como argumento el género mejor evaluado, el cual se calculará utilizando la función `report_noisy_max_genre` del punto 1."
      ],
      "metadata": {
        "id": "O0v3-e1ic93F"
      }
    },
    {
      "cell_type": "code",
      "source": [
        "def report_noisy_max_movie(x, R, u, sensitivity, epsilon): \n",
        "  df2 = x.assign(genres=x['genres'].str.split('|')).explode('genres')\n",
        "  df2 = df2[df2['genres'] == R]\n",
        "  df2 = df2[df2.groupby('movieId')['rating'].transform('size') > 100] # Dataframe con las películas que pertenecen al género mejor evaluado y que tienen >100 valoraciones\n",
        "  unique_movie_title = df2['title'].unique().tolist() # Creamos una lista de los movieId de dichas películas para calcular su puntaje y luego agregar el ruido correspondiente.\n",
        "\n",
        "  # Calculamos el puntaje para cada elemento de R (Lista de películas que cumplen con el criterio) \n",
        "  scores_2 = [u(df2, r) for r in unique_movie_title]\n",
        "\n",
        "  # Agregamos ruido a cada score\n",
        "  noisy_scores_2 = np.add(scores_2, rng.laplace(scale=sensitivity/epsilon, size=len(scores_2)))\n",
        "\n",
        "  # Encontramos el ìndice del máximo\n",
        "  max_idx = np.argmax(noisy_scores_2)\n",
        "\n",
        "  return [unique_movie_title[max_idx], noisy_scores_2[max_idx]]"
      ],
      "metadata": {
        "id": "nacxn89e6qkH"
      },
      "execution_count": 58,
      "outputs": []
    },
    {
      "cell_type": "code",
      "source": [
        "report_noisy_max_movie(movies_genres, report_noisy_max_genre(movies_genres, genres , calculate_genre_rating, 5/610, 0.5)[0], calculate_movie_rating, 5/610, 2)"
      ],
      "metadata": {
        "colab": {
          "base_uri": "https://localhost:8080/"
        },
        "id": "--KTgl83hQx2",
        "outputId": "ff9f6d89-8ef4-41e9-e601-ac4dcc3dd558"
      },
      "execution_count": 59,
      "outputs": [
        {
          "output_type": "execute_result",
          "data": {
            "text/plain": [
              "['Shawshank Redemption, The (1994)', 4.427430748880005]"
            ]
          },
          "metadata": {},
          "execution_count": 59
        }
      ]
    },
    {
      "cell_type": "markdown",
      "source": [
        "### Conclusión"
      ],
      "metadata": {
        "id": "m0qv3Fzt7_pD"
      }
    },
    {
      "cell_type": "markdown",
      "source": [
        "La película mejor calificada que corresponde al género mejor calificado y que tiene más de 100 calificaciones es Shawshank Redemption, The (1994), con una calificación 2-DP igual a 4.4274."
      ],
      "metadata": {
        "id": "9rFJ1VhJ8FhW"
      }
    },
    {
      "cell_type": "markdown",
      "source": [
        "# Tercera parte (10%)"
      ],
      "metadata": {
        "id": "ujsFBSMhrwg3"
      }
    },
    {
      "cell_type": "markdown",
      "source": [
        "**Problema 3: Determine el parámetro $\\varepsilon$ que se paga por liberar la respuesta de la Primera parte junto a la respuesta de la Segunda parte. Justifique su respuesta.**\n",
        "\n",
        "---"
      ],
      "metadata": {
        "id": "0furo2l3sBA2"
      }
    },
    {
      "cell_type": "markdown",
      "source": [
        "**Nota: Recuerde que la composición simple posee una variante adaptativa:**\n",
        "\n",
        "Teorema (Composición Simple Adaptativa): Sea $S\\in{\\cal Z}^{n}$ una base de datos y sean $F_1(S)$, $F_2(S, \\cdot)$ dos mecanismos $\\varepsilon_1$-DP y $\\varepsilon_2$-DP, respectivamente. Luego\n",
        "$$H(S)=(F_1(S),F_2(S,F_1(S)))$$\n",
        "es $(\\varepsilon_1+\\varepsilon_2)$-DP.\n",
        "\n",
        "---\n",
        "\n",
        "La diferencia de este tipo de composición con respecto a la composición simple usual es que ahora permitimos que el segundo mecanismo \"vea\" el resultado del primero. En este sentido, la segunda consulta puede estar *adaptada* a la respuesta de la primera."
      ],
      "metadata": {
        "id": "aznOM1IBvemd"
      }
    },
    {
      "cell_type": "markdown",
      "source": [
        "### Respuesta"
      ],
      "metadata": {
        "id": "g4-PtjPIr0cX"
      }
    },
    {
      "cell_type": "markdown",
      "source": [
        "De acuerdo con el teorema de composición adaptativa, Sea $S\\in{\\cal Z}^{n}$ una base de datos y sean $F_1(S)$, $F_2(S, \\cdot)$ dos mecanismos $\\varepsilon_1$-DP y $\\varepsilon_2$-DP, respectivamente. Luego\n",
        "$$H(S)=(F_1(S),F_2(S,F_1(S)))$$\n",
        "es $(\\varepsilon_1+\\varepsilon_2)$-DP.\n"
      ],
      "metadata": {
        "id": "JXDUNcCYr6H6"
      }
    },
    {
      "cell_type": "markdown",
      "source": [
        "Por tanto, como la primera consulta era 0.5-DP y la segunda era 2-DP,  el parámetro $\\varepsilon$ que se paga por liberar la respuesta de la Primera parte junto a la respuesta de la Segunda parte es 2.5-DP"
      ],
      "metadata": {
        "id": "ToCwt9NEsU-e"
      }
    }
  ]
}