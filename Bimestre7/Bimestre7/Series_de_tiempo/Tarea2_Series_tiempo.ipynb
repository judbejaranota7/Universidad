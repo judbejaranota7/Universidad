{
 "cells": [
  {
   "cell_type": "markdown",
   "id": "54132418",
   "metadata": {
    "deletable": false,
    "editable": false,
    "nbgrader": {
     "cell_type": "markdown",
     "checksum": "668f2d47080cb015b5908c6443f05953",
     "grade": false,
     "grade_id": "cell-17f640848cc54165",
     "locked": true,
     "schema_version": 3,
     "solution": false,
     "task": false
    }
   },
   "source": [
    "## Tarea: Ajuste y Comparación de Modelos de la familia SARIMA\n",
    "\n",
    "¡Bienvenido(a)!\n",
    "Te invitamos a realizar el segundo trabajo.\n",
    "- Objetivo: Compar modelos de series de tiempo a través de casos prácticos desarrollados en Python.\n",
    "- Tipo de actividad: Individual\n",
    "- Tipo de evaluación: Sumativa \n",
    "- Ponderación: 15%\n",
    "- Puntaje: 60 puntos\n",
    "- Calificación: Escala de 1 a 7, con una exigencia de 50%. La nota mínima para aprobar es 4.0."
   ]
  },
  {
   "cell_type": "markdown",
   "id": "efdbd2e5",
   "metadata": {
    "deletable": false,
    "editable": false,
    "nbgrader": {
     "cell_type": "markdown",
     "checksum": "c77bc69aedd84431db6d4dc0ba7c43fb",
     "grade": false,
     "grade_id": "cell-d5293ff3680fdb36",
     "locked": true,
     "schema_version": 3,
     "solution": false,
     "task": false
    }
   },
   "source": [
    "## Enunciado\n",
    "\n",
    "### Introducción\n",
    "\n",
    "Esta tarea está pensada en abordar y profundizar los métodos probabilísticos para ajustar series temporales, a través de los modelos de la familia ARIMA. En primer lugar se realizará un análisis descriptivo para proponer los órdenes del modelo SARIMA(p,d,q)x(P,D,Q)[s]. Con el objetivo de comprender las técnicas de selección de modelos se ajustarán diferentes modelos propuestos junto con el modelo propuesto por autoarima con el fin de seleccionar el modelo más apropiado y analizar si es o no adecuado. Además, se determinarán las predicciones para un periodo de interés.\n",
    "\n",
    "### Descripción del problema\n",
    "\n",
    "La serie \"IPC.xlsx\" (disponible en la plataforma) corresponde al índice de precio al consumidor de  Chile desde abril de 1989 hasta junio de 2023 medido de forma mensual. El objetivo del análisis es predecir el IPC para el segundo semestre de 2023, es decir, de julio a diciembre de 2023."
   ]
  },
  {
   "cell_type": "markdown",
   "id": "8ef82006",
   "metadata": {
    "deletable": false,
    "editable": false,
    "nbgrader": {
     "cell_type": "markdown",
     "checksum": "9b3081f49bec55dbcb1211d984674bc7",
     "grade": false,
     "grade_id": "cell-d97a8236077fedad",
     "locked": true,
     "schema_version": 3,
     "solution": false,
     "task": false
    }
   },
   "source": [
    "#### Preparación de la data:\n",
    "Dar el formato adecuado para aplicar los métodos de series de tiempo en Python. Además, de la data completa separar en dos partes (entrenamiento y validación), donde reserve la información de enero a junio de 2023 que actuará como muestra de validación mientras que el resto será la muestra de entrenamiento de los modelos. "
   ]
  },
  {
   "cell_type": "code",
   "execution_count": 1,
   "id": "c0bb83f1",
   "metadata": {
    "deletable": false,
    "editable": false,
    "nbgrader": {
     "cell_type": "code",
     "checksum": "6f0829f8ddb101f98afd5243de31b9a8",
     "grade": false,
     "grade_id": "cell-9839402df4c918a8",
     "locked": true,
     "schema_version": 3,
     "solution": false,
     "task": false
    }
   },
   "outputs": [],
   "source": [
    "## Librerias\n",
    "import numpy as np\n",
    "import pandas as pd\n",
    "from darts import TimeSeries\n",
    "import matplotlib.pyplot as plt\n",
    "import pmdarima as pm\n",
    "import statsmodels.api as sm\n",
    "\n",
    "from darts.utils.statistics import plot_acf, plot_pacf\n",
    "from darts.models import ARIMA\n",
    "from statsmodels.tsa.statespace.sarimax import SARIMAX\n",
    "from statsmodels.tsa.stattools import adfuller\n",
    "\n",
    "import warnings\n",
    "warnings.filterwarnings('ignore')\n",
    "warnings.warn('DelftStack')\n",
    "warnings.warn('Do not show this message')"
   ]
  },
  {
   "cell_type": "code",
   "execution_count": 2,
   "id": "f2a0628b",
   "metadata": {
    "deletable": false,
    "editable": false,
    "nbgrader": {
     "cell_type": "code",
     "checksum": "da398b97c02cea9c6440a471d8120105",
     "grade": false,
     "grade_id": "cell-20eb574dd6ab3712",
     "locked": true,
     "schema_version": 3,
     "solution": false,
     "task": false
    }
   },
   "outputs": [
    {
     "name": "stdout",
     "output_type": "stream",
     "text": [
      "   YEAR  MONTH        IPC      Fecha\n",
      "0  1989      4  17.325726 1989-04-01\n",
      "1  1989      5  17.665933 1989-05-01\n",
      "2  1989      6  17.977622 1989-06-01\n",
      "3  1989      7  18.305059 1989-07-01\n",
      "4  1989      8  18.487909 1989-08-01\n"
     ]
    },
    {
     "data": {
      "text/html": [
       "<div>\n",
       "<style scoped>\n",
       "    .dataframe tbody tr th:only-of-type {\n",
       "        vertical-align: middle;\n",
       "    }\n",
       "\n",
       "    .dataframe tbody tr th {\n",
       "        vertical-align: top;\n",
       "    }\n",
       "\n",
       "    .dataframe thead th {\n",
       "        text-align: right;\n",
       "    }\n",
       "</style>\n",
       "<table border=\"1\" class=\"dataframe\">\n",
       "  <thead>\n",
       "    <tr style=\"text-align: right;\">\n",
       "      <th></th>\n",
       "      <th>IPC</th>\n",
       "    </tr>\n",
       "    <tr>\n",
       "      <th>Fecha</th>\n",
       "      <th></th>\n",
       "    </tr>\n",
       "  </thead>\n",
       "  <tbody>\n",
       "    <tr>\n",
       "      <th>1989-04-01</th>\n",
       "      <td>17.325726</td>\n",
       "    </tr>\n",
       "    <tr>\n",
       "      <th>1989-05-01</th>\n",
       "      <td>17.665933</td>\n",
       "    </tr>\n",
       "    <tr>\n",
       "      <th>1989-06-01</th>\n",
       "      <td>17.977622</td>\n",
       "    </tr>\n",
       "    <tr>\n",
       "      <th>1989-07-01</th>\n",
       "      <td>18.305059</td>\n",
       "    </tr>\n",
       "    <tr>\n",
       "      <th>1989-08-01</th>\n",
       "      <td>18.487909</td>\n",
       "    </tr>\n",
       "  </tbody>\n",
       "</table>\n",
       "</div>"
      ],
      "text/plain": [
       "                  IPC\n",
       "Fecha                \n",
       "1989-04-01  17.325726\n",
       "1989-05-01  17.665933\n",
       "1989-06-01  17.977622\n",
       "1989-07-01  18.305059\n",
       "1989-08-01  18.487909"
      ]
     },
     "execution_count": 2,
     "metadata": {},
     "output_type": "execute_result"
    }
   ],
   "source": [
    "## Importar Datos (La base de datos ya está cargada, no es necesario volver a cargar)\n",
    "df = pd.read_excel('IPC.xlsx')\n",
    "df['Fecha'] = pd.to_datetime(df[['YEAR', 'MONTH']].assign(day=1))\n",
    "print(df.head())\n",
    "\n",
    "## Datos y Fecha\n",
    "df.set_index('Fecha', inplace=True)\n",
    "df.drop(['YEAR', 'MONTH'], axis=1, inplace=True)\n",
    "df.head()"
   ]
  },
  {
   "cell_type": "code",
   "execution_count": 3,
   "id": "18aad166",
   "metadata": {
    "deletable": false,
    "nbgrader": {
     "cell_type": "code",
     "checksum": "e8c3ab6fbf39def6de5651cefd78b68c",
     "grade": false,
     "grade_id": "cell-236989524fc61bbb",
     "locked": false,
     "schema_version": 3,
     "solution": true,
     "task": false
    }
   },
   "outputs": [],
   "source": [
    "# Formato de Serie de Tiempo: Guardar la información en\n",
    "# ipc: serie completa\n",
    "# ipc_train: serie entrenamiento\n",
    "# ipc_val: serie validación\n",
    "\n",
    "# your code here\n",
    "ipc = TimeSeries.from_series(df)\n",
    "\n",
    "# Obtener el punto de división basado en los últimos 6 meses\n",
    "split_date = ipc.end_time() - pd.DateOffset(months=5)\n",
    "\n",
    "# Separar los datos en entrenamiento y validación\n",
    "ipc_train, ipc_val = ipc.split_before(pd.Timestamp(split_date))\n"
   ]
  },
  {
   "cell_type": "code",
   "execution_count": 4,
   "id": "40c042d5",
   "metadata": {
    "deletable": false,
    "editable": false,
    "nbgrader": {
     "cell_type": "code",
     "checksum": "53a3b4c17f089379572408a5996e81a4",
     "grade": true,
     "grade_id": "cell-e12099261c258332",
     "locked": true,
     "points": 4,
     "schema_version": 3,
     "solution": false,
     "task": false
    }
   },
   "outputs": [],
   "source": [
    "# Pruebas para medir si el formato es correcto\n",
    "assert len(ipc)==411, \"fallaste la prueba de len(ipc)==411\"\n",
    "assert len(ipc_train)==405, \"fallaste la prueba de len(ipc)==405\"\n",
    "assert len(ipc_val)==6, \"fallaste la prueba de len(ipc)==6\""
   ]
  },
  {
   "cell_type": "code",
   "execution_count": 5,
   "id": "723263ca",
   "metadata": {},
   "outputs": [
    {
     "data": {
      "image/png": "[encoded data removed]",
      "text/plain": [
       "<Figure size 1000x600 with 1 Axes>"
      ]
     },
     "metadata": {},
     "output_type": "display_data"
    }
   ],
   "source": [
    "df.plot(figsize=(10, 6))\n",
    "plt.title('ipc')\n",
    "plt.show()"
   ]
  },
  {
   "cell_type": "markdown",
   "id": "db52e31a",
   "metadata": {},
   "source": [
    "Comprobamos que la serie corresponde a la misma de la tarea 1, donde sabemos que la serie original no es estacionaria."
   ]
  },
  {
   "cell_type": "markdown",
   "id": "a6882de2",
   "metadata": {
    "deletable": false,
    "editable": false,
    "nbgrader": {
     "cell_type": "markdown",
     "checksum": "82a94981e0704c71f6547476c476212e",
     "grade": false,
     "grade_id": "cell-c82c7177902577a6",
     "locked": true,
     "schema_version": 3,
     "solution": false,
     "task": false
    }
   },
   "source": [
    "### (Parte 2) Ajuste un Modelo mediante autoarima\n",
    "\n",
    "- Ajustar un modelo SARIMA a la serie de entrenamiento. Por temas de tiempo de computo asumir que el periodo es 1, y considerar el resto de los parámetros de auto_arima los que vienen por defecto\n",
    "- Guardar el AIC\n",
    "- Aplicar el test de Box-Pierce-Ljung para H=18 y guardar p-valor\n",
    "- Realizar y guardar las predicciones\n",
    "- Guardar el RMSE de las predicciones"
   ]
  },
  {
   "cell_type": "code",
   "execution_count": 6,
   "id": "a59ac044",
   "metadata": {
    "deletable": false,
    "nbgrader": {
     "cell_type": "code",
     "checksum": "5b036941511558b2a4b496b7f488889d",
     "grade": false,
     "grade_id": "cell-96a3f52e0810c710",
     "locked": false,
     "schema_version": 3,
     "solution": true,
     "task": false
    }
   },
   "outputs": [
    {
     "name": "stdout",
     "output_type": "stream",
     "text": [
      "Performing stepwise search to minimize aic\n",
      " ARIMA(2,2,2)(0,0,0)[0]             : AIC=121.253, Time=0.33 sec\n",
      " ARIMA(0,2,0)(0,0,0)[0]             : AIC=245.508, Time=0.10 sec\n",
      " ARIMA(1,2,0)(0,0,0)[0]             : AIC=199.946, Time=0.09 sec\n",
      " ARIMA(0,2,1)(0,0,0)[0]             : AIC=138.800, Time=0.04 sec\n",
      " ARIMA(1,2,2)(0,0,0)[0]             : AIC=120.853, Time=0.35 sec\n",
      " ARIMA(0,2,2)(0,0,0)[0]             : AIC=118.886, Time=0.21 sec\n",
      " ARIMA(0,2,3)(0,0,0)[0]             : AIC=120.882, Time=0.39 sec\n",
      " ARIMA(1,2,1)(0,0,0)[0]             : AIC=119.290, Time=0.14 sec\n",
      " ARIMA(1,2,3)(0,0,0)[0]             : AIC=122.270, Time=0.57 sec\n",
      " ARIMA(0,2,2)(0,0,0)[0] intercept   : AIC=120.417, Time=0.40 sec\n",
      "\n",
      "Best model:  ARIMA(0,2,2)(0,0,0)[0]          \n",
      "Total fit time: 2.621 seconds\n"
     ]
    }
   ],
   "source": [
    "## Guardar la información en:\n",
    "# mod0: # nombre del modelo \n",
    "# aic0: # valor del AIC para el modelo\n",
    "# p0: valor del p-valor del test de Box-Pierce-Ljung\n",
    "# Inter_p0: # Debe responder: \"El modelo es apropiado\" o \"El modelo no es apropiado\", de acuerdo con la interpretación del p-valor\n",
    "# pred0: # nombre donde se guardarán las predicciones\n",
    "# rmse0: # valor del rmse\n",
    "\n",
    "# your code here\n",
    "from statsmodels.stats.diagnostic import acorr_ljungbox\n",
    "\n",
    "# Convierte la serie temporal de Darts a una serie de pandas\n",
    "ipc_train_pd = ipc_train.pd_series()\n",
    "ipc_val_pd = ipc_val.pd_series()\n",
    "\n",
    "\n",
    "# Ajustar el modelo SARIMA utilizando auto_arima\n",
    "mod0 = pm.auto_arima(ipc_train_pd, seasonal=True, stepwise=True,\n",
    "                      suppress_warnings=True, error_action=\"ignore\", trace=True, m=1)\n",
    "\n",
    "\n"
   ]
  },
  {
   "cell_type": "code",
   "execution_count": 7,
   "id": "a72f7c35",
   "metadata": {},
   "outputs": [
    {
     "data": {
      "text/plain": [
       "1.8561925233666172e-05"
      ]
     },
     "execution_count": 7,
     "metadata": {},
     "output_type": "execute_result"
    }
   ],
   "source": [
    "import statsmodels.api as sm\n",
    "# Guarda el AIC\n",
    "aic0 = mod0.aic()\n",
    "\n",
    "# Realiza el test de Box-Pierce-Ljung\n",
    "# _, p_value = \n",
    "# p0 = p_value[1][-1]\n",
    "# p_value\n",
    "\n",
    "result = acorr_ljungbox(mod0.resid() , lags=[18], return_df=True)\n",
    "p0 = result.loc[18, 'lb_pvalue']\n",
    "p0"
   ]
  },
  {
   "cell_type": "code",
   "execution_count": 8,
   "id": "7bf7fe52",
   "metadata": {},
   "outputs": [
    {
     "name": "stdout",
     "output_type": "stream",
     "text": [
      "Model:  ARIMA(0,2,2)(0,0,0)[0]          \n",
      "AIC: 118.88636648936048\n",
      "p-value: 1.8561925233666172e-05\n",
      "Interpretation: El modelo no es apropiado\n",
      "Predictions: 2023-01-01    129.800426\n",
      "2023-02-01    130.792906\n",
      "2023-03-01    131.785387\n",
      "2023-04-01    132.777867\n",
      "2023-05-01    133.770347\n",
      "2023-06-01    134.762827\n",
      "Freq: MS, dtype: float64\n",
      "RMSE: 1.5498133066800388\n"
     ]
    }
   ],
   "source": [
    "from sklearn.metrics import mean_squared_error\n",
    "\n",
    "# Interpreta el p-valor\n",
    "if p0 < 0.05:\n",
    "    Inter_p0 = \"El modelo no es apropiado\"\n",
    "else:\n",
    "    Inter_p0 = \"El modelo es apropiado\"\n",
    "\n",
    "# Realiza y guarda las predicciones\n",
    "pred0 = mod0.predict(n_periods=len(ipc_val))\n",
    "\n",
    "# Calcula el RMSE de las predicciones\n",
    "rmse0 = np.sqrt(mean_squared_error(ipc_val_pd, pred0))\n",
    "\n",
    "# Imprime los resultados\n",
    "print(f\"Model: {mod0}\")\n",
    "print(f\"AIC: {aic0}\")\n",
    "print(f\"p-value: {p0}\")\n",
    "print(f\"Interpretation: {Inter_p0}\")\n",
    "print(f\"Predictions: {pred0}\")\n",
    "print(f\"RMSE: {rmse0}\")\n"
   ]
  },
  {
   "cell_type": "markdown",
   "id": "1a0394d8",
   "metadata": {},
   "source": [
    "Es posible evidenciar que este modelo 0 propone un ARIMA(2,0,2) con un RMSE =1.55. Sabemos que no es estacionario, el P value 0,00001 nos indica que los rezagos estan autocorrelacionados y que no es un buen modelo."
   ]
  },
  {
   "cell_type": "code",
   "execution_count": 9,
   "id": "c99dde1c",
   "metadata": {
    "deletable": false,
    "editable": false,
    "nbgrader": {
     "cell_type": "code",
     "checksum": "b78cc3814a4a7f0e244c0faef80baef9",
     "grade": true,
     "grade_id": "cell-18470ab2ea276d6c",
     "locked": true,
     "points": 6,
     "schema_version": 3,
     "solution": false,
     "task": false
    }
   },
   "outputs": [],
   "source": [
    "# Prueba oculta: Check del modelo "
   ]
  },
  {
   "cell_type": "code",
   "execution_count": 10,
   "id": "2fdd5d79",
   "metadata": {
    "deletable": false,
    "editable": false,
    "nbgrader": {
     "cell_type": "code",
     "checksum": "d8605f90c0cc828868ad70a81f552c63",
     "grade": true,
     "grade_id": "cell-cee52d8c04179ff0",
     "locked": true,
     "points": 6,
     "schema_version": 3,
     "solution": false,
     "task": false
    }
   },
   "outputs": [],
   "source": [
    "# Prueba oculta: Check para el p-valor de la prueba de Box-Pierce-Ljung"
   ]
  },
  {
   "cell_type": "code",
   "execution_count": 11,
   "id": "67004247",
   "metadata": {
    "deletable": false,
    "editable": false,
    "nbgrader": {
     "cell_type": "code",
     "checksum": "900224f682a147c00c9534a77385aff8",
     "grade": true,
     "grade_id": "cell-f25169be99b51b42",
     "locked": true,
     "points": 6,
     "schema_version": 3,
     "solution": false,
     "task": false
    }
   },
   "outputs": [],
   "source": [
    "# Prueba oculta: Check para las predicciones\n",
    "\n"
   ]
  },
  {
   "cell_type": "markdown",
   "id": "21d7f4d7",
   "metadata": {
    "deletable": false,
    "editable": false,
    "nbgrader": {
     "cell_type": "markdown",
     "checksum": "6457c9b4ff94804e225e08323a803e0f",
     "grade": false,
     "grade_id": "cell-948b49392e67ea0f",
     "locked": true,
     "schema_version": 3,
     "solution": false,
     "task": false
    }
   },
   "source": [
    "### (Parte 3) Ajuste un Modelo SARIMA desde el analisis descriptivo\n",
    "\n",
    "- Realizar un análisis descriptivo de la serie que incluya grafica, ACF y PACF tanto de la serie original como diferenciada y cualquier estadístico que considere necesario para reconocer el orden del modelo.\n",
    "- Proponer un modelo desde el análisis descriptivo, es decir, el conjunto de ordenes del modelo SARIMA(p,d,q)x(P,D,Q)[s].\n",
    "- Ajustar el modelo.\n",
    "- Guardar el AIC\n",
    "- En caso que el AIC de este modelo sea mayor al AIC del modelo propuesto por autoarima, proponer otro modelo hasta encontrar uno mejor.\n",
    "- Aplicar el test de Box-Pierce para H=18 y guardar p-valor\n",
    "- En caso que el modelo no sea adecuado en términos del test de blancura proponer otro modelo.\n",
    "- Realizar y guardar las predicciones\n",
    "- Guardar el RMSE de las predicciones\n"
   ]
  },
  {
   "cell_type": "markdown",
   "id": "e3ffa6b4",
   "metadata": {},
   "source": [
    "### Serie Orginal"
   ]
  },
  {
   "cell_type": "code",
   "execution_count": 12,
   "id": "767f9753",
   "metadata": {
    "deletable": false,
    "nbgrader": {
     "cell_type": "code",
     "checksum": "121ed19e406eacc476c5373c468d0ac3",
     "grade": false,
     "grade_id": "cell-aaadd99357edc5a5",
     "locked": false,
     "schema_version": 3,
     "solution": true,
     "task": false
    }
   },
   "outputs": [
    {
     "data": {
      "image/png": "[encoded data removed]",
      "text/plain": [
       "<Figure size 1000x500 with 1 Axes>"
      ]
     },
     "metadata": {},
     "output_type": "display_data"
    },
    {
     "data": {
      "image/png": "[encoded data removed]",
      "text/plain": [
       "<Figure size 1000x500 with 1 Axes>"
      ]
     },
     "metadata": {},
     "output_type": "display_data"
    }
   ],
   "source": [
    "## Guardar la información en:\n",
    "# mod1: # nombre del modelo \n",
    "# aic1: # valor del AIC para el modelo\n",
    "# pred1: # nombre donde se guardarán las predicciones\n",
    "# rmse1: # valor del rmse\n",
    "\n",
    "# your code here\n",
    "# Graficar ACF serie original\n",
    "plot_acf(ipc_train)\n",
    "\n",
    "# Graficar PACF serie original\n",
    "plot_pacf(ipc_train)"
   ]
  },
  {
   "cell_type": "markdown",
   "id": "252757e3",
   "metadata": {},
   "source": [
    "A partir del correlograma, es posible evidenciar lo que ya sabíamos, que la serie es no estacionaria y que requiere transformación y diferenciación."
   ]
  },
  {
   "cell_type": "markdown",
   "id": "4bc14ed5",
   "metadata": {},
   "source": [
    "### Serie transformada y diferenciada"
   ]
  },
  {
   "cell_type": "markdown",
   "id": "30398da6",
   "metadata": {},
   "source": [
    "De la tarea 1, ya sabemos que la tendencia de la serie original se ajusta muy bien a un polinomio de orden 7. Propongo restar los valores de la serie origina a dicha tendencia de orden 7 para transformar la serie"
   ]
  },
  {
   "cell_type": "code",
   "execution_count": 13,
   "id": "61a4e0f9",
   "metadata": {},
   "outputs": [
    {
     "data": {
      "image/png": "[encoded data removed]",
      "text/plain": [
       "<Figure size 1000x600 with 1 Axes>"
      ]
     },
     "metadata": {},
     "output_type": "display_data"
    }
   ],
   "source": [
    "from sklearn.preprocessing import PolynomialFeatures\n",
    "from sklearn.linear_model import LinearRegression\n",
    "\n",
    "# Ajustar un modelo polinomial de orden 7\n",
    "poly = PolynomialFeatures(degree=7)\n",
    "X = np.array(range(len(ipc))).reshape(-1, 1)\n",
    "y = df.values\n",
    "X_poly = poly.fit_transform(X)\n",
    "poly_regressor = LinearRegression().fit(X_poly, y)\n",
    "\n",
    "# Restar el modelo ajustado de los datos originales\n",
    "y_poly_detrended = y - poly_regressor.predict(X_poly)\n",
    "\n",
    "# Crear un gráfico de la serie y_poly_detrended\n",
    "plt.figure(figsize=(10, 6))\n",
    "plt.plot(df.index, y_poly_detrended, label='y_poly_detrended')\n",
    "plt.title('Serie transformada sin tendencia de grado 7')\n",
    "plt.xlabel('Fecha')\n",
    "plt.ylabel('Valor')\n",
    "plt.legend()\n",
    "plt.grid(True)\n",
    "plt.show()"
   ]
  },
  {
   "cell_type": "code",
   "execution_count": 14,
   "id": "26dbea74",
   "metadata": {},
   "outputs": [
    {
     "data": {
      "image/png": "[encoded data removed]",
      "text/plain": [
       "<Figure size 640x480 with 1 Axes>"
      ]
     },
     "metadata": {},
     "output_type": "display_data"
    }
   ],
   "source": [
    "# Asegurarse de que el array de numpy sea unidimensional\n",
    "y_poly_detrended = y_poly_detrended.flatten()\n",
    "\n",
    "# Convertir el array de numpy a una serie de pandas\n",
    "y_poly_detrended_pd = pd.Series(y_poly_detrended)\n",
    "y_poly_detrended_pd.index = df.index\n",
    "\n",
    "# Convertir la serie de pandas a una serie de tiempo de Darts\n",
    "y_poly_detrended_ts = TimeSeries.from_series(y_poly_detrended_pd)\n",
    "\n",
    "# Diferenciando la serie \n",
    "y_poly_detrended_ts_diff = y_poly_detrended_ts.diff()\n",
    "\n",
    "# Obtener el punto de división basado en los últimos 6 meses\n",
    "split_date = y_poly_detrended_ts_diff.end_time() - pd.DateOffset(months=5)\n",
    "\n",
    "# Separar los datos en entrenamiento y validación\n",
    "ipc_train_diff, ipc_val_diff = y_poly_detrended_ts_diff.split_before(split_date)\n",
    "\n",
    "# Convierte la serie temporal de Darts a una serie de pandas\n",
    "ipc_train_diff_pd = ipc_train_diff.pd_series()\n",
    "ipc_val_diff_pd = ipc_val_diff.pd_series()\n",
    "\n",
    "ipc_train_diff.plot()\n",
    "plt.title('IPC transformada quitando tendencia de grado 7 y diferenciada')\n",
    "plt.show()\n"
   ]
  },
  {
   "cell_type": "markdown",
   "id": "5e57c586",
   "metadata": {},
   "source": [
    "Ahora, verifiquemos que esta serie transformada y diferenciada sea estacionaria"
   ]
  },
  {
   "cell_type": "code",
   "execution_count": 15,
   "id": "dd731178",
   "metadata": {},
   "outputs": [
    {
     "name": "stdout",
     "output_type": "stream",
     "text": [
      "ADF Statistic: -5.380742159547665\n",
      "p-value: 3.7173744517468276e-06\n",
      "KPSS Statistic: 0.07638617686253497\n",
      "p-value: 0.1\n"
     ]
    }
   ],
   "source": [
    "from statsmodels.tsa.stattools import adfuller, kpss\n",
    "\n",
    "# Realizar el test de Dickey-Fuller\n",
    "result = adfuller(ipc_train_diff_pd)\n",
    "print(f'ADF Statistic: {result[0]}')\n",
    "print(f'p-value: {result[1]}')\n",
    "\n",
    "# Realizar el test de KPSS\n",
    "result = kpss(ipc_train_diff_pd)\n",
    "print(f'KPSS Statistic: {result[0]}')\n",
    "print(f'p-value: {result[1]}')"
   ]
  },
  {
   "cell_type": "markdown",
   "id": "b0d03827",
   "metadata": {},
   "source": [
    "Es posible ver que tanto en la prueba ADF como con el estadístico KPSS la serie es estacionaria. "
   ]
  },
  {
   "cell_type": "markdown",
   "id": "4499a928",
   "metadata": {},
   "source": [
    "Ahora, vamos a graficar el correlograma de esta serie diferenciada"
   ]
  },
  {
   "cell_type": "code",
   "execution_count": 16,
   "id": "e4644333",
   "metadata": {},
   "outputs": [
    {
     "data": {
      "image/png": "[encoded data removed]",
      "text/plain": [
       "<Figure size 1000x500 with 1 Axes>"
      ]
     },
     "metadata": {},
     "output_type": "display_data"
    },
    {
     "data": {
      "image/png": "[encoded data removed]",
      "text/plain": [
       "<Figure size 1000x500 with 1 Axes>"
      ]
     },
     "metadata": {},
     "output_type": "display_data"
    }
   ],
   "source": [
    "# Graficar ACF serie diferenciada\n",
    "plot_acf(ipc_train_diff)\n",
    "\n",
    "# Graficar PACF serie diferenciada\n",
    "plot_pacf(ipc_train_diff)"
   ]
  },
  {
   "cell_type": "markdown",
   "id": "c864dbd5",
   "metadata": {},
   "source": [
    "Ahora, vamos a entrenar un modelo SARIMA, con una componente estacional = 6, dado que es posible evidenciar lags significativos en 6, 12 y 24."
   ]
  },
  {
   "cell_type": "code",
   "execution_count": 17,
   "id": "f8ec198b",
   "metadata": {},
   "outputs": [
    {
     "name": "stdout",
     "output_type": "stream",
     "text": [
      "Performing stepwise search to minimize aic\n",
      " ARIMA(2,0,2)(1,0,1)[6] intercept   : AIC=56.059, Time=7.40 sec\n",
      " ARIMA(0,0,0)(0,0,0)[6] intercept   : AIC=147.778, Time=0.14 sec\n",
      " ARIMA(1,0,0)(1,0,0)[6] intercept   : AIC=88.422, Time=0.86 sec\n",
      " ARIMA(0,0,1)(0,0,1)[6] intercept   : AIC=96.140, Time=0.99 sec\n",
      " ARIMA(0,0,0)(0,0,0)[6]             : AIC=146.833, Time=0.03 sec\n",
      " ARIMA(2,0,2)(0,0,1)[6] intercept   : AIC=92.791, Time=3.68 sec\n",
      " ARIMA(2,0,2)(1,0,0)[6] intercept   : AIC=89.922, Time=3.79 sec\n",
      " ARIMA(2,0,2)(2,0,1)[6] intercept   : AIC=75.129, Time=23.70 sec\n",
      " ARIMA(2,0,2)(1,0,2)[6] intercept   : AIC=inf, Time=28.20 sec\n",
      " ARIMA(2,0,2)(0,0,0)[6] intercept   : AIC=97.378, Time=1.00 sec\n",
      " ARIMA(2,0,2)(0,0,2)[6] intercept   : AIC=80.465, Time=19.01 sec\n",
      " ARIMA(2,0,2)(2,0,0)[6] intercept   : AIC=75.928, Time=17.40 sec\n",
      " ARIMA(2,0,2)(2,0,2)[6] intercept   : AIC=47.893, Time=30.89 sec\n",
      " ARIMA(1,0,2)(2,0,2)[6] intercept   : AIC=51.298, Time=28.60 sec\n",
      " ARIMA(2,0,1)(2,0,2)[6] intercept   : AIC=inf, Time=22.80 sec\n",
      " ARIMA(3,0,2)(2,0,2)[6] intercept   : AIC=44.707, Time=34.00 sec\n",
      " ARIMA(3,0,2)(1,0,2)[6] intercept   : AIC=inf, Time=34.90 sec\n",
      " ARIMA(3,0,2)(2,0,1)[6] intercept   : AIC=63.471, Time=30.60 sec\n",
      " ARIMA(3,0,2)(1,0,1)[6] intercept   : AIC=56.376, Time=7.99 sec\n",
      " ARIMA(3,0,1)(2,0,2)[6] intercept   : AIC=45.585, Time=31.10 sec\n",
      " ARIMA(4,0,2)(2,0,2)[6] intercept   : AIC=inf, Time=39.00 sec\n",
      " ARIMA(3,0,3)(2,0,2)[6] intercept   : AIC=43.754, Time=42.70 sec\n",
      " ARIMA(3,0,3)(1,0,2)[6] intercept   : AIC=inf, Time=36.79 sec\n",
      " ARIMA(3,0,3)(2,0,1)[6] intercept   : AIC=66.673, Time=36.10 sec\n",
      " ARIMA(3,0,3)(1,0,1)[6] intercept   : AIC=49.097, Time=12.10 sec\n",
      " ARIMA(2,0,3)(2,0,2)[6] intercept   : AIC=inf, Time=37.10 sec\n",
      " ARIMA(4,0,3)(2,0,2)[6] intercept   : AIC=55.325, Time=46.42 sec\n",
      " ARIMA(3,0,4)(2,0,2)[6] intercept   : AIC=50.432, Time=57.99 sec\n",
      " ARIMA(2,0,4)(2,0,2)[6] intercept   : AIC=inf, Time=47.60 sec\n",
      " ARIMA(4,0,4)(2,0,2)[6] intercept   : AIC=inf, Time=59.20 sec\n",
      " ARIMA(3,0,3)(2,0,2)[6]             : AIC=inf, Time=30.20 sec\n",
      "\n",
      "Best model:  ARIMA(3,0,3)(2,0,2)[6] intercept\n",
      "Total fit time: 772.326 seconds\n"
     ]
    }
   ],
   "source": [
    "# Ajustar el modelo SARIMA utilizando auto_arima\n",
    "mod1 = pm.auto_arima(ipc_train_diff_pd, seasonal=True, stepwise=True,\n",
    "                      suppress_warnings=True, error_action=\"ignore\", trace=True,\n",
    "                     m=6)"
   ]
  },
  {
   "cell_type": "code",
   "execution_count": 18,
   "id": "1ea29b57",
   "metadata": {},
   "outputs": [
    {
     "data": {
      "text/plain": [
       "0.20176187933603495"
      ]
     },
     "execution_count": 18,
     "metadata": {},
     "output_type": "execute_result"
    }
   ],
   "source": [
    "# mod1: # nombre del modelo \n",
    "# aic1: # valor del AIC para el modelo\n",
    "# pred1: # nombre donde se guardarán las predicciones\n",
    "# rmse1: # valor del rmse\n",
    "\n",
    "# Guarda el AIC\n",
    "aic1 = mod1.aic()\n",
    "\n",
    "result2 = sm.stats.acorr_ljungbox(mod1.resid() , lags=[18], return_df=True)\n",
    "p1 = result2.loc[18, 'lb_pvalue']\n",
    "p1"
   ]
  },
  {
   "cell_type": "code",
   "execution_count": 19,
   "id": "009010f7",
   "metadata": {},
   "outputs": [
    {
     "name": "stdout",
     "output_type": "stream",
     "text": [
      "Model:  ARIMA(3,0,3)(2,0,2)[6] intercept\n",
      "AIC: 43.7535092982655\n",
      "p-value: 0.20176187933603495\n",
      "Interpretation: El modelo es apropiado\n",
      "Predictions: 2023-01-01   -0.095660\n",
      "2023-02-01   -0.056162\n",
      "2023-03-01    0.126493\n",
      "2023-04-01    0.040992\n",
      "2023-05-01   -0.006356\n",
      "2023-06-01   -0.161115\n",
      "Freq: MS, dtype: float64\n",
      "RMSE: 0.8724132861901429\n"
     ]
    }
   ],
   "source": [
    "# Interpreta el p-valor\n",
    "if p1 < 0.05:\n",
    "    Inter_p1 = \"El modelo no es apropiado\"\n",
    "else:\n",
    "    Inter_p1 = \"El modelo es apropiado\"\n",
    "\n",
    "# Realiza y guarda las predicciones\n",
    "pred1 = mod1.predict(n_periods=len(ipc_val_diff))\n",
    "\n",
    "# Calcula el RMSE de las predicciones\n",
    "rmse1 = np.sqrt(mean_squared_error(ipc_val_diff_pd, pred1))\n",
    "\n",
    "# Imprime los resultados\n",
    "print(f\"Model: {mod1}\")\n",
    "print(f\"AIC: {aic1}\")\n",
    "print(f\"p-value: {p1}\")\n",
    "print(f\"Interpretation: {Inter_p1}\")\n",
    "print(f\"Predictions: {pred1}\")\n",
    "print(f\"RMSE: {rmse1}\")"
   ]
  },
  {
   "cell_type": "markdown",
   "id": "f75a6a3d",
   "metadata": {},
   "source": [
    "Es posible identificar que el modelo propuesto es un SARIMA(3,0,3)(2,0,2)[6]. El AIC es menor que el obtenido en el punto 1. Así mismo, el p-value indica que el modelo es apropiado. El RMSE= 0.87 también nos brinda mucha confianza y nos muestra que es un excelente modelo."
   ]
  },
  {
   "cell_type": "code",
   "execution_count": 20,
   "id": "a78899b6",
   "metadata": {},
   "outputs": [
    {
     "data": {
      "text/html": [
       "<table class=\"simpletable\">\n",
       "<caption>SARIMAX Results</caption>\n",
       "<tr>\n",
       "  <th>Dep. Variable:</th>                    <td>y</td>                 <th>  No. Observations:  </th>   <td>404</td> \n",
       "</tr>\n",
       "<tr>\n",
       "  <th>Model:</th>           <td>SARIMAX(3, 0, 3)x(2, 0, [1, 2], 6)</td> <th>  Log Likelihood     </th> <td>-9.877</td>\n",
       "</tr>\n",
       "<tr>\n",
       "  <th>Date:</th>                     <td>Thu, 23 Nov 2023</td>          <th>  AIC                </th> <td>43.754</td>\n",
       "</tr>\n",
       "<tr>\n",
       "  <th>Time:</th>                         <td>21:03:18</td>              <th>  BIC                </th> <td>91.770</td>\n",
       "</tr>\n",
       "<tr>\n",
       "  <th>Sample:</th>                      <td>05-01-1989</td>             <th>  HQIC               </th> <td>62.761</td>\n",
       "</tr>\n",
       "<tr>\n",
       "  <th></th>                            <td>- 12-01-2022</td>            <th>                     </th>    <td> </td>  \n",
       "</tr>\n",
       "<tr>\n",
       "  <th>Covariance Type:</th>                 <td>opg</td>                <th>                     </th>    <td> </td>  \n",
       "</tr>\n",
       "</table>\n",
       "<table class=\"simpletable\">\n",
       "<tr>\n",
       "      <td></td>         <th>coef</th>     <th>std err</th>      <th>z</th>      <th>P>|z|</th>  <th>[0.025</th>    <th>0.975]</th>  \n",
       "</tr>\n",
       "<tr>\n",
       "  <th>intercept</th> <td>    0.0003</td> <td>    0.001</td> <td>    0.232</td> <td> 0.817</td> <td>   -0.003</td> <td>    0.003</td>\n",
       "</tr>\n",
       "<tr>\n",
       "  <th>ar.L1</th>     <td>   -0.6702</td> <td>    0.152</td> <td>   -4.409</td> <td> 0.000</td> <td>   -0.968</td> <td>   -0.372</td>\n",
       "</tr>\n",
       "<tr>\n",
       "  <th>ar.L2</th>     <td>    0.5291</td> <td>    0.132</td> <td>    3.994</td> <td> 0.000</td> <td>    0.269</td> <td>    0.789</td>\n",
       "</tr>\n",
       "<tr>\n",
       "  <th>ar.L3</th>     <td>    0.5608</td> <td>    0.073</td> <td>    7.721</td> <td> 0.000</td> <td>    0.418</td> <td>    0.703</td>\n",
       "</tr>\n",
       "<tr>\n",
       "  <th>ma.L1</th>     <td>    1.0350</td> <td>    0.154</td> <td>    6.735</td> <td> 0.000</td> <td>    0.734</td> <td>    1.336</td>\n",
       "</tr>\n",
       "<tr>\n",
       "  <th>ma.L2</th>     <td>   -0.2141</td> <td>    0.188</td> <td>   -1.139</td> <td> 0.255</td> <td>   -0.582</td> <td>    0.154</td>\n",
       "</tr>\n",
       "<tr>\n",
       "  <th>ma.L3</th>     <td>   -0.4984</td> <td>    0.095</td> <td>   -5.245</td> <td> 0.000</td> <td>   -0.685</td> <td>   -0.312</td>\n",
       "</tr>\n",
       "<tr>\n",
       "  <th>ar.S.L6</th>   <td>    0.0203</td> <td>    0.036</td> <td>    0.563</td> <td> 0.573</td> <td>   -0.050</td> <td>    0.091</td>\n",
       "</tr>\n",
       "<tr>\n",
       "  <th>ar.S.L12</th>  <td>    0.9568</td> <td>    0.036</td> <td>   26.717</td> <td> 0.000</td> <td>    0.887</td> <td>    1.027</td>\n",
       "</tr>\n",
       "<tr>\n",
       "  <th>ma.S.L6</th>   <td>   -0.0185</td> <td>    0.063</td> <td>   -0.294</td> <td> 0.769</td> <td>   -0.142</td> <td>    0.105</td>\n",
       "</tr>\n",
       "<tr>\n",
       "  <th>ma.S.L12</th>  <td>   -0.8620</td> <td>    0.063</td> <td>  -13.695</td> <td> 0.000</td> <td>   -0.985</td> <td>   -0.739</td>\n",
       "</tr>\n",
       "<tr>\n",
       "  <th>sigma2</th>    <td>    0.0613</td> <td>    0.004</td> <td>   15.217</td> <td> 0.000</td> <td>    0.053</td> <td>    0.069</td>\n",
       "</tr>\n",
       "</table>\n",
       "<table class=\"simpletable\">\n",
       "<tr>\n",
       "  <th>Ljung-Box (L1) (Q):</th>     <td>0.00</td> <th>  Jarque-Bera (JB):  </th> <td>75.78</td>\n",
       "</tr>\n",
       "<tr>\n",
       "  <th>Prob(Q):</th>                <td>0.96</td> <th>  Prob(JB):          </th> <td>0.00</td> \n",
       "</tr>\n",
       "<tr>\n",
       "  <th>Heteroskedasticity (H):</th> <td>2.53</td> <th>  Skew:              </th> <td>0.22</td> \n",
       "</tr>\n",
       "<tr>\n",
       "  <th>Prob(H) (two-sided):</th>    <td>0.00</td> <th>  Kurtosis:          </th> <td>5.08</td> \n",
       "</tr>\n",
       "</table><br/><br/>Warnings:<br/>[1] Covariance matrix calculated using the outer product of gradients (complex-step)."
      ],
      "text/latex": [
       "\\begin{center}\n",
       "\\begin{tabular}{lclc}\n",
       "\\toprule\n",
       "\\textbf{Dep. Variable:}          &                 y                  & \\textbf{  No. Observations:  } &    404      \\\\\n",
       "\\textbf{Model:}                  & SARIMAX(3, 0, 3)x(2, 0, [1, 2], 6) & \\textbf{  Log Likelihood     } &   -9.877    \\\\\n",
       "\\textbf{Date:}                   &          Thu, 23 Nov 2023          & \\textbf{  AIC                } &   43.754    \\\\\n",
       "\\textbf{Time:}                   &              21:03:18              & \\textbf{  BIC                } &   91.770    \\\\\n",
       "\\textbf{Sample:}                 &             05-01-1989             & \\textbf{  HQIC               } &   62.761    \\\\\n",
       "\\textbf{}                        &            - 12-01-2022            & \\textbf{                     } &             \\\\\n",
       "\\textbf{Covariance Type:}        &                opg                 & \\textbf{                     } &             \\\\\n",
       "\\bottomrule\n",
       "\\end{tabular}\n",
       "\\begin{tabular}{lcccccc}\n",
       "                   & \\textbf{coef} & \\textbf{std err} & \\textbf{z} & \\textbf{P$> |$z$|$} & \\textbf{[0.025} & \\textbf{0.975]}  \\\\\n",
       "\\midrule\n",
       "\\textbf{intercept} &       0.0003  &        0.001     &     0.232  &         0.817        &       -0.003    &        0.003     \\\\\n",
       "\\textbf{ar.L1}     &      -0.6702  &        0.152     &    -4.409  &         0.000        &       -0.968    &       -0.372     \\\\\n",
       "\\textbf{ar.L2}     &       0.5291  &        0.132     &     3.994  &         0.000        &        0.269    &        0.789     \\\\\n",
       "\\textbf{ar.L3}     &       0.5608  &        0.073     &     7.721  &         0.000        &        0.418    &        0.703     \\\\\n",
       "\\textbf{ma.L1}     &       1.0350  &        0.154     &     6.735  &         0.000        &        0.734    &        1.336     \\\\\n",
       "\\textbf{ma.L2}     &      -0.2141  &        0.188     &    -1.139  &         0.255        &       -0.582    &        0.154     \\\\\n",
       "\\textbf{ma.L3}     &      -0.4984  &        0.095     &    -5.245  &         0.000        &       -0.685    &       -0.312     \\\\\n",
       "\\textbf{ar.S.L6}   &       0.0203  &        0.036     &     0.563  &         0.573        &       -0.050    &        0.091     \\\\\n",
       "\\textbf{ar.S.L12}  &       0.9568  &        0.036     &    26.717  &         0.000        &        0.887    &        1.027     \\\\\n",
       "\\textbf{ma.S.L6}   &      -0.0185  &        0.063     &    -0.294  &         0.769        &       -0.142    &        0.105     \\\\\n",
       "\\textbf{ma.S.L12}  &      -0.8620  &        0.063     &   -13.695  &         0.000        &       -0.985    &       -0.739     \\\\\n",
       "\\textbf{sigma2}    &       0.0613  &        0.004     &    15.217  &         0.000        &        0.053    &        0.069     \\\\\n",
       "\\bottomrule\n",
       "\\end{tabular}\n",
       "\\begin{tabular}{lclc}\n",
       "\\textbf{Ljung-Box (L1) (Q):}     & 0.00 & \\textbf{  Jarque-Bera (JB):  } & 75.78  \\\\\n",
       "\\textbf{Prob(Q):}                & 0.96 & \\textbf{  Prob(JB):          } &  0.00  \\\\\n",
       "\\textbf{Heteroskedasticity (H):} & 2.53 & \\textbf{  Skew:              } &  0.22  \\\\\n",
       "\\textbf{Prob(H) (two-sided):}    & 0.00 & \\textbf{  Kurtosis:          } &  5.08  \\\\\n",
       "\\bottomrule\n",
       "\\end{tabular}\n",
       "%\\caption{SARIMAX Results}\n",
       "\\end{center}\n",
       "\n",
       "Warnings: \\newline\n",
       " [1] Covariance matrix calculated using the outer product of gradients (complex-step)."
      ],
      "text/plain": [
       "<class 'statsmodels.iolib.summary.Summary'>\n",
       "\"\"\"\n",
       "                                       SARIMAX Results                                        \n",
       "==============================================================================================\n",
       "Dep. Variable:                                      y   No. Observations:                  404\n",
       "Model:             SARIMAX(3, 0, 3)x(2, 0, [1, 2], 6)   Log Likelihood                  -9.877\n",
       "Date:                                Thu, 23 Nov 2023   AIC                             43.754\n",
       "Time:                                        21:03:18   BIC                             91.770\n",
       "Sample:                                    05-01-1989   HQIC                            62.761\n",
       "                                         - 12-01-2022                                         \n",
       "Covariance Type:                                  opg                                         \n",
       "==============================================================================\n",
       "                 coef    std err          z      P>|z|      [0.025      0.975]\n",
       "------------------------------------------------------------------------------\n",
       "intercept      0.0003      0.001      0.232      0.817      -0.003       0.003\n",
       "ar.L1         -0.6702      0.152     -4.409      0.000      -0.968      -0.372\n",
       "ar.L2          0.5291      0.132      3.994      0.000       0.269       0.789\n",
       "ar.L3          0.5608      0.073      7.721      0.000       0.418       0.703\n",
       "ma.L1          1.0350      0.154      6.735      0.000       0.734       1.336\n",
       "ma.L2         -0.2141      0.188     -1.139      0.255      -0.582       0.154\n",
       "ma.L3         -0.4984      0.095     -5.245      0.000      -0.685      -0.312\n",
       "ar.S.L6        0.0203      0.036      0.563      0.573      -0.050       0.091\n",
       "ar.S.L12       0.9568      0.036     26.717      0.000       0.887       1.027\n",
       "ma.S.L6       -0.0185      0.063     -0.294      0.769      -0.142       0.105\n",
       "ma.S.L12      -0.8620      0.063    -13.695      0.000      -0.985      -0.739\n",
       "sigma2         0.0613      0.004     15.217      0.000       0.053       0.069\n",
       "===================================================================================\n",
       "Ljung-Box (L1) (Q):                   0.00   Jarque-Bera (JB):                75.78\n",
       "Prob(Q):                              0.96   Prob(JB):                         0.00\n",
       "Heteroskedasticity (H):               2.53   Skew:                             0.22\n",
       "Prob(H) (two-sided):                  0.00   Kurtosis:                         5.08\n",
       "===================================================================================\n",
       "\n",
       "Warnings:\n",
       "[1] Covariance matrix calculated using the outer product of gradients (complex-step).\n",
       "\"\"\""
      ]
     },
     "execution_count": 20,
     "metadata": {},
     "output_type": "execute_result"
    }
   ],
   "source": [
    "mod1.summary()"
   ]
  },
  {
   "cell_type": "markdown",
   "id": "688fe632",
   "metadata": {},
   "source": [
    "Analizando el test de Ljung-Box, podemos afirmar que el modelo presenta ruido blanco en los residuos. Sin embargo, vemos que el modelo no presenta heterosedasticidad, y que los residuos no se comportan normal. "
   ]
  },
  {
   "cell_type": "code",
   "execution_count": 21,
   "id": "d3c6a76f",
   "metadata": {
    "deletable": false,
    "editable": false,
    "nbgrader": {
     "cell_type": "code",
     "checksum": "320c976474ec9cb8b09d3b18634fdb0a",
     "grade": true,
     "grade_id": "cell-a9ad10d4bd525b60",
     "locked": true,
     "points": 10,
     "schema_version": 3,
     "solution": false,
     "task": false
    }
   },
   "outputs": [],
   "source": [
    "# Prueba oculta: Check del modelo mejor que autoarima según AIC"
   ]
  },
  {
   "cell_type": "code",
   "execution_count": 22,
   "id": "4c02a543",
   "metadata": {
    "deletable": false,
    "editable": false,
    "nbgrader": {
     "cell_type": "code",
     "checksum": "8449bfed4179f5f93722a2675e160d24",
     "grade": true,
     "grade_id": "cell-9f648a91c57e1dde",
     "locked": true,
     "points": 10,
     "schema_version": 3,
     "solution": false,
     "task": false
    }
   },
   "outputs": [],
   "source": [
    "# Prueba oculta: Check para el p-valor de la prueba de Box-Pierce-Ljung"
   ]
  },
  {
   "cell_type": "code",
   "execution_count": 23,
   "id": "ce3609d3",
   "metadata": {
    "deletable": false,
    "editable": false,
    "nbgrader": {
     "cell_type": "code",
     "checksum": "61ca26ae0dd1236e91bc6a5d3815c3b8",
     "grade": true,
     "grade_id": "cell-3214f96cb389d681",
     "locked": true,
     "points": 10,
     "schema_version": 3,
     "solution": false,
     "task": false
    }
   },
   "outputs": [],
   "source": [
    "# Prueba oculta: Check del RMSE del modelo propuesto"
   ]
  },
  {
   "cell_type": "markdown",
   "id": "55c051d7",
   "metadata": {
    "deletable": false,
    "editable": false,
    "nbgrader": {
     "cell_type": "markdown",
     "checksum": "a4870822a803f7e9a9f8d8d25807207b",
     "grade": false,
     "grade_id": "cell-a86c8a3a53f6a29b",
     "locked": true,
     "schema_version": 3,
     "solution": false,
     "task": false
    }
   },
   "source": [
    "### (Parte 4) Predecir de julio a diciembre de 2023\n",
    "\n",
    "- Utilizar los órdenes del mejor modelo ajustado con la muestra de entrenamiento y ajustar con toda la muestra.\n",
    "- Realizar las predicciones para los meses de julio a diciembre de 2023."
   ]
  },
  {
   "cell_type": "code",
   "execution_count": 29,
   "id": "2b301a18",
   "metadata": {
    "deletable": false,
    "nbgrader": {
     "cell_type": "code",
     "checksum": "67b1ffa4c7362ce0051926cd1c3fe83d",
     "grade": false,
     "grade_id": "cell-d8ab400a25e1c78b",
     "locked": false,
     "schema_version": 3,
     "solution": true,
     "task": false
    }
   },
   "outputs": [
    {
     "data": {
      "text/plain": [
       "array([-0.52079897, -0.51102846, -0.22129407, -0.16277172, -0.34713585,\n",
       "       -0.37199378])"
      ]
     },
     "execution_count": 29,
     "metadata": {},
     "output_type": "execute_result"
    }
   ],
   "source": [
    "## Guardar la información en:\n",
    "# modfinal: # nombre del modelo \n",
    "# predicciones: # nombre donde se guardarán las predicciones\n",
    "\n",
    "modfinal = mod1\n",
    "\n",
    "# Convertir la serie de tiempo diferenciada a un formato de array de numpy\n",
    "y_poly_detrended_diff_np = y_poly_detrended_ts_diff.pd_series().to_numpy()\n",
    "\n",
    "# Ajustar el modelo con la serie transformada\n",
    "mod1.fit(y_poly_detrended_diff_np)\n",
    "\n",
    "# Realizar las predicciones para los próximos 6 meses\n",
    "predicciones_diff = mod1.predict(6)\n",
    "\n",
    "predicciones_diff"
   ]
  },
  {
   "cell_type": "code",
   "execution_count": 30,
   "id": "c93a3441",
   "metadata": {},
   "outputs": [
    {
     "data": {
      "text/plain": [
       "array([[133.15932558],\n",
       "       [134.42530753],\n",
       "       [136.00673526],\n",
       "       [137.39326446],\n",
       "       [138.57406461],\n",
       "       [139.95238472]])"
      ]
     },
     "execution_count": 30,
     "metadata": {},
     "output_type": "execute_result"
    }
   ],
   "source": [
    "# Invertir la transformación polinómica para obtener el componente polinomial\n",
    "X_future = np.array(range(len(y_poly_detrended_diff_np), len(y_poly_detrended_diff_np) + 6)).reshape(-1, 1)\n",
    "poly_future = poly.fit_transform(X_future)\n",
    "predicciones_detrended = poly_regressor.predict(poly_future)\n",
    "\n",
    "# Sumar las predicciones diferenciadas al componente polinomial\n",
    "predicciones = predicciones_detrended + predicciones_diff.reshape(-1, 1)\n",
    "\n",
    "predicciones"
   ]
  },
  {
   "cell_type": "code",
   "execution_count": 26,
   "id": "1c30cc3e",
   "metadata": {
    "deletable": false,
    "editable": false,
    "nbgrader": {
     "cell_type": "code",
     "checksum": "49f3a0c279c558d158bae0057b4068c6",
     "grade": true,
     "grade_id": "cell-ab704560fe9f64d2",
     "locked": true,
     "points": 8,
     "schema_version": 3,
     "solution": false,
     "task": false
    }
   },
   "outputs": [],
   "source": [
    "# Prueba oculta: Check para las predicciones del modelo propuesto"
   ]
  }
 ],
 "metadata": {
  "kernelspec": {
   "display_name": "Python 3 (ipykernel)",
   "language": "python",
   "name": "python3"
  },
  "language_info": {
   "codemirror_mode": {
    "name": "ipython",
    "version": 3
   },
   "file_extension": ".py",
   "mimetype": "text/x-python",
   "name": "python",
   "nbconvert_exporter": "python",
   "pygments_lexer": "ipython3",
   "version": "3.10.6"
  }
 },
 "nbformat": 4,
 "nbformat_minor": 5
}
