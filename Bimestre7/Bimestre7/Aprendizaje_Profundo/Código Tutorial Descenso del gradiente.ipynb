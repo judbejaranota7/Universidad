{
 "cells": [
  {
   "cell_type": "code",
   "execution_count": 1,
   "metadata": {},
   "outputs": [
    {
     "ename": "ModuleNotFoundError",
     "evalue": "No module named 'numpy'",
     "output_type": "error",
     "traceback": [
      "\u001b[1;31m---------------------------------------------------------------------------\u001b[0m",
      "\u001b[1;31mModuleNotFoundError\u001b[0m                       Traceback (most recent call last)",
      "\u001b[1;32mUntitled-1.ipynb Cell 1\u001b[0m line \u001b[0;36m1\n\u001b[1;32m----> <a href='vscode-notebook-cell:Untitled-1.ipynb?jupyter-notebook#W0sdW50aXRsZWQ%3D?line=0'>1</a>\u001b[0m \u001b[39mimport\u001b[39;00m \u001b[39mnumpy\u001b[39;00m \u001b[39mas\u001b[39;00m \u001b[39mnp\u001b[39;00m\n\u001b[0;32m      <a href='vscode-notebook-cell:Untitled-1.ipynb?jupyter-notebook#W0sdW50aXRsZWQ%3D?line=2'>3</a>\u001b[0m \u001b[39mdef\u001b[39;00m \u001b[39msigmoide\u001b[39m(z):\n\u001b[0;32m      <a href='vscode-notebook-cell:Untitled-1.ipynb?jupyter-notebook#W0sdW50aXRsZWQ%3D?line=3'>4</a>\u001b[0m     \u001b[39mreturn\u001b[39;00m \u001b[39m1\u001b[39m \u001b[39m/\u001b[39m (\u001b[39m1\u001b[39m \u001b[39m+\u001b[39m np\u001b[39m.\u001b[39mexp(\u001b[39m-\u001b[39mz))\n",
      "\u001b[1;31mModuleNotFoundError\u001b[0m: No module named 'numpy'"
     ]
    }
   ],
   "source": [
    "import numpy as np\n",
    "\n",
    "def sigmoide(z):\n",
    "    return 1 / (1 + np.exp(-z))\n",
    "\n",
    "def derivada_sigmoide(z):\n",
    "    return sigmoide(z) * (1 - sigmoide(z))\n",
    "\n",
    "\n",
    "\n",
    "# Inicialización aleatoria con valores entre -1 y 1\n",
    "w11, w21, w12, w22, w_n1, w_n2 = 2*np.random.random() - 1, 2*np.random.random() - 1, 2*np.random.random() - 1, 2*np.random.random() - 1, 2*np.random.random() - 1, 2*np.random.random() - 1\n",
    "b1, b2, b3 = 2*np.random.random() - 1, 2*np.random.random() - 1, 2*np.random.random() - 1\n",
    "\n",
    "# Datos XOR\n",
    "entradas = np.array([[0,0], [0,1], [1,0], [1,1]])\n",
    "salidas_deseadas = np.array([[0], [1], [1], [0]])\n",
    "\n",
    "tasa_aprendizaje = 0.01\n",
    "num_epocas = 10000\n",
    "\n",
    "for epoch in range(num_epocas):\n",
    "    for x, y in zip(entradas, salidas_deseadas):\n",
    "        # Propagación hacia adelante\n",
    "        z1 = w11*x[0] + w21*x[1] + b1\n",
    "        n1 = sigmoide(z1)\n",
    "\n",
    "        z2 = w12*x[0] + w22*x[1] + b2\n",
    "        n2 = sigmoide(z2)\n",
    "\n",
    "        z3 = n1*w_n1 + n2*w_n2 + b3\n",
    "        n3 = sigmoide(z3)\n",
    "\n",
    "        # Error\n",
    "        error = y - n3\n",
    "\n",
    "        # Propagación hacia atrás\n",
    "        dL_dn3 = -error\n",
    "        dL_dw_n1 = dL_dn3 * derivada_sigmoide(z3) * n1\n",
    "        dL_dw_n2 = dL_dn3 * derivada_sigmoide(z3) * n2\n",
    "        dL_db3 = dL_dn3 * derivada_sigmoide(z3)\n",
    "\n",
    "        dL_dn1 = dL_dn3 * derivada_sigmoide(z3) * w_n1\n",
    "        dL_dw11 = dL_dn1 * derivada_sigmoide(z1) * x[0]\n",
    "        dL_dw21 = dL_dn1 * derivada_sigmoide(z1) * x[1]\n",
    "        dL_db1 = dL_dn1 * derivada_sigmoide(z1)\n",
    "\n",
    "        dL_dn2 = dL_dn3 * derivada_sigmoide(z3) * w_n2\n",
    "        dL_dw12 = dL_dn2 * derivada_sigmoide(z2) * x[0]\n",
    "        dL_dw22 = dL_dn2 * derivada_sigmoide(z2) * x[1]\n",
    "        dL_db2 = dL_dn2 * derivada_sigmoide(z2)\n",
    "\n",
    "        # Actualizar pesos y sesgos\n",
    "        w11 -= tasa_aprendizaje * dL_dw11\n",
    "        w21 -= tasa_aprendizaje * dL_dw21\n",
    "        w12 -= tasa_aprendizaje * dL_dw12\n",
    "        w22 -= tasa_aprendizaje * dL_dw22\n",
    "        w_n1 -= tasa_aprendizaje * dL_dw_n1\n",
    "        w_n2 -= tasa_aprendizaje * dL_dw_n2\n",
    "\n",
    "        b1 -= tasa_aprendizaje * dL_db1\n",
    "        b2 -= tasa_aprendizaje * dL_db2\n",
    "        b3 -= tasa_aprendizaje * dL_db3\n",
    "\n",
    "    # Cada 1000 épocas, mostrar el error\n",
    "    if epoch % 1000 == 0:\n",
    "        perdida_total = np.mean(np.square(salidas_deseadas - [sigmoide(n1*w_n1 + n2*w_n2 + b3) for x in entradas]))\n",
    "        print(f\"Época {epoch}: Error {perdida_total}\")"
   ]
  }
 ],
 "metadata": {
  "kernelspec": {
   "display_name": "Python 3",
   "language": "python",
   "name": "python3"
  },
  "language_info": {
   "codemirror_mode": {
    "name": "ipython",
    "version": 3
   },
   "file_extension": ".py",
   "mimetype": "text/x-python",
   "name": "python",
   "nbconvert_exporter": "python",
   "pygments_lexer": "ipython3",
   "version": "3.12.0"
  }
 },
 "nbformat": 4,
 "nbformat_minor": 2
}
