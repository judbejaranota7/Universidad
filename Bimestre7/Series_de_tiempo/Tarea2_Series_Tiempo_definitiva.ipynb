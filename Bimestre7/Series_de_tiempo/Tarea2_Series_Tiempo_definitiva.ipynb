{
 "cells": [
  {
   "cell_type": "markdown",
   "id": "54132418",
   "metadata": {
    "deletable": false,
    "editable": false,
    "nbgrader": {
     "cell_type": "markdown",
     "checksum": "668f2d47080cb015b5908c6443f05953",
     "grade": false,
     "grade_id": "cell-17f640848cc54165",
     "locked": true,
     "schema_version": 3,
     "solution": false,
     "task": false
    }
   },
   "source": [
    "## Tarea: Ajuste y Comparación de Modelos de la familia SARIMA\n",
    "\n",
    "¡Bienvenido(a)!\n",
    "Te invitamos a realizar el segundo trabajo.\n",
    "- Objetivo: Compar modelos de series de tiempo a través de casos prácticos desarrollados en Python.\n",
    "- Tipo de actividad: Individual\n",
    "- Tipo de evaluación: Sumativa \n",
    "- Ponderación: 15%\n",
    "- Puntaje: 60 puntos\n",
    "- Calificación: Escala de 1 a 7, con una exigencia de 50%. La nota mínima para aprobar es 4.0."
   ]
  },
  {
   "cell_type": "markdown",
   "id": "efdbd2e5",
   "metadata": {
    "deletable": false,
    "editable": false,
    "nbgrader": {
     "cell_type": "markdown",
     "checksum": "c77bc69aedd84431db6d4dc0ba7c43fb",
     "grade": false,
     "grade_id": "cell-d5293ff3680fdb36",
     "locked": true,
     "schema_version": 3,
     "solution": false,
     "task": false
    }
   },
   "source": [
    "## Enunciado\n",
    "\n",
    "### Introducción\n",
    "\n",
    "Esta tarea está pensada en abordar y profundizar los métodos probabilísticos para ajustar series temporales, a través de los modelos de la familia ARIMA. En primer lugar se realizará un análisis descriptivo para proponer los órdenes del modelo SARIMA(p,d,q)x(P,D,Q)[s]. Con el objetivo de comprender las técnicas de selección de modelos se ajustarán diferentes modelos propuestos junto con el modelo propuesto por autoarima con el fin de seleccionar el modelo más apropiado y analizar si es o no adecuado. Además, se determinarán las predicciones para un periodo de interés.\n",
    "\n",
    "### Descripción del problema\n",
    "\n",
    "La serie \"IPC.xlsx\" (disponible en la plataforma) corresponde al índice de precio al consumidor de  Chile desde abril de 1989 hasta junio de 2023 medido de forma mensual. El objetivo del análisis es predecir el IPC para el segundo semestre de 2023, es decir, de julio a diciembre de 2023."
   ]
  },
  {
   "cell_type": "markdown",
   "id": "8ef82006",
   "metadata": {
    "deletable": false,
    "editable": false,
    "nbgrader": {
     "cell_type": "markdown",
     "checksum": "9b3081f49bec55dbcb1211d984674bc7",
     "grade": false,
     "grade_id": "cell-d97a8236077fedad",
     "locked": true,
     "schema_version": 3,
     "solution": false,
     "task": false
    }
   },
   "source": [
    "#### Preparación de la data:\n",
    "Dar el formato adecuado para aplicar los métodos de series de tiempo en Python. Además, de la data completa separar en dos partes (entrenamiento y validación), donde reserve la información de enero a junio de 2023 que actuará como muestra de validación mientras que el resto será la muestra de entrenamiento de los modelos. "
   ]
  },
  {
   "cell_type": "code",
   "execution_count": 16,
   "id": "c0bb83f1",
   "metadata": {
    "deletable": false,
    "editable": false,
    "nbgrader": {
     "cell_type": "code",
     "checksum": "6f0829f8ddb101f98afd5243de31b9a8",
     "grade": false,
     "grade_id": "cell-9839402df4c918a8",
     "locked": true,
     "schema_version": 3,
     "solution": false,
     "task": false
    }
   },
   "outputs": [],
   "source": [
    "## Librerias\n",
    "import numpy as np\n",
    "import pandas as pd\n",
    "from darts import TimeSeries\n",
    "import matplotlib.pyplot as plt\n",
    "import pmdarima as pm\n",
    "import statsmodels.api as sm\n",
    "\n",
    "from darts.utils.statistics import plot_acf, plot_pacf\n",
    "from darts.models import ARIMA\n",
    "from statsmodels.tsa.statespace.sarimax import SARIMAX\n",
    "from statsmodels.tsa.stattools import adfuller\n",
    "\n",
    "import warnings\n",
    "warnings.filterwarnings('ignore')\n",
    "warnings.warn('DelftStack')\n",
    "warnings.warn('Do not show this message')"
   ]
  },
  {
   "cell_type": "code",
   "execution_count": 17,
   "id": "f2a0628b",
   "metadata": {
    "deletable": false,
    "editable": false,
    "nbgrader": {
     "cell_type": "code",
     "checksum": "da398b97c02cea9c6440a471d8120105",
     "grade": false,
     "grade_id": "cell-20eb574dd6ab3712",
     "locked": true,
     "schema_version": 3,
     "solution": false,
     "task": false
    }
   },
   "outputs": [
    {
     "name": "stdout",
     "output_type": "stream",
     "text": [
      "   YEAR  MONTH        IPC      Fecha\n",
      "0  1989      4  17.325726 1989-04-01\n",
      "1  1989      5  17.665933 1989-05-01\n",
      "2  1989      6  17.977622 1989-06-01\n",
      "3  1989      7  18.305059 1989-07-01\n",
      "4  1989      8  18.487909 1989-08-01\n"
     ]
    },
    {
     "data": {
      "text/html": [
       "<div>\n",
       "<style scoped>\n",
       "    .dataframe tbody tr th:only-of-type {\n",
       "        vertical-align: middle;\n",
       "    }\n",
       "\n",
       "    .dataframe tbody tr th {\n",
       "        vertical-align: top;\n",
       "    }\n",
       "\n",
       "    .dataframe thead th {\n",
       "        text-align: right;\n",
       "    }\n",
       "</style>\n",
       "<table border=\"1\" class=\"dataframe\">\n",
       "  <thead>\n",
       "    <tr style=\"text-align: right;\">\n",
       "      <th></th>\n",
       "      <th>IPC</th>\n",
       "    </tr>\n",
       "    <tr>\n",
       "      <th>Fecha</th>\n",
       "      <th></th>\n",
       "    </tr>\n",
       "  </thead>\n",
       "  <tbody>\n",
       "    <tr>\n",
       "      <th>1989-04-01</th>\n",
       "      <td>17.325726</td>\n",
       "    </tr>\n",
       "    <tr>\n",
       "      <th>1989-05-01</th>\n",
       "      <td>17.665933</td>\n",
       "    </tr>\n",
       "    <tr>\n",
       "      <th>1989-06-01</th>\n",
       "      <td>17.977622</td>\n",
       "    </tr>\n",
       "    <tr>\n",
       "      <th>1989-07-01</th>\n",
       "      <td>18.305059</td>\n",
       "    </tr>\n",
       "    <tr>\n",
       "      <th>1989-08-01</th>\n",
       "      <td>18.487909</td>\n",
       "    </tr>\n",
       "  </tbody>\n",
       "</table>\n",
       "</div>"
      ],
      "text/plain": [
       "                  IPC\n",
       "Fecha                \n",
       "1989-04-01  17.325726\n",
       "1989-05-01  17.665933\n",
       "1989-06-01  17.977622\n",
       "1989-07-01  18.305059\n",
       "1989-08-01  18.487909"
      ]
     },
     "execution_count": 17,
     "metadata": {},
     "output_type": "execute_result"
    }
   ],
   "source": [
    "## Importar Datos (La base de datos ya está cargada, no es necesario volver a cargar)\n",
    "df = pd.read_excel('IPC.xlsx')\n",
    "df['Fecha'] = pd.to_datetime(df[['YEAR', 'MONTH']].assign(day=1))\n",
    "print(df.head())\n",
    "\n",
    "## Datos y Fecha\n",
    "df.set_index('Fecha', inplace=True)\n",
    "df.drop(['YEAR', 'MONTH'], axis=1, inplace=True)\n",
    "df.head()"
   ]
  },
  {
   "cell_type": "code",
   "execution_count": 18,
   "id": "18aad166",
   "metadata": {
    "deletable": false,
    "nbgrader": {
     "cell_type": "code",
     "checksum": "e8c3ab6fbf39def6de5651cefd78b68c",
     "grade": false,
     "grade_id": "cell-236989524fc61bbb",
     "locked": false,
     "schema_version": 3,
     "solution": true,
     "task": false
    }
   },
   "outputs": [],
   "source": [
    "# Formato de Serie de Tiempo: Guardar la información en\n",
    "# ipc: serie completa\n",
    "# ipc_train: serie entrenamiento\n",
    "# ipc_val: serie validación\n",
    "\n",
    "# your code here\n",
    "ipc = TimeSeries.from_series(df)\n",
    "\n",
    "# Obtener el punto de división basado en los últimos 6 meses\n",
    "split_date = ipc.end_time() - pd.DateOffset(months=5)\n",
    "\n",
    "# Separar los datos en entrenamiento y validación\n",
    "ipc_train, ipc_val = ipc.split_before(pd.Timestamp(split_date))"
   ]
  },
  {
   "cell_type": "code",
   "execution_count": 19,
   "id": "00cc6e31",
   "metadata": {},
   "outputs": [
    {
     "data": {
      "image/png": "[encoded data removed]",
      "text/plain": [
       "<Figure size 1000x600 with 1 Axes>"
      ]
     },
     "metadata": {},
     "output_type": "display_data"
    }
   ],
   "source": [
    "df.plot(figsize=(10, 6))\n",
    "plt.title('ipc')\n",
    "plt.show()"
   ]
  },
  {
   "cell_type": "code",
   "execution_count": 20,
   "id": "40c042d5",
   "metadata": {
    "deletable": false,
    "editable": false,
    "nbgrader": {
     "cell_type": "code",
     "checksum": "53a3b4c17f089379572408a5996e81a4",
     "grade": true,
     "grade_id": "cell-e12099261c258332",
     "locked": true,
     "points": 4,
     "schema_version": 3,
     "solution": false,
     "task": false
    }
   },
   "outputs": [],
   "source": [
    "# Pruebas para medir si el formato es correcto\n",
    "assert len(ipc)==411, \"fallaste la prueba de len(ipc)==411\"\n",
    "assert len(ipc_train)==405, \"fallaste la prueba de len(ipc)==405\"\n",
    "assert len(ipc_val)==6, \"fallaste la prueba de len(ipc)==6\""
   ]
  },
  {
   "cell_type": "markdown",
   "id": "a6882de2",
   "metadata": {
    "deletable": false,
    "editable": false,
    "nbgrader": {
     "cell_type": "markdown",
     "checksum": "82a94981e0704c71f6547476c476212e",
     "grade": false,
     "grade_id": "cell-c82c7177902577a6",
     "locked": true,
     "schema_version": 3,
     "solution": false,
     "task": false
    }
   },
   "source": [
    "### (Parte 2) Ajuste un Modelo mediante autoarima\n",
    "\n",
    "- Ajustar un modelo SARIMA a la serie de entrenamiento. Por temas de tiempo de computo asumir que el periodo es 1, y considerar el resto de los parámetros de auto_arima los que vienen por defecto\n",
    "- Guardar el AIC\n",
    "- Aplicar el test de Box-Pierce-Ljung para H=18 y guardar p-valor\n",
    "- Realizar y guardar las predicciones\n",
    "- Guardar el RMSE de las predicciones"
   ]
  },
  {
   "cell_type": "code",
   "execution_count": 21,
   "id": "a59ac044",
   "metadata": {
    "deletable": false,
    "nbgrader": {
     "cell_type": "code",
     "checksum": "5b036941511558b2a4b496b7f488889d",
     "grade": false,
     "grade_id": "cell-96a3f52e0810c710",
     "locked": false,
     "schema_version": 3,
     "solution": true,
     "task": false
    }
   },
   "outputs": [
    {
     "name": "stdout",
     "output_type": "stream",
     "text": [
      "Performing stepwise search to minimize aic\n",
      " ARIMA(2,2,2)(0,0,0)[0]             : AIC=121.253, Time=0.41 sec\n",
      " ARIMA(0,2,0)(0,0,0)[0]             : AIC=245.508, Time=0.11 sec\n",
      " ARIMA(1,2,0)(0,0,0)[0]             : AIC=199.946, Time=0.08 sec\n",
      " ARIMA(0,2,1)(0,0,0)[0]             : AIC=138.800, Time=0.09 sec\n",
      " ARIMA(1,2,2)(0,0,0)[0]             : AIC=120.853, Time=0.32 sec\n",
      " ARIMA(0,2,2)(0,0,0)[0]             : AIC=118.886, Time=0.29 sec\n",
      " ARIMA(0,2,3)(0,0,0)[0]             : AIC=120.882, Time=0.39 sec\n",
      " ARIMA(1,2,1)(0,0,0)[0]             : AIC=119.290, Time=0.20 sec\n",
      " ARIMA(1,2,3)(0,0,0)[0]             : AIC=122.270, Time=0.70 sec\n",
      " ARIMA(0,2,2)(0,0,0)[0] intercept   : AIC=120.417, Time=0.41 sec\n",
      "\n",
      "Best model:  ARIMA(0,2,2)(0,0,0)[0]          \n",
      "Total fit time: 2.996 seconds\n"
     ]
    }
   ],
   "source": [
    "## Guardar la información en:\n",
    "# mod0: # nombre del modelo \n",
    "# aic0: # valor del AIC para el modelo\n",
    "# p0: valor del p-valor del test de Box-Pierce-Ljung\n",
    "# Inter_p0: # Debe responder: \"El modelo es apropiado\" o \"El modelo no es apropiado\", de acuerdo con la interpretación del p-valor\n",
    "# pred0: # nombre donde se guardarán las predicciones\n",
    "# rmse0: # valor del rmse\n",
    "\n",
    "# your code here\n",
    "from statsmodels.stats.diagnostic import acorr_ljungbox\n",
    "\n",
    "# Convierte la serie temporal de Darts a una serie de pandas\n",
    "ipc_train_pd = ipc_train.pd_series()\n",
    "ipc_val_pd = ipc_val.pd_series()\n",
    "\n",
    "\n",
    "# Ajustar el modelo SARIMA utilizando auto_arima\n",
    "mod0 = pm.auto_arima(ipc_train_pd, \n",
    "                    seasonal=True,\n",
    "                     m = 1,\n",
    "#                     stepwise=False,\n",
    "#                     suppress_warnings=True,\n",
    "#                     error_action=\"ignore\",\n",
    "#                     #max_order=None,\n",
    "                     trace=True\n",
    "                    )\n"
   ]
  },
  {
   "cell_type": "code",
   "execution_count": 22,
   "id": "12f141a4",
   "metadata": {},
   "outputs": [
    {
     "name": "stdout",
     "output_type": "stream",
     "text": [
      "Model:  ARIMA(0,2,2)(0,0,0)[0]          \n",
      "AIC: 118.88636648936048\n",
      "p-value: 1.8561925233666172e-05\n",
      "Interpretation: El modelo no es apropiado\n",
      "Predictions: 2023-01-01    129.800426\n",
      "2023-02-01    130.792906\n",
      "2023-03-01    131.785387\n",
      "2023-04-01    132.777867\n",
      "2023-05-01    133.770347\n",
      "2023-06-01    134.762827\n",
      "Freq: MS, dtype: float64\n",
      "RMSE: 1.5498133066800388\n"
     ]
    }
   ],
   "source": [
    "import statsmodels.api as sm\n",
    "from sklearn.metrics import mean_squared_error\n",
    "\n",
    "# Guarda el AIC\n",
    "aic0 = mod0.aic()\n",
    "\n",
    "result = acorr_ljungbox(mod0.resid() , lags=18, return_df=True)\n",
    "p0 = result.loc[18, 'lb_pvalue']\n",
    "\n",
    "# Interpreta el p-valor\n",
    "if p0 < 0.05:\n",
    "    Inter_p0 = \"El modelo no es apropiado\"\n",
    "else:\n",
    "    Inter_p0 = \"El modelo es apropiado\"\n",
    "\n",
    "# Realiza y guarda las predicciones\n",
    "pred0 = mod0.predict(n_periods=len(ipc_val))\n",
    "\n",
    "# Calcula el RMSE de las predicciones\n",
    "rmse0 = np.sqrt(mean_squared_error(ipc_val_pd, pred0))\n",
    "\n",
    "# Imprime los resultados\n",
    "print(f\"Model: {mod0}\")\n",
    "print(f\"AIC: {aic0}\")\n",
    "print(f\"p-value: {p0}\")\n",
    "print(f\"Interpretation: {Inter_p0}\")\n",
    "print(f\"Predictions: {pred0}\")\n",
    "print(f\"RMSE: {rmse0}\")\n"
   ]
  },
  {
   "cell_type": "code",
   "execution_count": 23,
   "id": "c16c716e",
   "metadata": {},
   "outputs": [
    {
     "data": {
      "text/plain": [
       "18    0.000019\n",
       "Name: lb_pvalue, dtype: float64"
      ]
     },
     "execution_count": 23,
     "metadata": {},
     "output_type": "execute_result"
    }
   ],
   "source": [
    "pv = sm.stats.acorr_ljungbox(mod0.resid(), lags=[18]).lb_pvalue\n",
    "pv"
   ]
  },
  {
   "cell_type": "code",
   "execution_count": 24,
   "id": "c99dde1c",
   "metadata": {
    "deletable": false,
    "editable": false,
    "nbgrader": {
     "cell_type": "code",
     "checksum": "b78cc3814a4a7f0e244c0faef80baef9",
     "grade": true,
     "grade_id": "cell-18470ab2ea276d6c",
     "locked": true,
     "points": 6,
     "schema_version": 3,
     "solution": false,
     "task": false
    }
   },
   "outputs": [],
   "source": [
    "# Prueba oculta: Check del modelo "
   ]
  },
  {
   "cell_type": "code",
   "execution_count": 25,
   "id": "2fdd5d79",
   "metadata": {
    "deletable": false,
    "editable": false,
    "nbgrader": {
     "cell_type": "code",
     "checksum": "a11d8ac2c8cfbfa0b8af58875c360743",
     "grade": true,
     "grade_id": "cell-cee52d8c04179ff0",
     "locked": true,
     "points": 10,
     "schema_version": 3,
     "solution": false,
     "task": false
    }
   },
   "outputs": [],
   "source": [
    "# Prueba oculta: Check para el p-valor de la prueba de Box-Pierce-Ljung"
   ]
  },
  {
   "cell_type": "code",
   "execution_count": 26,
   "id": "67004247",
   "metadata": {
    "deletable": false,
    "editable": false,
    "nbgrader": {
     "cell_type": "code",
     "checksum": "900224f682a147c00c9534a77385aff8",
     "grade": true,
     "grade_id": "cell-f25169be99b51b42",
     "locked": true,
     "points": 6,
     "schema_version": 3,
     "solution": false,
     "task": false
    }
   },
   "outputs": [],
   "source": [
    "# Prueba oculta: Check para las predicciones\n",
    "\n"
   ]
  },
  {
   "cell_type": "markdown",
   "id": "21d7f4d7",
   "metadata": {
    "deletable": false,
    "editable": false,
    "nbgrader": {
     "cell_type": "markdown",
     "checksum": "6457c9b4ff94804e225e08323a803e0f",
     "grade": false,
     "grade_id": "cell-948b49392e67ea0f",
     "locked": true,
     "schema_version": 3,
     "solution": false,
     "task": false
    }
   },
   "source": [
    "### (Parte 3) Ajuste un Modelo SARIMA desde el analisis descriptivo\n",
    "\n",
    "- Realizar un análisis descriptivo de la serie que incluya grafica, ACF y PACF tanto de la serie original como diferenciada y cualquier estadístico que considere necesario para reconocer el orden del modelo.\n",
    "- Proponer un modelo desde el análisis descriptivo, es decir, el conjunto de ordenes del modelo SARIMA(p,d,q)x(P,D,Q)[s].\n",
    "- Ajustar el modelo.\n",
    "- Guardar el AIC\n",
    "- En caso que el AIC de este modelo sea mayor al AIC del modelo propuesto por autoarima, proponer otro modelo hasta encontrar uno mejor.\n",
    "- Aplicar el test de Box-Pierce para H=18 y guardar p-valor\n",
    "- En caso que el modelo no sea adecuado en términos del test de blancura proponer otro modelo.\n",
    "- Realizar y guardar las predicciones\n",
    "- Guardar el RMSE de las predicciones\n"
   ]
  },
  {
   "cell_type": "code",
   "execution_count": 27,
   "id": "767f9753",
   "metadata": {
    "deletable": false,
    "nbgrader": {
     "cell_type": "code",
     "checksum": "03c7970271d5c05a6abce6c44072f1c2",
     "grade": false,
     "grade_id": "cell-aaadd99357edc5a5",
     "locked": false,
     "schema_version": 3,
     "solution": true,
     "task": false
    }
   },
   "outputs": [
    {
     "data": {
      "image/png": "[encoded data removed]",
      "text/plain": [
       "<Figure size 1000x500 with 1 Axes>"
      ]
     },
     "metadata": {},
     "output_type": "display_data"
    },
    {
     "data": {
      "image/png": "[encoded data removed]",
      "text/plain": [
       "<Figure size 1000x500 with 1 Axes>"
      ]
     },
     "metadata": {},
     "output_type": "display_data"
    }
   ],
   "source": [
    "## Guardar la información en:\n",
    "# mod1: # nombre del modelo, debe ser ajustado con la función SARIMAX\n",
    "# aic1: # valor del AIC para el modelo\n",
    "# pred1: # nombre donde se guardarán las predicciones\n",
    "# rmse1: # valor del rmse\n",
    "# p1: valor del p-valor del test de Box-Pierce-Ljung\n",
    "# Inter_p1: # Debe responder: \"El modelo es apropiado\" o \"El modelo no es apropiado\", de acuerdo con la interpretación del p-valor\n",
    "\n",
    "\n",
    "# your code here\n",
    "# Graficar ACF serie original\n",
    "plot_acf(ipc_train)\n",
    "\n",
    "# Graficar PACF serie original\n",
    "plot_pacf(ipc_train)"
   ]
  },
  {
   "cell_type": "code",
   "execution_count": 28,
   "id": "650cb2f2",
   "metadata": {},
   "outputs": [
    {
     "data": {
      "image/png": "[encoded data removed]",
      "text/plain": [
       "<Figure size 1000x500 with 1 Axes>"
      ]
     },
     "metadata": {},
     "output_type": "display_data"
    },
    {
     "data": {
      "image/png": "[encoded data removed]",
      "text/plain": [
       "<Figure size 1000x500 with 1 Axes>"
      ]
     },
     "metadata": {},
     "output_type": "display_data"
    }
   ],
   "source": [
    "# Diferenciar las series dos veces\n",
    "ipc_train_diff = ipc_train.diff()\n",
    "ipc_train_diff = ipc_train_diff.diff()\n",
    "\n",
    "ipc_val_diff = ipc_val.diff()\n",
    "ipc_val_diff = ipc_val_diff.diff()\n",
    "\n",
    "# Graficar ACF serie original\n",
    "plot_acf(ipc_train_diff)\n",
    "# Graficar PACF serie original\n",
    "plot_pacf(ipc_train_diff)"
   ]
  },
  {
   "cell_type": "code",
   "execution_count": 29,
   "id": "8c8225a0",
   "metadata": {},
   "outputs": [
    {
     "name": "stdout",
     "output_type": "stream",
     "text": [
      "ADF Statistic: -5.118525127517556\n",
      "p-value: 1.2865102780099684e-05\n"
     ]
    }
   ],
   "source": [
    "# Convierte la serie temporal de Darts a una serie de pandas\n",
    "ipc_train_diff_pd = ipc_train_diff.pd_series()\n",
    "ipc_val_diff_pd = ipc_val_diff.pd_series()\n",
    "\n",
    "# Realizar el test de Dickey-Fuller\n",
    "result = adfuller(ipc_train_diff_pd)\n",
    "print(f'ADF Statistic: {result[0]}')\n",
    "print(f'p-value: {result[1]}')"
   ]
  },
  {
   "cell_type": "code",
   "execution_count": 30,
   "id": "48efb610",
   "metadata": {},
   "outputs": [
    {
     "name": "stdout",
     "output_type": "stream",
     "text": [
      " ARIMA(0,2,0)(0,0,0)[6]             : AIC=245.508, Time=0.03 sec\n",
      " ARIMA(0,2,0)(0,0,1)[6]             : AIC=239.433, Time=0.35 sec\n",
      " ARIMA(0,2,0)(0,0,2)[6]             : AIC=230.878, Time=2.00 sec\n",
      " ARIMA(0,2,0)(0,0,3)[6]             : AIC=231.626, Time=5.89 sec\n",
      " ARIMA(0,2,0)(1,0,0)[6]             : AIC=236.556, Time=0.30 sec\n",
      " ARIMA(0,2,0)(1,0,1)[6]             : AIC=200.538, Time=1.90 sec\n",
      " ARIMA(0,2,0)(1,0,2)[6]             : AIC=202.132, Time=6.61 sec\n",
      " ARIMA(0,2,0)(1,0,3)[6]             : AIC=203.840, Time=16.60 sec\n",
      " ARIMA(0,2,1)(0,0,0)[6]             : AIC=138.800, Time=0.09 sec\n",
      " ARIMA(0,2,1)(0,0,1)[6]             : AIC=139.496, Time=0.80 sec\n",
      " ARIMA(0,2,1)(0,0,2)[6]             : AIC=124.538, Time=2.91 sec\n",
      " ARIMA(0,2,1)(0,0,3)[6]             : AIC=126.281, Time=10.11 sec\n",
      " ARIMA(0,2,1)(1,0,0)[6]             : AIC=138.910, Time=0.51 sec\n",
      " ARIMA(0,2,1)(1,0,1)[6]             : AIC=inf, Time=3.20 sec\n",
      " ARIMA(0,2,1)(1,0,2)[6]             : AIC=89.843, Time=14.61 sec\n",
      " ARIMA(0,2,1)(1,0,3)[6]             : AIC=90.773, Time=28.90 sec\n",
      " ARIMA(0,2,2)(0,0,0)[6]             : AIC=118.886, Time=0.21 sec\n",
      " ARIMA(0,2,2)(0,0,1)[6]             : AIC=117.127, Time=1.68 sec\n",
      " ARIMA(0,2,2)(0,0,2)[6]             : AIC=105.684, Time=6.60 sec\n",
      " ARIMA(0,2,2)(0,0,3)[6]             : AIC=107.645, Time=20.70 sec\n",
      " ARIMA(0,2,2)(1,0,0)[6]             : AIC=115.541, Time=0.80 sec\n",
      " ARIMA(0,2,2)(1,0,1)[6]             : AIC=inf, Time=6.49 sec\n",
      " ARIMA(0,2,2)(1,0,2)[6]             : AIC=79.903, Time=23.20 sec\n",
      " ARIMA(0,2,3)(0,0,0)[6]             : AIC=120.882, Time=0.42 sec\n",
      " ARIMA(0,2,3)(0,0,1)[6]             : AIC=118.960, Time=3.69 sec\n",
      " ARIMA(0,2,3)(0,0,2)[6]             : AIC=107.563, Time=7.60 sec\n",
      " ARIMA(0,2,3)(1,0,0)[6]             : AIC=117.177, Time=1.09 sec\n",
      " ARIMA(0,2,3)(1,0,1)[6]             : AIC=81.914, Time=8.50 sec\n",
      " ARIMA(1,2,0)(0,0,0)[6]             : AIC=199.946, Time=0.04 sec\n",
      " ARIMA(1,2,0)(0,0,1)[6]             : AIC=193.416, Time=0.56 sec\n",
      " ARIMA(1,2,0)(0,0,2)[6]             : AIC=182.414, Time=12.40 sec\n",
      " ARIMA(1,2,0)(0,0,3)[6]             : AIC=182.331, Time=5.71 sec\n",
      " ARIMA(1,2,0)(1,0,0)[6]             : AIC=190.088, Time=1.09 sec\n",
      " ARIMA(1,2,0)(1,0,1)[6]             : AIC=144.469, Time=3.10 sec\n",
      " ARIMA(1,2,0)(1,0,2)[6]             : AIC=145.682, Time=11.51 sec\n",
      " ARIMA(1,2,0)(1,0,3)[6]             : AIC=147.339, Time=19.40 sec\n",
      " ARIMA(1,2,1)(0,0,0)[6]             : AIC=119.290, Time=0.12 sec\n",
      " ARIMA(1,2,1)(0,0,1)[6]             : AIC=115.654, Time=1.37 sec\n",
      " ARIMA(1,2,1)(0,0,2)[6]             : AIC=103.959, Time=6.61 sec\n",
      " ARIMA(1,2,1)(0,0,3)[6]             : AIC=105.746, Time=17.32 sec\n",
      " ARIMA(1,2,1)(1,0,0)[6]             : AIC=113.109, Time=1.39 sec\n",
      " ARIMA(1,2,1)(1,0,1)[6]             : AIC=78.077, Time=6.20 sec\n",
      " ARIMA(1,2,1)(1,0,2)[6]             : AIC=78.979, Time=19.30 sec\n",
      " ARIMA(1,2,2)(0,0,0)[6]             : AIC=120.853, Time=0.41 sec\n",
      " ARIMA(1,2,2)(0,0,1)[6]             : AIC=117.498, Time=2.58 sec\n",
      " ARIMA(1,2,2)(0,0,2)[6]             : AIC=105.278, Time=11.80 sec\n",
      " ARIMA(1,2,2)(1,0,0)[6]             : AIC=114.590, Time=2.60 sec\n",
      " ARIMA(1,2,2)(1,0,1)[6]             : AIC=77.526, Time=7.40 sec\n",
      " ARIMA(1,2,3)(0,0,0)[6]             : AIC=122.270, Time=0.71 sec\n",
      " ARIMA(1,2,3)(0,0,1)[6]             : AIC=120.499, Time=4.40 sec\n",
      " ARIMA(1,2,3)(1,0,0)[6]             : AIC=118.807, Time=3.00 sec\n",
      " ARIMA(2,2,0)(0,0,0)[6]             : AIC=163.783, Time=0.19 sec\n",
      " ARIMA(2,2,0)(0,0,1)[6]             : AIC=160.625, Time=1.00 sec\n",
      " ARIMA(2,2,0)(0,0,2)[6]             : AIC=146.128, Time=4.10 sec\n",
      " ARIMA(2,2,0)(0,0,3)[6]             : AIC=147.486, Time=6.00 sec\n",
      " ARIMA(2,2,0)(1,0,0)[6]             : AIC=158.299, Time=0.89 sec\n",
      " ARIMA(2,2,0)(1,0,1)[6]             : AIC=inf, Time=4.20 sec\n",
      " ARIMA(2,2,0)(1,0,2)[6]             : AIC=105.318, Time=12.21 sec\n",
      " ARIMA(2,2,1)(0,0,0)[6]             : AIC=121.182, Time=0.23 sec\n",
      " ARIMA(2,2,1)(0,0,1)[6]             : AIC=117.570, Time=2.47 sec\n",
      " ARIMA(2,2,1)(0,0,2)[6]             : AIC=105.658, Time=6.50 sec\n",
      " ARIMA(2,2,1)(1,0,0)[6]             : AIC=114.806, Time=2.20 sec\n",
      " ARIMA(2,2,1)(1,0,1)[6]             : AIC=78.999, Time=6.70 sec\n",
      " ARIMA(2,2,2)(0,0,0)[6]             : AIC=121.253, Time=0.50 sec\n",
      " ARIMA(2,2,2)(0,0,1)[6]             : AIC=117.886, Time=3.51 sec\n",
      " ARIMA(2,2,2)(1,0,0)[6]             : AIC=115.222, Time=3.69 sec\n",
      " ARIMA(2,2,3)(0,0,0)[6]             : AIC=122.257, Time=1.32 sec\n",
      " ARIMA(3,2,0)(0,0,0)[6]             : AIC=162.728, Time=0.29 sec\n",
      " ARIMA(3,2,0)(0,0,1)[6]             : AIC=160.416, Time=0.90 sec\n",
      " ARIMA(3,2,0)(0,0,2)[6]             : AIC=145.866, Time=4.69 sec\n",
      " ARIMA(3,2,0)(1,0,0)[6]             : AIC=158.416, Time=1.50 sec\n",
      " ARIMA(3,2,0)(1,0,1)[6]             : AIC=inf, Time=4.31 sec\n",
      " ARIMA(3,2,1)(0,0,0)[6]             : AIC=121.484, Time=0.50 sec\n",
      " ARIMA(3,2,1)(0,0,1)[6]             : AIC=117.222, Time=2.99 sec\n",
      " ARIMA(3,2,1)(1,0,0)[6]             : AIC=114.174, Time=3.20 sec\n",
      " ARIMA(3,2,2)(0,0,0)[6]             : AIC=120.695, Time=0.82 sec\n",
      "\n",
      "Best model:  ARIMA(1,2,2)(1,0,1)[6]          \n",
      "Total fit time: 390.180 seconds\n"
     ]
    }
   ],
   "source": [
    "# Ajustar el modelo SARIMA utilizando auto_arima\n",
    "mod1 = pm.auto_arima(ipc_train_pd, start_p=1, start_q=1, start_P=1, start_Q=1,\n",
    "                      max_p=2, max_q=2, max_P=1, max_Q=2,\n",
    "                      d=2, D=0, m=6,\n",
    "                      seasonal=True, stepwise=False,\n",
    "                      suppress_warnings=True, error_action=\"ignore\", trace=True)\n",
    "\n"
   ]
  },
  {
   "cell_type": "code",
   "execution_count": 31,
   "id": "00713585",
   "metadata": {},
   "outputs": [
    {
     "name": "stdout",
     "output_type": "stream",
     "text": [
      "Model:  ARIMA(1,2,2)(1,0,1)[6]          \n",
      "AIC: 77.52610599213183\n",
      "p-value: 1.6432451111323905e-05\n",
      "Interpretation: El modelo no es apropiado\n",
      "Predictions: 2023-01-01    129.927112\n",
      "2023-02-01    130.721177\n",
      "2023-03-01    131.782109\n",
      "2023-04-01    132.794818\n",
      "2023-05-01    133.633735\n",
      "2023-06-01    134.398220\n",
      "Freq: MS, dtype: float64\n",
      "RMSE: 1.3978835578963997\n"
     ]
    }
   ],
   "source": [
    "# mod1: # nombre del modelo \n",
    "# aic1: # valor del AIC para el modelo\n",
    "# pred1: # nombre donde se guardarán las predicciones\n",
    "# rmse1: # valor del rmse\n",
    "\n",
    "# Guarda el AIC\n",
    "aic1 = mod1.aic()\n",
    "\n",
    "result2 = sm.stats.acorr_ljungbox(mod1.resid() , lags=[18], return_df=True)\n",
    "p1 = result2.loc[18, 'lb_pvalue']\n",
    "# Interpreta el p-valor\n",
    "if p1 < 0.05:\n",
    "    Inter_p1 = \"El modelo no es apropiado\"\n",
    "else:\n",
    "    Inter_p1 = \"El modelo es apropiado\"\n",
    "\n",
    "# Realiza y guarda las predicciones\n",
    "pred1 = mod1.predict(n_periods=len(ipc_val_pd))\n",
    "\n",
    "# Calcula el RMSE de las predicciones\n",
    "rmse1 = np.sqrt(mean_squared_error(ipc_val_pd, pred1))\n",
    "\n",
    "# Imprime los resultados\n",
    "print(f\"Model: {mod1}\")\n",
    "print(f\"AIC: {aic1}\")\n",
    "print(f\"p-value: {p1}\")\n",
    "print(f\"Interpretation: {Inter_p1}\")\n",
    "print(f\"Predictions: {pred1}\")\n",
    "print(f\"RMSE: {rmse1}\")"
   ]
  },
  {
   "cell_type": "markdown",
   "id": "eaed082a",
   "metadata": {},
   "source": [
    "A partir del correlograma, es posible evidenciar lo que ya sabíamos, que la serie es no estacionaria y que requiere transformación y diferenciación."
   ]
  },
  {
   "cell_type": "markdown",
   "id": "17dd1eeb",
   "metadata": {},
   "source": [
    "### Serie transformada y diferenciada"
   ]
  },
  {
   "cell_type": "markdown",
   "id": "af01752b",
   "metadata": {},
   "source": [
    "De la tarea 1, ya sabemos que la tendencia de la serie original se ajusta muy bien a un polinomio de orden 7. Propongo restar los valores de la serie origina a dicha tendencia de orden 7 para transformar la serie"
   ]
  },
  {
   "cell_type": "code",
   "execution_count": 32,
   "id": "698d94ea",
   "metadata": {},
   "outputs": [],
   "source": [
    "# from sklearn.preprocessing import PolynomialFeatures\n",
    "# from sklearn.linear_model import LinearRegression\n",
    "\n",
    "# # Ajustar un modelo polinomial de orden 7\n",
    "# poly = PolynomialFeatures(degree=7)\n",
    "# X = np.array(range(len(ipc))).reshape(-1, 1)\n",
    "# y = df.values\n",
    "# X_poly = poly.fit_transform(X)\n",
    "# poly_regressor = LinearRegression().fit(X_poly, y)\n",
    "\n",
    "# # Restar el modelo ajustado de los datos originales\n",
    "# y_poly_detrended = y - poly_regressor.predict(X_poly)\n",
    "\n",
    "# # Crear un gráfico de la serie y_poly_detrended\n",
    "# plt.figure(figsize=(10, 6))\n",
    "# plt.plot(df.index, y_poly_detrended, label='y_poly_detrended')\n",
    "# plt.title('Serie transformada sin tendencia de grado 7')\n",
    "# plt.xlabel('Fecha')\n",
    "# plt.ylabel('Valor')\n",
    "# plt.legend()\n",
    "# plt.grid(True)\n",
    "# plt.show()"
   ]
  },
  {
   "cell_type": "code",
   "execution_count": 33,
   "id": "750fe227",
   "metadata": {},
   "outputs": [],
   "source": [
    "# # Asegurarse de que el array de numpy sea unidimensional\n",
    "# y_poly_detrended = y_poly_detrended.flatten()\n",
    "\n",
    "# # Convertir el array de numpy a una serie de pandas\n",
    "# y_poly_detrended_pd = pd.Series(y_poly_detrended)\n",
    "# y_poly_detrended_pd.index = df.index\n",
    "\n",
    "# # Convertir la serie de pandas a una serie de tiempo de Darts\n",
    "# y_poly_detrended_ts = TimeSeries.from_series(y_poly_detrended_pd)\n",
    "\n",
    "# # Diferenciando la serie \n",
    "# y_poly_detrended_ts_diff = y_poly_detrended_ts.diff()\n",
    "\n",
    "# # Obtener el punto de división basado en los últimos 6 meses\n",
    "# split_date = y_poly_detrended_ts_diff.end_time() - pd.DateOffset(months=5)\n",
    "\n",
    "# # Separar los datos en entrenamiento y validación\n",
    "# ipc_train_diff, ipc_val_diff = y_poly_detrended_ts_diff.split_before(split_date)\n",
    "\n",
    "# # Convierte la serie temporal de Darts a una serie de pandas\n",
    "# ipc_train_diff_pd = ipc_train_diff.pd_series()\n",
    "# ipc_val_diff_pd = ipc_val_diff.pd_series()\n",
    "\n",
    "# ipc_train_diff.plot()\n",
    "# plt.title('IPC transformada quitando tendencia de grado 7 y diferenciada')\n",
    "# plt.show()"
   ]
  },
  {
   "cell_type": "code",
   "execution_count": 34,
   "id": "481bb12f",
   "metadata": {},
   "outputs": [],
   "source": [
    "# from statsmodels.tsa.stattools import adfuller, kpss\n",
    "\n",
    "# # Realizar el test de Dickey-Fuller\n",
    "# result = adfuller(ipc_train_diff_pd)\n",
    "# print(f'ADF Statistic: {result[0]}')\n",
    "# print(f'p-value: {result[1]}')\n",
    "\n",
    "# # Realizar el test de KPSS\n",
    "# result = kpss(ipc_train_diff_pd)\n",
    "# print(f'KPSS Statistic: {result[0]}')\n",
    "# print(f'p-value: {result[1]}')"
   ]
  },
  {
   "cell_type": "code",
   "execution_count": 35,
   "id": "709c9072",
   "metadata": {},
   "outputs": [],
   "source": [
    "# # Graficar ACF serie diferenciada\n",
    "# plot_acf(ipc_train_diff)\n",
    "\n",
    "# # Graficar PACF serie diferenciada\n",
    "# plot_pacf(ipc_train_diff)"
   ]
  },
  {
   "cell_type": "markdown",
   "id": "a23ed5ff",
   "metadata": {},
   "source": [
    "Ahora, vamos a entrenar un modelo SARIMA, con una componente estacional = 6, dado que es posible evidenciar lags significativos en 6, 12 y 24."
   ]
  },
  {
   "cell_type": "code",
   "execution_count": 36,
   "id": "3048c6e1",
   "metadata": {},
   "outputs": [],
   "source": [
    "# # Ajustar el modelo SARIMA utilizando auto_arima\n",
    "# mod1 = pm.auto_arima(ipc_train_diff_pd, seasonal=True, stepwise=True,\n",
    "#                       suppress_warnings=True, error_action=\"ignore\", trace=True,\n",
    "#                      m=6)"
   ]
  },
  {
   "cell_type": "code",
   "execution_count": 37,
   "id": "57ab2cdd",
   "metadata": {},
   "outputs": [],
   "source": [
    "# # mod1: # nombre del modelo \n",
    "# # aic1: # valor del AIC para el modelo\n",
    "# # pred1: # nombre donde se guardarán las predicciones\n",
    "# # rmse1: # valor del rmse\n",
    "\n",
    "# # Guarda el AIC\n",
    "# aic1 = mod1.aic()\n",
    "\n",
    "# result2 = sm.stats.acorr_ljungbox(mod1.resid() , lags=[18], return_df=True)\n",
    "# p1 = result2.loc[18, 'lb_pvalue']\n",
    "# # Interpreta el p-valor\n",
    "# if p1 < 0.05:\n",
    "#     Inter_p1 = \"El modelo no es apropiado\"\n",
    "# else:\n",
    "#     Inter_p1 = \"El modelo es apropiado\"\n",
    "\n",
    "# # Realiza y guarda las predicciones\n",
    "# pred1 = mod1.predict(n_periods=len(ipc_val_diff))\n",
    "\n",
    "# # Calcula el RMSE de las predicciones\n",
    "# rmse1 = np.sqrt(mean_squared_error(ipc_val_diff_pd, pred1))\n",
    "\n",
    "# # Imprime los resultados\n",
    "# print(f\"Model: {mod1}\")\n",
    "# print(f\"AIC: {aic1}\")\n",
    "# print(f\"p-value: {p1}\")\n",
    "# print(f\"Interpretation: {Inter_p1}\")\n",
    "# print(f\"Predictions: {pred1}\")\n",
    "# print(f\"RMSE: {rmse1}\")"
   ]
  },
  {
   "cell_type": "markdown",
   "id": "b1f8f295",
   "metadata": {},
   "source": [
    "Es posible identificar que el modelo propuesto es un SARIMA(3,0,3)(2,0,2)[6]. El AIC es menor que el obtenido en el punto 1. Así mismo, el p-value indica que el modelo es apropiado. El RMSE= 0.87 también nos brinda mucha confianza y nos muestra que es un excelente modelo."
   ]
  },
  {
   "cell_type": "code",
   "execution_count": 48,
   "id": "1d84f3db",
   "metadata": {},
   "outputs": [
    {
     "name": "stdout",
     "output_type": "stream",
     "text": [
      "AIC: 112.96982361660804\n",
      "RMSE: 2.3771046775955385\n",
      "P-VALUE: 2.017715473990375e-26\n"
     ]
    }
   ],
   "source": [
    "# Parámetros no estacionales (p, d, q)\n",
    "p, d, q = 1, 2, 2 # Reemplaza con tus valores\n",
    "\n",
    "# Parámetros estacionales (P, D, Q, m)\n",
    "P, D, Q, m = 1, 0, 1, 6  # Reemplaza con tus valores (m es la periodicidad estacional)\n",
    "\n",
    "# Ajuste del modelo SARIMA\n",
    "modfinal = sm.tsa.SARIMAX(df,\n",
    "                            order=(p, d, q),\n",
    "                              seasonal_order=(P, D, Q, m),\n",
    "                               enforce_stationarity=False,\n",
    "                               enforce_invertibility=False,\n",
    "                                trend='n')\n",
    "\n",
    "# Ajuste del modelo\n",
    "resultado_sarima = modfinal.fit(disp=0)\n",
    "\n",
    "# # Mostrar el resumen del modelo\n",
    "# print(resultado_sarima.summary())\n",
    "\n",
    "print(\"AIC:\", resultado_sarima.aic)\n",
    "\n",
    "# Realizar predicciones\n",
    "prediccion = resultado_sarima.get_forecast(steps=6)\n",
    "\n",
    "# Obtener valores predichos y sus intervalos de confianza\n",
    "predicciones_mean = prediccion.predicted_mean\n",
    "\n",
    "r_pvalue = acorr_ljungbox(resultado_sarima.resid , lags=18, return_df=True)\n",
    "p1 = r_pvalue.loc[18, 'lb_pvalue']\n",
    "\n",
    "# Calcular RMSE\n",
    "rmse = np.sqrt(mean_squared_error(ipc_val_pd, predicciones_mean))\n",
    "print(\"RMSE:\", rmse)\n",
    "print(\"P-VALUE:\", p1)"
   ]
  },
  {
   "cell_type": "code",
   "execution_count": 49,
   "id": "c915cea5",
   "metadata": {},
   "outputs": [
    {
     "name": "stdout",
     "output_type": "stream",
     "text": [
      "AIC: 112.96982361660804\n",
      "RMSE: 2.3771046775955385\n"
     ]
    }
   ],
   "source": [
    "print(\"AIC:\", resultado_sarima.aic)\n",
    "\n",
    "# Realizar predicciones\n",
    "prediccion = resultado_sarima.get_forecast(6)\n",
    "\n",
    "# Obtener valores predichos y sus intervalos de confianza\n",
    "predicciones_mean = prediccion.predicted_mean\n",
    "\n",
    "p_values = resultado_sarima.pvalues\n",
    "\n",
    "# Calcular RMSE\n",
    "rmse = np.sqrt(mean_squared_error(ipc_val_pd, predicciones_mean))\n",
    "print(\"RMSE:\", rmse)"
   ]
  },
  {
   "cell_type": "code",
   "execution_count": 50,
   "id": "496bd6c8",
   "metadata": {},
   "outputs": [
    {
     "data": {
      "text/plain": [
       "2023-07-01    132.242362\n",
       "2023-08-01    132.517415\n",
       "2023-09-01    133.266123\n",
       "2023-10-01    133.898630\n",
       "2023-11-01    134.354486\n",
       "2023-12-01    134.698226\n",
       "Freq: MS, Name: predicted_mean, dtype: float64"
      ]
     },
     "execution_count": 50,
     "metadata": {},
     "output_type": "execute_result"
    }
   ],
   "source": [
    "prediccion.predicted_mean"
   ]
  },
  {
   "cell_type": "code",
   "execution_count": 51,
   "id": "d3c6a76f",
   "metadata": {
    "deletable": false,
    "editable": false,
    "nbgrader": {
     "cell_type": "code",
     "checksum": "37104e1cf19e27ee5b0241aaa22edab8",
     "grade": true,
     "grade_id": "cell-a9ad10d4bd525b60",
     "locked": true,
     "points": 15,
     "schema_version": 3,
     "solution": false,
     "task": false
    }
   },
   "outputs": [],
   "source": [
    "# Prueba oculta: Check del modelo mejor que autoarima según AIC"
   ]
  },
  {
   "cell_type": "code",
   "execution_count": 52,
   "id": "4c02a543",
   "metadata": {
    "deletable": false,
    "editable": false,
    "nbgrader": {
     "cell_type": "code",
     "checksum": "eaefb01b5d40fa27ecdb70aa052b1b7e",
     "grade": true,
     "grade_id": "cell-9f648a91c57e1dde",
     "locked": true,
     "points": 0,
     "schema_version": 3,
     "solution": false,
     "task": false
    }
   },
   "outputs": [],
   "source": [
    "# Prueba oculta: Check para el p-valor de la prueba de Box-Pierce-Ljung"
   ]
  },
  {
   "cell_type": "code",
   "execution_count": 53,
   "id": "ce3609d3",
   "metadata": {
    "deletable": false,
    "editable": false,
    "nbgrader": {
     "cell_type": "code",
     "checksum": "61ca26ae0dd1236e91bc6a5d3815c3b8",
     "grade": true,
     "grade_id": "cell-3214f96cb389d681",
     "locked": true,
     "points": 10,
     "schema_version": 3,
     "solution": false,
     "task": false
    }
   },
   "outputs": [],
   "source": [
    "# Prueba oculta: Check del RMSE del modelo propuesto"
   ]
  },
  {
   "cell_type": "markdown",
   "id": "55c051d7",
   "metadata": {
    "deletable": false,
    "editable": false,
    "nbgrader": {
     "cell_type": "markdown",
     "checksum": "a4870822a803f7e9a9f8d8d25807207b",
     "grade": false,
     "grade_id": "cell-a86c8a3a53f6a29b",
     "locked": true,
     "schema_version": 3,
     "solution": false,
     "task": false
    }
   },
   "source": [
    "### (Parte 4) Predecir de julio a diciembre de 2023\n",
    "\n",
    "- Utilizar los órdenes del mejor modelo ajustado con la muestra de entrenamiento y ajustar con toda la muestra.\n",
    "- Realizar las predicciones para los meses de julio a diciembre de 2023."
   ]
  },
  {
   "cell_type": "code",
   "execution_count": 54,
   "id": "55b3fcba",
   "metadata": {},
   "outputs": [
    {
     "name": "stdout",
     "output_type": "stream",
     "text": [
      "Predicciones:\n",
      "2023-07-01    132.242362\n",
      "2023-08-01    132.517415\n",
      "2023-09-01    133.266123\n",
      "2023-10-01    133.898630\n",
      "2023-11-01    134.354486\n",
      "2023-12-01    134.698226\n",
      "Freq: MS, Name: mean, dtype: float64\n",
      "\n",
      "Intervalos de Confianza:\n",
      "IPC         mean_ci_lower  mean_ci_upper\n",
      "2023-07-01     131.713917     132.770807\n",
      "2023-08-01     131.619103     133.415728\n",
      "2023-09-01     132.005911     134.526335\n",
      "2023-10-01     132.283450     135.513811\n",
      "2023-11-01     132.392892     136.316081\n",
      "2023-12-01     132.399754     136.996698\n"
     ]
    }
   ],
   "source": [
    "# Hacer predicciones para los próximos 6 pasos de tiempo\n",
    "prediccion = resultado_sarima.get_forecast(steps=6)\n",
    "prediccion_confianza = prediccion.summary_frame()\n",
    "\n",
    "# Imprimir las predicciones\n",
    "print(\"Predicciones:\")\n",
    "print(prediccion_confianza['mean'])\n",
    "\n",
    "# Imprimir los intervalos de confianza\n",
    "print(\"\\nIntervalos de Confianza:\")\n",
    "print(prediccion_confianza[['mean_ci_lower', 'mean_ci_upper']])"
   ]
  },
  {
   "cell_type": "code",
   "execution_count": 55,
   "id": "2b301a18",
   "metadata": {
    "deletable": false,
    "nbgrader": {
     "cell_type": "code",
     "checksum": "67b1ffa4c7362ce0051926cd1c3fe83d",
     "grade": false,
     "grade_id": "cell-d8ab400a25e1c78b",
     "locked": false,
     "schema_version": 3,
     "solution": true,
     "task": false
    }
   },
   "outputs": [
    {
     "data": {
      "text/plain": [
       "2023-07-01    132.242362\n",
       "2023-08-01    132.517415\n",
       "2023-09-01    133.266123\n",
       "2023-10-01    133.898630\n",
       "2023-11-01    134.354486\n",
       "2023-12-01    134.698226\n",
       "Freq: MS, Name: predicted_mean, dtype: float64"
      ]
     },
     "execution_count": 55,
     "metadata": {},
     "output_type": "execute_result"
    }
   ],
   "source": [
    "# ## Guardar la información en:\n",
    "# # modfinal: # nombre del modelo \n",
    "# # predicciones: # nombre donde se guardarán las predicciones\n",
    "\n",
    "# # your code here\n",
    "\n",
    "# Ajuste del modelo SARIMA\n",
    "modfinal = sm.tsa.SARIMAX(df,\n",
    "                            order=(p, d, q),\n",
    "                              seasonal_order=(P, D, Q, m),\n",
    "                               enforce_stationarity=False,\n",
    "                               enforce_invertibility=False,\n",
    "                                trend='n').fit(disp=0)\n",
    "\n",
    "pred = modfinal.get_forecast(steps=6)\n",
    "\n",
    "predicciones = pred.predicted_mean\n",
    "predicciones"
   ]
  },
  {
   "cell_type": "code",
   "execution_count": 56,
   "id": "c61a5353",
   "metadata": {},
   "outputs": [],
   "source": [
    "mod1 = sm.tsa.SARIMAX(ipc_train_pd,\n",
    "                            order=(p, d, q),\n",
    "                              seasonal_order=(P, D, Q, m),\n",
    "                               enforce_stationarity=False,\n",
    "                               enforce_invertibility=False,\n",
    "                                trend='n').fit(disp=0)"
   ]
  },
  {
   "cell_type": "code",
   "execution_count": 57,
   "id": "1c30cc3e",
   "metadata": {
    "deletable": false,
    "editable": false,
    "nbgrader": {
     "cell_type": "code",
     "checksum": "221eb9b243e81c8dab07edb38c8105a1",
     "grade": true,
     "grade_id": "cell-ab704560fe9f64d2",
     "locked": true,
     "points": 9,
     "schema_version": 3,
     "solution": false,
     "task": false
    }
   },
   "outputs": [],
   "source": [
    "# Prueba oculta: Check para las predicciones del modelo propuesto"
   ]
  },
  {
   "cell_type": "code",
   "execution_count": null,
   "id": "924709c5",
   "metadata": {},
   "outputs": [],
   "source": []
  },
  {
   "cell_type": "code",
   "execution_count": null,
   "id": "ad425f7f",
   "metadata": {},
   "outputs": [],
   "source": []
  }
 ],
 "metadata": {
  "kernelspec": {
   "display_name": "Python 3 (ipykernel)",
   "language": "python",
   "name": "python3"
  },
  "language_info": {
   "codemirror_mode": {
    "name": "ipython",
    "version": 3
   },
   "file_extension": ".py",
   "mimetype": "text/x-python",
   "name": "python",
   "nbconvert_exporter": "python",
   "pygments_lexer": "ipython3",
   "version": "3.10.6"
  }
 },
 "nbformat": 4,
 "nbformat_minor": 5
}
