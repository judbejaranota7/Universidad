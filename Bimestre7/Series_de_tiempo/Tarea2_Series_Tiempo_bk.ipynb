{
 "cells": [
  {
   "cell_type": "markdown",
   "id": "54132418",
   "metadata": {
    "deletable": false,
    "editable": false,
    "nbgrader": {
     "cell_type": "markdown",
     "checksum": "668f2d47080cb015b5908c6443f05953",
     "grade": false,
     "grade_id": "cell-17f640848cc54165",
     "locked": true,
     "schema_version": 3,
     "solution": false,
     "task": false
    }
   },
   "source": [
    "## Tarea: Ajuste y Comparación de Modelos de la familia SARIMA\n",
    "\n",
    "¡Bienvenido(a)!\n",
    "Te invitamos a realizar el segundo trabajo.\n",
    "- Objetivo: Compar modelos de series de tiempo a través de casos prácticos desarrollados en Python.\n",
    "- Tipo de actividad: Individual\n",
    "- Tipo de evaluación: Sumativa \n",
    "- Ponderación: 15%\n",
    "- Puntaje: 60 puntos\n",
    "- Calificación: Escala de 1 a 7, con una exigencia de 50%. La nota mínima para aprobar es 4.0."
   ]
  },
  {
   "cell_type": "markdown",
   "id": "efdbd2e5",
   "metadata": {
    "deletable": false,
    "editable": false,
    "nbgrader": {
     "cell_type": "markdown",
     "checksum": "c77bc69aedd84431db6d4dc0ba7c43fb",
     "grade": false,
     "grade_id": "cell-d5293ff3680fdb36",
     "locked": true,
     "schema_version": 3,
     "solution": false,
     "task": false
    }
   },
   "source": [
    "## Enunciado\n",
    "\n",
    "### Introducción\n",
    "\n",
    "Esta tarea está pensada en abordar y profundizar los métodos probabilísticos para ajustar series temporales, a través de los modelos de la familia ARIMA. En primer lugar se realizará un análisis descriptivo para proponer los órdenes del modelo SARIMA(p,d,q)x(P,D,Q)[s]. Con el objetivo de comprender las técnicas de selección de modelos se ajustarán diferentes modelos propuestos junto con el modelo propuesto por autoarima con el fin de seleccionar el modelo más apropiado y analizar si es o no adecuado. Además, se determinarán las predicciones para un periodo de interés.\n",
    "\n",
    "### Descripción del problema\n",
    "\n",
    "La serie \"IPC.xlsx\" (disponible en la plataforma) corresponde al índice de precio al consumidor de  Chile desde abril de 1989 hasta junio de 2023 medido de forma mensual. El objetivo del análisis es predecir el IPC para el segundo semestre de 2023, es decir, de julio a diciembre de 2023."
   ]
  },
  {
   "cell_type": "markdown",
   "id": "8ef82006",
   "metadata": {
    "deletable": false,
    "editable": false,
    "nbgrader": {
     "cell_type": "markdown",
     "checksum": "9b3081f49bec55dbcb1211d984674bc7",
     "grade": false,
     "grade_id": "cell-d97a8236077fedad",
     "locked": true,
     "schema_version": 3,
     "solution": false,
     "task": false
    }
   },
   "source": [
    "#### Preparación de la data:\n",
    "Dar el formato adecuado para aplicar los métodos de series de tiempo en Python. Además, de la data completa separar en dos partes (entrenamiento y validación), donde reserve la información de enero a junio de 2023 que actuará como muestra de validación mientras que el resto será la muestra de entrenamiento de los modelos. "
   ]
  },
  {
   "cell_type": "code",
   "execution_count": 1,
   "id": "c0bb83f1",
   "metadata": {
    "deletable": false,
    "editable": false,
    "nbgrader": {
     "cell_type": "code",
     "checksum": "6f0829f8ddb101f98afd5243de31b9a8",
     "grade": false,
     "grade_id": "cell-9839402df4c918a8",
     "locked": true,
     "schema_version": 3,
     "solution": false,
     "task": false
    }
   },
   "outputs": [],
   "source": [
    "## Librerias\n",
    "import numpy as np\n",
    "import pandas as pd\n",
    "from darts import TimeSeries\n",
    "import matplotlib.pyplot as plt\n",
    "import pmdarima as pm\n",
    "import statsmodels.api as sm\n",
    "\n",
    "from darts.utils.statistics import plot_acf, plot_pacf\n",
    "from darts.models import ARIMA\n",
    "from statsmodels.tsa.statespace.sarimax import SARIMAX\n",
    "from statsmodels.tsa.stattools import adfuller\n",
    "\n",
    "import warnings\n",
    "warnings.filterwarnings('ignore')\n",
    "warnings.warn('DelftStack')\n",
    "warnings.warn('Do not show this message')"
   ]
  },
  {
   "cell_type": "code",
   "execution_count": 2,
   "id": "f2a0628b",
   "metadata": {
    "deletable": false,
    "editable": false,
    "nbgrader": {
     "cell_type": "code",
     "checksum": "da398b97c02cea9c6440a471d8120105",
     "grade": false,
     "grade_id": "cell-20eb574dd6ab3712",
     "locked": true,
     "schema_version": 3,
     "solution": false,
     "task": false
    }
   },
   "outputs": [
    {
     "name": "stdout",
     "output_type": "stream",
     "text": [
      "   YEAR  MONTH        IPC      Fecha\n",
      "0  1989      4  17.325726 1989-04-01\n",
      "1  1989      5  17.665933 1989-05-01\n",
      "2  1989      6  17.977622 1989-06-01\n",
      "3  1989      7  18.305059 1989-07-01\n",
      "4  1989      8  18.487909 1989-08-01\n"
     ]
    },
    {
     "data": {
      "text/html": [
       "<div>\n",
       "<style scoped>\n",
       "    .dataframe tbody tr th:only-of-type {\n",
       "        vertical-align: middle;\n",
       "    }\n",
       "\n",
       "    .dataframe tbody tr th {\n",
       "        vertical-align: top;\n",
       "    }\n",
       "\n",
       "    .dataframe thead th {\n",
       "        text-align: right;\n",
       "    }\n",
       "</style>\n",
       "<table border=\"1\" class=\"dataframe\">\n",
       "  <thead>\n",
       "    <tr style=\"text-align: right;\">\n",
       "      <th></th>\n",
       "      <th>IPC</th>\n",
       "    </tr>\n",
       "    <tr>\n",
       "      <th>Fecha</th>\n",
       "      <th></th>\n",
       "    </tr>\n",
       "  </thead>\n",
       "  <tbody>\n",
       "    <tr>\n",
       "      <th>1989-04-01</th>\n",
       "      <td>17.325726</td>\n",
       "    </tr>\n",
       "    <tr>\n",
       "      <th>1989-05-01</th>\n",
       "      <td>17.665933</td>\n",
       "    </tr>\n",
       "    <tr>\n",
       "      <th>1989-06-01</th>\n",
       "      <td>17.977622</td>\n",
       "    </tr>\n",
       "    <tr>\n",
       "      <th>1989-07-01</th>\n",
       "      <td>18.305059</td>\n",
       "    </tr>\n",
       "    <tr>\n",
       "      <th>1989-08-01</th>\n",
       "      <td>18.487909</td>\n",
       "    </tr>\n",
       "  </tbody>\n",
       "</table>\n",
       "</div>"
      ],
      "text/plain": [
       "                  IPC\n",
       "Fecha                \n",
       "1989-04-01  17.325726\n",
       "1989-05-01  17.665933\n",
       "1989-06-01  17.977622\n",
       "1989-07-01  18.305059\n",
       "1989-08-01  18.487909"
      ]
     },
     "execution_count": 2,
     "metadata": {},
     "output_type": "execute_result"
    }
   ],
   "source": [
    "## Importar Datos (La base de datos ya está cargada, no es necesario volver a cargar)\n",
    "df = pd.read_excel('IPC.xlsx')\n",
    "df['Fecha'] = pd.to_datetime(df[['YEAR', 'MONTH']].assign(day=1))\n",
    "print(df.head())\n",
    "\n",
    "## Datos y Fecha\n",
    "df.set_index('Fecha', inplace=True)\n",
    "df.drop(['YEAR', 'MONTH'], axis=1, inplace=True)\n",
    "df.head()"
   ]
  },
  {
   "cell_type": "code",
   "execution_count": 3,
   "id": "18aad166",
   "metadata": {
    "deletable": false,
    "nbgrader": {
     "cell_type": "code",
     "checksum": "e8c3ab6fbf39def6de5651cefd78b68c",
     "grade": false,
     "grade_id": "cell-236989524fc61bbb",
     "locked": false,
     "schema_version": 3,
     "solution": true,
     "task": false
    }
   },
   "outputs": [],
   "source": [
    "# Formato de Serie de Tiempo: Guardar la información en\n",
    "# ipc: serie completa\n",
    "# ipc_train: serie entrenamiento\n",
    "# ipc_val: serie validación\n",
    "\n",
    "# your code here\n",
    "ipc = TimeSeries.from_series(df)\n",
    "\n",
    "# Obtener el punto de división basado en los últimos 6 meses\n",
    "split_date = ipc.end_time() - pd.DateOffset(months=5)\n",
    "\n",
    "# Separar los datos en entrenamiento y validación\n",
    "ipc_train, ipc_val = ipc.split_before(pd.Timestamp(split_date))\n"
   ]
  },
  {
   "cell_type": "code",
   "execution_count": 4,
   "id": "40c042d5",
   "metadata": {
    "deletable": false,
    "editable": false,
    "nbgrader": {
     "cell_type": "code",
     "checksum": "53a3b4c17f089379572408a5996e81a4",
     "grade": true,
     "grade_id": "cell-e12099261c258332",
     "locked": true,
     "points": 4,
     "schema_version": 3,
     "solution": false,
     "task": false
    }
   },
   "outputs": [],
   "source": [
    "# Pruebas para medir si el formato es correcto\n",
    "assert len(ipc)==411, \"fallaste la prueba de len(ipc)==411\"\n",
    "assert len(ipc_train)==405, \"fallaste la prueba de len(ipc)==405\"\n",
    "assert len(ipc_val)==6, \"fallaste la prueba de len(ipc)==6\""
   ]
  },
  {
   "cell_type": "code",
   "execution_count": 5,
   "id": "723263ca",
   "metadata": {},
   "outputs": [
    {
     "data": {
      "image/png": "[encoded data removed]",
      "text/plain": [
       "<Figure size 1000x600 with 1 Axes>"
      ]
     },
     "metadata": {},
     "output_type": "display_data"
    }
   ],
   "source": [
    "df.plot(figsize=(10, 6))\n",
    "plt.title('ipc')\n",
    "plt.show()"
   ]
  },
  {
   "cell_type": "markdown",
   "id": "a6882de2",
   "metadata": {
    "deletable": false,
    "editable": false,
    "nbgrader": {
     "cell_type": "markdown",
     "checksum": "82a94981e0704c71f6547476c476212e",
     "grade": false,
     "grade_id": "cell-c82c7177902577a6",
     "locked": true,
     "schema_version": 3,
     "solution": false,
     "task": false
    }
   },
   "source": [
    "### (Parte 2) Ajuste un Modelo mediante autoarima\n",
    "\n",
    "- Ajustar un modelo SARIMA a la serie de entrenamiento. Por temas de tiempo de computo asumir que el periodo es 1, y considerar el resto de los parámetros de auto_arima los que vienen por defecto\n",
    "- Guardar el AIC\n",
    "- Aplicar el test de Box-Pierce-Ljung para H=18 y guardar p-valor\n",
    "- Realizar y guardar las predicciones\n",
    "- Guardar el RMSE de las predicciones"
   ]
  },
  {
   "cell_type": "code",
   "execution_count": 6,
   "id": "a59ac044",
   "metadata": {
    "deletable": false,
    "nbgrader": {
     "cell_type": "code",
     "checksum": "5b036941511558b2a4b496b7f488889d",
     "grade": false,
     "grade_id": "cell-96a3f52e0810c710",
     "locked": false,
     "schema_version": 3,
     "solution": true,
     "task": false
    }
   },
   "outputs": [
    {
     "name": "stdout",
     "output_type": "stream",
     "text": [
      "Performing stepwise search to minimize aic\n",
      " ARIMA(2,2,2)(0,0,0)[0]             : AIC=121.253, Time=0.50 sec\n",
      " ARIMA(0,2,0)(0,0,0)[0]             : AIC=245.508, Time=0.10 sec\n",
      " ARIMA(1,2,0)(0,0,0)[0]             : AIC=199.946, Time=0.11 sec\n",
      " ARIMA(0,2,1)(0,0,0)[0]             : AIC=138.800, Time=0.07 sec\n",
      " ARIMA(1,2,2)(0,0,0)[0]             : AIC=120.853, Time=0.41 sec\n",
      " ARIMA(0,2,2)(0,0,0)[0]             : AIC=118.886, Time=0.37 sec\n",
      " ARIMA(0,2,3)(0,0,0)[0]             : AIC=120.882, Time=0.51 sec\n",
      " ARIMA(1,2,1)(0,0,0)[0]             : AIC=119.290, Time=0.22 sec\n",
      " ARIMA(1,2,3)(0,0,0)[0]             : AIC=122.270, Time=0.88 sec\n",
      " ARIMA(0,2,2)(0,0,0)[0] intercept   : AIC=120.417, Time=0.51 sec\n",
      "\n",
      "Best model:  ARIMA(0,2,2)(0,0,0)[0]          \n",
      "Total fit time: 3.692 seconds\n"
     ]
    }
   ],
   "source": [
    "## Guardar la información en:\n",
    "# mod0: # nombre del modelo \n",
    "# aic0: # valor del AIC para el modelo\n",
    "# p0: valor del p-valor del test de Box-Pierce-Ljung\n",
    "# Inter_p0: # Debe responder: \"El modelo es apropiado\" o \"El modelo no es apropiado\", de acuerdo con la interpretación del p-valor\n",
    "# pred0: # nombre donde se guardarán las predicciones\n",
    "# rmse0: # valor del rmse\n",
    "\n",
    "# your code here\n",
    "from statsmodels.stats.diagnostic import acorr_ljungbox\n",
    "\n",
    "# Convierte la serie temporal de Darts a una serie de pandas\n",
    "ipc_train_pd = ipc_train.pd_series()\n",
    "ipc_val_pd = ipc_val.pd_series()\n",
    "\n",
    "\n",
    "# Ajustar el modelo SARIMA utilizando auto_arima\n",
    "mod0 = pm.auto_arima(ipc_train_pd, seasonal=True, stepwise=True,\n",
    "                      suppress_warnings=True, error_action=\"ignore\", trace=True, m=1)\n",
    "\n",
    "\n"
   ]
  },
  {
   "cell_type": "code",
   "execution_count": 7,
   "id": "a72f7c35",
   "metadata": {},
   "outputs": [
    {
     "data": {
      "text/plain": [
       "1.8561925233666172e-05"
      ]
     },
     "execution_count": 7,
     "metadata": {},
     "output_type": "execute_result"
    }
   ],
   "source": [
    "import statsmodels.api as sm\n",
    "# Guarda el AIC\n",
    "aic0 = mod0.aic()\n",
    "\n",
    "# Realiza el test de Box-Pierce-Ljung\n",
    "# _, p_value = \n",
    "# p0 = p_value[1][-1]\n",
    "# p_value\n",
    "\n",
    "result = acorr_ljungbox(mod0.resid() , lags=[18], return_df=True, boxpierce=True)\n",
    "p0 = result.loc[18, 'lb_pvalue']\n",
    "p0"
   ]
  },
  {
   "cell_type": "code",
   "execution_count": 8,
   "id": "7bf7fe52",
   "metadata": {},
   "outputs": [
    {
     "name": "stdout",
     "output_type": "stream",
     "text": [
      "Model:  ARIMA(0,2,2)(0,0,0)[0]          \n",
      "AIC: 118.88636648936048\n",
      "p-value: 1.8561925233666172e-05\n",
      "Interpretation: El modelo no es apropiado\n",
      "Predictions: 2023-01-01    129.800426\n",
      "2023-02-01    130.792906\n",
      "2023-03-01    131.785387\n",
      "2023-04-01    132.777867\n",
      "2023-05-01    133.770347\n",
      "2023-06-01    134.762827\n",
      "Freq: MS, dtype: float64\n",
      "RMSE: 1.5498133066800388\n"
     ]
    }
   ],
   "source": [
    "from sklearn.metrics import mean_squared_error\n",
    "\n",
    "# Interpreta el p-valor\n",
    "if p0 < 0.05:\n",
    "    Inter_p0 = \"El modelo no es apropiado\"\n",
    "else:\n",
    "    Inter_p0 = \"El modelo es apropiado\"\n",
    "\n",
    "# Realiza y guarda las predicciones\n",
    "pred0 = mod0.predict(n_periods=len(ipc_val))\n",
    "\n",
    "# Calcula el RMSE de las predicciones\n",
    "rmse0 = np.sqrt(mean_squared_error(ipc_val_pd, pred0))\n",
    "\n",
    "# Imprime los resultados\n",
    "print(f\"Model: {mod0}\")\n",
    "print(f\"AIC: {aic0}\")\n",
    "print(f\"p-value: {p0}\")\n",
    "print(f\"Interpretation: {Inter_p0}\")\n",
    "print(f\"Predictions: {pred0}\")\n",
    "print(f\"RMSE: {rmse0}\")\n"
   ]
  },
  {
   "cell_type": "code",
   "execution_count": 9,
   "id": "61a4e0f9",
   "metadata": {},
   "outputs": [
    {
     "data": {
      "text/plain": [
       "array([[-3.79883384e+00],\n",
       "       [-3.46946575e+00],\n",
       "       [-3.18980654e+00],\n",
       "       [-2.91479562e+00],\n",
       "       [-2.80398945e+00],\n",
       "       [-2.50172089e+00],\n",
       "       [-2.06604840e+00],\n",
       "       [-1.85767316e+00],\n",
       "       [-1.58268964e+00],\n",
       "       [-1.23695849e+00],\n",
       "       [-1.35119849e+00],\n",
       "       [-1.03950864e+00],\n",
       "       [-8.63908361e-01],\n",
       "       [-7.50583448e-01],\n",
       "       [-4.97640457e-01],\n",
       "       [-3.65594557e-01],\n",
       "       [-1.59346885e-01],\n",
       "       [ 7.15800800e-01],\n",
       "       [ 1.37421273e+00],\n",
       "       [ 1.31358661e+00],\n",
       "       [ 1.15299034e+00],\n",
       "       [ 9.59973484e-01],\n",
       "       [ 6.82125048e-01],\n",
       "       [ 6.63900693e-01],\n",
       "       [ 8.20035424e-01],\n",
       "       [ 1.15060051e+00],\n",
       "       [ 1.31430691e+00],\n",
       "       [ 1.47173980e+00],\n",
       "       [ 1.46571494e+00],\n",
       "       [ 1.48344753e+00],\n",
       "       [ 1.96159247e+00],\n",
       "       [ 1.87235196e+00],\n",
       "       [ 1.87396984e+00],\n",
       "       [ 1.83895468e+00],\n",
       "       [ 1.27009823e+00],\n",
       "       [ 1.10624111e+00],\n",
       "       [ 1.13075579e+00],\n",
       "       [ 1.08313373e+00],\n",
       "       [ 9.13904713e-01],\n",
       "       [ 8.82982846e-01],\n",
       "       [ 9.53115198e-01],\n",
       "       [ 1.32527509e+00],\n",
       "       [ 1.41025198e+00],\n",
       "       [ 1.50362170e+00],\n",
       "       [ 1.13848153e+00],\n",
       "       [ 8.05725735e-01],\n",
       "       [ 5.53992795e-01],\n",
       "       [ 3.60393285e-01],\n",
       "       [ 4.58454711e-01],\n",
       "       [ 5.85931967e-01],\n",
       "       [ 3.76046901e-01],\n",
       "       [ 3.43601422e-01],\n",
       "       [ 7.34147362e-01],\n",
       "       [ 7.84677644e-01],\n",
       "       [ 1.36977863e+00],\n",
       "       [ 1.02356970e+00],\n",
       "       [ 7.24474591e-01],\n",
       "       [ 7.52332132e-01],\n",
       "       [ 5.03388444e-01],\n",
       "       [ 5.75543476e-01],\n",
       "       [ 4.04415617e-01],\n",
       "       [ 6.08222414e-01],\n",
       "       [ 4.63410153e-01],\n",
       "       [ 3.49116838e-01],\n",
       "       [ 4.47497313e-01],\n",
       "       [ 3.00420235e-01],\n",
       "       [ 1.97522569e-01],\n",
       "       [ 1.06058896e-01],\n",
       "       [-1.16033638e-01],\n",
       "       [-1.85686058e-01],\n",
       "       [-3.04740031e-01],\n",
       "       [-3.73665077e-01],\n",
       "       [-4.38636173e-01],\n",
       "       [-4.97088292e-01],\n",
       "       [-4.94929015e-01],\n",
       "       [-4.43954051e-01],\n",
       "       [-3.23154271e-02],\n",
       "       [-7.19606905e-02],\n",
       "       [-2.35963937e-02],\n",
       "       [-2.89020029e-01],\n",
       "       [-4.52607001e-01],\n",
       "       [-6.17041500e-01],\n",
       "       [-6.65074308e-01],\n",
       "       [-6.12704306e-01],\n",
       "       [-4.22512788e-01],\n",
       "       [-3.17219087e-01],\n",
       "       [-3.88847281e-01],\n",
       "       [-5.16515403e-01],\n",
       "       [-5.74993188e-01],\n",
       "       [-6.00006977e-01],\n",
       "       [-5.09858838e-01],\n",
       "       [-5.69641138e-01],\n",
       "       [-6.37796367e-01],\n",
       "       [-6.33605090e-01],\n",
       "       [-4.63635706e-01],\n",
       "       [-5.41435618e-01],\n",
       "       [-6.08889490e-01],\n",
       "       [-7.19282856e-01],\n",
       "       [-8.23218410e-01],\n",
       "       [-7.40670249e-01],\n",
       "       [-7.52916312e-01],\n",
       "       [-4.97459998e-01],\n",
       "       [-8.43469990e-02],\n",
       "       [-2.18275106e-01],\n",
       "       [-3.47411447e-01],\n",
       "       [-1.86494236e-01],\n",
       "       [-4.46624182e-01],\n",
       "       [-4.33188079e-01],\n",
       "       [-4.15415602e-01],\n",
       "       [-5.04208645e-01],\n",
       "       [-5.07115860e-01],\n",
       "       [-4.61629750e-01],\n",
       "       [-4.58410196e-01],\n",
       "       [-3.54826277e-01],\n",
       "       [-1.00509796e-01],\n",
       "       [-2.15311154e-01],\n",
       "       [-1.07174445e-01],\n",
       "       [-4.49610178e-01],\n",
       "       [-5.66251111e-01],\n",
       "       [-3.83320022e-01],\n",
       "       [-3.34060522e-01],\n",
       "       [-4.22482564e-01],\n",
       "       [-4.95043480e-01],\n",
       "       [-6.07287719e-01],\n",
       "       [-6.43142900e-01],\n",
       "       [-6.64715931e-01],\n",
       "       [-6.13518474e-01],\n",
       "       [-6.54375437e-01],\n",
       "       [-6.50046306e-01],\n",
       "       [-6.97860930e-01],\n",
       "       [-5.23444795e-01],\n",
       "       [-2.52624325e-01],\n",
       "       [-1.18772990e-01],\n",
       "       [-1.26803353e-01],\n",
       "       [-1.26215180e-01],\n",
       "       [-1.76783760e-01],\n",
       "       [-1.58694490e-01],\n",
       "       [ 5.71131190e-02],\n",
       "       [ 2.77040351e-01],\n",
       "       [ 3.42589052e-01],\n",
       "       [ 2.80120491e-01],\n",
       "       [ 3.45613133e-01],\n",
       "       [ 4.62463244e-02],\n",
       "       [ 1.99500230e-01],\n",
       "       [ 3.48655645e-01],\n",
       "       [ 4.79380345e-01],\n",
       "       [ 3.88918512e-01],\n",
       "       [ 1.53267688e-01],\n",
       "       [ 4.98775173e-01],\n",
       "       [ 8.06617985e-01],\n",
       "       [ 7.62662411e-01],\n",
       "       [ 6.37652154e-01],\n",
       "       [ 3.35571246e-01],\n",
       "       [ 1.63972223e-01],\n",
       "       [ 4.60231289e-02],\n",
       "       [ 2.34154497e-01],\n",
       "       [ 3.36086733e-01],\n",
       "       [ 2.66976280e-01],\n",
       "       [ 6.79446354e-02],\n",
       "       [ 2.07035713e-01],\n",
       "       [ 3.12321735e-01],\n",
       "       [ 6.94165333e-01],\n",
       "       [ 1.10175204e+00],\n",
       "       [ 9.23757237e-01],\n",
       "       [ 5.29162186e-01],\n",
       "       [ 4.55347294e-01],\n",
       "       [ 8.06024470e-01],\n",
       "       [ 1.39052098e+00],\n",
       "       [ 1.19954060e+00],\n",
       "       [ 8.27973321e-01],\n",
       "       [ 6.94081881e-01],\n",
       "       [ 5.05352835e-01],\n",
       "       [ 4.71300645e-01],\n",
       "       [ 4.50853748e-01],\n",
       "       [ 2.16769161e-01],\n",
       "       [-1.14715277e-01],\n",
       "       [-4.52089739e-01],\n",
       "       [-7.08864443e-01],\n",
       "       [-8.45973979e-01],\n",
       "       [-7.36368259e-01],\n",
       "       [-6.61073590e-01],\n",
       "       [-4.82891392e-01],\n",
       "       [-3.65754097e-01],\n",
       "       [-3.74061319e-01],\n",
       "       [-2.90177716e-01],\n",
       "       [-4.09683673e-01],\n",
       "       [-3.85259771e-01],\n",
       "       [-3.88530580e-01],\n",
       "       [-7.88135911e-01],\n",
       "       [-1.14891313e+00],\n",
       "       [-1.37085940e+00],\n",
       "       [-1.13916224e+00],\n",
       "       [-7.41542039e-01],\n",
       "       [-7.40032508e-01],\n",
       "       [-6.51238717e-01],\n",
       "       [-4.30304259e-01],\n",
       "       [-4.17775807e-01],\n",
       "       [ 6.90845197e-02],\n",
       "       [ 1.99275410e-01],\n",
       "       [-1.38972586e-01],\n",
       "       [-5.56477166e-01],\n",
       "       [-6.86955575e-01],\n",
       "       [-9.34718223e-01],\n",
       "       [-7.41245275e-01],\n",
       "       [-5.07241058e-01],\n",
       "       [-5.39610436e-01],\n",
       "       [-3.44463005e-01],\n",
       "       [-1.75635119e-01],\n",
       "       [-2.03869784e-01],\n",
       "       [-3.89707050e-01],\n",
       "       [-7.66424980e-01],\n",
       "       [-1.08555153e+00],\n",
       "       [-1.22724867e+00],\n",
       "       [-1.22656765e+00],\n",
       "       [-1.55241978e+00],\n",
       "       [-1.47568929e+00],\n",
       "       [-1.29934247e+00],\n",
       "       [-1.09211654e+00],\n",
       "       [-6.70024359e-01],\n",
       "       [-1.16006544e-01],\n",
       "       [ 4.07305932e-01],\n",
       "       [ 9.74091613e-01],\n",
       "       [ 9.69032040e-01],\n",
       "       [ 1.28711545e+00],\n",
       "       [ 1.39284590e+00],\n",
       "       [ 1.14680486e+00],\n",
       "       [ 1.20425775e+00],\n",
       "       [ 1.57345257e+00],\n",
       "       [ 1.60662141e+00],\n",
       "       [ 2.22157551e+00],\n",
       "       [ 3.08963620e+00],\n",
       "       [ 3.70770276e+00],\n",
       "       [ 4.18205590e+00],\n",
       "       [ 4.76178965e+00],\n",
       "       [ 5.21065177e+00],\n",
       "       [ 4.87812429e+00],\n",
       "       [ 3.72018149e+00],\n",
       "       [ 2.89330857e+00],\n",
       "       [ 2.37491090e+00],\n",
       "       [ 2.43361132e+00],\n",
       "       [ 2.07312057e+00],\n",
       "       [ 1.64008748e+00],\n",
       "       [ 1.66178473e+00],\n",
       "       [ 1.08164087e+00],\n",
       "       [ 5.63541325e-01],\n",
       "       [ 1.06474376e+00],\n",
       "       [ 8.18074671e-01],\n",
       "       [ 2.23492477e-01],\n",
       "       [-2.55188559e-01],\n",
       "       [-1.06993947e-01],\n",
       "       [-1.38453306e-01],\n",
       "       [-3.20536079e-01],\n",
       "       [-2.12601323e-01],\n",
       "       [-1.82092709e-01],\n",
       "       [-4.28800135e-01],\n",
       "       [-1.78815244e-01],\n",
       "       [-5.02395212e-01],\n",
       "       [-4.38259543e-01],\n",
       "       [-6.08552871e-01],\n",
       "       [-8.00244144e-01],\n",
       "       [-9.54533699e-01],\n",
       "       [-9.88770698e-01],\n",
       "       [-1.05402529e+00],\n",
       "       [-6.97683405e-01],\n",
       "       [-6.89899928e-01],\n",
       "       [-6.16502760e-01],\n",
       "       [-7.25202726e-01],\n",
       "       [-8.67341830e-01],\n",
       "       [-9.80576566e-01],\n",
       "       [-8.24212398e-01],\n",
       "       [-6.74557209e-01],\n",
       "       [-6.58535673e-01],\n",
       "       [-4.03611984e-01],\n",
       "       [-5.71219398e-01],\n",
       "       [-4.91996236e-01],\n",
       "       [-5.95758517e-01],\n",
       "       [-7.91001459e-01],\n",
       "       [-1.00177160e+00],\n",
       "       [-1.48082964e+00],\n",
       "       [-1.72566722e+00],\n",
       "       [-1.77700408e+00],\n",
       "       [-1.37623270e+00],\n",
       "       [-1.14359659e+00],\n",
       "       [-1.74894143e+00],\n",
       "       [-1.99947956e+00],\n",
       "       [-2.07920886e+00],\n",
       "       [-2.20776014e+00],\n",
       "       [-2.11305398e+00],\n",
       "       [-2.74097397e+00],\n",
       "       [-2.97041870e+00],\n",
       "       [-2.65894950e+00],\n",
       "       [-2.66046966e+00],\n",
       "       [-2.67695801e+00],\n",
       "       [-2.44255851e+00],\n",
       "       [-2.53771408e+00],\n",
       "       [-2.43685444e+00],\n",
       "       [-2.14093885e+00],\n",
       "       [-2.19966133e+00],\n",
       "       [-1.99319506e+00],\n",
       "       [-1.48150816e+00],\n",
       "       [-1.15028372e+00],\n",
       "       [-1.06190318e+00],\n",
       "       [-1.22178602e+00],\n",
       "       [-1.22210868e+00],\n",
       "       [-1.13947209e+00],\n",
       "       [-6.03035321e-01],\n",
       "       [ 1.22234301e-01],\n",
       "       [-5.46317937e-02],\n",
       "       [-6.24075715e-01],\n",
       "       [-7.51667162e-01],\n",
       "       [-6.32439580e-01],\n",
       "       [-2.62081472e-01],\n",
       "       [ 6.40085555e-02],\n",
       "       [ 3.18240222e-02],\n",
       "       [ 2.81287785e-01],\n",
       "       [ 4.77194876e-01],\n",
       "       [ 9.08021505e-01],\n",
       "       [ 1.19195856e+00],\n",
       "       [ 1.38236160e+00],\n",
       "       [ 1.16971900e+00],\n",
       "       [ 9.90948560e-01],\n",
       "       [ 1.24288951e+00],\n",
       "       [ 1.31634700e+00],\n",
       "       [ 1.48616257e+00],\n",
       "       [ 1.60699729e+00],\n",
       "       [ 1.63265669e+00],\n",
       "       [ 1.87274518e+00],\n",
       "       [ 1.91623852e+00],\n",
       "       [ 1.77530411e+00],\n",
       "       [ 1.82012752e+00],\n",
       "       [ 1.79055217e+00],\n",
       "       [ 1.65291423e+00],\n",
       "       [ 1.26646836e+00],\n",
       "       [ 1.59360605e+00],\n",
       "       [ 1.63239105e+00],\n",
       "       [ 1.80862065e+00],\n",
       "       [ 1.84623786e+00],\n",
       "       [ 1.77335977e+00],\n",
       "       [ 1.19556020e+00],\n",
       "       [ 1.22960047e+00],\n",
       "       [ 1.22422791e+00],\n",
       "       [ 8.72644072e-01],\n",
       "       [ 1.23699782e+00],\n",
       "       [ 1.11148287e+00],\n",
       "       [ 1.04405467e+00],\n",
       "       [ 1.28075385e+00],\n",
       "       [ 1.10666563e+00],\n",
       "       [ 1.08657961e+00],\n",
       "       [ 1.17340212e+00],\n",
       "       [ 1.22118745e+00],\n",
       "       [ 1.08997297e+00],\n",
       "       [ 1.20435575e+00],\n",
       "       [ 1.13323529e+00],\n",
       "       [ 1.22555908e+00],\n",
       "       [ 1.34064369e+00],\n",
       "       [ 1.07699426e+00],\n",
       "       [ 7.11080532e-01],\n",
       "       [ 5.53431217e-01],\n",
       "       [ 3.23560512e-01],\n",
       "       [ 5.18559364e-01],\n",
       "       [ 4.92504970e-01],\n",
       "       [ 8.09000835e-01],\n",
       "       [ 5.54022597e-01],\n",
       "       [ 4.69820486e-01],\n",
       "       [ 3.40611629e-01],\n",
       "       [ 2.34746825e-02],\n",
       "       [ 5.17507236e-01],\n",
       "       [ 2.57461887e-01],\n",
       "       [ 2.75147905e-03],\n",
       "       [ 2.22063381e-01],\n",
       "       [ 3.11417548e-01],\n",
       "       [ 2.68687468e-01],\n",
       "       [-1.74197600e-01],\n",
       "       [-6.38247905e-01],\n",
       "       [-1.13762769e+00],\n",
       "       [-1.46884286e+00],\n",
       "       [-1.77956936e+00],\n",
       "       [-1.57458593e+00],\n",
       "       [-1.32473966e+00],\n",
       "       [-1.96197938e+00],\n",
       "       [-2.10843255e+00],\n",
       "       [-1.88002097e+00],\n",
       "       [-2.21782458e+00],\n",
       "       [-2.36690767e+00],\n",
       "       [-2.52954443e+00],\n",
       "       [-2.82550762e+00],\n",
       "       [-3.34410063e+00],\n",
       "       [-3.08704407e+00],\n",
       "       [-3.33540207e+00],\n",
       "       [-2.70022189e+00],\n",
       "       [-1.88805661e+00],\n",
       "       [-2.02780050e+00],\n",
       "       [-1.86522846e+00],\n",
       "       [-1.23750022e+00],\n",
       "       [-1.67132611e+00],\n",
       "       [-3.10113837e-01],\n",
       "       [ 5.27737736e-01],\n",
       "       [ 1.12516098e+00],\n",
       "       [ 1.39168402e+00],\n",
       "       [ 2.18452273e+00],\n",
       "       [ 2.77066085e+00],\n",
       "       [ 2.91257679e+00],\n",
       "       [ 2.59565050e+00],\n",
       "       [ 2.83733802e+00],\n",
       "       [ 2.17212460e+00],\n",
       "       [ 2.15073030e+00],\n",
       "       [ 9.76355862e-01],\n",
       "       [ 1.26663428e+00],\n",
       "       [ 5.17562139e-01],\n",
       "       [-5.22072755e-01],\n",
       "       [-1.94494088e+00]])"
      ]
     },
     "execution_count": 9,
     "metadata": {},
     "output_type": "execute_result"
    }
   ],
   "source": [
    "from sklearn.preprocessing import PolynomialFeatures\n",
    "from sklearn.linear_model import LinearRegression\n",
    "\n",
    "# Ajustar un modelo polinomial de orden 7\n",
    "poly = PolynomialFeatures(degree=7)\n",
    "X = np.array(range(len(ipc))).reshape(-1, 1)\n",
    "y = df.values\n",
    "X_poly = poly.fit_transform(X)\n",
    "poly_regressor = LinearRegression().fit(X_poly, y)\n",
    "\n",
    "# Restar el modelo ajustado de los datos originales\n",
    "y_poly_detrended = y - poly_regressor.predict(X_poly)\n",
    "\n",
    "y_poly_detrended"
   ]
  },
  {
   "cell_type": "code",
   "execution_count": 10,
   "id": "a1922be8",
   "metadata": {},
   "outputs": [
    {
     "data": {
      "image/png": "[encoded data removed]",
      "text/plain": [
       "<Figure size 1000x600 with 1 Axes>"
      ]
     },
     "metadata": {},
     "output_type": "display_data"
    }
   ],
   "source": [
    "# Trazar el array de numpy\n",
    "plt.figure(figsize=(10, 6))\n",
    "plt.plot(y_poly_detrended)\n",
    "plt.title('ipc descomposición orden 7')\n",
    "plt.show()"
   ]
  },
  {
   "cell_type": "code",
   "execution_count": 11,
   "id": "c493ecc7",
   "metadata": {},
   "outputs": [],
   "source": [
    "# Asegurarse de que el array de numpy sea unidimensional\n",
    "y_poly_detrended = y_poly_detrended.flatten()\n",
    "\n",
    "# Convertir el array de numpy a una serie de pandas\n",
    "y_poly_detrended_pd = pd.Series(y_poly_detrended)\n",
    "y_poly_detrended_pd.index = df.index\n",
    "\n",
    "# Convertir la serie de pandas a una serie de tiempo de Darts\n",
    "y_poly_detrended_ts = TimeSeries.from_series(y_poly_detrended_pd)\n",
    "\n",
    "# Obtener el punto de división basado en los últimos 6 meses\n",
    "split_date = y_poly_detrended_ts.end_time() - pd.DateOffset(months=5)\n",
    "\n",
    "# Separar los datos en entrenamiento y validación\n",
    "ipc_train, ipc_val = y_poly_detrended_ts.split_before(split_date)\n",
    "\n",
    "# Convierte la serie temporal de Darts a una serie de pandas\n",
    "ipc_train_pd = ipc_train.pd_series()\n",
    "ipc_val_pd = ipc_val.pd_series()"
   ]
  },
  {
   "cell_type": "code",
   "execution_count": 12,
   "id": "578ce3ee",
   "metadata": {},
   "outputs": [
    {
     "data": {
      "image/png": "[encoded data removed]",
      "text/plain": [
       "<Figure size 640x480 with 1 Axes>"
      ]
     },
     "metadata": {},
     "output_type": "display_data"
    }
   ],
   "source": [
    "# Diferenciando la serie logarítmica\n",
    "ipc_train_diff = ipc_train.diff()\n",
    "ipc_train_diff.plot()\n",
    "plt.title('Serie Diferenciada de IPC (segunda vez)')\n",
    "plt.show()"
   ]
  },
  {
   "cell_type": "code",
   "execution_count": 15,
   "id": "5c6a42a4",
   "metadata": {},
   "outputs": [
    {
     "name": "stdout",
     "output_type": "stream",
     "text": [
      "ADF Statistic: -4.758889280446664\n",
      "p-value: 6.513908650538542e-05\n",
      "KPSS Statistic: 0.04653033036788645\n",
      "p-value: 0.1\n"
     ]
    }
   ],
   "source": [
    "from statsmodels.tsa.stattools import adfuller, kpss\n",
    "\n",
    "# Realizar el test de Dickey-Fuller\n",
    "result = adfuller(ipc_train_pd)\n",
    "print(f'ADF Statistic: {result[0]}')\n",
    "print(f'p-value: {result[1]}')\n",
    "\n",
    "# Realizar el test de KPSS\n",
    "result = kpss(ipc_train_pd)\n",
    "print(f'KPSS Statistic: {result[0]}')\n",
    "print(f'p-value: {result[1]}')"
   ]
  },
  {
   "cell_type": "code",
   "execution_count": 16,
   "id": "fa7ae14b",
   "metadata": {},
   "outputs": [
    {
     "name": "stdout",
     "output_type": "stream",
     "text": [
      "Performing stepwise search to minimize aic\n",
      " ARIMA(2,0,2)(0,0,0)[0] intercept   : AIC=82.962, Time=1.42 sec\n",
      " ARIMA(0,0,0)(0,0,0)[0] intercept   : AIC=1385.409, Time=0.09 sec\n",
      " ARIMA(1,0,0)(0,0,0)[0] intercept   : AIC=152.885, Time=0.15 sec\n",
      " ARIMA(0,0,1)(0,0,0)[0] intercept   : AIC=914.356, Time=0.16 sec\n",
      " ARIMA(0,0,0)(0,0,0)[0]             : AIC=1383.417, Time=0.08 sec\n",
      " ARIMA(1,0,2)(0,0,0)[0] intercept   : AIC=101.915, Time=0.51 sec\n",
      " ARIMA(2,0,1)(0,0,0)[0] intercept   : AIC=94.789, Time=0.42 sec\n",
      " ARIMA(3,0,2)(0,0,0)[0] intercept   : AIC=95.408, Time=2.08 sec\n",
      " ARIMA(2,0,3)(0,0,0)[0] intercept   : AIC=84.578, Time=2.49 sec\n",
      " ARIMA(1,0,1)(0,0,0)[0] intercept   : AIC=101.929, Time=0.30 sec\n",
      " ARIMA(1,0,3)(0,0,0)[0] intercept   : AIC=92.031, Time=1.00 sec\n",
      " ARIMA(3,0,1)(0,0,0)[0] intercept   : AIC=98.222, Time=0.99 sec\n",
      " ARIMA(3,0,3)(0,0,0)[0] intercept   : AIC=86.807, Time=2.61 sec\n",
      " ARIMA(2,0,2)(0,0,0)[0]             : AIC=inf, Time=1.20 sec\n",
      "\n",
      "Best model:  ARIMA(2,0,2)(0,0,0)[0] intercept\n",
      "Total fit time: 13.511 seconds\n"
     ]
    }
   ],
   "source": [
    "# Ajustar el modelo SARIMA utilizando auto_arima\n",
    "mod0 = pm.auto_arima(ipc_train_pd, seasonal=True, stepwise=True,\n",
    "                      suppress_warnings=True, error_action=\"ignore\", trace=True, m=1)\n"
   ]
  },
  {
   "cell_type": "code",
   "execution_count": 17,
   "id": "c99dde1c",
   "metadata": {
    "deletable": false,
    "editable": false,
    "nbgrader": {
     "cell_type": "code",
     "checksum": "b78cc3814a4a7f0e244c0faef80baef9",
     "grade": true,
     "grade_id": "cell-18470ab2ea276d6c",
     "locked": true,
     "points": 6,
     "schema_version": 3,
     "solution": false,
     "task": false
    }
   },
   "outputs": [],
   "source": [
    "# Prueba oculta: Check del modelo "
   ]
  },
  {
   "cell_type": "code",
   "execution_count": 18,
   "id": "2fdd5d79",
   "metadata": {
    "deletable": false,
    "editable": false,
    "nbgrader": {
     "cell_type": "code",
     "checksum": "d8605f90c0cc828868ad70a81f552c63",
     "grade": true,
     "grade_id": "cell-cee52d8c04179ff0",
     "locked": true,
     "points": 6,
     "schema_version": 3,
     "solution": false,
     "task": false
    }
   },
   "outputs": [],
   "source": [
    "# Prueba oculta: Check para el p-valor de la prueba de Box-Pierce-Ljung"
   ]
  },
  {
   "cell_type": "code",
   "execution_count": 19,
   "id": "67004247",
   "metadata": {
    "deletable": false,
    "editable": false,
    "nbgrader": {
     "cell_type": "code",
     "checksum": "900224f682a147c00c9534a77385aff8",
     "grade": true,
     "grade_id": "cell-f25169be99b51b42",
     "locked": true,
     "points": 6,
     "schema_version": 3,
     "solution": false,
     "task": false
    }
   },
   "outputs": [],
   "source": [
    "# Prueba oculta: Check para las predicciones\n",
    "\n"
   ]
  },
  {
   "cell_type": "markdown",
   "id": "21d7f4d7",
   "metadata": {
    "deletable": false,
    "editable": false,
    "nbgrader": {
     "cell_type": "markdown",
     "checksum": "6457c9b4ff94804e225e08323a803e0f",
     "grade": false,
     "grade_id": "cell-948b49392e67ea0f",
     "locked": true,
     "schema_version": 3,
     "solution": false,
     "task": false
    }
   },
   "source": [
    "### (Parte 3) Ajuste un Modelo SARIMA desde el analisis descriptivo\n",
    "\n",
    "- Realizar un análisis descriptivo de la serie que incluya grafica, ACF y PACF tanto de la serie original como diferenciada y cualquier estadístico que considere necesario para reconocer el orden del modelo.\n",
    "- Proponer un modelo desde el análisis descriptivo, es decir, el conjunto de ordenes del modelo SARIMA(p,d,q)x(P,D,Q)[s].\n",
    "- Ajustar el modelo.\n",
    "- Guardar el AIC\n",
    "- En caso que el AIC de este modelo sea mayor al AIC del modelo propuesto por autoarima, proponer otro modelo hasta encontrar uno mejor.\n",
    "- Aplicar el test de Box-Pierce para H=18 y guardar p-valor\n",
    "- En caso que el modelo no sea adecuado en términos del test de blancura proponer otro modelo.\n",
    "- Realizar y guardar las predicciones\n",
    "- Guardar el RMSE de las predicciones\n"
   ]
  },
  {
   "cell_type": "code",
   "execution_count": 20,
   "id": "767f9753",
   "metadata": {
    "deletable": false,
    "nbgrader": {
     "cell_type": "code",
     "checksum": "121ed19e406eacc476c5373c468d0ac3",
     "grade": false,
     "grade_id": "cell-aaadd99357edc5a5",
     "locked": false,
     "schema_version": 3,
     "solution": true,
     "task": false
    }
   },
   "outputs": [
    {
     "data": {
      "image/png": "[encoded data removed]",
      "text/plain": [
       "<Figure size 1000x500 with 1 Axes>"
      ]
     },
     "metadata": {},
     "output_type": "display_data"
    },
    {
     "data": {
      "image/png": "[encoded data removed]",
      "text/plain": [
       "<Figure size 1000x500 with 1 Axes>"
      ]
     },
     "metadata": {},
     "output_type": "display_data"
    }
   ],
   "source": [
    "## Guardar la información en:\n",
    "# mod1: # nombre del modelo \n",
    "# aic1: # valor del AIC para el modelo\n",
    "# pred1: # nombre donde se guardarán las predicciones\n",
    "# rmse1: # valor del rmse\n",
    "\n",
    "# your code here\n",
    "# Graficar ACF serie original\n",
    "plot_acf(ipc_train)\n",
    "\n",
    "# Graficar PACF serie original\n",
    "plot_pacf(ipc_train)"
   ]
  },
  {
   "cell_type": "code",
   "execution_count": 21,
   "id": "9533e7df",
   "metadata": {},
   "outputs": [
    {
     "data": {
      "image/png": "[encoded data removed]",
      "text/plain": [
       "<Figure size 640x480 with 1 Axes>"
      ]
     },
     "metadata": {},
     "output_type": "display_data"
    }
   ],
   "source": [
    "#Ahora, vamos a transformar la serie y a diferenciarla\n",
    "ipc_log = np.log(df)\n",
    "\n",
    "# Convirtiendo de nuevo a TimeSeries de Darts\n",
    "ipc_log_ts = TimeSeries.from_series(ipc_log)\n",
    "\n",
    "\n",
    "# Diferenciando la serie logarítmica\n",
    "ipc_diff = ipc_log_ts.diff()\n",
    "\n",
    "# Diferenciando la serie logarítmica nuevamente\n",
    "ipc_diff2 = ipc_diff.diff()\n",
    "\n",
    "# Obtener el punto de división basado en los últimos 6 meses\n",
    "split_date_2 = ipc_diff2.end_time() - pd.DateOffset(months=5)\n",
    "\n",
    "# Separar los datos en entrenamiento y validación\n",
    "ipc_train_diff2, ipc_val_diff2 = ipc_diff2.split_before(pd.Timestamp(split_date_2))\n",
    "\n",
    "# Convierte la serie temporal de Darts a una serie de pandas\n",
    "ipc_train_diff2_pd = ipc_train_diff2.pd_series()\n",
    "ipc_val_diff2_pd = ipc_val_diff2.pd_series()\n",
    "\n",
    "ipc_train_diff2.plot()\n",
    "plt.title('Serie Diferenciada de IPC (segunda vez)')\n",
    "plt.show()\n",
    "\n"
   ]
  },
  {
   "cell_type": "code",
   "execution_count": 22,
   "id": "26dbea74",
   "metadata": {},
   "outputs": [
    {
     "data": {
      "image/png": "[encoded data removed]",
      "text/plain": [
       "<Figure size 640x480 with 1 Axes>"
      ]
     },
     "metadata": {},
     "output_type": "display_data"
    }
   ],
   "source": [
    "# Asegurarse de que el array de numpy sea unidimensional\n",
    "y_poly_detrended = y_poly_detrended.flatten()\n",
    "\n",
    "# Convertir el array de numpy a una serie de pandas\n",
    "y_poly_detrended_pd = pd.Series(y_poly_detrended)\n",
    "y_poly_detrended_pd.index = df.index\n",
    "\n",
    "# Convertir la serie de pandas a una serie de tiempo de Darts\n",
    "y_poly_detrended_ts = TimeSeries.from_series(y_poly_detrended_pd)\n",
    "\n",
    "# Diferenciando la serie \n",
    "y_poly_detrended_ts_diff = y_poly_detrended_ts.diff()\n",
    "\n",
    "# Obtener el punto de división basado en los últimos 6 meses\n",
    "split_date = y_poly_detrended_ts_diff.end_time() - pd.DateOffset(months=5)\n",
    "\n",
    "# Separar los datos en entrenamiento y validación\n",
    "ipc_train_diff, ipc_val_diff = y_poly_detrended_ts_diff.split_before(split_date)\n",
    "\n",
    "# Convierte la serie temporal de Darts a una serie de pandas\n",
    "ipc_train_diff_pd = ipc_train_diff.pd_series()\n",
    "ipc_val_diff_pd = ipc_val_diff.pd_series()\n",
    "\n",
    "ipc_train.plot()\n",
    "plt.title('Serie Diferenciada de IPC (segunda vez)')\n",
    "plt.show()\n"
   ]
  },
  {
   "cell_type": "code",
   "execution_count": 23,
   "id": "dd731178",
   "metadata": {},
   "outputs": [
    {
     "name": "stdout",
     "output_type": "stream",
     "text": [
      "ADF Statistic: -5.380742159547665\n",
      "p-value: 3.7173744517468276e-06\n",
      "KPSS Statistic: 0.07638617686253497\n",
      "p-value: 0.1\n"
     ]
    }
   ],
   "source": [
    "from statsmodels.tsa.stattools import adfuller, kpss\n",
    "\n",
    "# Realizar el test de Dickey-Fuller\n",
    "result = adfuller(ipc_train_diff_pd)\n",
    "print(f'ADF Statistic: {result[0]}')\n",
    "print(f'p-value: {result[1]}')\n",
    "\n",
    "# Realizar el test de KPSS\n",
    "result = kpss(ipc_train_diff_pd)\n",
    "print(f'KPSS Statistic: {result[0]}')\n",
    "print(f'p-value: {result[1]}')"
   ]
  },
  {
   "cell_type": "code",
   "execution_count": 24,
   "id": "e4644333",
   "metadata": {},
   "outputs": [
    {
     "data": {
      "image/png": "[encoded data removed]",
      "text/plain": [
       "<Figure size 1000x500 with 1 Axes>"
      ]
     },
     "metadata": {},
     "output_type": "display_data"
    },
    {
     "data": {
      "image/png": "[encoded data removed]",
      "text/plain": [
       "<Figure size 1000x500 with 1 Axes>"
      ]
     },
     "metadata": {},
     "output_type": "display_data"
    }
   ],
   "source": [
    "# Graficar ACF serie diferenciada\n",
    "plot_acf(ipc_train_diff)\n",
    "\n",
    "# Graficar PACF serie diferenciada\n",
    "plot_pacf(ipc_train_diff)"
   ]
  },
  {
   "cell_type": "code",
   "execution_count": 25,
   "id": "f8ec198b",
   "metadata": {},
   "outputs": [
    {
     "name": "stdout",
     "output_type": "stream",
     "text": [
      "Performing stepwise search to minimize aic\n",
      " ARIMA(2,0,2)(1,0,1)[6] intercept   : AIC=56.059, Time=18.00 sec\n",
      " ARIMA(0,0,0)(0,0,0)[6] intercept   : AIC=147.778, Time=0.06 sec\n",
      " ARIMA(1,0,0)(1,0,0)[6] intercept   : AIC=88.422, Time=1.45 sec\n",
      " ARIMA(0,0,1)(0,0,1)[6] intercept   : AIC=96.140, Time=1.89 sec\n",
      " ARIMA(0,0,0)(0,0,0)[6]             : AIC=146.833, Time=0.11 sec\n",
      " ARIMA(2,0,2)(0,0,1)[6] intercept   : AIC=92.791, Time=9.49 sec\n",
      " ARIMA(3,0,2)(2,0,2)[6] intercept   : AIC=44.707, Time=90.69 sec\n",
      " ARIMA(3,0,2)(1,0,2)[6] intercept   : AIC=inf, Time=69.88 sec\n",
      " ARIMA(3,0,2)(2,0,1)[6] intercept   : AIC=63.471, Time=80.41 sec\n",
      " ARIMA(3,0,2)(1,0,1)[6] intercept   : AIC=56.376, Time=23.29 sec\n",
      " ARIMA(3,0,1)(2,0,2)[6] intercept   : AIC=45.585, Time=69.20 sec\n",
      " ARIMA(4,0,2)(2,0,2)[6] intercept   : AIC=inf, Time=81.90 sec\n",
      " ARIMA(3,0,3)(2,0,2)[6] intercept   : AIC=43.754, Time=63.60 sec\n",
      " ARIMA(3,0,3)(1,0,2)[6] intercept   : AIC=inf, Time=59.10 sec\n",
      " ARIMA(3,0,3)(2,0,1)[6] intercept   : AIC=66.673, Time=53.60 sec\n",
      " ARIMA(3,0,3)(1,0,1)[6] intercept   : AIC=49.097, Time=13.40 sec\n",
      " ARIMA(2,0,3)(2,0,2)[6] intercept   : AIC=inf, Time=57.00 sec\n",
      " ARIMA(4,0,3)(2,0,2)[6] intercept   : AIC=55.325, Time=78.00 sec\n",
      " ARIMA(3,0,4)(2,0,2)[6] intercept   : AIC=50.432, Time=95.60 sec\n",
      " ARIMA(2,0,4)(2,0,2)[6] intercept   : AIC=inf, Time=90.51 sec\n",
      " ARIMA(4,0,4)(2,0,2)[6] intercept   : AIC=inf, Time=101.39 sec\n",
      " ARIMA(3,0,3)(2,0,2)[6]             : AIC=inf, Time=66.90 sec\n",
      "\n",
      "Best model:  ARIMA(3,0,3)(2,0,2)[6] intercept\n",
      "Total fit time: 1551.641 seconds\n"
     ]
    }
   ],
   "source": [
    "# Ajustar el modelo SARIMA utilizando auto_arima\n",
    "mod1 = pm.auto_arima(ipc_train_diff_pd, seasonal=True, stepwise=True,\n",
    "                      suppress_warnings=True, error_action=\"ignore\", trace=True,\n",
    "                      m=6)"
   ]
  },
  {
   "cell_type": "code",
   "execution_count": 26,
   "id": "1ea29b57",
   "metadata": {},
   "outputs": [
    {
     "data": {
      "text/plain": [
       "0.20176187933603495"
      ]
     },
     "execution_count": 26,
     "metadata": {},
     "output_type": "execute_result"
    }
   ],
   "source": [
    "# mod1: # nombre del modelo \n",
    "# aic1: # valor del AIC para el modelo\n",
    "# pred1: # nombre donde se guardarán las predicciones\n",
    "# rmse1: # valor del rmse\n",
    "\n",
    "# Guarda el AIC\n",
    "aic1 = mod1.aic()\n",
    "\n",
    "result2 = sm.stats.acorr_ljungbox(mod1.resid() , lags=[18], return_df=True, boxpierce=True)\n",
    "p0_1 = result2.loc[18, 'lb_pvalue']\n",
    "p0_1"
   ]
  },
  {
   "cell_type": "code",
   "execution_count": 27,
   "id": "009010f7",
   "metadata": {},
   "outputs": [
    {
     "name": "stdout",
     "output_type": "stream",
     "text": [
      "Model:  ARIMA(3,0,3)(2,0,2)[6] intercept\n",
      "AIC: 43.7535092982655\n",
      "p-value: 0.20176187933603495\n",
      "Interpretation: El modelo es apropiado\n",
      "Predictions: 2023-01-01   -0.095660\n",
      "2023-02-01   -0.056162\n",
      "2023-03-01    0.126493\n",
      "2023-04-01    0.040992\n",
      "2023-05-01   -0.006356\n",
      "2023-06-01   -0.161115\n",
      "Freq: MS, dtype: float64\n",
      "RMSE: 0.09413174863133963\n"
     ]
    }
   ],
   "source": [
    "# Interpreta el p-valor\n",
    "if p0_1 < 0.05:\n",
    "    Inter_p0_1 = \"El modelo no es apropiado\"\n",
    "else:\n",
    "    Inter_p0_1 = \"El modelo es apropiado\"\n",
    "\n",
    "# Realiza y guarda las predicciones\n",
    "pred1 = mod1.predict(n_periods=len(ipc_val_diff2))\n",
    "\n",
    "# Calcula el RMSE de las predicciones\n",
    "rmse1 = np.sqrt(mean_squared_error(ipc_val_diff2_pd, pred1))\n",
    "\n",
    "# Imprime los resultados\n",
    "print(f\"Model: {mod1}\")\n",
    "print(f\"AIC: {aic1}\")\n",
    "print(f\"p-value: {p0_1}\")\n",
    "print(f\"Interpretation: {Inter_p0_1}\")\n",
    "print(f\"Predictions: {pred1}\")\n",
    "print(f\"RMSE: {rmse1}\")"
   ]
  },
  {
   "cell_type": "code",
   "execution_count": 28,
   "id": "a78899b6",
   "metadata": {},
   "outputs": [
    {
     "data": {
      "text/html": [
       "<table class=\"simpletable\">\n",
       "<caption>SARIMAX Results</caption>\n",
       "<tr>\n",
       "  <th>Dep. Variable:</th>                    <td>y</td>                 <th>  No. Observations:  </th>   <td>404</td> \n",
       "</tr>\n",
       "<tr>\n",
       "  <th>Model:</th>           <td>SARIMAX(3, 0, 3)x(2, 0, [1, 2], 6)</td> <th>  Log Likelihood     </th> <td>-9.877</td>\n",
       "</tr>\n",
       "<tr>\n",
       "  <th>Date:</th>                     <td>Thu, 23 Nov 2023</td>          <th>  AIC                </th> <td>43.754</td>\n",
       "</tr>\n",
       "<tr>\n",
       "  <th>Time:</th>                         <td>12:27:31</td>              <th>  BIC                </th> <td>91.770</td>\n",
       "</tr>\n",
       "<tr>\n",
       "  <th>Sample:</th>                      <td>05-01-1989</td>             <th>  HQIC               </th> <td>62.761</td>\n",
       "</tr>\n",
       "<tr>\n",
       "  <th></th>                            <td>- 12-01-2022</td>            <th>                     </th>    <td> </td>  \n",
       "</tr>\n",
       "<tr>\n",
       "  <th>Covariance Type:</th>                 <td>opg</td>                <th>                     </th>    <td> </td>  \n",
       "</tr>\n",
       "</table>\n",
       "<table class=\"simpletable\">\n",
       "<tr>\n",
       "      <td></td>         <th>coef</th>     <th>std err</th>      <th>z</th>      <th>P>|z|</th>  <th>[0.025</th>    <th>0.975]</th>  \n",
       "</tr>\n",
       "<tr>\n",
       "  <th>intercept</th> <td>    0.0003</td> <td>    0.001</td> <td>    0.232</td> <td> 0.817</td> <td>   -0.003</td> <td>    0.003</td>\n",
       "</tr>\n",
       "<tr>\n",
       "  <th>ar.L1</th>     <td>   -0.6702</td> <td>    0.152</td> <td>   -4.409</td> <td> 0.000</td> <td>   -0.968</td> <td>   -0.372</td>\n",
       "</tr>\n",
       "<tr>\n",
       "  <th>ar.L2</th>     <td>    0.5291</td> <td>    0.132</td> <td>    3.994</td> <td> 0.000</td> <td>    0.269</td> <td>    0.789</td>\n",
       "</tr>\n",
       "<tr>\n",
       "  <th>ar.L3</th>     <td>    0.5608</td> <td>    0.073</td> <td>    7.721</td> <td> 0.000</td> <td>    0.418</td> <td>    0.703</td>\n",
       "</tr>\n",
       "<tr>\n",
       "  <th>ma.L1</th>     <td>    1.0350</td> <td>    0.154</td> <td>    6.735</td> <td> 0.000</td> <td>    0.734</td> <td>    1.336</td>\n",
       "</tr>\n",
       "<tr>\n",
       "  <th>ma.L2</th>     <td>   -0.2141</td> <td>    0.188</td> <td>   -1.139</td> <td> 0.255</td> <td>   -0.582</td> <td>    0.154</td>\n",
       "</tr>\n",
       "<tr>\n",
       "  <th>ma.L3</th>     <td>   -0.4984</td> <td>    0.095</td> <td>   -5.245</td> <td> 0.000</td> <td>   -0.685</td> <td>   -0.312</td>\n",
       "</tr>\n",
       "<tr>\n",
       "  <th>ar.S.L6</th>   <td>    0.0203</td> <td>    0.036</td> <td>    0.563</td> <td> 0.573</td> <td>   -0.050</td> <td>    0.091</td>\n",
       "</tr>\n",
       "<tr>\n",
       "  <th>ar.S.L12</th>  <td>    0.9568</td> <td>    0.036</td> <td>   26.717</td> <td> 0.000</td> <td>    0.887</td> <td>    1.027</td>\n",
       "</tr>\n",
       "<tr>\n",
       "  <th>ma.S.L6</th>   <td>   -0.0185</td> <td>    0.063</td> <td>   -0.294</td> <td> 0.769</td> <td>   -0.142</td> <td>    0.105</td>\n",
       "</tr>\n",
       "<tr>\n",
       "  <th>ma.S.L12</th>  <td>   -0.8620</td> <td>    0.063</td> <td>  -13.695</td> <td> 0.000</td> <td>   -0.985</td> <td>   -0.739</td>\n",
       "</tr>\n",
       "<tr>\n",
       "  <th>sigma2</th>    <td>    0.0613</td> <td>    0.004</td> <td>   15.217</td> <td> 0.000</td> <td>    0.053</td> <td>    0.069</td>\n",
       "</tr>\n",
       "</table>\n",
       "<table class=\"simpletable\">\n",
       "<tr>\n",
       "  <th>Ljung-Box (L1) (Q):</th>     <td>0.00</td> <th>  Jarque-Bera (JB):  </th> <td>75.78</td>\n",
       "</tr>\n",
       "<tr>\n",
       "  <th>Prob(Q):</th>                <td>0.96</td> <th>  Prob(JB):          </th> <td>0.00</td> \n",
       "</tr>\n",
       "<tr>\n",
       "  <th>Heteroskedasticity (H):</th> <td>2.53</td> <th>  Skew:              </th> <td>0.22</td> \n",
       "</tr>\n",
       "<tr>\n",
       "  <th>Prob(H) (two-sided):</th>    <td>0.00</td> <th>  Kurtosis:          </th> <td>5.08</td> \n",
       "</tr>\n",
       "</table><br/><br/>Warnings:<br/>[1] Covariance matrix calculated using the outer product of gradients (complex-step)."
      ],
      "text/latex": [
       "\\begin{center}\n",
       "\\begin{tabular}{lclc}\n",
       "\\toprule\n",
       "\\textbf{Dep. Variable:}          &                 y                  & \\textbf{  No. Observations:  } &    404      \\\\\n",
       "\\textbf{Model:}                  & SARIMAX(3, 0, 3)x(2, 0, [1, 2], 6) & \\textbf{  Log Likelihood     } &   -9.877    \\\\\n",
       "\\textbf{Date:}                   &          Thu, 23 Nov 2023          & \\textbf{  AIC                } &   43.754    \\\\\n",
       "\\textbf{Time:}                   &              12:27:31              & \\textbf{  BIC                } &   91.770    \\\\\n",
       "\\textbf{Sample:}                 &             05-01-1989             & \\textbf{  HQIC               } &   62.761    \\\\\n",
       "\\textbf{}                        &            - 12-01-2022            & \\textbf{                     } &             \\\\\n",
       "\\textbf{Covariance Type:}        &                opg                 & \\textbf{                     } &             \\\\\n",
       "\\bottomrule\n",
       "\\end{tabular}\n",
       "\\begin{tabular}{lcccccc}\n",
       "                   & \\textbf{coef} & \\textbf{std err} & \\textbf{z} & \\textbf{P$> |$z$|$} & \\textbf{[0.025} & \\textbf{0.975]}  \\\\\n",
       "\\midrule\n",
       "\\textbf{intercept} &       0.0003  &        0.001     &     0.232  &         0.817        &       -0.003    &        0.003     \\\\\n",
       "\\textbf{ar.L1}     &      -0.6702  &        0.152     &    -4.409  &         0.000        &       -0.968    &       -0.372     \\\\\n",
       "\\textbf{ar.L2}     &       0.5291  &        0.132     &     3.994  &         0.000        &        0.269    &        0.789     \\\\\n",
       "\\textbf{ar.L3}     &       0.5608  &        0.073     &     7.721  &         0.000        &        0.418    &        0.703     \\\\\n",
       "\\textbf{ma.L1}     &       1.0350  &        0.154     &     6.735  &         0.000        &        0.734    &        1.336     \\\\\n",
       "\\textbf{ma.L2}     &      -0.2141  &        0.188     &    -1.139  &         0.255        &       -0.582    &        0.154     \\\\\n",
       "\\textbf{ma.L3}     &      -0.4984  &        0.095     &    -5.245  &         0.000        &       -0.685    &       -0.312     \\\\\n",
       "\\textbf{ar.S.L6}   &       0.0203  &        0.036     &     0.563  &         0.573        &       -0.050    &        0.091     \\\\\n",
       "\\textbf{ar.S.L12}  &       0.9568  &        0.036     &    26.717  &         0.000        &        0.887    &        1.027     \\\\\n",
       "\\textbf{ma.S.L6}   &      -0.0185  &        0.063     &    -0.294  &         0.769        &       -0.142    &        0.105     \\\\\n",
       "\\textbf{ma.S.L12}  &      -0.8620  &        0.063     &   -13.695  &         0.000        &       -0.985    &       -0.739     \\\\\n",
       "\\textbf{sigma2}    &       0.0613  &        0.004     &    15.217  &         0.000        &        0.053    &        0.069     \\\\\n",
       "\\bottomrule\n",
       "\\end{tabular}\n",
       "\\begin{tabular}{lclc}\n",
       "\\textbf{Ljung-Box (L1) (Q):}     & 0.00 & \\textbf{  Jarque-Bera (JB):  } & 75.78  \\\\\n",
       "\\textbf{Prob(Q):}                & 0.96 & \\textbf{  Prob(JB):          } &  0.00  \\\\\n",
       "\\textbf{Heteroskedasticity (H):} & 2.53 & \\textbf{  Skew:              } &  0.22  \\\\\n",
       "\\textbf{Prob(H) (two-sided):}    & 0.00 & \\textbf{  Kurtosis:          } &  5.08  \\\\\n",
       "\\bottomrule\n",
       "\\end{tabular}\n",
       "%\\caption{SARIMAX Results}\n",
       "\\end{center}\n",
       "\n",
       "Warnings: \\newline\n",
       " [1] Covariance matrix calculated using the outer product of gradients (complex-step)."
      ],
      "text/plain": [
       "<class 'statsmodels.iolib.summary.Summary'>\n",
       "\"\"\"\n",
       "                                       SARIMAX Results                                        \n",
       "==============================================================================================\n",
       "Dep. Variable:                                      y   No. Observations:                  404\n",
       "Model:             SARIMAX(3, 0, 3)x(2, 0, [1, 2], 6)   Log Likelihood                  -9.877\n",
       "Date:                                Thu, 23 Nov 2023   AIC                             43.754\n",
       "Time:                                        12:27:31   BIC                             91.770\n",
       "Sample:                                    05-01-1989   HQIC                            62.761\n",
       "                                         - 12-01-2022                                         \n",
       "Covariance Type:                                  opg                                         \n",
       "==============================================================================\n",
       "                 coef    std err          z      P>|z|      [0.025      0.975]\n",
       "------------------------------------------------------------------------------\n",
       "intercept      0.0003      0.001      0.232      0.817      -0.003       0.003\n",
       "ar.L1         -0.6702      0.152     -4.409      0.000      -0.968      -0.372\n",
       "ar.L2          0.5291      0.132      3.994      0.000       0.269       0.789\n",
       "ar.L3          0.5608      0.073      7.721      0.000       0.418       0.703\n",
       "ma.L1          1.0350      0.154      6.735      0.000       0.734       1.336\n",
       "ma.L2         -0.2141      0.188     -1.139      0.255      -0.582       0.154\n",
       "ma.L3         -0.4984      0.095     -5.245      0.000      -0.685      -0.312\n",
       "ar.S.L6        0.0203      0.036      0.563      0.573      -0.050       0.091\n",
       "ar.S.L12       0.9568      0.036     26.717      0.000       0.887       1.027\n",
       "ma.S.L6       -0.0185      0.063     -0.294      0.769      -0.142       0.105\n",
       "ma.S.L12      -0.8620      0.063    -13.695      0.000      -0.985      -0.739\n",
       "sigma2         0.0613      0.004     15.217      0.000       0.053       0.069\n",
       "===================================================================================\n",
       "Ljung-Box (L1) (Q):                   0.00   Jarque-Bera (JB):                75.78\n",
       "Prob(Q):                              0.96   Prob(JB):                         0.00\n",
       "Heteroskedasticity (H):               2.53   Skew:                             0.22\n",
       "Prob(H) (two-sided):                  0.00   Kurtosis:                         5.08\n",
       "===================================================================================\n",
       "\n",
       "Warnings:\n",
       "[1] Covariance matrix calculated using the outer product of gradients (complex-step).\n",
       "\"\"\""
      ]
     },
     "execution_count": 28,
     "metadata": {},
     "output_type": "execute_result"
    }
   ],
   "source": [
    "mod1.summary()"
   ]
  },
  {
   "cell_type": "code",
   "execution_count": 29,
   "id": "6804b1ce",
   "metadata": {},
   "outputs": [
    {
     "name": "stderr",
     "output_type": "stream",
     "text": [
      " This problem is unconstrained.\n"
     ]
    },
    {
     "name": "stdout",
     "output_type": "stream",
     "text": [
      "RUNNING THE L-BFGS-B CODE\n",
      "\n",
      "           * * *\n",
      "\n",
      "Machine precision = 2.220D-16\n",
      " N =           11     M =           10\n",
      "\n",
      "At X0         0 variables are exactly at the bounds\n",
      "\n",
      "At iterate    0    f=  7.81775D-02    |proj g|=  1.88940D-01\n",
      "\n",
      "At iterate    5    f=  7.47193D-02    |proj g|=  2.03950D-02\n",
      "\n",
      "At iterate   10    f=  5.90669D-02    |proj g|=  3.16068D-02\n",
      "\n",
      "At iterate   15    f=  4.08298D-02    |proj g|=  7.68582D-02\n",
      "\n",
      "At iterate   20    f=  2.42902D-02    |proj g|=  4.21494D-02\n",
      "\n",
      "At iterate   25    f=  2.30720D-02    |proj g|=  9.58788D-03\n",
      "\n",
      "At iterate   30    f=  2.16015D-02    |proj g|=  1.56574D-02\n",
      "\n",
      "At iterate   35    f=  2.00164D-02    |proj g|=  9.34166D-03\n",
      "\n",
      "At iterate   40    f=  1.98050D-02    |proj g|=  1.67498D-03\n",
      "\n",
      "At iterate   45    f=  1.97433D-02    |proj g|=  5.07463D-03\n",
      "\n",
      "At iterate   50    f=  1.97031D-02    |proj g|=  1.03316D-03\n",
      "\n",
      "           * * *\n",
      "\n",
      "Tit   = total number of iterations\n",
      "Tnf   = total number of function evaluations\n",
      "Tnint = total number of segments explored during Cauchy searches\n",
      "Skip  = number of BFGS updates skipped\n",
      "Nact  = number of active bounds at final generalized Cauchy point\n",
      "Projg = norm of the final projected gradient\n",
      "F     = final function value\n",
      "\n",
      "           * * *\n",
      "\n",
      "   N    Tit     Tnf  Tnint  Skip  Nact     Projg        F\n",
      "   11     50     59      1     0     0   1.033D-03   1.970D-02\n",
      "  F =   1.9703125442986160E-002\n",
      "\n",
      "STOP: TOTAL NO. of ITERATIONS REACHED LIMIT                 \n",
      "                                       SARIMAX Results                                        \n",
      "==============================================================================================\n",
      "Dep. Variable:                                      y   No. Observations:                  404\n",
      "Model:             SARIMAX(3, 0, 3)x(2, 0, [1, 2], 6)   Log Likelihood                  -7.960\n",
      "Date:                                Thu, 23 Nov 2023   AIC                             37.920\n",
      "Time:                                        12:28:31   BIC                             81.936\n",
      "Sample:                                    05-01-1989   HQIC                            55.344\n",
      "                                         - 12-01-2022                                         \n",
      "Covariance Type:                                  opg                                         \n",
      "==============================================================================\n",
      "                 coef    std err          z      P>|z|      [0.025      0.975]\n",
      "------------------------------------------------------------------------------\n",
      "ar.L1         -0.9175      0.116     -7.909      0.000      -1.145      -0.690\n",
      "ar.L2          0.3694      0.135      2.746      0.006       0.106       0.633\n",
      "ar.L3          0.6032      0.059     10.264      0.000       0.488       0.718\n",
      "ma.L1          1.2990      0.124     10.481      0.000       1.056       1.542\n",
      "ma.L2          0.1022      0.198      0.516      0.606      -0.286       0.490\n",
      "ma.L3         -0.4259      0.093     -4.558      0.000      -0.609      -0.243\n",
      "ar.S.L6        0.0161      0.031      0.527      0.598      -0.044       0.076\n",
      "ar.S.L12       0.9724      0.031     31.188      0.000       0.911       1.033\n",
      "ma.S.L6       -0.0036      0.056     -0.064      0.949      -0.114       0.107\n",
      "ma.S.L12      -0.8949      0.058    -15.372      0.000      -1.009      -0.781\n",
      "sigma2         0.0597      0.004     16.042      0.000       0.052       0.067\n",
      "===================================================================================\n",
      "Ljung-Box (L1) (Q):                   0.07   Jarque-Bera (JB):                62.37\n",
      "Prob(Q):                              0.79   Prob(JB):                         0.00\n",
      "Heteroskedasticity (H):               2.47   Skew:                             0.23\n",
      "Prob(H) (two-sided):                  0.00   Kurtosis:                         4.87\n",
      "===================================================================================\n",
      "\n",
      "Warnings:\n",
      "[1] Covariance matrix calculated using the outer product of gradients (complex-step).\n"
     ]
    }
   ],
   "source": [
    "mod1 = sm.tsa.statespace.SARIMAX(ipc_train_diff_pd, order = (3,0,3), seasonal_order = (2,0,2,6))\n",
    "pruebas = mod1.fit()\n",
    "print(pruebas.summary())"
   ]
  },
  {
   "cell_type": "code",
   "execution_count": null,
   "id": "a07e753e",
   "metadata": {},
   "outputs": [
    {
     "name": "stdout",
     "output_type": "stream",
     "text": [
      "Performing stepwise search to minimize aic\n",
      " ARIMA(0,0,0)(1,0,1)[6] intercept   : AIC=-3043.779, Time=0.87 sec\n",
      " ARIMA(0,0,0)(0,0,0)[6] intercept   : AIC=-3039.826, Time=0.15 sec\n",
      " ARIMA(1,0,0)(1,0,0)[6] intercept   : AIC=-3085.014, Time=1.55 sec\n",
      " ARIMA(0,0,1)(0,0,1)[6] intercept   : AIC=-3135.190, Time=3.70 sec\n",
      " ARIMA(0,0,0)(0,0,0)[6]             : AIC=-3041.804, Time=0.13 sec\n",
      " ARIMA(0,0,1)(0,0,0)[6] intercept   : AIC=-3103.584, Time=0.19 sec\n",
      " ARIMA(0,0,1)(1,0,1)[6] intercept   : AIC=-3106.088, Time=2.07 sec\n",
      " ARIMA(0,0,1)(0,0,2)[6] intercept   : AIC=-3147.482, Time=20.11 sec\n",
      " ARIMA(0,0,1)(1,0,2)[6] intercept   : AIC=-3154.916, Time=23.69 sec\n",
      " ARIMA(0,0,1)(2,0,2)[6] intercept   : AIC=-3172.676, Time=38.29 sec\n",
      " ARIMA(0,0,1)(2,0,1)[6] intercept   : AIC=-3124.573, Time=7.40 sec\n",
      " ARIMA(0,0,0)(2,0,2)[6] intercept   : AIC=-3064.731, Time=17.11 sec\n",
      " ARIMA(1,0,1)(2,0,2)[6] intercept   : AIC=-3169.055, Time=38.90 sec\n",
      " ARIMA(0,0,2)(2,0,2)[6] intercept   : AIC=-3147.253, Time=17.61 sec\n",
      " ARIMA(1,0,0)(2,0,2)[6] intercept   : AIC=-3108.694, Time=18.70 sec\n",
      " ARIMA(1,0,2)(2,0,2)[6] intercept   : AIC=-3193.746, Time=61.30 sec\n",
      " ARIMA(1,0,2)(1,0,2)[6] intercept   : AIC=-3143.172, Time=9.90 sec\n",
      " ARIMA(1,0,2)(2,0,1)[6] intercept   : AIC=-3188.635, Time=31.00 sec\n",
      " ARIMA(1,0,2)(1,0,1)[6] intercept   : AIC=-3162.816, Time=6.10 sec\n",
      " ARIMA(2,0,2)(2,0,2)[6] intercept   : AIC=-3148.592, Time=19.40 sec\n",
      " ARIMA(1,0,3)(2,0,2)[6] intercept   : AIC=-3189.943, Time=48.70 sec\n"
     ]
    }
   ],
   "source": [
    "# Ajustar el modelo SARIMA utilizando auto_arima\n",
    "mod1 = pm.auto_arima(ipc_train_diff2_pd, \n",
    "                     seasonal=True, stepwise=True,\n",
    "                     order=(4, 1, 4), \n",
    "                     seasonal_order=(1, 1, 1, 6),\n",
    "                     suppress_warnings=True, \n",
    "                     error_action=\"ignore\", \n",
    "                     max_order=None,\n",
    "                     start_p =0 , max_p = 6,\n",
    "                     start_q=0 , max_q=6,\n",
    "                     trace=True, m=6)"
   ]
  },
  {
   "cell_type": "code",
   "execution_count": null,
   "id": "2482634f",
   "metadata": {},
   "outputs": [],
   "source": [
    "mod1.summary()"
   ]
  },
  {
   "cell_type": "code",
   "execution_count": null,
   "id": "f2c85190",
   "metadata": {},
   "outputs": [],
   "source": [
    "# Guarda el AIC\n",
    "aic1 = mod1.aic()\n",
    "\n",
    "result2 = sm.stats.acorr_ljungbox(mod1.resid() , lags=[18], return_df=True, boxpierce=True)\n",
    "p0_1 = result2.loc[18, 'lb_pvalue']\n",
    "# Interpreta el p-valor\n",
    "if p0_1 < 0.05:\n",
    "    Inter_p0_1 = \"El modelo no es apropiado\"\n",
    "else:\n",
    "    Inter_p0_1 = \"El modelo es apropiado\"\n",
    "\n",
    "# Realiza y guarda las predicciones\n",
    "pred1 = mod1.predict(n_periods=len(ipc_val_diff2))\n",
    "\n",
    "# Calcula el RMSE de las predicciones\n",
    "rmse1 = np.sqrt(mean_squared_error(ipc_val_diff2_pd, pred1))\n",
    "\n",
    "# Imprime los resultados\n",
    "print(f\"Model: {mod1}\")\n",
    "print(f\"AIC: {aic1}\")\n",
    "print(f\"p-value: {p0_1}\")\n",
    "print(f\"Interpretation: {Inter_p0_1}\")\n",
    "print(f\"Predictions: {pred1}\")\n",
    "print(f\"RMSE: {rmse1}\")"
   ]
  },
  {
   "cell_type": "code",
   "execution_count": null,
   "id": "d3c6a76f",
   "metadata": {
    "deletable": false,
    "editable": false,
    "nbgrader": {
     "cell_type": "code",
     "checksum": "320c976474ec9cb8b09d3b18634fdb0a",
     "grade": true,
     "grade_id": "cell-a9ad10d4bd525b60",
     "locked": true,
     "points": 10,
     "schema_version": 3,
     "solution": false,
     "task": false
    }
   },
   "outputs": [],
   "source": [
    "# Prueba oculta: Check del modelo mejor que autoarima según AIC"
   ]
  },
  {
   "cell_type": "code",
   "execution_count": null,
   "id": "4c02a543",
   "metadata": {
    "deletable": false,
    "editable": false,
    "nbgrader": {
     "cell_type": "code",
     "checksum": "8449bfed4179f5f93722a2675e160d24",
     "grade": true,
     "grade_id": "cell-9f648a91c57e1dde",
     "locked": true,
     "points": 10,
     "schema_version": 3,
     "solution": false,
     "task": false
    }
   },
   "outputs": [],
   "source": [
    "# Prueba oculta: Check para el p-valor de la prueba de Box-Pierce-Ljung"
   ]
  },
  {
   "cell_type": "code",
   "execution_count": null,
   "id": "ce3609d3",
   "metadata": {
    "deletable": false,
    "editable": false,
    "nbgrader": {
     "cell_type": "code",
     "checksum": "61ca26ae0dd1236e91bc6a5d3815c3b8",
     "grade": true,
     "grade_id": "cell-3214f96cb389d681",
     "locked": true,
     "points": 10,
     "schema_version": 3,
     "solution": false,
     "task": false
    }
   },
   "outputs": [],
   "source": [
    "# Prueba oculta: Check del RMSE del modelo propuesto"
   ]
  },
  {
   "cell_type": "markdown",
   "id": "55c051d7",
   "metadata": {
    "deletable": false,
    "editable": false,
    "nbgrader": {
     "cell_type": "markdown",
     "checksum": "a4870822a803f7e9a9f8d8d25807207b",
     "grade": false,
     "grade_id": "cell-a86c8a3a53f6a29b",
     "locked": true,
     "schema_version": 3,
     "solution": false,
     "task": false
    }
   },
   "source": [
    "### (Parte 4) Predecir de julio a diciembre de 2023\n",
    "\n",
    "- Utilizar los órdenes del mejor modelo ajustado con la muestra de entrenamiento y ajustar con toda la muestra.\n",
    "- Realizar las predicciones para los meses de julio a diciembre de 2023."
   ]
  },
  {
   "cell_type": "code",
   "execution_count": null,
   "id": "2b301a18",
   "metadata": {
    "deletable": false,
    "nbgrader": {
     "cell_type": "code",
     "checksum": "67b1ffa4c7362ce0051926cd1c3fe83d",
     "grade": false,
     "grade_id": "cell-d8ab400a25e1c78b",
     "locked": false,
     "schema_version": 3,
     "solution": true,
     "task": false
    }
   },
   "outputs": [],
   "source": [
    "## Guardar la información en:\n",
    "# modfinal: # nombre del modelo \n",
    "# predicciones: # nombre donde se guardarán las predicciones\n",
    "\n",
    "import statsmodels.api as sm\n",
    "import pandas as pd\n",
    "\n",
    "# Supongamos que ipc_train_diff2_pd es tu serie temporal de entrenamiento\n",
    "\n",
    "# Ajustar un modelo SARIMAX con los órdenes especificados\n",
    "order = (0, 0, 2)\n",
    "seasonal_order = (2, 0, 2, 6)\n",
    "\n"
   ]
  },
  {
   "cell_type": "code",
   "execution_count": null,
   "id": "1c30cc3e",
   "metadata": {
    "deletable": false,
    "editable": false,
    "nbgrader": {
     "cell_type": "code",
     "checksum": "49f3a0c279c558d158bae0057b4068c6",
     "grade": true,
     "grade_id": "cell-ab704560fe9f64d2",
     "locked": true,
     "points": 8,
     "schema_version": 3,
     "solution": false,
     "task": false
    }
   },
   "outputs": [],
   "source": [
    "# Prueba oculta: Check para las predicciones del modelo propuesto"
   ]
  }
 ],
 "metadata": {
  "kernelspec": {
   "display_name": "Python 3 (ipykernel)",
   "language": "python",
   "name": "python3"
  },
  "language_info": {
   "codemirror_mode": {
    "name": "ipython",
    "version": 3
   },
   "file_extension": ".py",
   "mimetype": "text/x-python",
   "name": "python",
   "nbconvert_exporter": "python",
   "pygments_lexer": "ipython3",
   "version": "3.10.6"
  }
 },
 "nbformat": 4,
 "nbformat_minor": 5
}
