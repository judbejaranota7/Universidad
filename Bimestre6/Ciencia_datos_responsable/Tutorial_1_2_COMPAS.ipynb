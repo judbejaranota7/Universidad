{
  "cells": [
    {
      "cell_type": "markdown",
      "metadata": {
        "id": "kx57r62efB5k"
      },
      "source": [
        "<h1><center> MCD - Ciencia de Datos Responsable </center></h1>\n",
        "<h2><center> Tutorial 1: Introducción COMPAS </center></h2>\n",
        "\n"
      ]
    },
    {
      "cell_type": "code",
      "execution_count": 1,
      "metadata": {
        "id": "DTRglEQvGSLM"
      },
      "outputs": [],
      "source": [
        "import pandas as pd\n",
        "import numpy as np\n",
        "\n",
        "import matplotlib\n",
        "from matplotlib import pyplot as plt\n",
        "%matplotlib inline\n",
        "\n",
        "import seaborn as sns\n",
        "\n",
        "import warnings\n",
        "warnings.filterwarnings('ignore')"
      ]
    },
    {
      "cell_type": "markdown",
      "metadata": {
        "id": "8ds8fjiifqja"
      },
      "source": [
        "<h2> COMPAS: Correctional Offender Management Profiling for Alternative Sanctions </h2>\n",
        "\n",
        "![imagen](https://static.propublica.org/projects/algorithmic-bias/assets/img/generated/opener-b-crop-960*540-00796e.jpg)\n",
        "<b><h6> Imagen 1 - Machine Bias (ProPublica) </h6></b>\n",
        "\n",
        "- Algoritmo utilizado en el sistema de justicia criminal de Estados Unidos para predecir la probabilidad o riesgo de reincidencia de un acusado.\n",
        "\n",
        "- Tiene por objetivo  ayudar a los jueces a tomar decisiones más informadas sobre el riesgo de reincidencia.\n",
        "\n",
        "Investigación hecha por ProPublica: Existe una clara diferencia en la distribución de los puntajes de riesgo según raza.\n",
        "\n",
        "<b><h3>Links de interés: </h3></b>\n",
        "\n",
        "- [Articulo ProPublica : Machine Bias](https://www.propublica.org/article/machine-bias-risk-assessments-in-criminal-sentencing)\n",
        "\n",
        "- [Metodología](https://www.propublica.org/article/how-we-analyzed-the-compas-recidivism-algorithm)\n",
        "\n",
        "- [Códigos originales de ProPublica](https://github.com/propublica/compas-analysis/tree/master)\n",
        "\n",
        "\n"
      ]
    },
    {
      "cell_type": "code",
      "execution_count": 2,
      "metadata": {
        "colab": {
          "base_uri": "https://localhost:8080/"
        },
        "id": "OJCeVwSAgds8",
        "outputId": "084b4c2e-c58c-46e5-f140-81989a4e8b13"
      },
      "outputs": [
        {
          "data": {
            "text/plain": [
              "(7214, 53)"
            ]
          },
          "execution_count": 2,
          "metadata": {},
          "output_type": "execute_result"
        }
      ],
      "source": [
        "compas = pd.read_csv('https://raw.githubusercontent.com/propublica/compas-analysis/master/compas-scores-two-years.csv')\n",
        "compas.shape"
      ]
    },
    {
      "cell_type": "code",
      "execution_count": 3,
      "metadata": {
        "colab": {
          "base_uri": "https://localhost:8080/",
          "height": 366
        },
        "id": "rt9_ISPzn8IV",
        "outputId": "cc4115e2-7c65-4407-a9b9-60baad648626"
      },
      "outputs": [
        {
          "data": {
            "text/html": [
              "<div>\n",
              "<style scoped>\n",
              "    .dataframe tbody tr th:only-of-type {\n",
              "        vertical-align: middle;\n",
              "    }\n",
              "\n",
              "    .dataframe tbody tr th {\n",
              "        vertical-align: top;\n",
              "    }\n",
              "\n",
              "    .dataframe thead th {\n",
              "        text-align: right;\n",
              "    }\n",
              "</style>\n",
              "<table border=\"1\" class=\"dataframe\">\n",
              "  <thead>\n",
              "    <tr style=\"text-align: right;\">\n",
              "      <th></th>\n",
              "      <th>id</th>\n",
              "      <th>name</th>\n",
              "      <th>first</th>\n",
              "      <th>last</th>\n",
              "      <th>compas_screening_date</th>\n",
              "      <th>sex</th>\n",
              "      <th>dob</th>\n",
              "      <th>age</th>\n",
              "      <th>age_cat</th>\n",
              "      <th>race</th>\n",
              "      <th>...</th>\n",
              "      <th>v_decile_score</th>\n",
              "      <th>v_score_text</th>\n",
              "      <th>v_screening_date</th>\n",
              "      <th>in_custody</th>\n",
              "      <th>out_custody</th>\n",
              "      <th>priors_count.1</th>\n",
              "      <th>start</th>\n",
              "      <th>end</th>\n",
              "      <th>event</th>\n",
              "      <th>two_year_recid</th>\n",
              "    </tr>\n",
              "  </thead>\n",
              "  <tbody>\n",
              "    <tr>\n",
              "      <th>0</th>\n",
              "      <td>1</td>\n",
              "      <td>miguel hernandez</td>\n",
              "      <td>miguel</td>\n",
              "      <td>hernandez</td>\n",
              "      <td>2013-08-14</td>\n",
              "      <td>Male</td>\n",
              "      <td>1947-04-18</td>\n",
              "      <td>69</td>\n",
              "      <td>Greater than 45</td>\n",
              "      <td>Other</td>\n",
              "      <td>...</td>\n",
              "      <td>1</td>\n",
              "      <td>Low</td>\n",
              "      <td>2013-08-14</td>\n",
              "      <td>2014-07-07</td>\n",
              "      <td>2014-07-14</td>\n",
              "      <td>0</td>\n",
              "      <td>0</td>\n",
              "      <td>327</td>\n",
              "      <td>0</td>\n",
              "      <td>0</td>\n",
              "    </tr>\n",
              "    <tr>\n",
              "      <th>1</th>\n",
              "      <td>3</td>\n",
              "      <td>kevon dixon</td>\n",
              "      <td>kevon</td>\n",
              "      <td>dixon</td>\n",
              "      <td>2013-01-27</td>\n",
              "      <td>Male</td>\n",
              "      <td>1982-01-22</td>\n",
              "      <td>34</td>\n",
              "      <td>25 - 45</td>\n",
              "      <td>African-American</td>\n",
              "      <td>...</td>\n",
              "      <td>1</td>\n",
              "      <td>Low</td>\n",
              "      <td>2013-01-27</td>\n",
              "      <td>2013-01-26</td>\n",
              "      <td>2013-02-05</td>\n",
              "      <td>0</td>\n",
              "      <td>9</td>\n",
              "      <td>159</td>\n",
              "      <td>1</td>\n",
              "      <td>1</td>\n",
              "    </tr>\n",
              "    <tr>\n",
              "      <th>2</th>\n",
              "      <td>4</td>\n",
              "      <td>ed philo</td>\n",
              "      <td>ed</td>\n",
              "      <td>philo</td>\n",
              "      <td>2013-04-14</td>\n",
              "      <td>Male</td>\n",
              "      <td>1991-05-14</td>\n",
              "      <td>24</td>\n",
              "      <td>Less than 25</td>\n",
              "      <td>African-American</td>\n",
              "      <td>...</td>\n",
              "      <td>3</td>\n",
              "      <td>Low</td>\n",
              "      <td>2013-04-14</td>\n",
              "      <td>2013-06-16</td>\n",
              "      <td>2013-06-16</td>\n",
              "      <td>4</td>\n",
              "      <td>0</td>\n",
              "      <td>63</td>\n",
              "      <td>0</td>\n",
              "      <td>1</td>\n",
              "    </tr>\n",
              "    <tr>\n",
              "      <th>3</th>\n",
              "      <td>5</td>\n",
              "      <td>marcu brown</td>\n",
              "      <td>marcu</td>\n",
              "      <td>brown</td>\n",
              "      <td>2013-01-13</td>\n",
              "      <td>Male</td>\n",
              "      <td>1993-01-21</td>\n",
              "      <td>23</td>\n",
              "      <td>Less than 25</td>\n",
              "      <td>African-American</td>\n",
              "      <td>...</td>\n",
              "      <td>6</td>\n",
              "      <td>Medium</td>\n",
              "      <td>2013-01-13</td>\n",
              "      <td>NaN</td>\n",
              "      <td>NaN</td>\n",
              "      <td>1</td>\n",
              "      <td>0</td>\n",
              "      <td>1174</td>\n",
              "      <td>0</td>\n",
              "      <td>0</td>\n",
              "    </tr>\n",
              "    <tr>\n",
              "      <th>4</th>\n",
              "      <td>6</td>\n",
              "      <td>bouthy pierrelouis</td>\n",
              "      <td>bouthy</td>\n",
              "      <td>pierrelouis</td>\n",
              "      <td>2013-03-26</td>\n",
              "      <td>Male</td>\n",
              "      <td>1973-01-22</td>\n",
              "      <td>43</td>\n",
              "      <td>25 - 45</td>\n",
              "      <td>Other</td>\n",
              "      <td>...</td>\n",
              "      <td>1</td>\n",
              "      <td>Low</td>\n",
              "      <td>2013-03-26</td>\n",
              "      <td>NaN</td>\n",
              "      <td>NaN</td>\n",
              "      <td>2</td>\n",
              "      <td>0</td>\n",
              "      <td>1102</td>\n",
              "      <td>0</td>\n",
              "      <td>0</td>\n",
              "    </tr>\n",
              "  </tbody>\n",
              "</table>\n",
              "<p>5 rows × 53 columns</p>\n",
              "</div>"
            ],
            "text/plain": [
              "   id                name   first         last compas_screening_date   sex  \\\n",
              "0   1    miguel hernandez  miguel    hernandez            2013-08-14  Male   \n",
              "1   3         kevon dixon   kevon        dixon            2013-01-27  Male   \n",
              "2   4            ed philo      ed        philo            2013-04-14  Male   \n",
              "3   5         marcu brown   marcu        brown            2013-01-13  Male   \n",
              "4   6  bouthy pierrelouis  bouthy  pierrelouis            2013-03-26  Male   \n",
              "\n",
              "          dob  age          age_cat              race  ...  v_decile_score  \\\n",
              "0  1947-04-18   69  Greater than 45             Other  ...               1   \n",
              "1  1982-01-22   34          25 - 45  African-American  ...               1   \n",
              "2  1991-05-14   24     Less than 25  African-American  ...               3   \n",
              "3  1993-01-21   23     Less than 25  African-American  ...               6   \n",
              "4  1973-01-22   43          25 - 45             Other  ...               1   \n",
              "\n",
              "   v_score_text  v_screening_date  in_custody  out_custody  priors_count.1  \\\n",
              "0           Low        2013-08-14  2014-07-07   2014-07-14               0   \n",
              "1           Low        2013-01-27  2013-01-26   2013-02-05               0   \n",
              "2           Low        2013-04-14  2013-06-16   2013-06-16               4   \n",
              "3        Medium        2013-01-13         NaN          NaN               1   \n",
              "4           Low        2013-03-26         NaN          NaN               2   \n",
              "\n",
              "  start   end event two_year_recid  \n",
              "0     0   327     0              0  \n",
              "1     9   159     1              1  \n",
              "2     0    63     0              1  \n",
              "3     0  1174     0              0  \n",
              "4     0  1102     0              0  \n",
              "\n",
              "[5 rows x 53 columns]"
            ]
          },
          "execution_count": 3,
          "metadata": {},
          "output_type": "execute_result"
        }
      ],
      "source": [
        "compas.head()"
      ]
    },
    {
      "cell_type": "markdown",
      "metadata": {
        "id": "5Fy-7oWplFhK"
      },
      "source": [
        "## Columnas de interés:\n",
        "\n",
        "1. `age` - Edad del acusado. Variable numérica.\n",
        "2. `age_cat` - Categoría de edad. Puede ser < 25, 25-45, >45.\n",
        "3. `sex` - Sexo del acusado. Puede ser  'Male' o 'Female'.\n",
        "4. `race` - Raza del acusado. Puede ser 'African-American', 'Caucasian', 'Hispanic', 'Asian', o 'Other'.\n",
        "5. `c_charge_degree` - Grado del crimen. Es o bien M (Misdemeanor), F (Felony), o O (Ordinary traffic offense).\n",
        "6. `priors_count` - Número de crimenes anteriores cometidos por el acusado. Variable numérica.\n",
        "7. `days_b_screening_arrest` - Días entre el arresto y la fecha del cargo por el delito registrado en COMPAS.\n",
        "8. `decile_score` - Puntaje COMPAS predicho por el sistema. Toma valores entre 0 y 10.\n",
        "9. `score_text` - Categoria de decile_score. Puede Low (1-4), Medium (5-7), y High (8-10).\n",
        "10. `is_recid` - Variable que indica si un acusado es reincidente o no. Puede tomar valores 1, 0 o -1.\n",
        "11. `two_year_recid` - Variable que indica si un acusado tuvo reincidencia dentro de un periodo de dos años.\n",
        "12. `c_jail_in` - Momento en que el acusado fue ingresado a la carcel.\n",
        "13. `c_jail_out` - Momento en que el acusado fue liberado de la carcel."
      ]
    },
    {
      "cell_type": "code",
      "execution_count": 4,
      "metadata": {
        "id": "M1MUoBHcjlnL"
      },
      "outputs": [],
      "source": [
        "# Mantenemos las columnas de interés.\n",
        "\n",
        "columns = ['age', 'c_charge_degree', 'race', 'age_cat',\n",
        "           'score_text', 'sex', 'priors_count', 'days_b_screening_arrest',\n",
        "           'decile_score', 'is_recid', 'two_year_recid', 'c_jail_in', 'c_jail_out']\n",
        "\n",
        "compas = compas[columns]\n"
      ]
    },
    {
      "cell_type": "code",
      "execution_count": 5,
      "metadata": {
        "colab": {
          "base_uri": "https://localhost:8080/",
          "height": 206
        },
        "id": "Lp0wcqVlqkuh",
        "outputId": "23d22535-3efd-4106-a1ab-332d766d4c5c"
      },
      "outputs": [
        {
          "data": {
            "text/html": [
              "<div>\n",
              "<style scoped>\n",
              "    .dataframe tbody tr th:only-of-type {\n",
              "        vertical-align: middle;\n",
              "    }\n",
              "\n",
              "    .dataframe tbody tr th {\n",
              "        vertical-align: top;\n",
              "    }\n",
              "\n",
              "    .dataframe thead th {\n",
              "        text-align: right;\n",
              "    }\n",
              "</style>\n",
              "<table border=\"1\" class=\"dataframe\">\n",
              "  <thead>\n",
              "    <tr style=\"text-align: right;\">\n",
              "      <th></th>\n",
              "      <th>age</th>\n",
              "      <th>c_charge_degree</th>\n",
              "      <th>race</th>\n",
              "      <th>age_cat</th>\n",
              "      <th>score_text</th>\n",
              "      <th>sex</th>\n",
              "      <th>priors_count</th>\n",
              "      <th>days_b_screening_arrest</th>\n",
              "      <th>decile_score</th>\n",
              "      <th>is_recid</th>\n",
              "      <th>two_year_recid</th>\n",
              "      <th>c_jail_in</th>\n",
              "      <th>c_jail_out</th>\n",
              "    </tr>\n",
              "  </thead>\n",
              "  <tbody>\n",
              "    <tr>\n",
              "      <th>0</th>\n",
              "      <td>69</td>\n",
              "      <td>F</td>\n",
              "      <td>Other</td>\n",
              "      <td>Greater than 45</td>\n",
              "      <td>Low</td>\n",
              "      <td>Male</td>\n",
              "      <td>0</td>\n",
              "      <td>-1.0</td>\n",
              "      <td>1</td>\n",
              "      <td>0</td>\n",
              "      <td>0</td>\n",
              "      <td>2013-08-13 06:03:42</td>\n",
              "      <td>2013-08-14 05:41:20</td>\n",
              "    </tr>\n",
              "    <tr>\n",
              "      <th>1</th>\n",
              "      <td>34</td>\n",
              "      <td>F</td>\n",
              "      <td>African-American</td>\n",
              "      <td>25 - 45</td>\n",
              "      <td>Low</td>\n",
              "      <td>Male</td>\n",
              "      <td>0</td>\n",
              "      <td>-1.0</td>\n",
              "      <td>3</td>\n",
              "      <td>1</td>\n",
              "      <td>1</td>\n",
              "      <td>2013-01-26 03:45:27</td>\n",
              "      <td>2013-02-05 05:36:53</td>\n",
              "    </tr>\n",
              "    <tr>\n",
              "      <th>2</th>\n",
              "      <td>24</td>\n",
              "      <td>F</td>\n",
              "      <td>African-American</td>\n",
              "      <td>Less than 25</td>\n",
              "      <td>Low</td>\n",
              "      <td>Male</td>\n",
              "      <td>4</td>\n",
              "      <td>-1.0</td>\n",
              "      <td>4</td>\n",
              "      <td>1</td>\n",
              "      <td>1</td>\n",
              "      <td>2013-04-13 04:58:34</td>\n",
              "      <td>2013-04-14 07:02:04</td>\n",
              "    </tr>\n",
              "    <tr>\n",
              "      <th>3</th>\n",
              "      <td>23</td>\n",
              "      <td>F</td>\n",
              "      <td>African-American</td>\n",
              "      <td>Less than 25</td>\n",
              "      <td>High</td>\n",
              "      <td>Male</td>\n",
              "      <td>1</td>\n",
              "      <td>NaN</td>\n",
              "      <td>8</td>\n",
              "      <td>0</td>\n",
              "      <td>0</td>\n",
              "      <td>NaN</td>\n",
              "      <td>NaN</td>\n",
              "    </tr>\n",
              "    <tr>\n",
              "      <th>4</th>\n",
              "      <td>43</td>\n",
              "      <td>F</td>\n",
              "      <td>Other</td>\n",
              "      <td>25 - 45</td>\n",
              "      <td>Low</td>\n",
              "      <td>Male</td>\n",
              "      <td>2</td>\n",
              "      <td>NaN</td>\n",
              "      <td>1</td>\n",
              "      <td>0</td>\n",
              "      <td>0</td>\n",
              "      <td>NaN</td>\n",
              "      <td>NaN</td>\n",
              "    </tr>\n",
              "  </tbody>\n",
              "</table>\n",
              "</div>"
            ],
            "text/plain": [
              "   age c_charge_degree              race          age_cat score_text   sex  \\\n",
              "0   69               F             Other  Greater than 45        Low  Male   \n",
              "1   34               F  African-American          25 - 45        Low  Male   \n",
              "2   24               F  African-American     Less than 25        Low  Male   \n",
              "3   23               F  African-American     Less than 25       High  Male   \n",
              "4   43               F             Other          25 - 45        Low  Male   \n",
              "\n",
              "   priors_count  days_b_screening_arrest  decile_score  is_recid  \\\n",
              "0             0                     -1.0             1         0   \n",
              "1             0                     -1.0             3         1   \n",
              "2             4                     -1.0             4         1   \n",
              "3             1                      NaN             8         0   \n",
              "4             2                      NaN             1         0   \n",
              "\n",
              "   two_year_recid            c_jail_in           c_jail_out  \n",
              "0               0  2013-08-13 06:03:42  2013-08-14 05:41:20  \n",
              "1               1  2013-01-26 03:45:27  2013-02-05 05:36:53  \n",
              "2               1  2013-04-13 04:58:34  2013-04-14 07:02:04  \n",
              "3               0                  NaN                  NaN  \n",
              "4               0                  NaN                  NaN  "
            ]
          },
          "execution_count": 5,
          "metadata": {},
          "output_type": "execute_result"
        }
      ],
      "source": [
        "compas.head()"
      ]
    },
    {
      "cell_type": "code",
      "execution_count": 6,
      "metadata": {
        "colab": {
          "base_uri": "https://localhost:8080/"
        },
        "id": "zcDS4cCEo5Ef",
        "outputId": "3d15f408-6e92-431a-8bc2-1bef49532f69"
      },
      "outputs": [
        {
          "name": "stdout",
          "output_type": "stream",
          "text": [
            "<class 'pandas.core.frame.DataFrame'>\n",
            "RangeIndex: 7214 entries, 0 to 7213\n",
            "Data columns (total 13 columns):\n",
            " #   Column                   Non-Null Count  Dtype  \n",
            "---  ------                   --------------  -----  \n",
            " 0   age                      7214 non-null   int64  \n",
            " 1   c_charge_degree          7214 non-null   object \n",
            " 2   race                     7214 non-null   object \n",
            " 3   age_cat                  7214 non-null   object \n",
            " 4   score_text               7214 non-null   object \n",
            " 5   sex                      7214 non-null   object \n",
            " 6   priors_count             7214 non-null   int64  \n",
            " 7   days_b_screening_arrest  6907 non-null   float64\n",
            " 8   decile_score             7214 non-null   int64  \n",
            " 9   is_recid                 7214 non-null   int64  \n",
            " 10  two_year_recid           7214 non-null   int64  \n",
            " 11  c_jail_in                6907 non-null   object \n",
            " 12  c_jail_out               6907 non-null   object \n",
            "dtypes: float64(1), int64(5), object(7)\n",
            "memory usage: 732.8+ KB\n"
          ]
        }
      ],
      "source": [
        "compas.info()"
      ]
    },
    {
      "cell_type": "markdown",
      "metadata": {
        "id": "basxaHnXwtFV"
      },
      "source": [
        "En la metodología propuesta por ProPublica (revisar <b>Links de interés</b>) se presentan los siguientes criterios para realizar la limpieza de los datos:\n",
        "\n",
        "- Si la fecha del cargo por el delito de un acusado evaluado por COMPAS no estaba dentro de los 30 días desde el momento en que la persona fue arrestada, asumimos que, debido a razones de calidad de datos, no tenemos el delito correcto.\n",
        "\n",
        "- Según se indica en el código publicado por ProPublica, se etiquetó con ```is_recid = -1``` los casos para los cuales no se encontró el caso de COMPAS.\n",
        "\n",
        "- En una línea similar, se eliminan las infracciones de tráfico comunes (aquellas con un grado de ```c_charge_degree``` <b>'O'</b>), que no resultarían en tiempo de prisión.\n"
      ]
    },
    {
      "cell_type": "code",
      "execution_count": 7,
      "metadata": {
        "colab": {
          "base_uri": "https://localhost:8080/"
        },
        "id": "NQKIEGGkzeKj",
        "outputId": "0c994a86-c04e-469d-d4fc-2ca77cf1ef68"
      },
      "outputs": [
        {
          "data": {
            "text/plain": [
              "(6172, 13)"
            ]
          },
          "execution_count": 7,
          "metadata": {},
          "output_type": "execute_result"
        }
      ],
      "source": [
        "clean_df = compas[((compas['days_b_screening_arrest'] <= 30) &\\\n",
        "                  (compas['days_b_screening_arrest'] >= -30) &\\\n",
        "                  (compas['is_recid'] != -1) &\\\n",
        "                  (compas['c_charge_degree'] != 'O'))]\n",
        "clean_df.shape"
      ]
    },
    {
      "cell_type": "code",
      "execution_count": 8,
      "metadata": {
        "colab": {
          "base_uri": "https://localhost:8080/"
        },
        "id": "-HaWd8ju6V-5",
        "outputId": "85108043-0a08-4356-c368-e4eedc7e903b"
      },
      "outputs": [
        {
          "data": {
            "text/plain": [
              "(7214, 13)"
            ]
          },
          "execution_count": 8,
          "metadata": {},
          "output_type": "execute_result"
        }
      ],
      "source": [
        "compas.shape"
      ]
    },
    {
      "cell_type": "code",
      "execution_count": 9,
      "metadata": {
        "colab": {
          "base_uri": "https://localhost:8080/"
        },
        "id": "dVL-ZBpC6fzL",
        "outputId": "ebd9e5fd-9af0-4e03-bf8e-55897662a488"
      },
      "outputs": [
        {
          "name": "stdout",
          "output_type": "stream",
          "text": [
            "Se eliminaron 1042 regitros.\n"
          ]
        }
      ],
      "source": [
        "print(f'Se eliminaron {compas.shape[0] - clean_df.shape[0]} regitros.')"
      ]
    },
    {
      "cell_type": "code",
      "execution_count": 10,
      "metadata": {
        "colab": {
          "base_uri": "https://localhost:8080/"
        },
        "id": "RkGdDRqHpACb",
        "outputId": "26072c9b-6935-420d-cfdc-7db8e4fc3e3b"
      },
      "outputs": [
        {
          "name": "stdout",
          "output_type": "stream",
          "text": [
            "<class 'pandas.core.frame.DataFrame'>\n",
            "Int64Index: 6172 entries, 0 to 7213\n",
            "Data columns (total 13 columns):\n",
            " #   Column                   Non-Null Count  Dtype  \n",
            "---  ------                   --------------  -----  \n",
            " 0   age                      6172 non-null   int64  \n",
            " 1   c_charge_degree          6172 non-null   object \n",
            " 2   race                     6172 non-null   object \n",
            " 3   age_cat                  6172 non-null   object \n",
            " 4   score_text               6172 non-null   object \n",
            " 5   sex                      6172 non-null   object \n",
            " 6   priors_count             6172 non-null   int64  \n",
            " 7   days_b_screening_arrest  6172 non-null   float64\n",
            " 8   decile_score             6172 non-null   int64  \n",
            " 9   is_recid                 6172 non-null   int64  \n",
            " 10  two_year_recid           6172 non-null   int64  \n",
            " 11  c_jail_in                6172 non-null   object \n",
            " 12  c_jail_out               6172 non-null   object \n",
            "dtypes: float64(1), int64(5), object(7)\n",
            "memory usage: 675.1+ KB\n"
          ]
        }
      ],
      "source": [
        "clean_df.info()"
      ]
    },
    {
      "cell_type": "code",
      "execution_count": 11,
      "metadata": {
        "id": "QgeWQaxJY-fi"
      },
      "outputs": [],
      "source": [
        "age_count = clean_df['age_cat'].value_counts(normalize=True) * 100\n",
        "race_count = clean_df['race'].value_counts(normalize=True) * 100\n",
        "sex_count = clean_df['sex'].value_counts(normalize=True) * 100"
      ]
    },
    {
      "cell_type": "markdown",
      "metadata": {
        "id": "2HeUllSfKm63"
      },
      "source": [
        "## Análisis exploratorio"
      ]
    },
    {
      "cell_type": "markdown",
      "metadata": {
        "id": "P4annD5UKg5e"
      },
      "source": [
        "### Distribución de la edad"
      ]
    },
    {
      "cell_type": "code",
      "execution_count": 12,
      "metadata": {
        "colab": {
          "base_uri": "https://localhost:8080/",
          "height": 488
        },
        "id": "dEF4327P8lbx",
        "outputId": "be9e541a-aaf1-4886-f310-d00c3a617863"
      },
      "outputs": [
        {
          "ename": "AttributeError",
          "evalue": "module 'seaborn' has no attribute 'histplot'",
          "output_type": "error",
          "traceback": [
            "\u001b[1;31m---------------------------------------------------------------------------\u001b[0m",
            "\u001b[1;31mAttributeError\u001b[0m                            Traceback (most recent call last)",
            "\u001b[1;32m<ipython-input-12-044082abc86a>\u001b[0m in \u001b[0;36m<module>\u001b[1;34m\u001b[0m\n\u001b[0;32m      2\u001b[0m \u001b[0max\u001b[0m \u001b[1;33m=\u001b[0m \u001b[0max\u001b[0m\u001b[1;33m.\u001b[0m\u001b[0mflatten\u001b[0m\u001b[1;33m(\u001b[0m\u001b[1;33m)\u001b[0m\u001b[1;33m\u001b[0m\u001b[1;33m\u001b[0m\u001b[0m\n\u001b[0;32m      3\u001b[0m \u001b[1;33m\u001b[0m\u001b[0m\n\u001b[1;32m----> 4\u001b[1;33m \u001b[0msns\u001b[0m\u001b[1;33m.\u001b[0m\u001b[0mhistplot\u001b[0m\u001b[1;33m(\u001b[0m\u001b[0mdata\u001b[0m\u001b[1;33m=\u001b[0m\u001b[0mclean_df\u001b[0m\u001b[1;33m,\u001b[0m \u001b[0mx\u001b[0m\u001b[1;33m=\u001b[0m\u001b[1;34m'age'\u001b[0m\u001b[1;33m,\u001b[0m \u001b[0mcolor\u001b[0m\u001b[1;33m=\u001b[0m\u001b[1;34m'darkblue'\u001b[0m\u001b[1;33m,\u001b[0m \u001b[0max\u001b[0m\u001b[1;33m=\u001b[0m\u001b[0max\u001b[0m\u001b[1;33m[\u001b[0m\u001b[1;36m0\u001b[0m\u001b[1;33m]\u001b[0m\u001b[1;33m)\u001b[0m\u001b[1;33m\u001b[0m\u001b[1;33m\u001b[0m\u001b[0m\n\u001b[0m\u001b[0;32m      5\u001b[0m \u001b[0msns\u001b[0m\u001b[1;33m.\u001b[0m\u001b[0mcountplot\u001b[0m\u001b[1;33m(\u001b[0m\u001b[0mdata\u001b[0m\u001b[1;33m=\u001b[0m\u001b[0mclean_df\u001b[0m\u001b[1;33m,\u001b[0m \u001b[0mx\u001b[0m\u001b[1;33m=\u001b[0m\u001b[1;34m'age_cat'\u001b[0m\u001b[1;33m,\u001b[0m \u001b[0max\u001b[0m\u001b[1;33m=\u001b[0m\u001b[0max\u001b[0m\u001b[1;33m[\u001b[0m\u001b[1;36m1\u001b[0m\u001b[1;33m]\u001b[0m\u001b[1;33m)\u001b[0m\u001b[1;33m\u001b[0m\u001b[1;33m\u001b[0m\u001b[0m\n\u001b[0;32m      6\u001b[0m \u001b[1;33m\u001b[0m\u001b[0m\n",
            "\u001b[1;31mAttributeError\u001b[0m: module 'seaborn' has no attribute 'histplot'"
          ]
        },
        {
          "data": {
            "image/png": "[encoded data removed]",
            "text/plain": [
              "<Figure size 1080x360 with 2 Axes>"
            ]
          },
          "metadata": {
            "needs_background": "light"
          },
          "output_type": "display_data"
        }
      ],
      "source": [
        "fig, ax = plt.subplots(1, 2, figsize=(15, 5))\n",
        "ax = ax.flatten()\n",
        "\n",
        "sns.histplot(data=clean_df, x='age', color='darkblue', ax=ax[0])\n",
        "sns.countplot(data=clean_df, x='age_cat', ax=ax[1])\n",
        "\n",
        "ax[0].set_title('Distribución de la edad')\n",
        "ax[1].set_title('Nº registros por categoría de edad')\n",
        "plt.show()\n"
      ]
    },
    {
      "cell_type": "code",
      "execution_count": 13,
      "metadata": {
        "colab": {
          "base_uri": "https://localhost:8080/"
        },
        "id": "FqkS6cKM7acs",
        "outputId": "e5ac8910-4b14-4ed0-92ae-48a0d4416473"
      },
      "outputs": [
        {
          "data": {
            "text/plain": [
              "25 - 45            57.226183\n",
              "Less than 25       21.824368\n",
              "Greater than 45    20.949449\n",
              "Name: age_cat, dtype: float64"
            ]
          },
          "execution_count": 13,
          "metadata": {},
          "output_type": "execute_result"
        }
      ],
      "source": [
        "age_count"
      ]
    },
    {
      "cell_type": "markdown",
      "metadata": {
        "id": "zVZVa2_dKtlT"
      },
      "source": [
        "#### Interseccionalidad (edad)"
      ]
    },
    {
      "cell_type": "code",
      "execution_count": 14,
      "metadata": {
        "colab": {
          "base_uri": "https://localhost:8080/",
          "height": 175
        },
        "id": "lhY_ay9P7IIN",
        "outputId": "8b6e1590-d724-468f-cef5-95480589c699"
      },
      "outputs": [
        {
          "data": {
            "text/html": [
              "<div>\n",
              "<style scoped>\n",
              "    .dataframe tbody tr th:only-of-type {\n",
              "        vertical-align: middle;\n",
              "    }\n",
              "\n",
              "    .dataframe tbody tr th {\n",
              "        vertical-align: top;\n",
              "    }\n",
              "\n",
              "    .dataframe thead th {\n",
              "        text-align: right;\n",
              "    }\n",
              "</style>\n",
              "<table border=\"1\" class=\"dataframe\">\n",
              "  <thead>\n",
              "    <tr style=\"text-align: right;\">\n",
              "      <th>race</th>\n",
              "      <th>African-American</th>\n",
              "      <th>Asian</th>\n",
              "      <th>Caucasian</th>\n",
              "      <th>Hispanic</th>\n",
              "      <th>Native American</th>\n",
              "      <th>Other</th>\n",
              "    </tr>\n",
              "    <tr>\n",
              "      <th>age_cat</th>\n",
              "      <th></th>\n",
              "      <th></th>\n",
              "      <th></th>\n",
              "      <th></th>\n",
              "      <th></th>\n",
              "      <th></th>\n",
              "    </tr>\n",
              "  </thead>\n",
              "  <tbody>\n",
              "    <tr>\n",
              "      <th>25 - 45</th>\n",
              "      <td>30.751782</td>\n",
              "      <td>0.226831</td>\n",
              "      <td>18.276086</td>\n",
              "      <td>4.714841</td>\n",
              "      <td>0.113415</td>\n",
              "      <td>3.143227</td>\n",
              "    </tr>\n",
              "    <tr>\n",
              "      <th>Greater than 45</th>\n",
              "      <td>7.582631</td>\n",
              "      <td>0.178224</td>\n",
              "      <td>10.174984</td>\n",
              "      <td>1.766040</td>\n",
              "      <td>0.032404</td>\n",
              "      <td>1.215165</td>\n",
              "    </tr>\n",
              "    <tr>\n",
              "      <th>Less than 25</th>\n",
              "      <td>13.107583</td>\n",
              "      <td>0.097213</td>\n",
              "      <td>5.622165</td>\n",
              "      <td>1.766040</td>\n",
              "      <td>0.032404</td>\n",
              "      <td>1.198963</td>\n",
              "    </tr>\n",
              "  </tbody>\n",
              "</table>\n",
              "</div>"
            ],
            "text/plain": [
              "race             African-American     Asian  Caucasian  Hispanic  \\\n",
              "age_cat                                                            \n",
              "25 - 45                 30.751782  0.226831  18.276086  4.714841   \n",
              "Greater than 45          7.582631  0.178224  10.174984  1.766040   \n",
              "Less than 25            13.107583  0.097213   5.622165  1.766040   \n",
              "\n",
              "race             Native American     Other  \n",
              "age_cat                                     \n",
              "25 - 45                 0.113415  3.143227  \n",
              "Greater than 45         0.032404  1.215165  \n",
              "Less than 25            0.032404  1.198963  "
            ]
          },
          "execution_count": 14,
          "metadata": {},
          "output_type": "execute_result"
        }
      ],
      "source": [
        "pd.crosstab(values=clean_df['score_text'], columns=clean_df['race'], index=clean_df['age_cat'], aggfunc=lambda x: len(x),normalize='all') * 100"
      ]
    },
    {
      "cell_type": "markdown",
      "metadata": {
        "id": "Gtfs0-wYK8wD"
      },
      "source": [
        "### Distribución de la raza"
      ]
    },
    {
      "cell_type": "code",
      "execution_count": 15,
      "metadata": {
        "colab": {
          "base_uri": "https://localhost:8080/",
          "height": 487
        },
        "id": "Y-4rzADw-NPh",
        "outputId": "b7afd1db-f8e4-40e1-e897-53b3c0ebfc46"
      },
      "outputs": [
        {
          "data": {
            "image/png": "[encoded data removed]",
            "text/plain": [
              "<Figure size 576x360 with 1 Axes>"
            ]
          },
          "metadata": {
            "needs_background": "light"
          },
          "output_type": "display_data"
        }
      ],
      "source": [
        "fig, ax = plt.subplots(1, figsize=(8, 5))\n",
        "sns.countplot(x=clean_df['race'])\n",
        "plt.title('Nº registros por raza')\n",
        "plt.show()"
      ]
    },
    {
      "cell_type": "code",
      "execution_count": 16,
      "metadata": {
        "colab": {
          "base_uri": "https://localhost:8080/"
        },
        "id": "oH1z8p8tyszW",
        "outputId": "aad8a6e3-35d6-41bd-82b8-4b924d4ab5ec"
      },
      "outputs": [
        {
          "data": {
            "text/plain": [
              "African-American    51.441996\n",
              "Caucasian           34.073234\n",
              "Hispanic             8.246922\n",
              "Other                5.557356\n",
              "Asian                0.502268\n",
              "Native American      0.178224\n",
              "Name: race, dtype: float64"
            ]
          },
          "execution_count": 16,
          "metadata": {},
          "output_type": "execute_result"
        }
      ],
      "source": [
        "race_count"
      ]
    },
    {
      "cell_type": "markdown",
      "metadata": {
        "id": "D43AmynWLBLb"
      },
      "source": [
        "### Interseccionalidad (raza)\n"
      ]
    },
    {
      "cell_type": "code",
      "execution_count": 17,
      "metadata": {
        "colab": {
          "base_uri": "https://localhost:8080/",
          "height": 269
        },
        "id": "4VlbTriU71H1",
        "outputId": "bd6bc93b-0fcd-42bf-8625-22c7756d8095"
      },
      "outputs": [
        {
          "data": {
            "text/html": [
              "<div>\n",
              "<style scoped>\n",
              "    .dataframe tbody tr th:only-of-type {\n",
              "        vertical-align: middle;\n",
              "    }\n",
              "\n",
              "    .dataframe tbody tr th {\n",
              "        vertical-align: top;\n",
              "    }\n",
              "\n",
              "    .dataframe thead th {\n",
              "        text-align: right;\n",
              "    }\n",
              "</style>\n",
              "<table border=\"1\" class=\"dataframe\">\n",
              "  <thead>\n",
              "    <tr style=\"text-align: right;\">\n",
              "      <th>age_cat</th>\n",
              "      <th>25 - 45</th>\n",
              "      <th>Greater than 45</th>\n",
              "      <th>Less than 25</th>\n",
              "    </tr>\n",
              "    <tr>\n",
              "      <th>race</th>\n",
              "      <th></th>\n",
              "      <th></th>\n",
              "      <th></th>\n",
              "    </tr>\n",
              "  </thead>\n",
              "  <tbody>\n",
              "    <tr>\n",
              "      <th>African-American</th>\n",
              "      <td>59.779528</td>\n",
              "      <td>14.740157</td>\n",
              "      <td>25.480315</td>\n",
              "    </tr>\n",
              "    <tr>\n",
              "      <th>Asian</th>\n",
              "      <td>45.161290</td>\n",
              "      <td>35.483871</td>\n",
              "      <td>19.354839</td>\n",
              "    </tr>\n",
              "    <tr>\n",
              "      <th>Caucasian</th>\n",
              "      <td>53.637660</td>\n",
              "      <td>29.862102</td>\n",
              "      <td>16.500238</td>\n",
              "    </tr>\n",
              "    <tr>\n",
              "      <th>Hispanic</th>\n",
              "      <td>57.170923</td>\n",
              "      <td>21.414538</td>\n",
              "      <td>21.414538</td>\n",
              "    </tr>\n",
              "    <tr>\n",
              "      <th>Native American</th>\n",
              "      <td>63.636364</td>\n",
              "      <td>18.181818</td>\n",
              "      <td>18.181818</td>\n",
              "    </tr>\n",
              "    <tr>\n",
              "      <th>Other</th>\n",
              "      <td>56.559767</td>\n",
              "      <td>21.865889</td>\n",
              "      <td>21.574344</td>\n",
              "    </tr>\n",
              "  </tbody>\n",
              "</table>\n",
              "</div>"
            ],
            "text/plain": [
              "age_cat             25 - 45  Greater than 45  Less than 25\n",
              "race                                                      \n",
              "African-American  59.779528        14.740157     25.480315\n",
              "Asian             45.161290        35.483871     19.354839\n",
              "Caucasian         53.637660        29.862102     16.500238\n",
              "Hispanic          57.170923        21.414538     21.414538\n",
              "Native American   63.636364        18.181818     18.181818\n",
              "Other             56.559767        21.865889     21.574344"
            ]
          },
          "execution_count": 17,
          "metadata": {},
          "output_type": "execute_result"
        }
      ],
      "source": [
        "pd.crosstab(values=clean_df['score_text'], columns=clean_df['age_cat'], index=clean_df['race'], aggfunc=lambda x: len(x), normalize='index') * 100"
      ]
    },
    {
      "cell_type": "markdown",
      "metadata": {
        "id": "QQQpK-QVLIP2"
      },
      "source": [
        "### Distribución del sexo"
      ]
    },
    {
      "cell_type": "code",
      "execution_count": 18,
      "metadata": {
        "colab": {
          "base_uri": "https://localhost:8080/",
          "height": 487
        },
        "id": "xV9J6DxP-os0",
        "outputId": "8f418243-c7d7-4ae6-e3b5-6c31d9ad96ea"
      },
      "outputs": [
        {
          "data": {
            "image/png": "[encoded data removed]",
            "text/plain": [
              "<Figure size 360x360 with 1 Axes>"
            ]
          },
          "metadata": {
            "needs_background": "light"
          },
          "output_type": "display_data"
        }
      ],
      "source": [
        "fig, ax = plt.subplots(1, figsize=(5, 5))\n",
        "sns.countplot(x=clean_df['sex'])\n",
        "plt.title('Nº registros por sexo')\n",
        "plt.show()"
      ]
    },
    {
      "cell_type": "code",
      "execution_count": 19,
      "metadata": {
        "colab": {
          "base_uri": "https://localhost:8080/"
        },
        "id": "8DAVXhf5ix3O",
        "outputId": "8cb43018-1220-49d4-c413-399b730194a5"
      },
      "outputs": [
        {
          "data": {
            "text/plain": [
              "Male      80.962411\n",
              "Female    19.037589\n",
              "Name: sex, dtype: float64"
            ]
          },
          "execution_count": 19,
          "metadata": {},
          "output_type": "execute_result"
        }
      ],
      "source": [
        "sex_count"
      ]
    },
    {
      "cell_type": "markdown",
      "metadata": {
        "id": "4nshLztXLLqd"
      },
      "source": [
        "### Interseccionalidad (sexo)"
      ]
    },
    {
      "cell_type": "code",
      "execution_count": 20,
      "metadata": {
        "colab": {
          "base_uri": "https://localhost:8080/",
          "height": 269
        },
        "id": "CVVIgRts1bAm",
        "outputId": "e85dc698-5bac-4334-cb0a-67cf7dde7c99"
      },
      "outputs": [
        {
          "data": {
            "text/html": [
              "<div>\n",
              "<style scoped>\n",
              "    .dataframe tbody tr th:only-of-type {\n",
              "        vertical-align: middle;\n",
              "    }\n",
              "\n",
              "    .dataframe tbody tr th {\n",
              "        vertical-align: top;\n",
              "    }\n",
              "\n",
              "    .dataframe thead th {\n",
              "        text-align: right;\n",
              "    }\n",
              "</style>\n",
              "<table border=\"1\" class=\"dataframe\">\n",
              "  <thead>\n",
              "    <tr style=\"text-align: right;\">\n",
              "      <th>sex</th>\n",
              "      <th>Female</th>\n",
              "      <th>Male</th>\n",
              "    </tr>\n",
              "    <tr>\n",
              "      <th>race</th>\n",
              "      <th></th>\n",
              "      <th></th>\n",
              "    </tr>\n",
              "  </thead>\n",
              "  <tbody>\n",
              "    <tr>\n",
              "      <th>African-American</th>\n",
              "      <td>8.895010</td>\n",
              "      <td>42.546986</td>\n",
              "    </tr>\n",
              "    <tr>\n",
              "      <th>Asian</th>\n",
              "      <td>0.032404</td>\n",
              "      <td>0.469864</td>\n",
              "    </tr>\n",
              "    <tr>\n",
              "      <th>Caucasian</th>\n",
              "      <td>7.809462</td>\n",
              "      <td>26.263772</td>\n",
              "    </tr>\n",
              "    <tr>\n",
              "      <th>Hispanic</th>\n",
              "      <td>1.328581</td>\n",
              "      <td>6.918341</td>\n",
              "    </tr>\n",
              "    <tr>\n",
              "      <th>Native American</th>\n",
              "      <td>0.032404</td>\n",
              "      <td>0.145820</td>\n",
              "    </tr>\n",
              "    <tr>\n",
              "      <th>Other</th>\n",
              "      <td>0.939728</td>\n",
              "      <td>4.617628</td>\n",
              "    </tr>\n",
              "  </tbody>\n",
              "</table>\n",
              "</div>"
            ],
            "text/plain": [
              "sex                 Female       Male\n",
              "race                                 \n",
              "African-American  8.895010  42.546986\n",
              "Asian             0.032404   0.469864\n",
              "Caucasian         7.809462  26.263772\n",
              "Hispanic          1.328581   6.918341\n",
              "Native American   0.032404   0.145820\n",
              "Other             0.939728   4.617628"
            ]
          },
          "execution_count": 20,
          "metadata": {},
          "output_type": "execute_result"
        }
      ],
      "source": [
        "pd.crosstab(values=clean_df['score_text'], columns=clean_df['sex'], index=clean_df['race'], aggfunc=lambda x: len(x), normalize='all') * 100"
      ]
    },
    {
      "cell_type": "markdown",
      "metadata": {
        "id": "aamvaHa9PYef"
      },
      "source": [
        "Observemos la reincidencia y distribución de los puntajes de riesgo según raza, sexo y edad."
      ]
    },
    {
      "cell_type": "code",
      "execution_count": 21,
      "metadata": {
        "id": "b2zxGFFEPX6p"
      },
      "outputs": [],
      "source": [
        "# Datos por sexo\n",
        "male_data = clean_df[clean_df['sex'] == 'Male']\n",
        "female_data = clean_df[clean_df['sex'] == 'Female']\n",
        "\n",
        "# Datos por raza\n",
        "am_data = clean_df[clean_df['race'] == 'African-American']\n",
        "cau_data = clean_df[clean_df['race'] == 'Caucasian']\n",
        "\n",
        "# Datos por categoria de edad\n",
        "less25_data = clean_df[clean_df['age_cat'] == 'Less than 25']\n",
        "greater45_data = clean_df[clean_df['age_cat'] == 'Greater than 45']\n",
        "from25to45_data = clean_df[clean_df['age_cat'] == '25 - 45']\n",
        "\n"
      ]
    },
    {
      "cell_type": "markdown",
      "metadata": {
        "id": "kyHdQ3bDhl3E"
      },
      "source": [
        "¿Existen diferencias en la reincidencia registrada por sexo?"
      ]
    },
    {
      "cell_type": "code",
      "execution_count": 22,
      "metadata": {
        "colab": {
          "base_uri": "https://localhost:8080/",
          "height": 463
        },
        "id": "zFKIoePgj1pu",
        "outputId": "f5e2778e-cb23-488b-bd09-f54c9cdff1eb"
      },
      "outputs": [
        {
          "data": {
            "image/png": "[encoded data removed]",
            "text/plain": [
              "<Figure size 576x324 with 2 Axes>"
            ]
          },
          "metadata": {
            "needs_background": "light"
          },
          "output_type": "display_data"
        }
      ],
      "source": [
        "#@title Reincidencia según sexo.\n",
        "fig, ax = plt.subplots(1, 2, figsize=(8, 4.5))\n",
        "ax = ax.flatten()\n",
        "\n",
        "sns.countplot(data=male_data, x='two_year_recid', ax=ax[0])\n",
        "sns.countplot(data=female_data, x='two_year_recid', ax=ax[1])\n",
        "\n",
        "\n",
        "ax[0].set_title('Reincidencia Hombres')\n",
        "ax[1].set_title('Reincidencia Mujeres')\n",
        "\n",
        "\n",
        "plt.suptitle('Reincidencia según sexo')\n",
        "\n",
        "fig.tight_layout()\n",
        "\n",
        "\n",
        "plt.show()\n"
      ]
    },
    {
      "cell_type": "code",
      "execution_count": 23,
      "metadata": {
        "colab": {
          "base_uri": "https://localhost:8080/",
          "height": 143
        },
        "id": "LqyKCKXbkk7q",
        "outputId": "04ab5866-c914-48f5-fc00-ac75794e0227"
      },
      "outputs": [
        {
          "data": {
            "text/html": [
              "<div>\n",
              "<style scoped>\n",
              "    .dataframe tbody tr th:only-of-type {\n",
              "        vertical-align: middle;\n",
              "    }\n",
              "\n",
              "    .dataframe tbody tr th {\n",
              "        vertical-align: top;\n",
              "    }\n",
              "\n",
              "    .dataframe thead th {\n",
              "        text-align: right;\n",
              "    }\n",
              "</style>\n",
              "<table border=\"1\" class=\"dataframe\">\n",
              "  <thead>\n",
              "    <tr style=\"text-align: right;\">\n",
              "      <th>two_year_recid</th>\n",
              "      <th>0</th>\n",
              "      <th>1</th>\n",
              "    </tr>\n",
              "    <tr>\n",
              "      <th>sex</th>\n",
              "      <th></th>\n",
              "      <th></th>\n",
              "    </tr>\n",
              "  </thead>\n",
              "  <tbody>\n",
              "    <tr>\n",
              "      <th>Female</th>\n",
              "      <td>64.851064</td>\n",
              "      <td>35.148936</td>\n",
              "    </tr>\n",
              "    <tr>\n",
              "      <th>Male</th>\n",
              "      <td>52.051231</td>\n",
              "      <td>47.948769</td>\n",
              "    </tr>\n",
              "  </tbody>\n",
              "</table>\n",
              "</div>"
            ],
            "text/plain": [
              "two_year_recid          0          1\n",
              "sex                                 \n",
              "Female          64.851064  35.148936\n",
              "Male            52.051231  47.948769"
            ]
          },
          "execution_count": 23,
          "metadata": {},
          "output_type": "execute_result"
        }
      ],
      "source": [
        "pd.crosstab(values=clean_df['score_text'], columns=clean_df['two_year_recid'], index=clean_df['sex'], aggfunc=lambda x: len(x), normalize='index') * 100"
      ]
    },
    {
      "cell_type": "markdown",
      "metadata": {
        "id": "SnVwte5IhtW1"
      },
      "source": [
        "¿Existen diferencias en la reincidencia registrada por raza?"
      ]
    },
    {
      "cell_type": "code",
      "execution_count": 24,
      "metadata": {
        "colab": {
          "base_uri": "https://localhost:8080/",
          "height": 463
        },
        "id": "J3guyQ8AlOq5",
        "outputId": "b70f96da-0108-4ef9-df49-73d841996eda"
      },
      "outputs": [
        {
          "data": {
            "image/png": "[encoded data removed]",
            "text/plain": [
              "<Figure size 576x324 with 2 Axes>"
            ]
          },
          "metadata": {
            "needs_background": "light"
          },
          "output_type": "display_data"
        }
      ],
      "source": [
        "#@title Reincidencia según raza.\n",
        "\n",
        "fig, ax = plt.subplots(1, 2, figsize=(8, 4.5))\n",
        "ax = ax.flatten()\n",
        "\n",
        "sns.countplot(x=am_data['two_year_recid'], ax=ax[0])\n",
        "sns.countplot(x=cau_data['two_year_recid'], ax=ax[1])\n",
        "\n",
        "\n",
        "ax[0].set_title('Reincidencia Afro-Americanos')\n",
        "ax[1].set_title('Reincidencia Caucasicos')\n",
        "\n",
        "\n",
        "plt.suptitle('Reincidencia según raza')\n",
        "\n",
        "fig.tight_layout()\n",
        "\n",
        "\n",
        "plt.show()"
      ]
    },
    {
      "cell_type": "code",
      "execution_count": 25,
      "metadata": {
        "colab": {
          "base_uri": "https://localhost:8080/",
          "height": 269
        },
        "id": "Z9WvmN7Qk7_Q",
        "outputId": "ce39231e-1041-4356-e7dd-66a88ad30e26"
      },
      "outputs": [
        {
          "data": {
            "text/html": [
              "<div>\n",
              "<style scoped>\n",
              "    .dataframe tbody tr th:only-of-type {\n",
              "        vertical-align: middle;\n",
              "    }\n",
              "\n",
              "    .dataframe tbody tr th {\n",
              "        vertical-align: top;\n",
              "    }\n",
              "\n",
              "    .dataframe thead th {\n",
              "        text-align: right;\n",
              "    }\n",
              "</style>\n",
              "<table border=\"1\" class=\"dataframe\">\n",
              "  <thead>\n",
              "    <tr style=\"text-align: right;\">\n",
              "      <th>two_year_recid</th>\n",
              "      <th>0</th>\n",
              "      <th>1</th>\n",
              "    </tr>\n",
              "    <tr>\n",
              "      <th>race</th>\n",
              "      <th></th>\n",
              "      <th></th>\n",
              "    </tr>\n",
              "  </thead>\n",
              "  <tbody>\n",
              "    <tr>\n",
              "      <th>African-American</th>\n",
              "      <td>47.685039</td>\n",
              "      <td>52.314961</td>\n",
              "    </tr>\n",
              "    <tr>\n",
              "      <th>Asian</th>\n",
              "      <td>74.193548</td>\n",
              "      <td>25.806452</td>\n",
              "    </tr>\n",
              "    <tr>\n",
              "      <th>Caucasian</th>\n",
              "      <td>60.912981</td>\n",
              "      <td>39.087019</td>\n",
              "    </tr>\n",
              "    <tr>\n",
              "      <th>Hispanic</th>\n",
              "      <td>62.868369</td>\n",
              "      <td>37.131631</td>\n",
              "    </tr>\n",
              "    <tr>\n",
              "      <th>Native American</th>\n",
              "      <td>54.545455</td>\n",
              "      <td>45.454545</td>\n",
              "    </tr>\n",
              "    <tr>\n",
              "      <th>Other</th>\n",
              "      <td>63.848397</td>\n",
              "      <td>36.151603</td>\n",
              "    </tr>\n",
              "  </tbody>\n",
              "</table>\n",
              "</div>"
            ],
            "text/plain": [
              "two_year_recid            0          1\n",
              "race                                  \n",
              "African-American  47.685039  52.314961\n",
              "Asian             74.193548  25.806452\n",
              "Caucasian         60.912981  39.087019\n",
              "Hispanic          62.868369  37.131631\n",
              "Native American   54.545455  45.454545\n",
              "Other             63.848397  36.151603"
            ]
          },
          "execution_count": 25,
          "metadata": {},
          "output_type": "execute_result"
        }
      ],
      "source": [
        "pd.crosstab(values=clean_df['score_text'], columns=clean_df['two_year_recid'], index=clean_df['race'], aggfunc=lambda x: len(x), normalize='index') * 100"
      ]
    },
    {
      "cell_type": "markdown",
      "metadata": {
        "id": "IqB9L-nthwqs"
      },
      "source": [
        "¿Existen diferencias en la reincidencia registrada por categoría de edad?"
      ]
    },
    {
      "cell_type": "code",
      "execution_count": 26,
      "metadata": {
        "cellView": "form",
        "colab": {
          "base_uri": "https://localhost:8080/",
          "height": 463
        },
        "id": "4nytp4rll4AM",
        "outputId": "5a6ae7e2-6552-4be9-dcfa-1f38b6d07e5b"
      },
      "outputs": [
        {
          "data": {
            "image/png": "[encoded data removed]",
            "text/plain": [
              "<Figure size 576x324 with 3 Axes>"
            ]
          },
          "metadata": {
            "needs_background": "light"
          },
          "output_type": "display_data"
        }
      ],
      "source": [
        "#@title Reincidencia según categoría de edad\n",
        "\n",
        "fig, ax = plt.subplots(1, 3, figsize=(8, 4.5))\n",
        "ax = ax.flatten()\n",
        "\n",
        "sns.countplot(x=less25_data['two_year_recid'], ax=ax[0])\n",
        "sns.countplot(x=from25to45_data['two_year_recid'], ax=ax[1])\n",
        "sns.countplot(x=greater45_data['two_year_recid'], ax=ax[2])\n",
        "\n",
        "\n",
        "\n",
        "ax[0].set_title('Reincidencia menores de 25')\n",
        "ax[1].set_title('Reincidencia 25 - 45 años')\n",
        "ax[2].set_title('Reincidencia mayores de 45')\n",
        "\n",
        "\n",
        "plt.suptitle('Reincidencia por categoría de edad')\n",
        "\n",
        "fig.tight_layout()\n",
        "\n",
        "\n",
        "plt.show()"
      ]
    },
    {
      "cell_type": "code",
      "execution_count": 27,
      "metadata": {
        "colab": {
          "base_uri": "https://localhost:8080/",
          "height": 175
        },
        "id": "hVU-dqpTgH4S",
        "outputId": "9f251224-a4e4-4579-a8b7-19e31370fc80"
      },
      "outputs": [
        {
          "data": {
            "text/html": [
              "<div>\n",
              "<style scoped>\n",
              "    .dataframe tbody tr th:only-of-type {\n",
              "        vertical-align: middle;\n",
              "    }\n",
              "\n",
              "    .dataframe tbody tr th {\n",
              "        vertical-align: top;\n",
              "    }\n",
              "\n",
              "    .dataframe thead th {\n",
              "        text-align: right;\n",
              "    }\n",
              "</style>\n",
              "<table border=\"1\" class=\"dataframe\">\n",
              "  <thead>\n",
              "    <tr style=\"text-align: right;\">\n",
              "      <th>two_year_recid</th>\n",
              "      <th>0</th>\n",
              "      <th>1</th>\n",
              "    </tr>\n",
              "    <tr>\n",
              "      <th>age_cat</th>\n",
              "      <th></th>\n",
              "      <th></th>\n",
              "    </tr>\n",
              "  </thead>\n",
              "  <tbody>\n",
              "    <tr>\n",
              "      <th>25 - 45</th>\n",
              "      <td>53.539071</td>\n",
              "      <td>46.460929</td>\n",
              "    </tr>\n",
              "    <tr>\n",
              "      <th>Greater than 45</th>\n",
              "      <td>67.981439</td>\n",
              "      <td>32.018561</td>\n",
              "    </tr>\n",
              "    <tr>\n",
              "      <th>Less than 25</th>\n",
              "      <td>44.023756</td>\n",
              "      <td>55.976244</td>\n",
              "    </tr>\n",
              "  </tbody>\n",
              "</table>\n",
              "</div>"
            ],
            "text/plain": [
              "two_year_recid           0          1\n",
              "age_cat                              \n",
              "25 - 45          53.539071  46.460929\n",
              "Greater than 45  67.981439  32.018561\n",
              "Less than 25     44.023756  55.976244"
            ]
          },
          "execution_count": 27,
          "metadata": {},
          "output_type": "execute_result"
        }
      ],
      "source": [
        "pd.crosstab(values=clean_df['score_text'], columns=clean_df['two_year_recid'], index=clean_df['age_cat'], aggfunc=lambda x: len(x), normalize='index') * 100"
      ]
    },
    {
      "cell_type": "markdown",
      "metadata": {
        "id": "ogSf-0Yxh6c1"
      },
      "source": [
        "¿Existen diferencias en la distribución de los puntajes de riesgo por sexo?"
      ]
    },
    {
      "cell_type": "code",
      "execution_count": 28,
      "metadata": {
        "cellView": "form",
        "colab": {
          "base_uri": "https://localhost:8080/",
          "height": 805
        },
        "id": "EyUBNiYYQQku",
        "outputId": "4d97f7f6-879e-4234-ecd3-5d41e51350a2"
      },
      "outputs": [
        {
          "data": {
            "image/png": "[encoded data removed]",
            "text/plain": [
              "<Figure size 576x576 with 4 Axes>"
            ]
          },
          "metadata": {
            "needs_background": "light"
          },
          "output_type": "display_data"
        }
      ],
      "source": [
        "#@title Riesgo según sexo.\n",
        "fig, ax = plt.subplots(2, 2, figsize=(8, 8))\n",
        "ax = ax.flatten()\n",
        "\n",
        "sns.countplot(x=male_data['decile_score'], ax=ax[0], color='orange')\n",
        "sns.countplot(x=female_data['decile_score'], ax=ax[1], color='blue')\n",
        "sns.countplot(x=male_data['score_text'], ax=ax[2])\n",
        "sns.countplot(x=female_data['score_text'], ax=ax[3])\n",
        "\n",
        "ax[0].set_title('Male Decile Scores')\n",
        "ax[1].set_title('Female Decile Scores')\n",
        "ax[2].set_title('Male Decile Scores Categories')\n",
        "ax[3].set_title('Female Decile Scores Categories')\n",
        "\n",
        "plt.suptitle('Puntaje de riesgo según sexo')\n",
        "\n",
        "fig.tight_layout()\n",
        "\n",
        "\n",
        "plt.show()\n"
      ]
    },
    {
      "cell_type": "markdown",
      "metadata": {
        "id": "NqxlntpwiWDR"
      },
      "source": [
        "¿Existen diferencias en la distribución de los puntajes de riesgo por raza?"
      ]
    },
    {
      "cell_type": "code",
      "execution_count": 29,
      "metadata": {
        "colab": {
          "base_uri": "https://localhost:8080/",
          "height": 805
        },
        "id": "urdLfwqpUYkQ",
        "outputId": "a356094c-cddb-4f48-f3aa-14abbc6f2389"
      },
      "outputs": [
        {
          "data": {
            "image/png": "[encoded data removed]",
            "text/plain": [
              "<Figure size 576x576 with 4 Axes>"
            ]
          },
          "metadata": {
            "needs_background": "light"
          },
          "output_type": "display_data"
        }
      ],
      "source": [
        "#@title Riesgo según raza.\n",
        "fig, ax = plt.subplots(2, 2, figsize=(8,8))\n",
        "ax = ax.flatten()\n",
        "\n",
        "sns.countplot(x=am_data['decile_score'], ax=ax[0], color='orange')\n",
        "sns.countplot(x=cau_data['decile_score'], ax=ax[1], color='blue')\n",
        "sns.countplot(x=am_data['score_text'], ax=ax[2], order=['Low', 'Medium', 'High'])\n",
        "sns.countplot(x=cau_data['score_text'], ax=ax[3], order=['Low', 'Medium', 'High'])\n",
        "\n",
        "ax[0].set_title('African-American Decile Scores')\n",
        "ax[1].set_title('Caucasian Decile Scores')\n",
        "ax[2].set_title('African-American Decile Scores Categories')\n",
        "ax[3].set_title('Caucasian Scores Categories')\n",
        "\n",
        "plt.suptitle('Puntaje de riesgo según raza')\n",
        "\n",
        "fig.tight_layout()\n",
        "\n",
        "\n",
        "plt.show()"
      ]
    },
    {
      "cell_type": "code",
      "execution_count": 30,
      "metadata": {
        "colab": {
          "base_uri": "https://localhost:8080/",
          "height": 269
        },
        "id": "B-bS3Lcbl-zJ",
        "outputId": "6eda94fc-2828-4a42-b0b2-d3ac7103afe8"
      },
      "outputs": [
        {
          "data": {
            "text/html": [
              "<div>\n",
              "<style scoped>\n",
              "    .dataframe tbody tr th:only-of-type {\n",
              "        vertical-align: middle;\n",
              "    }\n",
              "\n",
              "    .dataframe tbody tr th {\n",
              "        vertical-align: top;\n",
              "    }\n",
              "\n",
              "    .dataframe thead th {\n",
              "        text-align: right;\n",
              "    }\n",
              "</style>\n",
              "<table border=\"1\" class=\"dataframe\">\n",
              "  <thead>\n",
              "    <tr style=\"text-align: right;\">\n",
              "      <th>score_text</th>\n",
              "      <th>High</th>\n",
              "      <th>Low</th>\n",
              "      <th>Medium</th>\n",
              "    </tr>\n",
              "    <tr>\n",
              "      <th>race</th>\n",
              "      <th></th>\n",
              "      <th></th>\n",
              "      <th></th>\n",
              "    </tr>\n",
              "  </thead>\n",
              "  <tbody>\n",
              "    <tr>\n",
              "      <th>African-American</th>\n",
              "      <td>26.614173</td>\n",
              "      <td>42.393701</td>\n",
              "      <td>30.992126</td>\n",
              "    </tr>\n",
              "    <tr>\n",
              "      <th>Asian</th>\n",
              "      <td>9.677419</td>\n",
              "      <td>77.419355</td>\n",
              "      <td>12.903226</td>\n",
              "    </tr>\n",
              "    <tr>\n",
              "      <th>Caucasian</th>\n",
              "      <td>10.603899</td>\n",
              "      <td>66.904422</td>\n",
              "      <td>22.491679</td>\n",
              "    </tr>\n",
              "    <tr>\n",
              "      <th>Hispanic</th>\n",
              "      <td>9.233792</td>\n",
              "      <td>72.298625</td>\n",
              "      <td>18.467583</td>\n",
              "    </tr>\n",
              "    <tr>\n",
              "      <th>Native American</th>\n",
              "      <td>36.363636</td>\n",
              "      <td>27.272727</td>\n",
              "      <td>36.363636</td>\n",
              "    </tr>\n",
              "    <tr>\n",
              "      <th>Other</th>\n",
              "      <td>6.413994</td>\n",
              "      <td>79.591837</td>\n",
              "      <td>13.994169</td>\n",
              "    </tr>\n",
              "  </tbody>\n",
              "</table>\n",
              "</div>"
            ],
            "text/plain": [
              "score_text             High        Low     Medium\n",
              "race                                             \n",
              "African-American  26.614173  42.393701  30.992126\n",
              "Asian              9.677419  77.419355  12.903226\n",
              "Caucasian         10.603899  66.904422  22.491679\n",
              "Hispanic           9.233792  72.298625  18.467583\n",
              "Native American   36.363636  27.272727  36.363636\n",
              "Other              6.413994  79.591837  13.994169"
            ]
          },
          "execution_count": 30,
          "metadata": {},
          "output_type": "execute_result"
        }
      ],
      "source": [
        "pd.crosstab(values=clean_df['score_text'], columns=clean_df['score_text'], index=clean_df['race'], aggfunc=lambda x: len(x), normalize='index') * 100"
      ]
    },
    {
      "cell_type": "markdown",
      "metadata": {
        "id": "d1Jx_572iZNH"
      },
      "source": [
        "¿Existen diferencias en la distribución de los puntajes de riesgo por categoría de edad?"
      ]
    },
    {
      "cell_type": "code",
      "execution_count": 31,
      "metadata": {
        "colab": {
          "base_uri": "https://localhost:8080/",
          "height": 805
        },
        "id": "5y0I1SO2Vxzb",
        "outputId": "496bb1df-d547-4dce-9e75-e785ef6a9b45"
      },
      "outputs": [
        {
          "data": {
            "image/png": "[encoded data removed]",
            "text/plain": [
              "<Figure size 864x576 with 6 Axes>"
            ]
          },
          "metadata": {
            "needs_background": "light"
          },
          "output_type": "display_data"
        }
      ],
      "source": [
        "#@title Riesgo según categoría de edad.\n",
        "\n",
        "fig, ax = plt.subplots(2, 3, figsize=(12, 8))\n",
        "ax = ax.flatten()\n",
        "\n",
        "sns.countplot(x=less25_data['decile_score'], ax=ax[0], color='orange')\n",
        "sns.countplot(x=from25to45_data['decile_score'], ax=ax[1], color='blue')\n",
        "sns.countplot(x=greater45_data['decile_score'], ax=ax[2], color='green')\n",
        "\n",
        "sns.countplot(x=less25_data['score_text'], ax=ax[3], order=['Low', 'Medium', 'High'])\n",
        "sns.countplot(x=from25to45_data['score_text'], ax=ax[4], order=['Low', 'Medium', 'High'])\n",
        "sns.countplot(x=greater45_data['score_text'], ax=ax[5], order=['Low', 'Medium', 'High'])\n",
        "\n",
        "ax[0].set_title('Less than 25 Decile Scores')\n",
        "ax[1].set_title('25- 45 Decile Scores')\n",
        "ax[2].set_title('Greater than 45 Decile Scores')\n",
        "ax[3].set_title('Less than 25 Decile Scores Categories')\n",
        "ax[4].set_title('25-45 Decile Scores Categories')\n",
        "ax[5].set_title('Greater than 45 Decile Scores Categories')\n",
        "\n",
        "\n",
        "plt.suptitle('Puntaje de riesgo según categoría de edad')\n",
        "\n",
        "fig.tight_layout()\n",
        "\n",
        "\n",
        "plt.show()"
      ]
    },
    {
      "cell_type": "code",
      "execution_count": 32,
      "metadata": {
        "colab": {
          "base_uri": "https://localhost:8080/",
          "height": 175
        },
        "id": "57nRIoPNnHBG",
        "outputId": "a6948c38-267b-4660-b974-40790df68574"
      },
      "outputs": [
        {
          "data": {
            "text/html": [
              "<div>\n",
              "<style scoped>\n",
              "    .dataframe tbody tr th:only-of-type {\n",
              "        vertical-align: middle;\n",
              "    }\n",
              "\n",
              "    .dataframe tbody tr th {\n",
              "        vertical-align: top;\n",
              "    }\n",
              "\n",
              "    .dataframe thead th {\n",
              "        text-align: right;\n",
              "    }\n",
              "</style>\n",
              "<table border=\"1\" class=\"dataframe\">\n",
              "  <thead>\n",
              "    <tr style=\"text-align: right;\">\n",
              "      <th>score_text</th>\n",
              "      <th>High</th>\n",
              "      <th>Low</th>\n",
              "      <th>Medium</th>\n",
              "    </tr>\n",
              "    <tr>\n",
              "      <th>age_cat</th>\n",
              "      <th></th>\n",
              "      <th></th>\n",
              "      <th></th>\n",
              "    </tr>\n",
              "  </thead>\n",
              "  <tbody>\n",
              "    <tr>\n",
              "      <th>25 - 45</th>\n",
              "      <td>19.054360</td>\n",
              "      <td>54.699887</td>\n",
              "      <td>26.245753</td>\n",
              "    </tr>\n",
              "    <tr>\n",
              "      <th>Greater than 45</th>\n",
              "      <td>6.805878</td>\n",
              "      <td>77.958237</td>\n",
              "      <td>15.235886</td>\n",
              "    </tr>\n",
              "    <tr>\n",
              "      <th>Less than 25</th>\n",
              "      <td>28.433556</td>\n",
              "      <td>35.708983</td>\n",
              "      <td>35.857461</td>\n",
              "    </tr>\n",
              "  </tbody>\n",
              "</table>\n",
              "</div>"
            ],
            "text/plain": [
              "score_text            High        Low     Medium\n",
              "age_cat                                         \n",
              "25 - 45          19.054360  54.699887  26.245753\n",
              "Greater than 45   6.805878  77.958237  15.235886\n",
              "Less than 25     28.433556  35.708983  35.857461"
            ]
          },
          "execution_count": 32,
          "metadata": {},
          "output_type": "execute_result"
        }
      ],
      "source": [
        "pd.crosstab(values=clean_df['score_text'], columns=clean_df['score_text'], index=clean_df['age_cat'], aggfunc=lambda x: len(x), normalize='index') * 100"
      ]
    },
    {
      "cell_type": "markdown",
      "metadata": {
        "id": "hTPwwqBhmoCH"
      },
      "source": [
        "## Pre - procesamiento"
      ]
    },
    {
      "cell_type": "code",
      "execution_count": 33,
      "metadata": {
        "colab": {
          "base_uri": "https://localhost:8080/"
        },
        "id": "jlSvu04kY5yu",
        "outputId": "004511af-0411-4be6-b92d-6e2b4de33e9f"
      },
      "outputs": [
        {
          "name": "stdout",
          "output_type": "stream",
          "text": [
            "<class 'pandas.core.frame.DataFrame'>\n",
            "Int64Index: 6172 entries, 0 to 7213\n",
            "Data columns (total 13 columns):\n",
            " #   Column                   Non-Null Count  Dtype  \n",
            "---  ------                   --------------  -----  \n",
            " 0   age                      6172 non-null   int64  \n",
            " 1   c_charge_degree          6172 non-null   object \n",
            " 2   race                     6172 non-null   object \n",
            " 3   age_cat                  6172 non-null   object \n",
            " 4   score_text               6172 non-null   object \n",
            " 5   sex                      6172 non-null   object \n",
            " 6   priors_count             6172 non-null   int64  \n",
            " 7   days_b_screening_arrest  6172 non-null   float64\n",
            " 8   decile_score             6172 non-null   int64  \n",
            " 9   is_recid                 6172 non-null   int64  \n",
            " 10  two_year_recid           6172 non-null   int64  \n",
            " 11  c_jail_in                6172 non-null   object \n",
            " 12  c_jail_out               6172 non-null   object \n",
            "dtypes: float64(1), int64(5), object(7)\n",
            "memory usage: 835.1+ KB\n"
          ]
        }
      ],
      "source": [
        "clean_df.info()"
      ]
    },
    {
      "cell_type": "code",
      "execution_count": 34,
      "metadata": {
        "colab": {
          "base_uri": "https://localhost:8080/"
        },
        "id": "HgDZO5Cfgpz6",
        "outputId": "ccbf6232-348a-4a49-b179-e6339d915550"
      },
      "outputs": [
        {
          "name": "stdout",
          "output_type": "stream",
          "text": [
            "Columna c_charge_degree: ['F' 'M']\n",
            "Columna race: ['Other' 'African-American' 'Caucasian' 'Hispanic' 'Asian'\n",
            " 'Native American']\n",
            "Columna age_cat: ['Greater than 45' '25 - 45' 'Less than 25']\n",
            "Columna score_text: ['Low' 'Medium' 'High']\n",
            "Columna sex: ['Male' 'Female']\n",
            "Columna c_jail_in: ['2013-08-13 06:03:42' '2013-01-26 03:45:27' '2013-04-13 04:58:34' ...\n",
            " '2014-01-13 05:48:01' '2014-03-08 08:06:02' '2014-06-28 12:16:41']\n",
            "Columna c_jail_out: ['2013-08-14 05:41:20' '2013-02-05 05:36:53' '2013-04-14 07:02:04' ...\n",
            " '2014-01-14 07:49:46' '2014-03-09 12:18:04' '2014-06-30 11:19:23']\n"
          ]
        }
      ],
      "source": [
        "object_columns = clean_df.select_dtypes(include='object').columns\n",
        "for objcol in object_columns:\n",
        "  print(f'Columna {objcol}: {clean_df[objcol].unique()}')"
      ]
    },
    {
      "cell_type": "code",
      "execution_count": 35,
      "metadata": {
        "id": "4sTYIqwihSdH"
      },
      "outputs": [],
      "source": [
        "object_columns = [x for x in clean_df.select_dtypes(include='object').columns if x != 'c_jail_in' and x!= 'c_jail_out']\n",
        "for objcol in object_columns:\n",
        "  clean_df[objcol] = clean_df[objcol].astype('category')"
      ]
    },
    {
      "cell_type": "code",
      "execution_count": 36,
      "metadata": {
        "colab": {
          "base_uri": "https://localhost:8080/"
        },
        "id": "D-GlzwKwhpua",
        "outputId": "26ed047e-86e5-43da-d3f3-23f7d047a6b8"
      },
      "outputs": [
        {
          "name": "stdout",
          "output_type": "stream",
          "text": [
            "<class 'pandas.core.frame.DataFrame'>\n",
            "Int64Index: 6172 entries, 0 to 7213\n",
            "Data columns (total 13 columns):\n",
            " #   Column                   Non-Null Count  Dtype   \n",
            "---  ------                   --------------  -----   \n",
            " 0   age                      6172 non-null   int64   \n",
            " 1   c_charge_degree          6172 non-null   category\n",
            " 2   race                     6172 non-null   category\n",
            " 3   age_cat                  6172 non-null   category\n",
            " 4   score_text               6172 non-null   category\n",
            " 5   sex                      6172 non-null   category\n",
            " 6   priors_count             6172 non-null   int64   \n",
            " 7   days_b_screening_arrest  6172 non-null   float64 \n",
            " 8   decile_score             6172 non-null   int64   \n",
            " 9   is_recid                 6172 non-null   int64   \n",
            " 10  two_year_recid           6172 non-null   int64   \n",
            " 11  c_jail_in                6172 non-null   object  \n",
            " 12  c_jail_out               6172 non-null   object  \n",
            "dtypes: category(5), float64(1), int64(5), object(2)\n",
            "memory usage: 624.7+ KB\n"
          ]
        }
      ],
      "source": [
        "clean_df.info()"
      ]
    },
    {
      "cell_type": "code",
      "execution_count": 37,
      "metadata": {
        "colab": {
          "base_uri": "https://localhost:8080/",
          "height": 206
        },
        "id": "cW-spGLPh7IP",
        "outputId": "fbb38bf1-c841-4b19-ea9b-3069743b894c"
      },
      "outputs": [
        {
          "data": {
            "text/html": [
              "<div>\n",
              "<style scoped>\n",
              "    .dataframe tbody tr th:only-of-type {\n",
              "        vertical-align: middle;\n",
              "    }\n",
              "\n",
              "    .dataframe tbody tr th {\n",
              "        vertical-align: top;\n",
              "    }\n",
              "\n",
              "    .dataframe thead th {\n",
              "        text-align: right;\n",
              "    }\n",
              "</style>\n",
              "<table border=\"1\" class=\"dataframe\">\n",
              "  <thead>\n",
              "    <tr style=\"text-align: right;\">\n",
              "      <th></th>\n",
              "      <th>age</th>\n",
              "      <th>c_charge_degree</th>\n",
              "      <th>race</th>\n",
              "      <th>age_cat</th>\n",
              "      <th>score_text</th>\n",
              "      <th>sex</th>\n",
              "      <th>priors_count</th>\n",
              "      <th>days_b_screening_arrest</th>\n",
              "      <th>decile_score</th>\n",
              "      <th>is_recid</th>\n",
              "      <th>two_year_recid</th>\n",
              "      <th>c_jail_in</th>\n",
              "      <th>c_jail_out</th>\n",
              "    </tr>\n",
              "  </thead>\n",
              "  <tbody>\n",
              "    <tr>\n",
              "      <th>0</th>\n",
              "      <td>69</td>\n",
              "      <td>F</td>\n",
              "      <td>Other</td>\n",
              "      <td>Greater than 45</td>\n",
              "      <td>Low</td>\n",
              "      <td>Male</td>\n",
              "      <td>0</td>\n",
              "      <td>-1.0</td>\n",
              "      <td>1</td>\n",
              "      <td>0</td>\n",
              "      <td>0</td>\n",
              "      <td>2013-08-13 06:03:42</td>\n",
              "      <td>2013-08-14 05:41:20</td>\n",
              "    </tr>\n",
              "    <tr>\n",
              "      <th>1</th>\n",
              "      <td>34</td>\n",
              "      <td>F</td>\n",
              "      <td>African-American</td>\n",
              "      <td>25 - 45</td>\n",
              "      <td>Low</td>\n",
              "      <td>Male</td>\n",
              "      <td>0</td>\n",
              "      <td>-1.0</td>\n",
              "      <td>3</td>\n",
              "      <td>1</td>\n",
              "      <td>1</td>\n",
              "      <td>2013-01-26 03:45:27</td>\n",
              "      <td>2013-02-05 05:36:53</td>\n",
              "    </tr>\n",
              "    <tr>\n",
              "      <th>2</th>\n",
              "      <td>24</td>\n",
              "      <td>F</td>\n",
              "      <td>African-American</td>\n",
              "      <td>Less than 25</td>\n",
              "      <td>Low</td>\n",
              "      <td>Male</td>\n",
              "      <td>4</td>\n",
              "      <td>-1.0</td>\n",
              "      <td>4</td>\n",
              "      <td>1</td>\n",
              "      <td>1</td>\n",
              "      <td>2013-04-13 04:58:34</td>\n",
              "      <td>2013-04-14 07:02:04</td>\n",
              "    </tr>\n",
              "    <tr>\n",
              "      <th>5</th>\n",
              "      <td>44</td>\n",
              "      <td>M</td>\n",
              "      <td>Other</td>\n",
              "      <td>25 - 45</td>\n",
              "      <td>Low</td>\n",
              "      <td>Male</td>\n",
              "      <td>0</td>\n",
              "      <td>0.0</td>\n",
              "      <td>1</td>\n",
              "      <td>0</td>\n",
              "      <td>0</td>\n",
              "      <td>2013-11-30 04:50:18</td>\n",
              "      <td>2013-12-01 12:28:56</td>\n",
              "    </tr>\n",
              "    <tr>\n",
              "      <th>6</th>\n",
              "      <td>41</td>\n",
              "      <td>F</td>\n",
              "      <td>Caucasian</td>\n",
              "      <td>25 - 45</td>\n",
              "      <td>Medium</td>\n",
              "      <td>Male</td>\n",
              "      <td>14</td>\n",
              "      <td>-1.0</td>\n",
              "      <td>6</td>\n",
              "      <td>1</td>\n",
              "      <td>1</td>\n",
              "      <td>2014-02-18 05:08:24</td>\n",
              "      <td>2014-02-24 12:18:30</td>\n",
              "    </tr>\n",
              "  </tbody>\n",
              "</table>\n",
              "</div>"
            ],
            "text/plain": [
              "   age c_charge_degree              race          age_cat score_text   sex  \\\n",
              "0   69               F             Other  Greater than 45        Low  Male   \n",
              "1   34               F  African-American          25 - 45        Low  Male   \n",
              "2   24               F  African-American     Less than 25        Low  Male   \n",
              "5   44               M             Other          25 - 45        Low  Male   \n",
              "6   41               F         Caucasian          25 - 45     Medium  Male   \n",
              "\n",
              "   priors_count  days_b_screening_arrest  decile_score  is_recid  \\\n",
              "0             0                     -1.0             1         0   \n",
              "1             0                     -1.0             3         1   \n",
              "2             4                     -1.0             4         1   \n",
              "5             0                      0.0             1         0   \n",
              "6            14                     -1.0             6         1   \n",
              "\n",
              "   two_year_recid            c_jail_in           c_jail_out  \n",
              "0               0  2013-08-13 06:03:42  2013-08-14 05:41:20  \n",
              "1               1  2013-01-26 03:45:27  2013-02-05 05:36:53  \n",
              "2               1  2013-04-13 04:58:34  2013-04-14 07:02:04  \n",
              "5               0  2013-11-30 04:50:18  2013-12-01 12:28:56  \n",
              "6               1  2014-02-18 05:08:24  2014-02-24 12:18:30  "
            ]
          },
          "execution_count": 37,
          "metadata": {},
          "output_type": "execute_result"
        }
      ],
      "source": [
        "clean_df.head()"
      ]
    },
    {
      "cell_type": "code",
      "execution_count": 38,
      "metadata": {
        "colab": {
          "base_uri": "https://localhost:8080/",
          "height": 206
        },
        "id": "uFAmkIfcwxjM",
        "outputId": "4faca7da-95bf-465b-9c83-618c4c9c6a86"
      },
      "outputs": [
        {
          "data": {
            "text/html": [
              "<div>\n",
              "<style scoped>\n",
              "    .dataframe tbody tr th:only-of-type {\n",
              "        vertical-align: middle;\n",
              "    }\n",
              "\n",
              "    .dataframe tbody tr th {\n",
              "        vertical-align: top;\n",
              "    }\n",
              "\n",
              "    .dataframe thead th {\n",
              "        text-align: right;\n",
              "    }\n",
              "</style>\n",
              "<table border=\"1\" class=\"dataframe\">\n",
              "  <thead>\n",
              "    <tr style=\"text-align: right;\">\n",
              "      <th></th>\n",
              "      <th>African-American</th>\n",
              "      <th>Asian</th>\n",
              "      <th>Caucasian</th>\n",
              "      <th>Hispanic</th>\n",
              "      <th>Native American</th>\n",
              "      <th>Other</th>\n",
              "    </tr>\n",
              "  </thead>\n",
              "  <tbody>\n",
              "    <tr>\n",
              "      <th>0</th>\n",
              "      <td>0</td>\n",
              "      <td>0</td>\n",
              "      <td>0</td>\n",
              "      <td>0</td>\n",
              "      <td>0</td>\n",
              "      <td>1</td>\n",
              "    </tr>\n",
              "    <tr>\n",
              "      <th>1</th>\n",
              "      <td>1</td>\n",
              "      <td>0</td>\n",
              "      <td>0</td>\n",
              "      <td>0</td>\n",
              "      <td>0</td>\n",
              "      <td>0</td>\n",
              "    </tr>\n",
              "    <tr>\n",
              "      <th>2</th>\n",
              "      <td>1</td>\n",
              "      <td>0</td>\n",
              "      <td>0</td>\n",
              "      <td>0</td>\n",
              "      <td>0</td>\n",
              "      <td>0</td>\n",
              "    </tr>\n",
              "    <tr>\n",
              "      <th>5</th>\n",
              "      <td>0</td>\n",
              "      <td>0</td>\n",
              "      <td>0</td>\n",
              "      <td>0</td>\n",
              "      <td>0</td>\n",
              "      <td>1</td>\n",
              "    </tr>\n",
              "    <tr>\n",
              "      <th>6</th>\n",
              "      <td>0</td>\n",
              "      <td>0</td>\n",
              "      <td>1</td>\n",
              "      <td>0</td>\n",
              "      <td>0</td>\n",
              "      <td>0</td>\n",
              "    </tr>\n",
              "  </tbody>\n",
              "</table>\n",
              "</div>"
            ],
            "text/plain": [
              "   African-American  Asian  Caucasian  Hispanic  Native American  Other\n",
              "0                 0      0          0         0                0      1\n",
              "1                 1      0          0         0                0      0\n",
              "2                 1      0          0         0                0      0\n",
              "5                 0      0          0         0                0      1\n",
              "6                 0      0          1         0                0      0"
            ]
          },
          "execution_count": 38,
          "metadata": {},
          "output_type": "execute_result"
        }
      ],
      "source": [
        "pd.get_dummies(clean_df['race']).head()"
      ]
    },
    {
      "cell_type": "code",
      "execution_count": 39,
      "metadata": {
        "id": "EAY6U5e8od8p"
      },
      "outputs": [],
      "source": [
        "#@title Dummies race\n",
        "\n",
        "dummies = pd.get_dummies(clean_df['race'])\n",
        "clean_df = pd.concat([clean_df, dummies], axis=1)\n",
        "clean_df.drop(columns=['race', 'Caucasian'], inplace=True)"
      ]
    },
    {
      "cell_type": "code",
      "execution_count": 40,
      "metadata": {
        "colab": {
          "base_uri": "https://localhost:8080/",
          "height": 250
        },
        "id": "mRppY4BwqDj1",
        "outputId": "4f9e916b-e9c0-4ccf-f21a-521cb01b2cb7"
      },
      "outputs": [
        {
          "data": {
            "text/html": [
              "<div>\n",
              "<style scoped>\n",
              "    .dataframe tbody tr th:only-of-type {\n",
              "        vertical-align: middle;\n",
              "    }\n",
              "\n",
              "    .dataframe tbody tr th {\n",
              "        vertical-align: top;\n",
              "    }\n",
              "\n",
              "    .dataframe thead th {\n",
              "        text-align: right;\n",
              "    }\n",
              "</style>\n",
              "<table border=\"1\" class=\"dataframe\">\n",
              "  <thead>\n",
              "    <tr style=\"text-align: right;\">\n",
              "      <th></th>\n",
              "      <th>age</th>\n",
              "      <th>c_charge_degree</th>\n",
              "      <th>age_cat</th>\n",
              "      <th>score_text</th>\n",
              "      <th>sex</th>\n",
              "      <th>priors_count</th>\n",
              "      <th>days_b_screening_arrest</th>\n",
              "      <th>decile_score</th>\n",
              "      <th>is_recid</th>\n",
              "      <th>two_year_recid</th>\n",
              "      <th>c_jail_in</th>\n",
              "      <th>c_jail_out</th>\n",
              "      <th>African-American</th>\n",
              "      <th>Asian</th>\n",
              "      <th>Hispanic</th>\n",
              "      <th>Native American</th>\n",
              "      <th>Other</th>\n",
              "    </tr>\n",
              "  </thead>\n",
              "  <tbody>\n",
              "    <tr>\n",
              "      <th>0</th>\n",
              "      <td>69</td>\n",
              "      <td>F</td>\n",
              "      <td>Greater than 45</td>\n",
              "      <td>Low</td>\n",
              "      <td>Male</td>\n",
              "      <td>0</td>\n",
              "      <td>-1.0</td>\n",
              "      <td>1</td>\n",
              "      <td>0</td>\n",
              "      <td>0</td>\n",
              "      <td>2013-08-13 06:03:42</td>\n",
              "      <td>2013-08-14 05:41:20</td>\n",
              "      <td>0</td>\n",
              "      <td>0</td>\n",
              "      <td>0</td>\n",
              "      <td>0</td>\n",
              "      <td>1</td>\n",
              "    </tr>\n",
              "    <tr>\n",
              "      <th>1</th>\n",
              "      <td>34</td>\n",
              "      <td>F</td>\n",
              "      <td>25 - 45</td>\n",
              "      <td>Low</td>\n",
              "      <td>Male</td>\n",
              "      <td>0</td>\n",
              "      <td>-1.0</td>\n",
              "      <td>3</td>\n",
              "      <td>1</td>\n",
              "      <td>1</td>\n",
              "      <td>2013-01-26 03:45:27</td>\n",
              "      <td>2013-02-05 05:36:53</td>\n",
              "      <td>1</td>\n",
              "      <td>0</td>\n",
              "      <td>0</td>\n",
              "      <td>0</td>\n",
              "      <td>0</td>\n",
              "    </tr>\n",
              "    <tr>\n",
              "      <th>2</th>\n",
              "      <td>24</td>\n",
              "      <td>F</td>\n",
              "      <td>Less than 25</td>\n",
              "      <td>Low</td>\n",
              "      <td>Male</td>\n",
              "      <td>4</td>\n",
              "      <td>-1.0</td>\n",
              "      <td>4</td>\n",
              "      <td>1</td>\n",
              "      <td>1</td>\n",
              "      <td>2013-04-13 04:58:34</td>\n",
              "      <td>2013-04-14 07:02:04</td>\n",
              "      <td>1</td>\n",
              "      <td>0</td>\n",
              "      <td>0</td>\n",
              "      <td>0</td>\n",
              "      <td>0</td>\n",
              "    </tr>\n",
              "    <tr>\n",
              "      <th>5</th>\n",
              "      <td>44</td>\n",
              "      <td>M</td>\n",
              "      <td>25 - 45</td>\n",
              "      <td>Low</td>\n",
              "      <td>Male</td>\n",
              "      <td>0</td>\n",
              "      <td>0.0</td>\n",
              "      <td>1</td>\n",
              "      <td>0</td>\n",
              "      <td>0</td>\n",
              "      <td>2013-11-30 04:50:18</td>\n",
              "      <td>2013-12-01 12:28:56</td>\n",
              "      <td>0</td>\n",
              "      <td>0</td>\n",
              "      <td>0</td>\n",
              "      <td>0</td>\n",
              "      <td>1</td>\n",
              "    </tr>\n",
              "    <tr>\n",
              "      <th>6</th>\n",
              "      <td>41</td>\n",
              "      <td>F</td>\n",
              "      <td>25 - 45</td>\n",
              "      <td>Medium</td>\n",
              "      <td>Male</td>\n",
              "      <td>14</td>\n",
              "      <td>-1.0</td>\n",
              "      <td>6</td>\n",
              "      <td>1</td>\n",
              "      <td>1</td>\n",
              "      <td>2014-02-18 05:08:24</td>\n",
              "      <td>2014-02-24 12:18:30</td>\n",
              "      <td>0</td>\n",
              "      <td>0</td>\n",
              "      <td>0</td>\n",
              "      <td>0</td>\n",
              "      <td>0</td>\n",
              "    </tr>\n",
              "  </tbody>\n",
              "</table>\n",
              "</div>"
            ],
            "text/plain": [
              "   age c_charge_degree          age_cat score_text   sex  priors_count  \\\n",
              "0   69               F  Greater than 45        Low  Male             0   \n",
              "1   34               F          25 - 45        Low  Male             0   \n",
              "2   24               F     Less than 25        Low  Male             4   \n",
              "5   44               M          25 - 45        Low  Male             0   \n",
              "6   41               F          25 - 45     Medium  Male            14   \n",
              "\n",
              "   days_b_screening_arrest  decile_score  is_recid  two_year_recid  \\\n",
              "0                     -1.0             1         0               0   \n",
              "1                     -1.0             3         1               1   \n",
              "2                     -1.0             4         1               1   \n",
              "5                      0.0             1         0               0   \n",
              "6                     -1.0             6         1               1   \n",
              "\n",
              "             c_jail_in           c_jail_out  African-American  Asian  \\\n",
              "0  2013-08-13 06:03:42  2013-08-14 05:41:20                 0      0   \n",
              "1  2013-01-26 03:45:27  2013-02-05 05:36:53                 1      0   \n",
              "2  2013-04-13 04:58:34  2013-04-14 07:02:04                 1      0   \n",
              "5  2013-11-30 04:50:18  2013-12-01 12:28:56                 0      0   \n",
              "6  2014-02-18 05:08:24  2014-02-24 12:18:30                 0      0   \n",
              "\n",
              "   Hispanic  Native American  Other  \n",
              "0         0                0      1  \n",
              "1         0                0      0  \n",
              "2         0                0      0  \n",
              "5         0                0      1  \n",
              "6         0                0      0  "
            ]
          },
          "execution_count": 40,
          "metadata": {},
          "output_type": "execute_result"
        }
      ],
      "source": [
        "clean_df.head()"
      ]
    },
    {
      "cell_type": "code",
      "execution_count": 41,
      "metadata": {
        "id": "hLdAwo3PjTbN"
      },
      "outputs": [],
      "source": [
        "post_df = clean_df.copy()"
      ]
    },
    {
      "cell_type": "code",
      "execution_count": 42,
      "metadata": {
        "id": "51RZgRuSqEN_"
      },
      "outputs": [],
      "source": [
        "#@title Dummies age_cat\n",
        "\n",
        "dummies = pd.get_dummies(post_df['age_cat'])\n",
        "post_df = pd.concat([post_df, dummies], axis=1)\n",
        "post_df.drop(columns=['age_cat', '25 - 45'], inplace=True)"
      ]
    },
    {
      "cell_type": "code",
      "execution_count": 43,
      "metadata": {
        "id": "T8_yUZviqUTC"
      },
      "outputs": [],
      "source": [
        "#@title Dummies sex\n",
        "\n",
        "dummies = pd.get_dummies(post_df['sex'])\n",
        "post_df = pd.concat([post_df, dummies], axis=1)\n",
        "post_df.drop(columns=['sex', 'Male'], inplace=True)"
      ]
    },
    {
      "cell_type": "code",
      "execution_count": 44,
      "metadata": {
        "id": "VwqfrgYdq69g"
      },
      "outputs": [],
      "source": [
        "#@title Dummies Charge Degree\n",
        "\n",
        "dummies = pd.get_dummies(post_df['c_charge_degree'])\n",
        "post_df = pd.concat([post_df, dummies], axis=1)\n",
        "post_df.drop(columns=['c_charge_degree', 'M'], inplace=True)"
      ]
    },
    {
      "cell_type": "code",
      "execution_count": 45,
      "metadata": {
        "colab": {
          "base_uri": "https://localhost:8080/",
          "height": 206
        },
        "id": "mQL6-e23tFX2",
        "outputId": "288a1652-1790-4e6e-8bb7-ac4bd0f4eaa1"
      },
      "outputs": [
        {
          "data": {
            "text/html": [
              "<div>\n",
              "<style scoped>\n",
              "    .dataframe tbody tr th:only-of-type {\n",
              "        vertical-align: middle;\n",
              "    }\n",
              "\n",
              "    .dataframe tbody tr th {\n",
              "        vertical-align: top;\n",
              "    }\n",
              "\n",
              "    .dataframe thead th {\n",
              "        text-align: right;\n",
              "    }\n",
              "</style>\n",
              "<table border=\"1\" class=\"dataframe\">\n",
              "  <thead>\n",
              "    <tr style=\"text-align: right;\">\n",
              "      <th></th>\n",
              "      <th>age</th>\n",
              "      <th>score_text</th>\n",
              "      <th>priors_count</th>\n",
              "      <th>days_b_screening_arrest</th>\n",
              "      <th>decile_score</th>\n",
              "      <th>is_recid</th>\n",
              "      <th>two_year_recid</th>\n",
              "      <th>c_jail_in</th>\n",
              "      <th>c_jail_out</th>\n",
              "      <th>African-American</th>\n",
              "      <th>Asian</th>\n",
              "      <th>Hispanic</th>\n",
              "      <th>Native American</th>\n",
              "      <th>Other</th>\n",
              "      <th>Greater than 45</th>\n",
              "      <th>Less than 25</th>\n",
              "      <th>Female</th>\n",
              "      <th>F</th>\n",
              "    </tr>\n",
              "  </thead>\n",
              "  <tbody>\n",
              "    <tr>\n",
              "      <th>0</th>\n",
              "      <td>69</td>\n",
              "      <td>Low</td>\n",
              "      <td>0</td>\n",
              "      <td>-1.0</td>\n",
              "      <td>1</td>\n",
              "      <td>0</td>\n",
              "      <td>0</td>\n",
              "      <td>2013-08-13 06:03:42</td>\n",
              "      <td>2013-08-14 05:41:20</td>\n",
              "      <td>0</td>\n",
              "      <td>0</td>\n",
              "      <td>0</td>\n",
              "      <td>0</td>\n",
              "      <td>1</td>\n",
              "      <td>1</td>\n",
              "      <td>0</td>\n",
              "      <td>0</td>\n",
              "      <td>1</td>\n",
              "    </tr>\n",
              "    <tr>\n",
              "      <th>1</th>\n",
              "      <td>34</td>\n",
              "      <td>Low</td>\n",
              "      <td>0</td>\n",
              "      <td>-1.0</td>\n",
              "      <td>3</td>\n",
              "      <td>1</td>\n",
              "      <td>1</td>\n",
              "      <td>2013-01-26 03:45:27</td>\n",
              "      <td>2013-02-05 05:36:53</td>\n",
              "      <td>1</td>\n",
              "      <td>0</td>\n",
              "      <td>0</td>\n",
              "      <td>0</td>\n",
              "      <td>0</td>\n",
              "      <td>0</td>\n",
              "      <td>0</td>\n",
              "      <td>0</td>\n",
              "      <td>1</td>\n",
              "    </tr>\n",
              "    <tr>\n",
              "      <th>2</th>\n",
              "      <td>24</td>\n",
              "      <td>Low</td>\n",
              "      <td>4</td>\n",
              "      <td>-1.0</td>\n",
              "      <td>4</td>\n",
              "      <td>1</td>\n",
              "      <td>1</td>\n",
              "      <td>2013-04-13 04:58:34</td>\n",
              "      <td>2013-04-14 07:02:04</td>\n",
              "      <td>1</td>\n",
              "      <td>0</td>\n",
              "      <td>0</td>\n",
              "      <td>0</td>\n",
              "      <td>0</td>\n",
              "      <td>0</td>\n",
              "      <td>1</td>\n",
              "      <td>0</td>\n",
              "      <td>1</td>\n",
              "    </tr>\n",
              "    <tr>\n",
              "      <th>5</th>\n",
              "      <td>44</td>\n",
              "      <td>Low</td>\n",
              "      <td>0</td>\n",
              "      <td>0.0</td>\n",
              "      <td>1</td>\n",
              "      <td>0</td>\n",
              "      <td>0</td>\n",
              "      <td>2013-11-30 04:50:18</td>\n",
              "      <td>2013-12-01 12:28:56</td>\n",
              "      <td>0</td>\n",
              "      <td>0</td>\n",
              "      <td>0</td>\n",
              "      <td>0</td>\n",
              "      <td>1</td>\n",
              "      <td>0</td>\n",
              "      <td>0</td>\n",
              "      <td>0</td>\n",
              "      <td>0</td>\n",
              "    </tr>\n",
              "    <tr>\n",
              "      <th>6</th>\n",
              "      <td>41</td>\n",
              "      <td>Medium</td>\n",
              "      <td>14</td>\n",
              "      <td>-1.0</td>\n",
              "      <td>6</td>\n",
              "      <td>1</td>\n",
              "      <td>1</td>\n",
              "      <td>2014-02-18 05:08:24</td>\n",
              "      <td>2014-02-24 12:18:30</td>\n",
              "      <td>0</td>\n",
              "      <td>0</td>\n",
              "      <td>0</td>\n",
              "      <td>0</td>\n",
              "      <td>0</td>\n",
              "      <td>0</td>\n",
              "      <td>0</td>\n",
              "      <td>0</td>\n",
              "      <td>1</td>\n",
              "    </tr>\n",
              "  </tbody>\n",
              "</table>\n",
              "</div>"
            ],
            "text/plain": [
              "   age score_text  priors_count  days_b_screening_arrest  decile_score  \\\n",
              "0   69        Low             0                     -1.0             1   \n",
              "1   34        Low             0                     -1.0             3   \n",
              "2   24        Low             4                     -1.0             4   \n",
              "5   44        Low             0                      0.0             1   \n",
              "6   41     Medium            14                     -1.0             6   \n",
              "\n",
              "   is_recid  two_year_recid            c_jail_in           c_jail_out  \\\n",
              "0         0               0  2013-08-13 06:03:42  2013-08-14 05:41:20   \n",
              "1         1               1  2013-01-26 03:45:27  2013-02-05 05:36:53   \n",
              "2         1               1  2013-04-13 04:58:34  2013-04-14 07:02:04   \n",
              "5         0               0  2013-11-30 04:50:18  2013-12-01 12:28:56   \n",
              "6         1               1  2014-02-18 05:08:24  2014-02-24 12:18:30   \n",
              "\n",
              "   African-American  Asian  Hispanic  Native American  Other  Greater than 45  \\\n",
              "0                 0      0         0                0      1                1   \n",
              "1                 1      0         0                0      0                0   \n",
              "2                 1      0         0                0      0                0   \n",
              "5                 0      0         0                0      1                0   \n",
              "6                 0      0         0                0      0                0   \n",
              "\n",
              "   Less than 25  Female  F  \n",
              "0             0       0  1  \n",
              "1             0       0  1  \n",
              "2             1       0  1  \n",
              "5             0       0  0  \n",
              "6             0       0  1  "
            ]
          },
          "execution_count": 45,
          "metadata": {},
          "output_type": "execute_result"
        }
      ],
      "source": [
        "post_df.head()"
      ]
    }
  ],
  "metadata": {
    "colab": {
      "provenance": []
    },
    "kernelspec": {
      "display_name": "Python 3",
      "name": "python3"
    },
    "language_info": {
      "codemirror_mode": {
        "name": "ipython",
        "version": 3
      },
      "file_extension": ".py",
      "mimetype": "text/x-python",
      "name": "python",
      "nbconvert_exporter": "python",
      "pygments_lexer": "ipython3",
      "version": "3.7.7"
    }
  },
  "nbformat": 4,
  "nbformat_minor": 0
}
